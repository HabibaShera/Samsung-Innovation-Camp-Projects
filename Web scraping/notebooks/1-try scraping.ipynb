{
 "cells": [
  {
   "cell_type": "code",
   "execution_count": 53,
   "metadata": {},
   "outputs": [],
   "source": [
    "from bs4 import BeautifulSoup as bs\n",
    "import requests\n",
    "import re"
   ]
  },
  {
   "cell_type": "code",
   "execution_count": 2,
   "metadata": {},
   "outputs": [
    {
     "data": {
      "text/plain": [
       "<Response [200]>"
      ]
     },
     "execution_count": 2,
     "metadata": {},
     "output_type": "execute_result"
    }
   ],
   "source": [
    "req = requests.get('https://www.linkedin.com/jobs/search/?geoId=106155005&keywords=data%20analysis&location=Egypt&refresh=true')\n",
    "req"
   ]
  },
  {
   "cell_type": "code",
   "execution_count": 3,
   "metadata": {},
   "outputs": [],
   "source": [
    "soup = bs(req.content, 'html.parser')"
   ]
  },
  {
   "cell_type": "code",
   "execution_count": 4,
   "metadata": {},
   "outputs": [],
   "source": [
    "lst = soup.find_all('a', {'class':'base-card__full-link'})"
   ]
  },
  {
   "cell_type": "code",
   "execution_count": 5,
   "metadata": {
    "scrolled": true
   },
   "outputs": [
    {
     "name": "stdout",
     "output_type": "stream",
     "text": [
      "https://eg.linkedin.com/jobs/view/data-analyst-at-axis-3276745296?refId=oYQzSrvUIjftkI0xzF89JA%3D%3D&trackingId=AYgFa8JWzjTo82Gu5CdVHw%3D%3D&position=1&pageNum=0&trk=public_jobs_jserp-result_search-card\n",
      "\n",
      "https://eg.linkedin.com/jobs/view/data-analyst-fintech-at-maxab-3277065025?refId=oYQzSrvUIjftkI0xzF89JA%3D%3D&trackingId=0bcR8roJr3hzF3DicQjyew%3D%3D&position=2&pageNum=0&trk=public_jobs_jserp-result_search-card\n",
      "\n",
      "https://eg.linkedin.com/jobs/view/machine-learning-data-analysis-graduate-intern-at-si-ware-systems-3168594862?refId=oYQzSrvUIjftkI0xzF89JA%3D%3D&trackingId=D8Ne2l4fpG6ZymbfVy%2FmEQ%3D%3D&position=3&pageNum=0&trk=public_jobs_jserp-result_search-card\n",
      "\n",
      "https://eg.linkedin.com/jobs/view/junior-quantitative-analyst-dubai-uae-at-cobblestone-energy-3266875539?refId=oYQzSrvUIjftkI0xzF89JA%3D%3D&trackingId=o7QV3xLLI5x2cyOgFcUQBA%3D%3D&position=4&pageNum=0&trk=public_jobs_jserp-result_search-card\n",
      "\n",
      "https://eg.linkedin.com/jobs/view/data-bi-analyst-at-klivvr-3261615002?refId=oYQzSrvUIjftkI0xzF89JA%3D%3D&trackingId=Z8xLcIq2CXyxkpm%2Fvy35%2Bg%3D%3D&position=5&pageNum=0&trk=public_jobs_jserp-result_search-card\n",
      "\n",
      "https://eg.linkedin.com/jobs/view/junior-quantitative-analyst-dubai-uae-at-cobblestone-energy-3189803742?refId=oYQzSrvUIjftkI0xzF89JA%3D%3D&trackingId=mCaP56%2F5ts%2BNQ5%2FRE7MTQA%3D%3D&position=6&pageNum=0&trk=public_jobs_jserp-result_search-card\n",
      "\n",
      "https://eg.linkedin.com/jobs/view/fresh-graduates-2021-2022-at-arab-bank-3264935734?refId=oYQzSrvUIjftkI0xzF89JA%3D%3D&trackingId=I%2Fyd9FCEng%2FZW9UuuPigOg%3D%3D&position=7&pageNum=0&trk=public_jobs_jserp-result_search-card\n",
      "\n",
      "https://eg.linkedin.com/jobs/view/business-analyst-at-zoho-3278250043?refId=oYQzSrvUIjftkI0xzF89JA%3D%3D&trackingId=LBl33vgsUiuv%2BA0AmRExiA%3D%3D&position=8&pageNum=0&trk=public_jobs_jserp-result_search-card\n",
      "\n",
      "https://eg.linkedin.com/jobs/view/data-analyst-at-koinz-3262867717?refId=oYQzSrvUIjftkI0xzF89JA%3D%3D&trackingId=RRCd0IA6yVnt0d6Z8LPM7w%3D%3D&position=9&pageNum=0&trk=public_jobs_jserp-result_search-card\n",
      "\n",
      "https://eg.linkedin.com/jobs/view/discover-graduate-program-business-intelligence-at-vodafone-3268955023?refId=oYQzSrvUIjftkI0xzF89JA%3D%3D&trackingId=fJ%2Fa5XuvF6TDXiygPH67wA%3D%3D&position=10&pageNum=0&trk=public_jobs_jserp-result_search-card\n",
      "\n",
      "https://eg.linkedin.com/jobs/view/reporting-and-data-analyst-at-property-finder-3235303701?refId=oYQzSrvUIjftkI0xzF89JA%3D%3D&trackingId=oE52XMgXU6vBhY5vP5Oq5A%3D%3D&position=11&pageNum=0&trk=public_jobs_jserp-result_search-card\n",
      "\n",
      "https://eg.linkedin.com/jobs/view/data-scientist-at-floward-3259743469?refId=oYQzSrvUIjftkI0xzF89JA%3D%3D&trackingId=JiqG1N%2F6bhFkVvTLaT4swA%3D%3D&position=12&pageNum=0&trk=public_jobs_jserp-result_search-card\n",
      "\n",
      "https://eg.linkedin.com/jobs/view/data-science-specialist-at-nexel-partners-3263082184?refId=oYQzSrvUIjftkI0xzF89JA%3D%3D&trackingId=SFQg2mKjTCZQaiEGgvrrSA%3D%3D&position=13&pageNum=0&trk=public_jobs_jserp-result_search-card\n",
      "\n",
      "https://eg.linkedin.com/jobs/view/junior-quantitative-analyst-dubai-uae-at-cobblestone-energy-3277210041?refId=oYQzSrvUIjftkI0xzF89JA%3D%3D&trackingId=87BIfvOVAa80LNOISMw1UA%3D%3D&position=14&pageNum=0&trk=public_jobs_jserp-result_search-card\n",
      "\n",
      "https://eg.linkedin.com/jobs/view/data-scientist-at-reliance-health-3264935928?refId=oYQzSrvUIjftkI0xzF89JA%3D%3D&trackingId=EOzhyM05VHCe%2ByvPktX9vA%3D%3D&position=15&pageNum=0&trk=public_jobs_jserp-result_search-card\n",
      "\n",
      "https://eg.linkedin.com/jobs/view/junior-quantitative-analyst-dubai-uae-at-cobblestone-energy-3189802686?refId=oYQzSrvUIjftkI0xzF89JA%3D%3D&trackingId=pRMtAOrJlUrcuG65NIKsHQ%3D%3D&position=16&pageNum=0&trk=public_jobs_jserp-result_search-card\n",
      "\n",
      "https://eg.linkedin.com/jobs/view/financial-analysis-super-decision-support-tech-support-functions-at-orange-egypt-3276555301?refId=oYQzSrvUIjftkI0xzF89JA%3D%3D&trackingId=90Ru4%2Bxx%2BdS4QxtbSTPvBA%3D%3D&position=17&pageNum=0&trk=public_jobs_jserp-result_search-card\n",
      "\n",
      "https://eg.linkedin.com/jobs/view/senior-data-analyst-at-maxab-3277061574?refId=oYQzSrvUIjftkI0xzF89JA%3D%3D&trackingId=ewZGSbTJJGKhzDGDSYsZlQ%3D%3D&position=18&pageNum=0&trk=public_jobs_jserp-result_search-card\n",
      "\n",
      "https://eg.linkedin.com/jobs/view/data-analyst-at-olx-egypt-3179910275?refId=oYQzSrvUIjftkI0xzF89JA%3D%3D&trackingId=VKaOA4iIG%2FKBtX%2FFAT8ErA%3D%3D&position=19&pageNum=0&trk=public_jobs_jserp-result_search-card\n",
      "\n",
      "https://eg.linkedin.com/jobs/view/data-analyst-at-cornerstone-recruitment-mena-3247839843?refId=oYQzSrvUIjftkI0xzF89JA%3D%3D&trackingId=TgvXqiZhseloT6BEBBoC0g%3D%3D&position=20&pageNum=0&trk=public_jobs_jserp-result_search-card\n",
      "\n",
      "https://eg.linkedin.com/jobs/view/data-analytics-manager-at-antal-international-3257963120?refId=oYQzSrvUIjftkI0xzF89JA%3D%3D&trackingId=GQcaIM8TPpmuD8g%2B6SjCeg%3D%3D&position=21&pageNum=0&trk=public_jobs_jserp-result_search-card\n",
      "\n",
      "https://eg.linkedin.com/jobs/view/data-analyst-ii-at-careem-3264728403?refId=oYQzSrvUIjftkI0xzF89JA%3D%3D&trackingId=3QHfC%2Bq3rG48sUO%2FO6VPUg%3D%3D&position=22&pageNum=0&trk=public_jobs_jserp-result_search-card\n",
      "\n",
      "https://eg.linkedin.com/jobs/view/senior-business-intelligence-analyst-at-future-group-translation-services-3271859757?refId=oYQzSrvUIjftkI0xzF89JA%3D%3D&trackingId=3I%2FaRyQXGmJBC8EdC%2BanqA%3D%3D&position=23&pageNum=0&trk=public_jobs_jserp-result_search-card\n",
      "\n",
      "https://eg.linkedin.com/jobs/view/data-analyst-at-moneyfellows-3124732696?refId=oYQzSrvUIjftkI0xzF89JA%3D%3D&trackingId=RsSX5I6ZkLg1Lu7A1jXY7g%3D%3D&position=24&pageNum=0&trk=public_jobs_jserp-result_search-card\n",
      "\n",
      "https://eg.linkedin.com/jobs/view/corporate-strategy-business-analyst-at-telecom-egypt-3230077851?refId=oYQzSrvUIjftkI0xzF89JA%3D%3D&trackingId=1Zs56oxKGpYdtACp1dWzYA%3D%3D&position=25&pageNum=0&trk=public_jobs_jserp-result_search-card\n",
      "\n"
     ]
    }
   ],
   "source": [
    "links = []\n",
    "for i in lst:\n",
    "    print(i['href'], end='\\n\\n')\n",
    "    links.append(i['href'])"
   ]
  },
  {
   "cell_type": "markdown",
   "metadata": {},
   "source": [
    "###            "
   ]
  },
  {
   "cell_type": "code",
   "execution_count": 6,
   "metadata": {},
   "outputs": [
    {
     "data": {
      "text/plain": [
       "<Response [200]>"
      ]
     },
     "execution_count": 6,
     "metadata": {},
     "output_type": "execute_result"
    }
   ],
   "source": [
    "test_req = requests.get(links[-3])\n",
    "test_req"
   ]
  },
  {
   "cell_type": "code",
   "execution_count": 7,
   "metadata": {},
   "outputs": [],
   "source": [
    "soup_ = bs(test_req.content, 'html.parser')"
   ]
  },
  {
   "cell_type": "code",
   "execution_count": 8,
   "metadata": {},
   "outputs": [
    {
     "data": {
      "text/plain": [
       "'Senior Business Intelligence Analyst'"
      ]
     },
     "execution_count": 8,
     "metadata": {},
     "output_type": "execute_result"
    }
   ],
   "source": [
    "#title\n",
    "soup_.find_all('h1')[0].text"
   ]
  },
  {
   "cell_type": "code",
   "execution_count": 9,
   "metadata": {
    "scrolled": false
   },
   "outputs": [
    {
     "data": {
      "text/plain": [
       "'الجيزة الجيزة مصر'"
      ]
     },
     "execution_count": 9,
     "metadata": {},
     "output_type": "execute_result"
    }
   ],
   "source": [
    "#location\n",
    "soup_.find_all('span', class_='sub-nav-cta__meta-text')[0].text"
   ]
  },
  {
   "cell_type": "code",
   "execution_count": 10,
   "metadata": {},
   "outputs": [
    {
     "data": {
      "text/plain": [
       "'Future Group Translation Services'"
      ]
     },
     "execution_count": 10,
     "metadata": {},
     "output_type": "execute_result"
    }
   ],
   "source": [
    "#company name\n",
    "soup_.find_all('span')[6].find('a').text.strip()"
   ]
  },
  {
   "cell_type": "code",
   "execution_count": 32,
   "metadata": {},
   "outputs": [
    {
     "data": {
      "text/plain": [
       "['Bachelors degree in Computer Science, Management Information Systems, Informatics or similar analytical field or equivalent experience.',\n",
       " '3+ years of experience in BI tools as an analyst, creating highly interactive data visualization reports and dashboards.',\n",
       " 'Expert-level in SQL',\n",
       " 'Ideal candidates have experience in strategy consulting, technology, finance.',\n",
       " 'Excellent interpersonal, analytical, communication and problem-solving skills.',\n",
       " 'Strong project management skills with the ability to prioritize multiple requests in a fast-paced environment.',\n",
       " 'Solid Statistical, mathematical, analytical and data modeling Background']"
      ]
     },
     "execution_count": 32,
     "metadata": {},
     "output_type": "execute_result"
    }
   ],
   "source": [
    "#job requriments\n",
    "[i.text for i in soup_.find_all('ul')[5].find_all('li')]"
   ]
  },
  {
   "cell_type": "code",
   "execution_count": 31,
   "metadata": {},
   "outputs": [
    {
     "data": {
      "text/plain": [
       "[' Utilizes BI Tools to design and develop analytical content including reports, dashboards, and ad-hoc analyses and data sets.',\n",
       " ' Interpret data and analyze results to provide ongoing reports and dashboards and Provide insights.',\n",
       " ' Supports end-user adoption of BI tools through trainings and creation of documentation.',\n",
       " ' Understand the existing source system data models.',\n",
       " ' Prepare technical specifications and documentation for our workflows supporting BI reports.',\n",
       " ' Perform end to end data validation to maintain accuracy of data sets',\n",
       " ' Interacting with business partners to identify functional requirements resulting in data acquisition for BI applications.',\n",
       " ' Provide data analysis and support to business functions.',\n",
       " ' Work with cross-functional teams to set up, maintain and scale business tools and processes to manage & identify areas of improvement for existing processes.',\n",
       " ' With a continuous improvement mindset, identifies opportunities and recommends enhancements to develop and improve procedures and framework for Business Intelligence.']"
      ]
     },
     "execution_count": 31,
     "metadata": {},
     "output_type": "execute_result"
    }
   ],
   "source": [
    "#job description\n",
    "[i.text for i in soup_.find_all('ul')[4].find_all('li')]"
   ]
  },
  {
   "cell_type": "code",
   "execution_count": 42,
   "metadata": {},
   "outputs": [],
   "source": [
    "def analyst(url):\n",
    "    title = []\n",
    "    location = []\n",
    "    company_name = []\n",
    "    job_req = []\n",
    "    job_des = []\n",
    "    \n",
    "    req = requests.get(url)\n",
    "    \n",
    "    if str(req) == '<Response [200]>':\n",
    "        soup = bs(req.content, 'html.parser')\n",
    "        lst = soup.find_all('a', {'class':'base-card__full-link'})\n",
    "        \n",
    "        links = []\n",
    "        for i in lst:\n",
    "            links.append(i['href'])\n",
    "            \n",
    "        for i in range(len(links)):\n",
    "            test_req = requests.get(links[i])\n",
    "            if str(test_req) == '<Response [200]>':\n",
    "                soup_ = bs(test_req.content, 'html.parser')\n",
    "                \n",
    "                #title\n",
    "                title.append(soup_.find_all('h1')[0].text)\n",
    "                \n",
    "                #location\n",
    "                location.append(soup_.find_all('span', class_='sub-nav-cta__meta-text')[0].text)\n",
    "                \n",
    "                #company name\n",
    "                company_name.append(soup_.find_all('span')[6].find('a').text.strip())\n",
    "                \n",
    "                #job requriments\n",
    "                job_req.append([i.text for i in soup_.find_all('ul')[5].find_all('li')])\n",
    "                \n",
    "                #job description\n",
    "                job_des.append([i.text for i in soup_.find_all('ul')[4].find_all('li')])\n",
    "                \n",
    "    return title, location, company_name, job_req, job_des\n",
    "        "
   ]
  },
  {
   "cell_type": "code",
   "execution_count": 43,
   "metadata": {},
   "outputs": [],
   "source": [
    "title, location, company_name, job_req, job_des = analyst('https://www.linkedin.com/jobs/search/?geoId=106155005&keywords=data%20analysis&location=Egypt&refresh=true')"
   ]
  },
  {
   "cell_type": "code",
   "execution_count": 44,
   "metadata": {},
   "outputs": [
    {
     "data": {
      "text/plain": [
       "['Data Analyst',\n",
       " 'Data Analyst-Fintech',\n",
       " 'Machine Learning & Data Analysis Graduate Intern',\n",
       " 'JUNIOR QUANTITATIVE ANALYST - Dubai, UAE',\n",
       " 'Data & BI Analyst',\n",
       " 'JUNIOR QUANTITATIVE ANALYST - Dubai, UAE',\n",
       " 'Fresh Graduates 2021/2022',\n",
       " 'Business Analyst',\n",
       " 'Data Analyst',\n",
       " 'Discover Graduate Program - Business Intelligence',\n",
       " 'Senior Financial Analysis',\n",
       " 'Reporting and Data Analyst',\n",
       " 'Data Scientist',\n",
       " 'Data Science Specialist',\n",
       " 'JUNIOR QUANTITATIVE ANALYST - Dubai, UAE',\n",
       " 'Data Scientist',\n",
       " 'JUNIOR QUANTITATIVE ANALYST - Dubai, UAE',\n",
       " 'Financial Analysis Super - Decision Support (Tech & Support Functions)',\n",
       " 'Senior Data Analyst',\n",
       " 'Data Analytics Manager',\n",
       " 'Data Analyst II',\n",
       " 'Senior Business Intelligence Analyst',\n",
       " 'Data Analyst']"
      ]
     },
     "execution_count": 44,
     "metadata": {},
     "output_type": "execute_result"
    }
   ],
   "source": [
    "title"
   ]
  },
  {
   "cell_type": "code",
   "execution_count": 45,
   "metadata": {},
   "outputs": [
    {
     "data": {
      "text/plain": [
       "['Axis',\n",
       " 'MaxAB',\n",
       " 'Si-Ware Systems',\n",
       " 'Cobblestone Energy',\n",
       " 'Klivvr',\n",
       " 'Cobblestone Energy',\n",
       " 'Arab Bank',\n",
       " 'Zoho',\n",
       " 'Koinz',\n",
       " 'Vodafone',\n",
       " 'BariQ',\n",
       " 'Property Finder',\n",
       " 'Floward',\n",
       " 'NEXEL PARTNERS',\n",
       " 'Cobblestone Energy',\n",
       " 'Reliance Health',\n",
       " 'Cobblestone Energy',\n",
       " 'Orange Egypt',\n",
       " 'MaxAB',\n",
       " 'Antal International',\n",
       " 'Careem',\n",
       " 'Future Group Translation Services',\n",
       " 'MoneyFellows']"
      ]
     },
     "execution_count": 45,
     "metadata": {},
     "output_type": "execute_result"
    }
   ],
   "source": [
    "company_name"
   ]
  },
  {
   "cell_type": "code",
   "execution_count": 49,
   "metadata": {},
   "outputs": [
    {
     "data": {
      "text/plain": [
       "(23, 23, 23, 23, 23)"
      ]
     },
     "execution_count": 49,
     "metadata": {},
     "output_type": "execute_result"
    }
   ],
   "source": [
    "len(title), len(company_name), len(job_des), len(job_req), len(location)"
   ]
  },
  {
   "cell_type": "code",
   "execution_count": 51,
   "metadata": {},
   "outputs": [
    {
     "ename": "NameError",
     "evalue": "name 'pd' is not defined",
     "output_type": "error",
     "traceback": [
      "\u001b[1;31m---------------------------------------------------------------------------\u001b[0m",
      "\u001b[1;31mNameError\u001b[0m                                 Traceback (most recent call last)",
      "\u001b[1;32m<ipython-input-51-aa66b7c5928e>\u001b[0m in \u001b[0;36m<module>\u001b[1;34m\u001b[0m\n\u001b[1;32m----> 1\u001b[1;33m pd.DataFrame({'title':title, 'company_name':company_name, 'job_description':job_des,\n\u001b[0m\u001b[0;32m      2\u001b[0m              'job_requirments':job_req, 'location':location})\n",
      "\u001b[1;31mNameError\u001b[0m: name 'pd' is not defined"
     ]
    }
   ],
   "source": [
    "pd.DataFrame({'title':title, 'company_name':company_name, 'job_description':job_des,\n",
    "             'job_requirments':job_req, 'location':location})"
   ]
  },
  {
   "cell_type": "code",
   "execution_count": null,
   "metadata": {},
   "outputs": [],
   "source": []
  },
  {
   "cell_type": "code",
   "execution_count": null,
   "metadata": {},
   "outputs": [],
   "source": []
  },
  {
   "cell_type": "code",
   "execution_count": null,
   "metadata": {},
   "outputs": [],
   "source": []
  },
  {
   "cell_type": "code",
   "execution_count": null,
   "metadata": {},
   "outputs": [],
   "source": []
  },
  {
   "cell_type": "code",
   "execution_count": null,
   "metadata": {},
   "outputs": [],
   "source": []
  },
  {
   "cell_type": "code",
   "execution_count": null,
   "metadata": {},
   "outputs": [],
   "source": [
    "pip uninstall numpy"
   ]
  },
  {
   "cell_type": "code",
   "execution_count": null,
   "metadata": {},
   "outputs": [],
   "source": [
    "pip install numpy"
   ]
  }
 ],
 "metadata": {
  "kernelspec": {
   "display_name": "Python 3",
   "language": "python",
   "name": "python3"
  },
  "language_info": {
   "codemirror_mode": {
    "name": "ipython",
    "version": 3
   },
   "file_extension": ".py",
   "mimetype": "text/x-python",
   "name": "python",
   "nbconvert_exporter": "python",
   "pygments_lexer": "ipython3",
   "version": "3.7.6"
  }
 },
 "nbformat": 4,
 "nbformat_minor": 4
}
