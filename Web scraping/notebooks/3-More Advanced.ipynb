{
 "cells": [
  {
   "cell_type": "code",
   "execution_count": 4,
   "metadata": {},
   "outputs": [],
   "source": [
    "def scrap_linkedIn(url):\n",
    "    from bs4 import BeautifulSoup as bs\n",
    "    import requests\n",
    "    import re\n",
    "    import pandas as pd\n",
    "    \n",
    "    title = []\n",
    "    location = []\n",
    "    company_name = []\n",
    "    job_req = []\n",
    "    job_des = []\n",
    "    \n",
    "    req = requests.get(url)\n",
    "    \n",
    "    if str(req) == '<Response [200]>':\n",
    "        soup = bs(req.content, 'html.parser')\n",
    "        lst = soup.find_all('a', {'class':'base-card__full-link'})\n",
    "        \n",
    "        links = []\n",
    "        for i in lst:\n",
    "            links.append(i['href'])\n",
    "            \n",
    "        for i in range(len(links)):\n",
    "            test_req = requests.get(links[i])\n",
    "            if str(test_req) == '<Response [200]>':\n",
    "                soup_ = bs(test_req.content, 'html.parser')\n",
    "                \n",
    "                #title\n",
    "                title.append(soup_.find_all('h1')[0].text)\n",
    "                \n",
    "                #location\n",
    "                location.append(soup_.find_all('span', class_='sub-nav-cta__meta-text')[0].text)\n",
    "                \n",
    "                #company name\n",
    "                company_name.append(soup_.find_all('span')[6].find('a').text.strip())\n",
    "                \n",
    "                #job requriments\n",
    "                job_req.append([i.text for i in soup_.find_all('ul')[5].find_all('li')])\n",
    "                \n",
    "                #job description\n",
    "                job_des.append([i.text for i in soup_.find_all('ul')[4].find_all('li')])\n",
    "                \n",
    "                \n",
    "    df = pd.DataFrame({'title':title, 'company_name':company_name, 'job_description':job_des,\n",
    "             'job_requirments':job_req, 'location':location})\n",
    "                \n",
    "    return df\n",
    "        "
   ]
  },
  {
   "cell_type": "code",
   "execution_count": 46,
   "metadata": {},
   "outputs": [],
   "source": [
    "def create_files(df):\n",
    "    for i in range(len(df)):\n",
    "        ind = df.iloc[i, :].index\n",
    "        value = df.iloc[i, :].values\n",
    "        dic = {x:y  for x, y in zip(ind, value)}\n",
    "        tit = df['title'][i]+'.txt'\n",
    "        tit = tit.replace('/','').replace('|', '')\n",
    "        \n",
    "        with open(tit, 'w', encoding='utf-8') as f:\n",
    "            for col in ind:\n",
    "                f.writelines(col+'\\n'+ dic[col]+'\\n\\n')"
   ]
  },
  {
   "cell_type": "code",
   "execution_count": 6,
   "metadata": {},
   "outputs": [],
   "source": [
    "import pandas as pd"
   ]
  },
  {
   "cell_type": "code",
   "execution_count": 8,
   "metadata": {},
   "outputs": [
    {
     "data": {
      "text/html": [
       "<div>\n",
       "<style scoped>\n",
       "    .dataframe tbody tr th:only-of-type {\n",
       "        vertical-align: middle;\n",
       "    }\n",
       "\n",
       "    .dataframe tbody tr th {\n",
       "        vertical-align: top;\n",
       "    }\n",
       "\n",
       "    .dataframe thead th {\n",
       "        text-align: right;\n",
       "    }\n",
       "</style>\n",
       "<table border=\"1\" class=\"dataframe\">\n",
       "  <thead>\n",
       "    <tr style=\"text-align: right;\">\n",
       "      <th></th>\n",
       "      <th>title</th>\n",
       "      <th>company_name</th>\n",
       "      <th>job_description</th>\n",
       "      <th>job_requirments</th>\n",
       "      <th>location</th>\n",
       "    </tr>\n",
       "  </thead>\n",
       "  <tbody>\n",
       "    <tr>\n",
       "      <th>0</th>\n",
       "      <td>Data &amp; BI Analyst</td>\n",
       "      <td>Klivvr</td>\n",
       "      <td>['We put our visionaries first. ', 'We strive ...</td>\n",
       "      <td>['Identifying data sources', 'Analyzing data, ...</td>\n",
       "      <td>القاهرة قسم الزمالك مصر</td>\n",
       "    </tr>\n",
       "    <tr>\n",
       "      <th>1</th>\n",
       "      <td>Data Analyst</td>\n",
       "      <td>Axis</td>\n",
       "      <td>['Interpreting marketing data, analyzing resul...</td>\n",
       "      <td>['Developing &amp; implementing databases, data co...</td>\n",
       "      <td>القاهرة القاهرة مصر</td>\n",
       "    </tr>\n",
       "    <tr>\n",
       "      <th>2</th>\n",
       "      <td>Data Analyst</td>\n",
       "      <td>Cornerstone Recruitment MENA</td>\n",
       "      <td>['\\n\\n            مستوى الأقدمية\\n          \\n...</td>\n",
       "      <td>['\\nLinkedIn\\n\\n© 2022\\n', '\\n\\n          \\n  ...</td>\n",
       "      <td>القاهرة مصر</td>\n",
       "    </tr>\n",
       "    <tr>\n",
       "      <th>3</th>\n",
       "      <td>Fresh Graduates 2021/2022</td>\n",
       "      <td>Arab Bank</td>\n",
       "      <td>['\\n\\n            مستوى الأقدمية\\n          \\n...</td>\n",
       "      <td>['\\nLinkedIn\\n\\n© 2022\\n', '\\n\\n          \\n  ...</td>\n",
       "      <td>القاهرة مصر</td>\n",
       "    </tr>\n",
       "    <tr>\n",
       "      <th>4</th>\n",
       "      <td>Reporting and Data Analyst</td>\n",
       "      <td>Property Finder</td>\n",
       "      <td>['The ideal candidate will use their passion f...</td>\n",
       "      <td>['Graduated from Computer Science or Engineeri...</td>\n",
       "      <td>مصر</td>\n",
       "    </tr>\n",
       "  </tbody>\n",
       "</table>\n",
       "</div>"
      ],
      "text/plain": [
       "                        title                  company_name  \\\n",
       "0           Data & BI Analyst                        Klivvr   \n",
       "1                Data Analyst                          Axis   \n",
       "2                Data Analyst  Cornerstone Recruitment MENA   \n",
       "3   Fresh Graduates 2021/2022                     Arab Bank   \n",
       "4  Reporting and Data Analyst               Property Finder   \n",
       "\n",
       "                                     job_description  \\\n",
       "0  ['We put our visionaries first. ', 'We strive ...   \n",
       "1  ['Interpreting marketing data, analyzing resul...   \n",
       "2  ['\\n\\n            مستوى الأقدمية\\n          \\n...   \n",
       "3  ['\\n\\n            مستوى الأقدمية\\n          \\n...   \n",
       "4  ['The ideal candidate will use their passion f...   \n",
       "\n",
       "                                     job_requirments                 location  \n",
       "0  ['Identifying data sources', 'Analyzing data, ...  القاهرة قسم الزمالك مصر  \n",
       "1  ['Developing & implementing databases, data co...      القاهرة القاهرة مصر  \n",
       "2  ['\\nLinkedIn\\n\\n© 2022\\n', '\\n\\n          \\n  ...              القاهرة مصر  \n",
       "3  ['\\nLinkedIn\\n\\n© 2022\\n', '\\n\\n          \\n  ...              القاهرة مصر  \n",
       "4  ['Graduated from Computer Science or Engineeri...                      مصر  "
      ]
     },
     "execution_count": 8,
     "metadata": {},
     "output_type": "execute_result"
    }
   ],
   "source": [
    "data = pd.read_csv('all-data.csv')\n",
    "data.head()"
   ]
  },
  {
   "cell_type": "code",
   "execution_count": 9,
   "metadata": {},
   "outputs": [
    {
     "name": "stdout",
     "output_type": "stream",
     "text": [
      "<class 'pandas.core.frame.DataFrame'>\n",
      "RangeIndex: 74 entries, 0 to 73\n",
      "Data columns (total 5 columns):\n",
      " #   Column           Non-Null Count  Dtype \n",
      "---  ------           --------------  ----- \n",
      " 0   title            74 non-null     object\n",
      " 1   company_name     74 non-null     object\n",
      " 2   job_description  74 non-null     object\n",
      " 3   job_requirments  74 non-null     object\n",
      " 4   location         74 non-null     object\n",
      "dtypes: object(5)\n",
      "memory usage: 1.5+ KB\n"
     ]
    }
   ],
   "source": [
    "data.info()"
   ]
  },
  {
   "cell_type": "code",
   "execution_count": 12,
   "metadata": {},
   "outputs": [
    {
     "data": {
      "text/plain": [
       "['title', 'company_name', 'job_description', 'job_requirments', 'location']"
      ]
     },
     "execution_count": 12,
     "metadata": {},
     "output_type": "execute_result"
    }
   ],
   "source": [
    "cols = list(data.columns)\n",
    "cols"
   ]
  },
  {
   "cell_type": "code",
   "execution_count": 38,
   "metadata": {},
   "outputs": [],
   "source": [
    "import os"
   ]
  },
  {
   "cell_type": "code",
   "execution_count": 39,
   "metadata": {},
   "outputs": [
    {
     "data": {
      "text/plain": [
       "'C:\\\\Users\\\\habiba\\\\Documents\\\\SIC\\\\Tasks & Soluation\\\\23 - Web scraping\\\\files'"
      ]
     },
     "execution_count": 39,
     "metadata": {},
     "output_type": "execute_result"
    }
   ],
   "source": [
    "os.chdir(r'C:\\Users\\habiba\\Documents\\SIC\\Tasks & Soluation\\23 - Web scraping\\files')\n",
    "os.getcwd()"
   ]
  },
  {
   "cell_type": "code",
   "execution_count": 47,
   "metadata": {},
   "outputs": [],
   "source": [
    "create_files(data)"
   ]
  },
  {
   "cell_type": "code",
   "execution_count": null,
   "metadata": {},
   "outputs": [],
   "source": []
  }
 ],
 "metadata": {
  "kernelspec": {
   "display_name": "Python 3",
   "language": "python",
   "name": "python3"
  },
  "language_info": {
   "codemirror_mode": {
    "name": "ipython",
    "version": 3
   },
   "file_extension": ".py",
   "mimetype": "text/x-python",
   "name": "python",
   "nbconvert_exporter": "python",
   "pygments_lexer": "ipython3",
   "version": "3.7.6"
  }
 },
 "nbformat": 4,
 "nbformat_minor": 4
}
