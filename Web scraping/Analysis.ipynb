{
 "cells": [
  {
   "cell_type": "code",
   "execution_count": 74,
   "metadata": {},
   "outputs": [],
   "source": [
    "import pandas as pd\n",
    "import numpy as np\n",
    "import matplotlib.pyplot as plt\n",
    "import seaborn as sns\n",
    "\n",
    "from matplotlib.pylab import rcParams\n",
    "rcParams['figure.figsize'] = 10, 6"
   ]
  },
  {
   "cell_type": "code",
   "execution_count": 75,
   "metadata": {},
   "outputs": [
    {
     "data": {
      "text/html": [
       "<div>\n",
       "<style scoped>\n",
       "    .dataframe tbody tr th:only-of-type {\n",
       "        vertical-align: middle;\n",
       "    }\n",
       "\n",
       "    .dataframe tbody tr th {\n",
       "        vertical-align: top;\n",
       "    }\n",
       "\n",
       "    .dataframe thead th {\n",
       "        text-align: right;\n",
       "    }\n",
       "</style>\n",
       "<table border=\"1\" class=\"dataframe\">\n",
       "  <thead>\n",
       "    <tr style=\"text-align: right;\">\n",
       "      <th></th>\n",
       "      <th>Unnamed: 0</th>\n",
       "      <th>title</th>\n",
       "      <th>company_name</th>\n",
       "      <th>job_description</th>\n",
       "      <th>job_requirments</th>\n",
       "      <th>location</th>\n",
       "      <th>location_edited</th>\n",
       "    </tr>\n",
       "  </thead>\n",
       "  <tbody>\n",
       "    <tr>\n",
       "      <th>0</th>\n",
       "      <td>0</td>\n",
       "      <td>Data &amp; BI Analyst</td>\n",
       "      <td>Klivvr</td>\n",
       "      <td>[We put our visionaries first. , We strive for...</td>\n",
       "      <td>['Identifying data sources', 'Analyzing data, ...</td>\n",
       "      <td>القاهرة قسم الزمالك مصر</td>\n",
       "      <td>['Cairo', 'Section', 'Al Zamalek', 'Egypt']</td>\n",
       "    </tr>\n",
       "    <tr>\n",
       "      <th>1</th>\n",
       "      <td>1</td>\n",
       "      <td>Data Analyst</td>\n",
       "      <td>Axis</td>\n",
       "      <td>[Interpreting marketing data, analyzing result...</td>\n",
       "      <td>['Developing &amp; implementing databases, data co...</td>\n",
       "      <td>القاهرة القاهرة مصر</td>\n",
       "      <td>['Cairo', 'Cairo', 'Egypt']</td>\n",
       "    </tr>\n",
       "    <tr>\n",
       "      <th>2</th>\n",
       "      <td>2</td>\n",
       "      <td>Reporting and Data Analyst</td>\n",
       "      <td>Property Finder</td>\n",
       "      <td>[The ideal candidate will use their passion fo...</td>\n",
       "      <td>['Graduated from Computer Science or Engineeri...</td>\n",
       "      <td>مصر</td>\n",
       "      <td>['Egypt']</td>\n",
       "    </tr>\n",
       "    <tr>\n",
       "      <th>3</th>\n",
       "      <td>3</td>\n",
       "      <td>Data Analyst</td>\n",
       "      <td>OLX Egypt</td>\n",
       "      <td>[Accessing data, constructing and manipulating...</td>\n",
       "      <td>['Bachelor’s degree in statistics, mathematics...</td>\n",
       "      <td>القاهرة القاهرة مصر</td>\n",
       "      <td>['Cairo', 'Cairo', 'Egypt']</td>\n",
       "    </tr>\n",
       "    <tr>\n",
       "      <th>4</th>\n",
       "      <td>4</td>\n",
       "      <td>Business Analyst</td>\n",
       "      <td>Zoho</td>\n",
       "      <td>[Define and plan project milestones, phases an...</td>\n",
       "      <td>not_found</td>\n",
       "      <td>القاهرة مصر</td>\n",
       "      <td>['Cairo', 'Egypt']</td>\n",
       "    </tr>\n",
       "  </tbody>\n",
       "</table>\n",
       "</div>"
      ],
      "text/plain": [
       "   Unnamed: 0                       title     company_name  \\\n",
       "0           0           Data & BI Analyst           Klivvr   \n",
       "1           1                Data Analyst             Axis   \n",
       "2           2  Reporting and Data Analyst  Property Finder   \n",
       "3           3                Data Analyst        OLX Egypt   \n",
       "4           4            Business Analyst             Zoho   \n",
       "\n",
       "                                     job_description  \\\n",
       "0  [We put our visionaries first. , We strive for...   \n",
       "1  [Interpreting marketing data, analyzing result...   \n",
       "2  [The ideal candidate will use their passion fo...   \n",
       "3  [Accessing data, constructing and manipulating...   \n",
       "4  [Define and plan project milestones, phases an...   \n",
       "\n",
       "                                     job_requirments                 location  \\\n",
       "0  ['Identifying data sources', 'Analyzing data, ...  القاهرة قسم الزمالك مصر   \n",
       "1  ['Developing & implementing databases, data co...      القاهرة القاهرة مصر   \n",
       "2  ['Graduated from Computer Science or Engineeri...                      مصر   \n",
       "3  ['Bachelor’s degree in statistics, mathematics...      القاهرة القاهرة مصر   \n",
       "4                                          not_found              القاهرة مصر   \n",
       "\n",
       "                               location_edited  \n",
       "0  ['Cairo', 'Section', 'Al Zamalek', 'Egypt']  \n",
       "1                  ['Cairo', 'Cairo', 'Egypt']  \n",
       "2                                    ['Egypt']  \n",
       "3                  ['Cairo', 'Cairo', 'Egypt']  \n",
       "4                           ['Cairo', 'Egypt']  "
      ]
     },
     "execution_count": 75,
     "metadata": {},
     "output_type": "execute_result"
    }
   ],
   "source": [
    "data = pd.read_csv('cleaned_data.csv')\n",
    "data.head()"
   ]
  },
  {
   "cell_type": "code",
   "execution_count": 76,
   "metadata": {},
   "outputs": [],
   "source": [
    "data = data.drop('Unnamed: 0', axis=1)"
   ]
  },
  {
   "cell_type": "code",
   "execution_count": 77,
   "metadata": {},
   "outputs": [
    {
     "data": {
      "text/html": [
       "<div>\n",
       "<style scoped>\n",
       "    .dataframe tbody tr th:only-of-type {\n",
       "        vertical-align: middle;\n",
       "    }\n",
       "\n",
       "    .dataframe tbody tr th {\n",
       "        vertical-align: top;\n",
       "    }\n",
       "\n",
       "    .dataframe thead th {\n",
       "        text-align: right;\n",
       "    }\n",
       "</style>\n",
       "<table border=\"1\" class=\"dataframe\">\n",
       "  <thead>\n",
       "    <tr style=\"text-align: right;\">\n",
       "      <th></th>\n",
       "      <th>title</th>\n",
       "      <th>company_name</th>\n",
       "      <th>job_description</th>\n",
       "      <th>job_requirments</th>\n",
       "      <th>location</th>\n",
       "      <th>location_edited</th>\n",
       "    </tr>\n",
       "  </thead>\n",
       "  <tbody>\n",
       "    <tr>\n",
       "      <th>0</th>\n",
       "      <td>Data &amp; BI Analyst</td>\n",
       "      <td>Klivvr</td>\n",
       "      <td>[We put our visionaries first. , We strive for...</td>\n",
       "      <td>['Identifying data sources', 'Analyzing data, ...</td>\n",
       "      <td>القاهرة قسم الزمالك مصر</td>\n",
       "      <td>['Cairo', 'Section', 'Al Zamalek', 'Egypt']</td>\n",
       "    </tr>\n",
       "    <tr>\n",
       "      <th>1</th>\n",
       "      <td>Data Analyst</td>\n",
       "      <td>Axis</td>\n",
       "      <td>[Interpreting marketing data, analyzing result...</td>\n",
       "      <td>['Developing &amp; implementing databases, data co...</td>\n",
       "      <td>القاهرة القاهرة مصر</td>\n",
       "      <td>['Cairo', 'Cairo', 'Egypt']</td>\n",
       "    </tr>\n",
       "    <tr>\n",
       "      <th>2</th>\n",
       "      <td>Reporting and Data Analyst</td>\n",
       "      <td>Property Finder</td>\n",
       "      <td>[The ideal candidate will use their passion fo...</td>\n",
       "      <td>['Graduated from Computer Science or Engineeri...</td>\n",
       "      <td>مصر</td>\n",
       "      <td>['Egypt']</td>\n",
       "    </tr>\n",
       "    <tr>\n",
       "      <th>3</th>\n",
       "      <td>Data Analyst</td>\n",
       "      <td>OLX Egypt</td>\n",
       "      <td>[Accessing data, constructing and manipulating...</td>\n",
       "      <td>['Bachelor’s degree in statistics, mathematics...</td>\n",
       "      <td>القاهرة القاهرة مصر</td>\n",
       "      <td>['Cairo', 'Cairo', 'Egypt']</td>\n",
       "    </tr>\n",
       "    <tr>\n",
       "      <th>4</th>\n",
       "      <td>Business Analyst</td>\n",
       "      <td>Zoho</td>\n",
       "      <td>[Define and plan project milestones, phases an...</td>\n",
       "      <td>not_found</td>\n",
       "      <td>القاهرة مصر</td>\n",
       "      <td>['Cairo', 'Egypt']</td>\n",
       "    </tr>\n",
       "  </tbody>\n",
       "</table>\n",
       "</div>"
      ],
      "text/plain": [
       "                        title     company_name  \\\n",
       "0           Data & BI Analyst           Klivvr   \n",
       "1                Data Analyst             Axis   \n",
       "2  Reporting and Data Analyst  Property Finder   \n",
       "3                Data Analyst        OLX Egypt   \n",
       "4            Business Analyst             Zoho   \n",
       "\n",
       "                                     job_description  \\\n",
       "0  [We put our visionaries first. , We strive for...   \n",
       "1  [Interpreting marketing data, analyzing result...   \n",
       "2  [The ideal candidate will use their passion fo...   \n",
       "3  [Accessing data, constructing and manipulating...   \n",
       "4  [Define and plan project milestones, phases an...   \n",
       "\n",
       "                                     job_requirments                 location  \\\n",
       "0  ['Identifying data sources', 'Analyzing data, ...  القاهرة قسم الزمالك مصر   \n",
       "1  ['Developing & implementing databases, data co...      القاهرة القاهرة مصر   \n",
       "2  ['Graduated from Computer Science or Engineeri...                      مصر   \n",
       "3  ['Bachelor’s degree in statistics, mathematics...      القاهرة القاهرة مصر   \n",
       "4                                          not_found              القاهرة مصر   \n",
       "\n",
       "                               location_edited  \n",
       "0  ['Cairo', 'Section', 'Al Zamalek', 'Egypt']  \n",
       "1                  ['Cairo', 'Cairo', 'Egypt']  \n",
       "2                                    ['Egypt']  \n",
       "3                  ['Cairo', 'Cairo', 'Egypt']  \n",
       "4                           ['Cairo', 'Egypt']  "
      ]
     },
     "execution_count": 77,
     "metadata": {},
     "output_type": "execute_result"
    }
   ],
   "source": [
    "data.head()"
   ]
  },
  {
   "cell_type": "code",
   "execution_count": 78,
   "metadata": {},
   "outputs": [
    {
     "data": {
      "text/plain": [
       "7"
      ]
     },
     "execution_count": 78,
     "metadata": {},
     "output_type": "execute_result"
    }
   ],
   "source": [
    "data.duplicated().sum()"
   ]
  },
  {
   "cell_type": "code",
   "execution_count": 79,
   "metadata": {
    "scrolled": true
   },
   "outputs": [
    {
     "data": {
      "text/plain": [
       "0"
      ]
     },
     "execution_count": 79,
     "metadata": {},
     "output_type": "execute_result"
    }
   ],
   "source": [
    "data = data.drop_duplicates()\n",
    "data.duplicated().sum()"
   ]
  },
  {
   "cell_type": "markdown",
   "metadata": {},
   "source": [
    "### <center>EXtract most common titles </center>"
   ]
  },
  {
   "cell_type": "code",
   "execution_count": 80,
   "metadata": {},
   "outputs": [
    {
     "data": {
      "text/plain": [
       "Data Analyst                               4\n",
       "Software Quality Engineer                  3\n",
       "Software Testing Engineer                  3\n",
       "Data Scientist                             3\n",
       "GRADUATE SOFTWARE ENGINEER - Dubai, UAE    2\n",
       "Senior Quality Assurance Engineer          2\n",
       "Data Engineer                              2\n",
       "Software Test Engineer                     2\n",
       "Software Quality Assurance Engineer        2\n",
       "Senior Software Testing Engineer           1\n",
       "Name: title, dtype: int64"
      ]
     },
     "execution_count": 80,
     "metadata": {},
     "output_type": "execute_result"
    }
   ],
   "source": [
    "data['title'].value_counts()[:10]"
   ]
  },
  {
   "cell_type": "code",
   "execution_count": 81,
   "metadata": {},
   "outputs": [
    {
     "data": {
      "text/plain": [
       "array(['Data & BI Analyst', 'Data Analyst', 'Reporting and Data Analyst',\n",
       "       'Business Analyst', 'Data Analyst-Fintech', 'Senior Data Analyst',\n",
       "       'Data Scientist', 'Head of Data Analytics - Cairo - Egypt',\n",
       "       'corporate strategy business analyst ',\n",
       "       'Discover Graduate Program - Business Intelligence',\n",
       "       'Marsh MENA Graduate Development Program - Egypt', 'AI Engineer',\n",
       "       'Business Research Analyst', 'Product Management Specialist',\n",
       "       'Data Engineer',\n",
       "       'CRM Retail Officer (Digital Banking & Marketing Division)',\n",
       "       'Software Business Analyst',\n",
       "       'Python Developer For sports statistics ',\n",
       "       'AI Programming with Python',\n",
       "       'Machine Learning & Data Analysis Graduate Intern',\n",
       "       'Remote Python Developer Jobs',\n",
       "       'Software Engineer Graduate Intern',\n",
       "       'Python Developer with ERPNext and Frappe Experience',\n",
       "       'Machine Learning Engineer',\n",
       "       'Algorithm Development System Engineer',\n",
       "       'AI/ML (Artificial Intelligence/Machine Learning) Lead',\n",
       "       '5G Senior Data Scientist',\n",
       "       'GRADUATE SOFTWARE ENGINEER - Dubai, UAE',\n",
       "       'Remote Backend Python Developer (2) Jobs',\n",
       "       'Software Quality Assurance Tester', 'Software Testing Engineer',\n",
       "       'Software Manual Testing Engineer', 'Software QA Engineer',\n",
       "       'Senior Quality Assurance Engineer',\n",
       "       'Software Test Engineer | API Testing', 'Software Test Engineer',\n",
       "       'QA Software Testing', 'Software QA Engineer - (Remote Job)',\n",
       "       'Software Quality Engineer', 'Senior Software Testing Engineer',\n",
       "       'Software QC Engineer', 'QA Test Engineer',\n",
       "       'Junior Software Tester', 'Software Quality Assurance Engineer',\n",
       "       'Mid Tester', 'Senior Software Tester'], dtype=object)"
      ]
     },
     "execution_count": 81,
     "metadata": {},
     "output_type": "execute_result"
    }
   ],
   "source": [
    "data['title'].unique()"
   ]
  },
  {
   "cell_type": "markdown",
   "metadata": {},
   "source": [
    "> We can collect these jobs to some common categories which are:\n",
    ">> Data Analyst<br>\n",
    ">> AI<br>\n",
    ">> Python<br>\n",
    ">> Machine Learning Engineer<br>\n",
    ">> Business Analyst<br>\n",
    ">> Software Test\n",
    "\n",
    ">I will use FuzzyWuzzy to do this "
   ]
  },
  {
   "cell_type": "code",
   "execution_count": 82,
   "metadata": {},
   "outputs": [],
   "source": [
    "from fuzzywuzzy import fuzz\n",
    "from fuzzywuzzy import process\n",
    "\n",
    "import warnings\n",
    "warnings.filterwarnings('ignore')"
   ]
  },
  {
   "cell_type": "code",
   "execution_count": 83,
   "metadata": {},
   "outputs": [
    {
     "data": {
      "text/plain": [
       "[('Data Analyst', 100, 1),\n",
       " ('Data Analyst', 100, 3),\n",
       " ('Data Analyst', 100, 5),\n",
       " ('Data Analyst', 100, 19),\n",
       " ('Data & BI Analyst', 95, 0),\n",
       " ('Reporting and Data Analyst', 90, 2),\n",
       " ('Data Analyst-Fintech', 90, 6),\n",
       " ('Senior Data Analyst', 90, 7),\n",
       " ('Head of Data Analytics - Cairo - Egypt', 86, 9)]"
      ]
     },
     "execution_count": 83,
     "metadata": {},
     "output_type": "execute_result"
    }
   ],
   "source": [
    "related = process.extract(query='Data Analyst', choices=data['title'], limit=9)\n",
    "related"
   ]
  },
  {
   "cell_type": "code",
   "execution_count": 84,
   "metadata": {},
   "outputs": [
    {
     "data": {
      "text/plain": [
       "['Data Analyst',\n",
       " 'Data Analyst',\n",
       " 'Data Analyst',\n",
       " 'Data Analyst',\n",
       " 'Data & BI Analyst',\n",
       " 'Reporting and Data Analyst',\n",
       " 'Data Analyst-Fintech',\n",
       " 'Senior Data Analyst',\n",
       " 'Head of Data Analytics - Cairo - Egypt']"
      ]
     },
     "execution_count": 84,
     "metadata": {},
     "output_type": "execute_result"
    }
   ],
   "source": [
    "words = [i[0] for i in related]\n",
    "words"
   ]
  },
  {
   "cell_type": "markdown",
   "metadata": {},
   "source": [
    "- Things to do:\n",
    "    - Function to extract related words from a series\n",
    "    - function to make replacement process for each columns"
   ]
  },
  {
   "cell_type": "code",
   "execution_count": 117,
   "metadata": {},
   "outputs": [],
   "source": [
    "def select_related_words(pattern, col, limit):\n",
    "    related = process.extract(query=pattern, choices=col, limit=limit)\n",
    "    return related\n",
    "    \n",
    "def replacement(related, row_value, new_word, on_=0):\n",
    "    if on_ == 0:\n",
    "        words = [i[0] for i in related]\n",
    "    else:\n",
    "        words = related\n",
    "    \n",
    "    if row_value in words:\n",
    "        return row_value.replace(row_value, new_word)\n",
    "    else:\n",
    "        return row_value"
   ]
  },
  {
   "cell_type": "code",
   "execution_count": 86,
   "metadata": {
    "scrolled": true
   },
   "outputs": [
    {
     "data": {
      "text/plain": [
       "[('Data Analyst', 100, 1),\n",
       " ('Data Analyst', 100, 3),\n",
       " ('Data Analyst', 100, 5),\n",
       " ('Data Analyst', 100, 19),\n",
       " ('Data & BI Analyst', 95, 0),\n",
       " ('Reporting and Data Analyst', 90, 2),\n",
       " ('Data Analyst-Fintech', 90, 6),\n",
       " ('Senior Data Analyst', 90, 7),\n",
       " ('Head of Data Analytics - Cairo - Egypt', 86, 9),\n",
       " ('corporate strategy business analyst ', 86, 10)]"
      ]
     },
     "execution_count": 86,
     "metadata": {},
     "output_type": "execute_result"
    }
   ],
   "source": [
    "# test function\n",
    "select_related_words('Data Analyst', data['title'], 10)"
   ]
  },
  {
   "cell_type": "code",
   "execution_count": 87,
   "metadata": {},
   "outputs": [],
   "source": [
    "data['title'] = data['title'].apply(lambda x: replacement(related, x, 'Data Analyst'))"
   ]
  },
  {
   "cell_type": "code",
   "execution_count": 88,
   "metadata": {},
   "outputs": [
    {
     "data": {
      "text/plain": [
       "Data Analyst                 9\n",
       "Software Testing Engineer    3\n",
       "Software Quality Engineer    3\n",
       "Name: title, dtype: int64"
      ]
     },
     "execution_count": 88,
     "metadata": {},
     "output_type": "execute_result"
    }
   ],
   "source": [
    "data['title'].value_counts()[:3]"
   ]
  },
  {
   "cell_type": "code",
   "execution_count": 89,
   "metadata": {},
   "outputs": [
    {
     "data": {
      "text/plain": [
       "[('AI Engineer', 90, 13),\n",
       " ('CRM Retail Officer (Digital Banking & Marketing Division)', 60, 17),\n",
       " ('AI Programming with Python', 60, 23),\n",
       " ('AI/ML (Artificial Intelligence/Machine Learning) Lead', 60, 35)]"
      ]
     },
     "execution_count": 89,
     "metadata": {},
     "output_type": "execute_result"
    }
   ],
   "source": [
    "related = select_related_words('AI', data['title'], 4)\n",
    "related"
   ]
  },
  {
   "cell_type": "code",
   "execution_count": 90,
   "metadata": {},
   "outputs": [
    {
     "data": {
      "text/plain": [
       "Data Analyst                 9\n",
       "AI Engineer                  4\n",
       "Data Scientist               3\n",
       "Software Quality Engineer    3\n",
       "Name: title, dtype: int64"
      ]
     },
     "execution_count": 90,
     "metadata": {},
     "output_type": "execute_result"
    }
   ],
   "source": [
    "data['title'] = data['title'].apply(lambda x: replacement(related, x, 'AI Engineer'))\n",
    "data['title'].value_counts()[:4]"
   ]
  },
  {
   "cell_type": "code",
   "execution_count": 91,
   "metadata": {
    "scrolled": true
   },
   "outputs": [
    {
     "data": {
      "text/plain": [
       "[('Python Developer For sports statistics ', 90, 22),\n",
       " ('Remote Python Developer Jobs', 90, 26),\n",
       " ('Remote Backend Python Developer (2) Jobs', 90, 41),\n",
       " ('Python Developer with ERPNext and Frappe Experience', 60, 30)]"
      ]
     },
     "execution_count": 91,
     "metadata": {},
     "output_type": "execute_result"
    }
   ],
   "source": [
    "related = select_related_words('Python', data['title'], 4)\n",
    "related"
   ]
  },
  {
   "cell_type": "code",
   "execution_count": 92,
   "metadata": {},
   "outputs": [
    {
     "data": {
      "text/plain": [
       "Data Analyst                 9\n",
       "Python Developer             4\n",
       "AI Engineer                  4\n",
       "Data Scientist               3\n",
       "Software Quality Engineer    3\n",
       "Software Testing Engineer    3\n",
       "Name: title, dtype: int64"
      ]
     },
     "execution_count": 92,
     "metadata": {},
     "output_type": "execute_result"
    }
   ],
   "source": [
    "data['title'] = data['title'].apply(lambda x: replacement(related, x, 'Python Developer'))\n",
    "data['title'].value_counts()[:6]"
   ]
  },
  {
   "cell_type": "code",
   "execution_count": 93,
   "metadata": {
    "scrolled": false
   },
   "outputs": [
    {
     "data": {
      "text/plain": [
       "[('Machine Learning & Data Analysis Graduate Intern', 90, 24),\n",
       " ('Machine Learning Engineer', 90, 31)]"
      ]
     },
     "execution_count": 93,
     "metadata": {},
     "output_type": "execute_result"
    }
   ],
   "source": [
    "related = select_related_words('Machine Learning', data['title'], 2)\n",
    "related"
   ]
  },
  {
   "cell_type": "code",
   "execution_count": 94,
   "metadata": {},
   "outputs": [
    {
     "data": {
      "text/plain": [
       "Data Analyst                 9\n",
       "AI Engineer                  6\n",
       "Python Developer             4\n",
       "Data Scientist               3\n",
       "Software Testing Engineer    3\n",
       "Software Quality Engineer    3\n",
       "Name: title, dtype: int64"
      ]
     },
     "execution_count": 94,
     "metadata": {},
     "output_type": "execute_result"
    }
   ],
   "source": [
    "data['title'] = data['title'].apply(lambda x: replacement(related, x, 'AI Engineer'))\n",
    "data['title'].value_counts()[:6]"
   ]
  },
  {
   "cell_type": "code",
   "execution_count": 96,
   "metadata": {
    "scrolled": true
   },
   "outputs": [
    {
     "data": {
      "text/plain": [
       "[('Business Analyst', 100, 4),\n",
       " ('corporate strategy business analyst ', 90, 10),\n",
       " ('Software Business Analyst', 90, 18),\n",
       " ('Discover Graduate Program - Business Intelligence', 86, 11),\n",
       " ('Business Research Analyst', 86, 14)]"
      ]
     },
     "execution_count": 96,
     "metadata": {},
     "output_type": "execute_result"
    }
   ],
   "source": [
    "related = select_related_words('Business Analyst', data['title'], 5)\n",
    "related"
   ]
  },
  {
   "cell_type": "code",
   "execution_count": 97,
   "metadata": {},
   "outputs": [
    {
     "data": {
      "text/plain": [
       "Data Analyst                 9\n",
       "AI Engineer                  6\n",
       "Business Analyst             5\n",
       "Python Developer             4\n",
       "Data Scientist               3\n",
       "Software Quality Engineer    3\n",
       "Name: title, dtype: int64"
      ]
     },
     "execution_count": 97,
     "metadata": {},
     "output_type": "execute_result"
    }
   ],
   "source": [
    "data['title'] = data['title'].apply(lambda x: replacement(related, x, 'Business Analyst'))\n",
    "data['title'].value_counts()[:6]"
   ]
  },
  {
   "cell_type": "code",
   "execution_count": 104,
   "metadata": {
    "scrolled": false
   },
   "outputs": [
    {
     "data": {
      "text/plain": [
       "[('Software Testing Engineer', 90, 44),\n",
       " ('Software Testing Engineer', 90, 46),\n",
       " ('Software Test Engineer | API Testing', 90, 49),\n",
       " ('Software Test Engineer', 90, 50),\n",
       " ('Software Testing Engineer', 90, 53),\n",
       " ('Senior Software Testing Engineer', 90, 56),\n",
       " ('Junior Software Tester', 90, 59),\n",
       " ('Software Test Engineer', 90, 60),\n",
       " ('Senior Software Tester', 90, 66),\n",
       " ('Software Engineer Graduate Intern', 86, 27),\n",
       " ('GRADUATE SOFTWARE ENGINEER - Dubai, UAE', 86, 39),\n",
       " ('GRADUATE SOFTWARE ENGINEER - Dubai, UAE', 86, 42),\n",
       " ('Software Quality Assurance Tester', 86, 43),\n",
       " ('Software Manual Testing Engineer', 86, 45),\n",
       " ('Software QA Engineer', 86, 47),\n",
       " ('Software QA Engineer - (Remote Job)', 86, 52),\n",
       " ('Software Quality Engineer', 86, 55),\n",
       " ('Software QC Engineer', 86, 57),\n",
       " ('Software Quality Assurance Engineer', 86, 61),\n",
       " ('Software Quality Engineer', 86, 62),\n",
       " ('Software Quality Engineer', 86, 64),\n",
       " ('Software Quality Assurance Engineer', 86, 65),\n",
       " ('QA Software Testing', 81, 51),\n",
       " ('QA Test Engineer', 45, 58)]"
      ]
     },
     "execution_count": 104,
     "metadata": {},
     "output_type": "execute_result"
    }
   ],
   "source": [
    "related = select_related_words('Software Test', data['title'], 24)\n",
    "related"
   ]
  },
  {
   "cell_type": "code",
   "execution_count": 105,
   "metadata": {},
   "outputs": [
    {
     "data": {
      "text/plain": [
       "Software Testing Engineer    24\n",
       "Data Analyst                  9\n",
       "AI Engineer                   6\n",
       "Business Analyst              5\n",
       "Python Developer              4\n",
       "Data Scientist                3\n",
       "Name: title, dtype: int64"
      ]
     },
     "execution_count": 105,
     "metadata": {},
     "output_type": "execute_result"
    }
   ],
   "source": [
    "data['title'] = data['title'].apply(lambda x: replacement(related, x, 'Software Testing Engineer'))\n",
    "data['title'].value_counts()[:6]"
   ]
  },
  {
   "cell_type": "code",
   "execution_count": 106,
   "metadata": {},
   "outputs": [
    {
     "data": {
      "text/plain": [
       "Software Testing Engineer                          24\n",
       "Data Analyst                                        9\n",
       "AI Engineer                                         6\n",
       "Business Analyst                                    5\n",
       "Python Developer                                    4\n",
       "Data Scientist                                      3\n",
       "Data Engineer                                       2\n",
       "Senior Quality Assurance Engineer                   2\n",
       "Marsh MENA Graduate Development Program - Egypt     1\n",
       "Product Management Specialist                       1\n",
       "Algorithm Development System Engineer               1\n",
       "5G Senior Data Scientist                            1\n",
       "Mid Tester                                          1\n",
       "Name: title, dtype: int64"
      ]
     },
     "execution_count": 106,
     "metadata": {},
     "output_type": "execute_result"
    }
   ],
   "source": [
    "data['title'].value_counts()"
   ]
  },
  {
   "cell_type": "code",
   "execution_count": 108,
   "metadata": {
    "scrolled": false
   },
   "outputs": [
    {
     "data": {
      "text/plain": [
       "[('Data Scientist', 100, 8),\n",
       " ('Data Scientist', 100, 20),\n",
       " ('Data Scientist', 100, 36),\n",
       " ('5G Senior Data Scientist', 90, 38)]"
      ]
     },
     "execution_count": 108,
     "metadata": {},
     "output_type": "execute_result"
    }
   ],
   "source": [
    "related = select_related_words('Data Scientist', data['title'], 4)\n",
    "related"
   ]
  },
  {
   "cell_type": "code",
   "execution_count": 109,
   "metadata": {},
   "outputs": [
    {
     "data": {
      "text/plain": [
       "Software Testing Engineer                          24\n",
       "Data Analyst                                        9\n",
       "AI Engineer                                         6\n",
       "Business Analyst                                    5\n",
       "Data Scientist                                      4\n",
       "Python Developer                                    4\n",
       "Data Engineer                                       2\n",
       "Senior Quality Assurance Engineer                   2\n",
       "Marsh MENA Graduate Development Program - Egypt     1\n",
       "Product Management Specialist                       1\n",
       "Algorithm Development System Engineer               1\n",
       "Mid Tester                                          1\n",
       "Name: title, dtype: int64"
      ]
     },
     "execution_count": 109,
     "metadata": {},
     "output_type": "execute_result"
    }
   ],
   "source": [
    "data['title'] = data['title'].apply(lambda x: replacement(related, x, 'Data Scientist'))\n",
    "data['title'].value_counts()"
   ]
  },
  {
   "cell_type": "markdown",
   "metadata": {},
   "source": [
    "> Let's change some categories manual"
   ]
  },
  {
   "cell_type": "code",
   "execution_count": 119,
   "metadata": {},
   "outputs": [
    {
     "data": {
      "text/plain": [
       "Software Testing Engineer                          27\n",
       "Data Analyst                                        9\n",
       "AI Engineer                                         6\n",
       "Business Analyst                                    5\n",
       "Data Scientist                                      4\n",
       "Python Developer                                    4\n",
       "Data Engineer                                       2\n",
       "Marsh MENA Graduate Development Program - Egypt     1\n",
       "Product Management Specialist                       1\n",
       "Algorithm Development System Engineer               1\n",
       "Name: title, dtype: int64"
      ]
     },
     "execution_count": 119,
     "metadata": {},
     "output_type": "execute_result"
    }
   ],
   "source": [
    "lst = ['Mid Tester', 'Senior Quality Assurance Engineer']\n",
    "data['title'] = data['title'].apply(lambda x : replacement(lst, x, 'Software Testing Engineer', on_=1))\n",
    "data['title'].value_counts()"
   ]
  },
  {
   "cell_type": "code",
   "execution_count": 120,
   "metadata": {},
   "outputs": [
    {
     "data": {
      "text/plain": [
       "Software Testing Engineer    27\n",
       "Data Analyst                  9\n",
       "AI Engineer                   6\n",
       "Business Analyst              5\n",
       "Data Scientist                4\n",
       "Python Developer              4\n",
       "Other                         3\n",
       "Data Engineer                 2\n",
       "Name: title, dtype: int64"
      ]
     },
     "execution_count": 120,
     "metadata": {},
     "output_type": "execute_result"
    }
   ],
   "source": [
    "lst = ['Marsh MENA Graduate Development Program - Egypt', 'Product Management Specialist', 'Algorithm Development System Engineer']\n",
    "data['title'] = data['title'].apply(lambda x : replacement(lst, x, 'Other', on_=1))\n",
    "data['title'].value_counts()"
   ]
  },
  {
   "cell_type": "markdown",
   "metadata": {},
   "source": [
    "> Now we have a specific categories and it's more cleaned."
   ]
  },
  {
   "cell_type": "markdown",
   "metadata": {},
   "source": [
    "### <center>Location and extract city </center>"
   ]
  },
  {
   "cell_type": "code",
   "execution_count": 124,
   "metadata": {
    "scrolled": true
   },
   "outputs": [
    {
     "data": {
      "text/plain": [
       "['Cairo', 'Cairo', 'Egypt']                                     30\n",
       "['Cairo', 'Egypt']                                              12\n",
       "['Egypt']                                                        5\n",
       "['Cairo', 'Cairo', 'Judaidah', 'Egypt']                          3\n",
       "['Jizeh', 'Section', 'Second', '6', 'October', 'Egypt']          2\n",
       "['Cairo', 'Section', 'Maadi', 'Egypt']                           2\n",
       "['Cairo', 'Section', 'Second', 'Cairo', 'Judaidah', 'Egypt']     2\n",
       "['Cairo', 'Section', 'Al Zamalek', 'Egypt']                      1\n",
       "['Jizeh', 'October', '6', 'Egypt']                               1\n",
       "['Alexandria', 'Egypt']                                          1\n",
       "['Jizeh', 'Jizeh', 'Egypt']                                      1\n",
       "Name: location_edited, dtype: int64"
      ]
     },
     "execution_count": 124,
     "metadata": {},
     "output_type": "execute_result"
    }
   ],
   "source": [
    "data['location_edited'].value_counts()"
   ]
  },
  {
   "cell_type": "code",
   "execution_count": 180,
   "metadata": {},
   "outputs": [],
   "source": [
    "def clean_and_extract(row_value):\n",
    "    import re\n",
    "    \n",
    "    x = re.sub('[\\[\\]]', '',string=row_value)\n",
    "    lst = re.sub('[\\']', '',x).split(',')\n",
    "    return lst\n",
    "    "
   ]
  },
  {
   "cell_type": "code",
   "execution_count": 184,
   "metadata": {},
   "outputs": [],
   "source": [
    "data['location_edited'] = data['location_edited'].apply(clean_and_extract)"
   ]
  },
  {
   "cell_type": "code",
   "execution_count": 191,
   "metadata": {},
   "outputs": [
    {
     "data": {
      "text/plain": [
       "0                [Cairo,  Section,  Al Zamalek,  Egypt]\n",
       "1                               [Cairo,  Cairo,  Egypt]\n",
       "2                                               [Egypt]\n",
       "3                               [Cairo,  Cairo,  Egypt]\n",
       "4                                       [Cairo,  Egypt]\n",
       "5                               [Cairo,  Cairo,  Egypt]\n",
       "6                               [Cairo,  Cairo,  Egypt]\n",
       "7                               [Cairo,  Cairo,  Egypt]\n",
       "8                               [Cairo,  Cairo,  Egypt]\n",
       "9                               [Cairo,  Cairo,  Egypt]\n",
       "10                                      [Cairo,  Egypt]\n",
       "11                                              [Egypt]\n",
       "12                              [Cairo,  Cairo,  Egypt]\n",
       "13                        [Jizeh,  October,  6,  Egypt]\n",
       "14                              [Cairo,  Cairo,  Egypt]\n",
       "15                   [Cairo,  Cairo,  Judaidah,  Egypt]\n",
       "16                              [Cairo,  Cairo,  Egypt]\n",
       "17                                      [Cairo,  Egypt]\n",
       "18     [Jizeh,  Section,  Second,  6,  October,  Egypt]\n",
       "19                                      [Cairo,  Egypt]\n",
       "20                              [Cairo,  Cairo,  Egypt]\n",
       "22                                              [Egypt]\n",
       "23                                      [Cairo,  Egypt]\n",
       "24                              [Cairo,  Cairo,  Egypt]\n",
       "26                                              [Egypt]\n",
       "27                              [Cairo,  Cairo,  Egypt]\n",
       "30                                 [Alexandria,  Egypt]\n",
       "31                              [Cairo,  Cairo,  Egypt]\n",
       "32                   [Cairo,  Cairo,  Judaidah,  Egypt]\n",
       "33                              [Cairo,  Cairo,  Egypt]\n",
       "35                              [Cairo,  Cairo,  Egypt]\n",
       "36                              [Cairo,  Cairo,  Egypt]\n",
       "38                              [Cairo,  Cairo,  Egypt]\n",
       "39                              [Cairo,  Cairo,  Egypt]\n",
       "41                                              [Egypt]\n",
       "42                              [Jizeh,  Jizeh,  Egypt]\n",
       "43                                      [Cairo,  Egypt]\n",
       "44                              [Cairo,  Cairo,  Egypt]\n",
       "45                                      [Cairo,  Egypt]\n",
       "46                    [Cairo,  Section,  Maadi,  Egypt]\n",
       "47    [Cairo,  Section,  Second,  Cairo,  Judaidah, ...\n",
       "48                                      [Cairo,  Egypt]\n",
       "49                              [Cairo,  Cairo,  Egypt]\n",
       "50                                      [Cairo,  Egypt]\n",
       "51                              [Cairo,  Cairo,  Egypt]\n",
       "52                              [Cairo,  Cairo,  Egypt]\n",
       "53                              [Cairo,  Cairo,  Egypt]\n",
       "54                                      [Cairo,  Egypt]\n",
       "55                              [Cairo,  Cairo,  Egypt]\n",
       "56                              [Cairo,  Cairo,  Egypt]\n",
       "57                                      [Cairo,  Egypt]\n",
       "58    [Cairo,  Section,  Second,  Cairo,  Judaidah, ...\n",
       "59                              [Cairo,  Cairo,  Egypt]\n",
       "60     [Jizeh,  Section,  Second,  6,  October,  Egypt]\n",
       "61                                      [Cairo,  Egypt]\n",
       "62                              [Cairo,  Cairo,  Egypt]\n",
       "63                   [Cairo,  Cairo,  Judaidah,  Egypt]\n",
       "64                              [Cairo,  Cairo,  Egypt]\n",
       "65                              [Cairo,  Cairo,  Egypt]\n",
       "66                    [Cairo,  Section,  Maadi,  Egypt]\n",
       "Name: location_edited, dtype: object"
      ]
     },
     "execution_count": 191,
     "metadata": {},
     "output_type": "execute_result"
    }
   ],
   "source": [
    "data['location_edited']"
   ]
  },
  {
   "cell_type": "code",
   "execution_count": 193,
   "metadata": {},
   "outputs": [],
   "source": [
    "data['city'] = data['location_edited'].apply(lambda x: x[0] if len(x)>=2 else np.nan)"
   ]
  },
  {
   "cell_type": "code",
   "execution_count": 244,
   "metadata": {},
   "outputs": [],
   "source": [
    "data['city'] = data['city'].str.replace('Jizeh', 'Giza')"
   ]
  },
  {
   "cell_type": "code",
   "execution_count": 245,
   "metadata": {},
   "outputs": [
    {
     "data": {
      "text/html": [
       "<div>\n",
       "<style scoped>\n",
       "    .dataframe tbody tr th:only-of-type {\n",
       "        vertical-align: middle;\n",
       "    }\n",
       "\n",
       "    .dataframe tbody tr th {\n",
       "        vertical-align: top;\n",
       "    }\n",
       "\n",
       "    .dataframe thead th {\n",
       "        text-align: right;\n",
       "    }\n",
       "</style>\n",
       "<table border=\"1\" class=\"dataframe\">\n",
       "  <thead>\n",
       "    <tr style=\"text-align: right;\">\n",
       "      <th></th>\n",
       "      <th>title</th>\n",
       "      <th>company_name</th>\n",
       "      <th>job_description</th>\n",
       "      <th>job_requirments</th>\n",
       "      <th>location</th>\n",
       "      <th>location_edited</th>\n",
       "      <th>city</th>\n",
       "    </tr>\n",
       "  </thead>\n",
       "  <tbody>\n",
       "    <tr>\n",
       "      <th>0</th>\n",
       "      <td>Data Analyst</td>\n",
       "      <td>Klivvr</td>\n",
       "      <td>[We put our visionaries first. , We strive for...</td>\n",
       "      <td>['Identifying data sources', 'Analyzing data, ...</td>\n",
       "      <td>القاهرة قسم الزمالك مصر</td>\n",
       "      <td>[Cairo,  Section,  Al Zamalek,  Egypt]</td>\n",
       "      <td>Cairo</td>\n",
       "    </tr>\n",
       "    <tr>\n",
       "      <th>1</th>\n",
       "      <td>Data Analyst</td>\n",
       "      <td>Axis</td>\n",
       "      <td>[Interpreting marketing data, analyzing result...</td>\n",
       "      <td>['Developing &amp; implementing databases, data co...</td>\n",
       "      <td>القاهرة القاهرة مصر</td>\n",
       "      <td>[Cairo,  Cairo,  Egypt]</td>\n",
       "      <td>Cairo</td>\n",
       "    </tr>\n",
       "    <tr>\n",
       "      <th>2</th>\n",
       "      <td>Data Analyst</td>\n",
       "      <td>Property Finder</td>\n",
       "      <td>[The ideal candidate will use their passion fo...</td>\n",
       "      <td>['Graduated from Computer Science or Engineeri...</td>\n",
       "      <td>مصر</td>\n",
       "      <td>[Egypt]</td>\n",
       "      <td>NaN</td>\n",
       "    </tr>\n",
       "    <tr>\n",
       "      <th>3</th>\n",
       "      <td>Data Analyst</td>\n",
       "      <td>OLX Egypt</td>\n",
       "      <td>[Accessing data, constructing and manipulating...</td>\n",
       "      <td>['Bachelor’s degree in statistics, mathematics...</td>\n",
       "      <td>القاهرة القاهرة مصر</td>\n",
       "      <td>[Cairo,  Cairo,  Egypt]</td>\n",
       "      <td>Cairo</td>\n",
       "    </tr>\n",
       "    <tr>\n",
       "      <th>4</th>\n",
       "      <td>Business Analyst</td>\n",
       "      <td>Zoho</td>\n",
       "      <td>[Define and plan project milestones, phases an...</td>\n",
       "      <td>not_found</td>\n",
       "      <td>القاهرة مصر</td>\n",
       "      <td>[Cairo,  Egypt]</td>\n",
       "      <td>Cairo</td>\n",
       "    </tr>\n",
       "  </tbody>\n",
       "</table>\n",
       "</div>"
      ],
      "text/plain": [
       "              title     company_name  \\\n",
       "0      Data Analyst           Klivvr   \n",
       "1      Data Analyst             Axis   \n",
       "2      Data Analyst  Property Finder   \n",
       "3      Data Analyst        OLX Egypt   \n",
       "4  Business Analyst             Zoho   \n",
       "\n",
       "                                     job_description  \\\n",
       "0  [We put our visionaries first. , We strive for...   \n",
       "1  [Interpreting marketing data, analyzing result...   \n",
       "2  [The ideal candidate will use their passion fo...   \n",
       "3  [Accessing data, constructing and manipulating...   \n",
       "4  [Define and plan project milestones, phases an...   \n",
       "\n",
       "                                     job_requirments                 location  \\\n",
       "0  ['Identifying data sources', 'Analyzing data, ...  القاهرة قسم الزمالك مصر   \n",
       "1  ['Developing & implementing databases, data co...      القاهرة القاهرة مصر   \n",
       "2  ['Graduated from Computer Science or Engineeri...                      مصر   \n",
       "3  ['Bachelor’s degree in statistics, mathematics...      القاهرة القاهرة مصر   \n",
       "4                                          not_found              القاهرة مصر   \n",
       "\n",
       "                          location_edited   city  \n",
       "0  [Cairo,  Section,  Al Zamalek,  Egypt]  Cairo  \n",
       "1                 [Cairo,  Cairo,  Egypt]  Cairo  \n",
       "2                                 [Egypt]    NaN  \n",
       "3                 [Cairo,  Cairo,  Egypt]  Cairo  \n",
       "4                         [Cairo,  Egypt]  Cairo  "
      ]
     },
     "execution_count": 245,
     "metadata": {},
     "output_type": "execute_result"
    }
   ],
   "source": [
    "data.head()"
   ]
  },
  {
   "cell_type": "markdown",
   "metadata": {},
   "source": [
    "## <center> <font color='brown'>Visualization </center>"
   ]
  },
  {
   "cell_type": "code",
   "execution_count": 246,
   "metadata": {
    "scrolled": true
   },
   "outputs": [
    {
     "data": {
      "text/plain": [
       "Cairo         50\n",
       "Giza           4\n",
       "Alexandria     1\n",
       "Name: city, dtype: int64"
      ]
     },
     "execution_count": 246,
     "metadata": {},
     "output_type": "execute_result"
    }
   ],
   "source": [
    "data['city'].value_counts()"
   ]
  },
  {
   "cell_type": "markdown",
   "metadata": {},
   "source": [
    "> To put city on the map, we need it's latitude and longitude"
   ]
  },
  {
   "cell_type": "code",
   "execution_count": 230,
   "metadata": {},
   "outputs": [],
   "source": [
    "from geopy.geocoders import Nominatim\n",
    "geolocator = Nominatim(user_agent=\"geoapiExercises\")"
   ]
  },
  {
   "cell_type": "code",
   "execution_count": 233,
   "metadata": {},
   "outputs": [
    {
     "name": "stdout",
     "output_type": "stream",
     "text": [
      "latitude is : 30.0443879 \n",
      "longtitude is: 31.2357257\n"
     ]
    }
   ],
   "source": [
    "city =\"Cairo\"\n",
    "country =\"Egypt\"\n",
    "loc = geolocator.geocode(city+','+ country)\n",
    "print(\"latitude is :\" ,loc.latitude,\"\\nlongtitude is:\" ,loc.longitude)\n",
    "lat_cairo = loc.latitude\n",
    "long_cairo = loc.longitude"
   ]
  },
  {
   "cell_type": "code",
   "execution_count": 234,
   "metadata": {},
   "outputs": [
    {
     "name": "stdout",
     "output_type": "stream",
     "text": [
      "latitude is : 31.199004 \n",
      "longtitude is: 29.894378\n"
     ]
    }
   ],
   "source": [
    "city =\"Alexandria\"\n",
    "country =\"Egypt\"\n",
    "loc = geolocator.geocode(city+','+ country)\n",
    "print(\"latitude is :\" ,loc.latitude,\"\\nlongtitude is:\" ,loc.longitude)\n",
    "lat_alex = loc.latitude\n",
    "long_alex = loc.longitude"
   ]
  },
  {
   "cell_type": "code",
   "execution_count": 243,
   "metadata": {},
   "outputs": [
    {
     "name": "stdout",
     "output_type": "stream",
     "text": [
      "latitude is : 29.9870753 \n",
      "longtitude is: 31.2118063\n"
     ]
    }
   ],
   "source": [
    "city =\"Giza\"\n",
    "country =\"Egypt\"\n",
    "loc = geolocator.geocode(city+','+ country)\n",
    "print(\"latitude is :\" ,loc.latitude,\"\\nlongtitude is:\" ,loc.longitude)\n",
    "lat_giza = loc.latitude\n",
    "long_giza = loc.longitude"
   ]
  },
  {
   "cell_type": "code",
   "execution_count": 236,
   "metadata": {},
   "outputs": [
    {
     "data": {
      "text/plain": [
       "Location(15, شارع عباس محمود العقاد, المنشية الكبري, الإسكندرية, 21519, مصر, (31.1989614, 29.8945861, 0.0))"
      ]
     },
     "execution_count": 236,
     "metadata": {},
     "output_type": "execute_result"
    }
   ],
   "source": [
    "geolocator.geocode(str(lat_alex)+\",\"+str(long_alex))"
   ]
  },
  {
   "cell_type": "markdown",
   "metadata": {},
   "source": [
    "#### Another Way"
   ]
  },
  {
   "cell_type": "code",
   "execution_count": 226,
   "metadata": {},
   "outputs": [
    {
     "name": "stdout",
     "output_type": "stream",
     "text": [
      "30.0443879\n",
      "31.2357257\n"
     ]
    }
   ],
   "source": [
    "import requests\n",
    "import urllib.parse\n",
    "\n",
    "city = \"Cairo\"\n",
    "country = \"Egypt\"\n",
    "url = \"https://nominatim.openstreetmap.org/?addressdetails=1&q=\" + city + \"+\" + country +\"&format=json&limit=1\"\n",
    "\n",
    "response = requests.get(url).json()\n",
    "print(response[0][\"lat\"])\n",
    "print(response[0][\"lon\"])"
   ]
  },
  {
   "cell_type": "code",
   "execution_count": 227,
   "metadata": {},
   "outputs": [
    {
     "data": {
      "text/plain": [
       "[{'place_id': 338897607,\n",
       "  'licence': 'Data © OpenStreetMap contributors, ODbL 1.0. https://osm.org/copyright',\n",
       "  'osm_type': 'node',\n",
       "  'osm_id': 271613766,\n",
       "  'boundingbox': ['29.8843879', '30.2043879', '31.0757257', '31.3957257'],\n",
       "  'lat': '30.0443879',\n",
       "  'lon': '31.2357257',\n",
       "  'display_name': 'القاهرة, 11519, مصر',\n",
       "  'class': 'place',\n",
       "  'type': 'city',\n",
       "  'importance': 0.6960286135601557,\n",
       "  'icon': 'https://nominatim.openstreetmap.org/ui/mapicons/poi_place_city.p.20.png',\n",
       "  'address': {'city': 'القاهرة',\n",
       "   'state': 'القاهرة',\n",
       "   'ISO3166-2-lvl4': 'EG-C',\n",
       "   'postcode': '11519',\n",
       "   'country': 'مصر',\n",
       "   'country_code': 'eg'}}]"
      ]
     },
     "execution_count": 227,
     "metadata": {},
     "output_type": "execute_result"
    }
   ],
   "source": [
    "response"
   ]
  },
  {
   "cell_type": "code",
   "execution_count": 247,
   "metadata": {},
   "outputs": [
    {
     "data": {
      "text/plain": [
       "array(['Cairo', nan, 'Giza', 'Alexandria'], dtype=object)"
      ]
     },
     "execution_count": 247,
     "metadata": {},
     "output_type": "execute_result"
    }
   ],
   "source": [
    "data['city'].unique()"
   ]
  },
  {
   "cell_type": "code",
   "execution_count": 248,
   "metadata": {},
   "outputs": [],
   "source": [
    "def latitude_longitude(row_value, on=0):\n",
    "    # Latitude\n",
    "    if on==0:\n",
    "        if row_value=='Cairo':\n",
    "            return lat_cairo\n",
    "        elif row_value=='Alexandria':\n",
    "            return lat_alex\n",
    "        elif row_value=='Giza':\n",
    "            return lat_giza\n",
    "        else:\n",
    "            return np.nan\n",
    "    \n",
    "    # Longitude\n",
    "    else:\n",
    "        if row_value=='Cairo':\n",
    "            return long_cairo\n",
    "        elif row_value=='Alexandria':\n",
    "            return long_alex\n",
    "        elif row_value=='Giza':\n",
    "            return long_giza\n",
    "        else:\n",
    "            return np.nan"
   ]
  },
  {
   "cell_type": "code",
   "execution_count": 254,
   "metadata": {},
   "outputs": [],
   "source": [
    "data['latitude'] = data['city'].apply(latitude_longitude)\n",
    "data['longitude'] = data['city'].apply(lambda x: latitude_longitude(x , on=1))"
   ]
  },
  {
   "cell_type": "code",
   "execution_count": 255,
   "metadata": {},
   "outputs": [
    {
     "data": {
      "text/html": [
       "<div>\n",
       "<style scoped>\n",
       "    .dataframe tbody tr th:only-of-type {\n",
       "        vertical-align: middle;\n",
       "    }\n",
       "\n",
       "    .dataframe tbody tr th {\n",
       "        vertical-align: top;\n",
       "    }\n",
       "\n",
       "    .dataframe thead th {\n",
       "        text-align: right;\n",
       "    }\n",
       "</style>\n",
       "<table border=\"1\" class=\"dataframe\">\n",
       "  <thead>\n",
       "    <tr style=\"text-align: right;\">\n",
       "      <th></th>\n",
       "      <th>title</th>\n",
       "      <th>company_name</th>\n",
       "      <th>job_description</th>\n",
       "      <th>job_requirments</th>\n",
       "      <th>location</th>\n",
       "      <th>location_edited</th>\n",
       "      <th>city</th>\n",
       "      <th>latitude</th>\n",
       "      <th>longitude</th>\n",
       "    </tr>\n",
       "  </thead>\n",
       "  <tbody>\n",
       "    <tr>\n",
       "      <th>0</th>\n",
       "      <td>Data Analyst</td>\n",
       "      <td>Klivvr</td>\n",
       "      <td>[We put our visionaries first. , We strive for...</td>\n",
       "      <td>['Identifying data sources', 'Analyzing data, ...</td>\n",
       "      <td>القاهرة قسم الزمالك مصر</td>\n",
       "      <td>[Cairo,  Section,  Al Zamalek,  Egypt]</td>\n",
       "      <td>Cairo</td>\n",
       "      <td>30.044388</td>\n",
       "      <td>31.235726</td>\n",
       "    </tr>\n",
       "    <tr>\n",
       "      <th>1</th>\n",
       "      <td>Data Analyst</td>\n",
       "      <td>Axis</td>\n",
       "      <td>[Interpreting marketing data, analyzing result...</td>\n",
       "      <td>['Developing &amp; implementing databases, data co...</td>\n",
       "      <td>القاهرة القاهرة مصر</td>\n",
       "      <td>[Cairo,  Cairo,  Egypt]</td>\n",
       "      <td>Cairo</td>\n",
       "      <td>30.044388</td>\n",
       "      <td>31.235726</td>\n",
       "    </tr>\n",
       "    <tr>\n",
       "      <th>2</th>\n",
       "      <td>Data Analyst</td>\n",
       "      <td>Property Finder</td>\n",
       "      <td>[The ideal candidate will use their passion fo...</td>\n",
       "      <td>['Graduated from Computer Science or Engineeri...</td>\n",
       "      <td>مصر</td>\n",
       "      <td>[Egypt]</td>\n",
       "      <td>NaN</td>\n",
       "      <td>NaN</td>\n",
       "      <td>NaN</td>\n",
       "    </tr>\n",
       "  </tbody>\n",
       "</table>\n",
       "</div>"
      ],
      "text/plain": [
       "          title     company_name  \\\n",
       "0  Data Analyst           Klivvr   \n",
       "1  Data Analyst             Axis   \n",
       "2  Data Analyst  Property Finder   \n",
       "\n",
       "                                     job_description  \\\n",
       "0  [We put our visionaries first. , We strive for...   \n",
       "1  [Interpreting marketing data, analyzing result...   \n",
       "2  [The ideal candidate will use their passion fo...   \n",
       "\n",
       "                                     job_requirments                 location  \\\n",
       "0  ['Identifying data sources', 'Analyzing data, ...  القاهرة قسم الزمالك مصر   \n",
       "1  ['Developing & implementing databases, data co...      القاهرة القاهرة مصر   \n",
       "2  ['Graduated from Computer Science or Engineeri...                      مصر   \n",
       "\n",
       "                          location_edited   city   latitude  longitude  \n",
       "0  [Cairo,  Section,  Al Zamalek,  Egypt]  Cairo  30.044388  31.235726  \n",
       "1                 [Cairo,  Cairo,  Egypt]  Cairo  30.044388  31.235726  \n",
       "2                                 [Egypt]    NaN        NaN        NaN  "
      ]
     },
     "execution_count": 255,
     "metadata": {},
     "output_type": "execute_result"
    }
   ],
   "source": [
    "data.head(3)"
   ]
  },
  {
   "cell_type": "code",
   "execution_count": 256,
   "metadata": {},
   "outputs": [],
   "source": [
    "import plotly.express as px"
   ]
  },
  {
   "cell_type": "code",
   "execution_count": 283,
   "metadata": {},
   "outputs": [
    {
     "data": {
      "text/plain": [
       "array([50,  4,  1], dtype=int64)"
      ]
     },
     "execution_count": 283,
     "metadata": {},
     "output_type": "execute_result"
    }
   ],
   "source": [
    "data['city'].value_counts().values"
   ]
  },
  {
   "cell_type": "code",
   "execution_count": 287,
   "metadata": {},
   "outputs": [],
   "source": [
    "df = data.dropna()"
   ]
  },
  {
   "cell_type": "code",
   "execution_count": 295,
   "metadata": {},
   "outputs": [
    {
     "data": {
      "application/vnd.plotly.v1+json": {
       "config": {
        "plotlyServerURL": "https://plot.ly"
       },
       "data": [
        {
         "geo": "geo",
         "hovertemplate": "<b>%{hovertext}</b><br><br>city=Cairo<br>latitude=%{lat}<br>longitude=%{lon}<extra></extra>",
         "hovertext": [
          "Cairo",
          "Cairo",
          "Cairo",
          "Cairo",
          "Cairo",
          "Cairo",
          "Cairo",
          "Cairo",
          "Cairo",
          "Cairo",
          "Cairo",
          "Cairo",
          "Cairo",
          "Cairo",
          "Cairo",
          "Cairo",
          "Cairo",
          "Cairo",
          "Cairo",
          "Cairo",
          "Cairo",
          "Cairo",
          "Cairo",
          "Cairo",
          "Cairo",
          "Cairo",
          "Cairo",
          "Cairo",
          "Cairo",
          "Cairo",
          "Cairo",
          "Cairo",
          "Cairo",
          "Cairo",
          "Cairo",
          "Cairo",
          "Cairo",
          "Cairo",
          "Cairo",
          "Cairo",
          "Cairo",
          "Cairo",
          "Cairo",
          "Cairo",
          "Cairo",
          "Cairo",
          "Cairo",
          "Cairo",
          "Cairo",
          "Cairo"
         ],
         "lat": [
          30.0443879,
          30.0443879,
          30.0443879,
          30.0443879,
          30.0443879,
          30.0443879,
          30.0443879,
          30.0443879,
          30.0443879,
          30.0443879,
          30.0443879,
          30.0443879,
          30.0443879,
          30.0443879,
          30.0443879,
          30.0443879,
          30.0443879,
          30.0443879,
          30.0443879,
          30.0443879,
          30.0443879,
          30.0443879,
          30.0443879,
          30.0443879,
          30.0443879,
          30.0443879,
          30.0443879,
          30.0443879,
          30.0443879,
          30.0443879,
          30.0443879,
          30.0443879,
          30.0443879,
          30.0443879,
          30.0443879,
          30.0443879,
          30.0443879,
          30.0443879,
          30.0443879,
          30.0443879,
          30.0443879,
          30.0443879,
          30.0443879,
          30.0443879,
          30.0443879,
          30.0443879,
          30.0443879,
          30.0443879,
          30.0443879,
          30.0443879
         ],
         "legendgroup": "Cairo",
         "lon": [
          31.2357257,
          31.2357257,
          31.2357257,
          31.2357257,
          31.2357257,
          31.2357257,
          31.2357257,
          31.2357257,
          31.2357257,
          31.2357257,
          31.2357257,
          31.2357257,
          31.2357257,
          31.2357257,
          31.2357257,
          31.2357257,
          31.2357257,
          31.2357257,
          31.2357257,
          31.2357257,
          31.2357257,
          31.2357257,
          31.2357257,
          31.2357257,
          31.2357257,
          31.2357257,
          31.2357257,
          31.2357257,
          31.2357257,
          31.2357257,
          31.2357257,
          31.2357257,
          31.2357257,
          31.2357257,
          31.2357257,
          31.2357257,
          31.2357257,
          31.2357257,
          31.2357257,
          31.2357257,
          31.2357257,
          31.2357257,
          31.2357257,
          31.2357257,
          31.2357257,
          31.2357257,
          31.2357257,
          31.2357257,
          31.2357257,
          31.2357257
         ],
         "marker": {
          "color": "#636efa",
          "symbol": "circle"
         },
         "mode": "markers",
         "name": "Cairo",
         "showlegend": true,
         "type": "scattergeo"
        },
        {
         "geo": "geo",
         "hovertemplate": "<b>%{hovertext}</b><br><br>city=Giza<br>latitude=%{lat}<br>longitude=%{lon}<extra></extra>",
         "hovertext": [
          "Giza",
          "Giza",
          "Giza",
          "Giza"
         ],
         "lat": [
          29.9870753,
          29.9870753,
          29.9870753,
          29.9870753
         ],
         "legendgroup": "Giza",
         "lon": [
          31.2118063,
          31.2118063,
          31.2118063,
          31.2118063
         ],
         "marker": {
          "color": "#EF553B",
          "symbol": "circle"
         },
         "mode": "markers",
         "name": "Giza",
         "showlegend": true,
         "type": "scattergeo"
        },
        {
         "geo": "geo",
         "hovertemplate": "<b>%{hovertext}</b><br><br>city=Alexandria<br>latitude=%{lat}<br>longitude=%{lon}<extra></extra>",
         "hovertext": [
          "Alexandria"
         ],
         "lat": [
          31.199004
         ],
         "legendgroup": "Alexandria",
         "lon": [
          29.894378
         ],
         "marker": {
          "color": "#00cc96",
          "symbol": "circle"
         },
         "mode": "markers",
         "name": "Alexandria",
         "showlegend": true,
         "type": "scattergeo"
        }
       ],
       "layout": {
        "geo": {
         "center": {},
         "domain": {
          "x": [
           0,
           1
          ],
          "y": [
           0,
           1
          ]
         }
        },
        "legend": {
         "title": {
          "text": "city"
         },
         "tracegroupgap": 0
        },
        "margin": {
         "t": 60
        },
        "template": {
         "data": {
          "bar": [
           {
            "error_x": {
             "color": "#2a3f5f"
            },
            "error_y": {
             "color": "#2a3f5f"
            },
            "marker": {
             "line": {
              "color": "#E5ECF6",
              "width": 0.5
             }
            },
            "type": "bar"
           }
          ],
          "barpolar": [
           {
            "marker": {
             "line": {
              "color": "#E5ECF6",
              "width": 0.5
             }
            },
            "type": "barpolar"
           }
          ],
          "carpet": [
           {
            "aaxis": {
             "endlinecolor": "#2a3f5f",
             "gridcolor": "white",
             "linecolor": "white",
             "minorgridcolor": "white",
             "startlinecolor": "#2a3f5f"
            },
            "baxis": {
             "endlinecolor": "#2a3f5f",
             "gridcolor": "white",
             "linecolor": "white",
             "minorgridcolor": "white",
             "startlinecolor": "#2a3f5f"
            },
            "type": "carpet"
           }
          ],
          "choropleth": [
           {
            "colorbar": {
             "outlinewidth": 0,
             "ticks": ""
            },
            "type": "choropleth"
           }
          ],
          "contour": [
           {
            "colorbar": {
             "outlinewidth": 0,
             "ticks": ""
            },
            "colorscale": [
             [
              0,
              "#0d0887"
             ],
             [
              0.1111111111111111,
              "#46039f"
             ],
             [
              0.2222222222222222,
              "#7201a8"
             ],
             [
              0.3333333333333333,
              "#9c179e"
             ],
             [
              0.4444444444444444,
              "#bd3786"
             ],
             [
              0.5555555555555556,
              "#d8576b"
             ],
             [
              0.6666666666666666,
              "#ed7953"
             ],
             [
              0.7777777777777778,
              "#fb9f3a"
             ],
             [
              0.8888888888888888,
              "#fdca26"
             ],
             [
              1,
              "#f0f921"
             ]
            ],
            "type": "contour"
           }
          ],
          "contourcarpet": [
           {
            "colorbar": {
             "outlinewidth": 0,
             "ticks": ""
            },
            "type": "contourcarpet"
           }
          ],
          "heatmap": [
           {
            "colorbar": {
             "outlinewidth": 0,
             "ticks": ""
            },
            "colorscale": [
             [
              0,
              "#0d0887"
             ],
             [
              0.1111111111111111,
              "#46039f"
             ],
             [
              0.2222222222222222,
              "#7201a8"
             ],
             [
              0.3333333333333333,
              "#9c179e"
             ],
             [
              0.4444444444444444,
              "#bd3786"
             ],
             [
              0.5555555555555556,
              "#d8576b"
             ],
             [
              0.6666666666666666,
              "#ed7953"
             ],
             [
              0.7777777777777778,
              "#fb9f3a"
             ],
             [
              0.8888888888888888,
              "#fdca26"
             ],
             [
              1,
              "#f0f921"
             ]
            ],
            "type": "heatmap"
           }
          ],
          "heatmapgl": [
           {
            "colorbar": {
             "outlinewidth": 0,
             "ticks": ""
            },
            "colorscale": [
             [
              0,
              "#0d0887"
             ],
             [
              0.1111111111111111,
              "#46039f"
             ],
             [
              0.2222222222222222,
              "#7201a8"
             ],
             [
              0.3333333333333333,
              "#9c179e"
             ],
             [
              0.4444444444444444,
              "#bd3786"
             ],
             [
              0.5555555555555556,
              "#d8576b"
             ],
             [
              0.6666666666666666,
              "#ed7953"
             ],
             [
              0.7777777777777778,
              "#fb9f3a"
             ],
             [
              0.8888888888888888,
              "#fdca26"
             ],
             [
              1,
              "#f0f921"
             ]
            ],
            "type": "heatmapgl"
           }
          ],
          "histogram": [
           {
            "marker": {
             "colorbar": {
              "outlinewidth": 0,
              "ticks": ""
             }
            },
            "type": "histogram"
           }
          ],
          "histogram2d": [
           {
            "colorbar": {
             "outlinewidth": 0,
             "ticks": ""
            },
            "colorscale": [
             [
              0,
              "#0d0887"
             ],
             [
              0.1111111111111111,
              "#46039f"
             ],
             [
              0.2222222222222222,
              "#7201a8"
             ],
             [
              0.3333333333333333,
              "#9c179e"
             ],
             [
              0.4444444444444444,
              "#bd3786"
             ],
             [
              0.5555555555555556,
              "#d8576b"
             ],
             [
              0.6666666666666666,
              "#ed7953"
             ],
             [
              0.7777777777777778,
              "#fb9f3a"
             ],
             [
              0.8888888888888888,
              "#fdca26"
             ],
             [
              1,
              "#f0f921"
             ]
            ],
            "type": "histogram2d"
           }
          ],
          "histogram2dcontour": [
           {
            "colorbar": {
             "outlinewidth": 0,
             "ticks": ""
            },
            "colorscale": [
             [
              0,
              "#0d0887"
             ],
             [
              0.1111111111111111,
              "#46039f"
             ],
             [
              0.2222222222222222,
              "#7201a8"
             ],
             [
              0.3333333333333333,
              "#9c179e"
             ],
             [
              0.4444444444444444,
              "#bd3786"
             ],
             [
              0.5555555555555556,
              "#d8576b"
             ],
             [
              0.6666666666666666,
              "#ed7953"
             ],
             [
              0.7777777777777778,
              "#fb9f3a"
             ],
             [
              0.8888888888888888,
              "#fdca26"
             ],
             [
              1,
              "#f0f921"
             ]
            ],
            "type": "histogram2dcontour"
           }
          ],
          "mesh3d": [
           {
            "colorbar": {
             "outlinewidth": 0,
             "ticks": ""
            },
            "type": "mesh3d"
           }
          ],
          "parcoords": [
           {
            "line": {
             "colorbar": {
              "outlinewidth": 0,
              "ticks": ""
             }
            },
            "type": "parcoords"
           }
          ],
          "pie": [
           {
            "automargin": true,
            "type": "pie"
           }
          ],
          "scatter": [
           {
            "marker": {
             "colorbar": {
              "outlinewidth": 0,
              "ticks": ""
             }
            },
            "type": "scatter"
           }
          ],
          "scatter3d": [
           {
            "line": {
             "colorbar": {
              "outlinewidth": 0,
              "ticks": ""
             }
            },
            "marker": {
             "colorbar": {
              "outlinewidth": 0,
              "ticks": ""
             }
            },
            "type": "scatter3d"
           }
          ],
          "scattercarpet": [
           {
            "marker": {
             "colorbar": {
              "outlinewidth": 0,
              "ticks": ""
             }
            },
            "type": "scattercarpet"
           }
          ],
          "scattergeo": [
           {
            "marker": {
             "colorbar": {
              "outlinewidth": 0,
              "ticks": ""
             }
            },
            "type": "scattergeo"
           }
          ],
          "scattergl": [
           {
            "marker": {
             "colorbar": {
              "outlinewidth": 0,
              "ticks": ""
             }
            },
            "type": "scattergl"
           }
          ],
          "scattermapbox": [
           {
            "marker": {
             "colorbar": {
              "outlinewidth": 0,
              "ticks": ""
             }
            },
            "type": "scattermapbox"
           }
          ],
          "scatterpolar": [
           {
            "marker": {
             "colorbar": {
              "outlinewidth": 0,
              "ticks": ""
             }
            },
            "type": "scatterpolar"
           }
          ],
          "scatterpolargl": [
           {
            "marker": {
             "colorbar": {
              "outlinewidth": 0,
              "ticks": ""
             }
            },
            "type": "scatterpolargl"
           }
          ],
          "scatterternary": [
           {
            "marker": {
             "colorbar": {
              "outlinewidth": 0,
              "ticks": ""
             }
            },
            "type": "scatterternary"
           }
          ],
          "surface": [
           {
            "colorbar": {
             "outlinewidth": 0,
             "ticks": ""
            },
            "colorscale": [
             [
              0,
              "#0d0887"
             ],
             [
              0.1111111111111111,
              "#46039f"
             ],
             [
              0.2222222222222222,
              "#7201a8"
             ],
             [
              0.3333333333333333,
              "#9c179e"
             ],
             [
              0.4444444444444444,
              "#bd3786"
             ],
             [
              0.5555555555555556,
              "#d8576b"
             ],
             [
              0.6666666666666666,
              "#ed7953"
             ],
             [
              0.7777777777777778,
              "#fb9f3a"
             ],
             [
              0.8888888888888888,
              "#fdca26"
             ],
             [
              1,
              "#f0f921"
             ]
            ],
            "type": "surface"
           }
          ],
          "table": [
           {
            "cells": {
             "fill": {
              "color": "#EBF0F8"
             },
             "line": {
              "color": "white"
             }
            },
            "header": {
             "fill": {
              "color": "#C8D4E3"
             },
             "line": {
              "color": "white"
             }
            },
            "type": "table"
           }
          ]
         },
         "layout": {
          "annotationdefaults": {
           "arrowcolor": "#2a3f5f",
           "arrowhead": 0,
           "arrowwidth": 1
          },
          "autotypenumbers": "strict",
          "coloraxis": {
           "colorbar": {
            "outlinewidth": 0,
            "ticks": ""
           }
          },
          "colorscale": {
           "diverging": [
            [
             0,
             "#8e0152"
            ],
            [
             0.1,
             "#c51b7d"
            ],
            [
             0.2,
             "#de77ae"
            ],
            [
             0.3,
             "#f1b6da"
            ],
            [
             0.4,
             "#fde0ef"
            ],
            [
             0.5,
             "#f7f7f7"
            ],
            [
             0.6,
             "#e6f5d0"
            ],
            [
             0.7,
             "#b8e186"
            ],
            [
             0.8,
             "#7fbc41"
            ],
            [
             0.9,
             "#4d9221"
            ],
            [
             1,
             "#276419"
            ]
           ],
           "sequential": [
            [
             0,
             "#0d0887"
            ],
            [
             0.1111111111111111,
             "#46039f"
            ],
            [
             0.2222222222222222,
             "#7201a8"
            ],
            [
             0.3333333333333333,
             "#9c179e"
            ],
            [
             0.4444444444444444,
             "#bd3786"
            ],
            [
             0.5555555555555556,
             "#d8576b"
            ],
            [
             0.6666666666666666,
             "#ed7953"
            ],
            [
             0.7777777777777778,
             "#fb9f3a"
            ],
            [
             0.8888888888888888,
             "#fdca26"
            ],
            [
             1,
             "#f0f921"
            ]
           ],
           "sequentialminus": [
            [
             0,
             "#0d0887"
            ],
            [
             0.1111111111111111,
             "#46039f"
            ],
            [
             0.2222222222222222,
             "#7201a8"
            ],
            [
             0.3333333333333333,
             "#9c179e"
            ],
            [
             0.4444444444444444,
             "#bd3786"
            ],
            [
             0.5555555555555556,
             "#d8576b"
            ],
            [
             0.6666666666666666,
             "#ed7953"
            ],
            [
             0.7777777777777778,
             "#fb9f3a"
            ],
            [
             0.8888888888888888,
             "#fdca26"
            ],
            [
             1,
             "#f0f921"
            ]
           ]
          },
          "colorway": [
           "#636efa",
           "#EF553B",
           "#00cc96",
           "#ab63fa",
           "#FFA15A",
           "#19d3f3",
           "#FF6692",
           "#B6E880",
           "#FF97FF",
           "#FECB52"
          ],
          "font": {
           "color": "#2a3f5f"
          },
          "geo": {
           "bgcolor": "white",
           "lakecolor": "white",
           "landcolor": "#E5ECF6",
           "showlakes": true,
           "showland": true,
           "subunitcolor": "white"
          },
          "hoverlabel": {
           "align": "left"
          },
          "hovermode": "closest",
          "mapbox": {
           "style": "light"
          },
          "paper_bgcolor": "white",
          "plot_bgcolor": "#E5ECF6",
          "polar": {
           "angularaxis": {
            "gridcolor": "white",
            "linecolor": "white",
            "ticks": ""
           },
           "bgcolor": "#E5ECF6",
           "radialaxis": {
            "gridcolor": "white",
            "linecolor": "white",
            "ticks": ""
           }
          },
          "scene": {
           "xaxis": {
            "backgroundcolor": "#E5ECF6",
            "gridcolor": "white",
            "gridwidth": 2,
            "linecolor": "white",
            "showbackground": true,
            "ticks": "",
            "zerolinecolor": "white"
           },
           "yaxis": {
            "backgroundcolor": "#E5ECF6",
            "gridcolor": "white",
            "gridwidth": 2,
            "linecolor": "white",
            "showbackground": true,
            "ticks": "",
            "zerolinecolor": "white"
           },
           "zaxis": {
            "backgroundcolor": "#E5ECF6",
            "gridcolor": "white",
            "gridwidth": 2,
            "linecolor": "white",
            "showbackground": true,
            "ticks": "",
            "zerolinecolor": "white"
           }
          },
          "shapedefaults": {
           "line": {
            "color": "#2a3f5f"
           }
          },
          "ternary": {
           "aaxis": {
            "gridcolor": "white",
            "linecolor": "white",
            "ticks": ""
           },
           "baxis": {
            "gridcolor": "white",
            "linecolor": "white",
            "ticks": ""
           },
           "bgcolor": "#E5ECF6",
           "caxis": {
            "gridcolor": "white",
            "linecolor": "white",
            "ticks": ""
           }
          },
          "title": {
           "x": 0.05
          },
          "xaxis": {
           "automargin": true,
           "gridcolor": "white",
           "linecolor": "white",
           "ticks": "",
           "title": {
            "standoff": 15
           },
           "zerolinecolor": "white",
           "zerolinewidth": 2
          },
          "yaxis": {
           "automargin": true,
           "gridcolor": "white",
           "linecolor": "white",
           "ticks": "",
           "title": {
            "standoff": 15
           },
           "zerolinecolor": "white",
           "zerolinewidth": 2
          }
         }
        },
        "title": {
         "text": "Jobs Location",
         "x": 0.5
        }
       }
      },
      "text/html": [
       "<div>                            <div id=\"452f229f-5959-457d-b6cb-7b5598a3981e\" class=\"plotly-graph-div\" style=\"height:525px; width:100%;\"></div>            <script type=\"text/javascript\">                require([\"plotly\"], function(Plotly) {                    window.PLOTLYENV=window.PLOTLYENV || {};                                    if (document.getElementById(\"452f229f-5959-457d-b6cb-7b5598a3981e\")) {                    Plotly.newPlot(                        \"452f229f-5959-457d-b6cb-7b5598a3981e\",                        [{\"geo\": \"geo\", \"hovertemplate\": \"<b>%{hovertext}</b><br><br>city=Cairo<br>latitude=%{lat}<br>longitude=%{lon}<extra></extra>\", \"hovertext\": [\"Cairo\", \"Cairo\", \"Cairo\", \"Cairo\", \"Cairo\", \"Cairo\", \"Cairo\", \"Cairo\", \"Cairo\", \"Cairo\", \"Cairo\", \"Cairo\", \"Cairo\", \"Cairo\", \"Cairo\", \"Cairo\", \"Cairo\", \"Cairo\", \"Cairo\", \"Cairo\", \"Cairo\", \"Cairo\", \"Cairo\", \"Cairo\", \"Cairo\", \"Cairo\", \"Cairo\", \"Cairo\", \"Cairo\", \"Cairo\", \"Cairo\", \"Cairo\", \"Cairo\", \"Cairo\", \"Cairo\", \"Cairo\", \"Cairo\", \"Cairo\", \"Cairo\", \"Cairo\", \"Cairo\", \"Cairo\", \"Cairo\", \"Cairo\", \"Cairo\", \"Cairo\", \"Cairo\", \"Cairo\", \"Cairo\", \"Cairo\"], \"lat\": [30.0443879, 30.0443879, 30.0443879, 30.0443879, 30.0443879, 30.0443879, 30.0443879, 30.0443879, 30.0443879, 30.0443879, 30.0443879, 30.0443879, 30.0443879, 30.0443879, 30.0443879, 30.0443879, 30.0443879, 30.0443879, 30.0443879, 30.0443879, 30.0443879, 30.0443879, 30.0443879, 30.0443879, 30.0443879, 30.0443879, 30.0443879, 30.0443879, 30.0443879, 30.0443879, 30.0443879, 30.0443879, 30.0443879, 30.0443879, 30.0443879, 30.0443879, 30.0443879, 30.0443879, 30.0443879, 30.0443879, 30.0443879, 30.0443879, 30.0443879, 30.0443879, 30.0443879, 30.0443879, 30.0443879, 30.0443879, 30.0443879, 30.0443879], \"legendgroup\": \"Cairo\", \"lon\": [31.2357257, 31.2357257, 31.2357257, 31.2357257, 31.2357257, 31.2357257, 31.2357257, 31.2357257, 31.2357257, 31.2357257, 31.2357257, 31.2357257, 31.2357257, 31.2357257, 31.2357257, 31.2357257, 31.2357257, 31.2357257, 31.2357257, 31.2357257, 31.2357257, 31.2357257, 31.2357257, 31.2357257, 31.2357257, 31.2357257, 31.2357257, 31.2357257, 31.2357257, 31.2357257, 31.2357257, 31.2357257, 31.2357257, 31.2357257, 31.2357257, 31.2357257, 31.2357257, 31.2357257, 31.2357257, 31.2357257, 31.2357257, 31.2357257, 31.2357257, 31.2357257, 31.2357257, 31.2357257, 31.2357257, 31.2357257, 31.2357257, 31.2357257], \"marker\": {\"color\": \"#636efa\", \"symbol\": \"circle\"}, \"mode\": \"markers\", \"name\": \"Cairo\", \"showlegend\": true, \"type\": \"scattergeo\"}, {\"geo\": \"geo\", \"hovertemplate\": \"<b>%{hovertext}</b><br><br>city=Giza<br>latitude=%{lat}<br>longitude=%{lon}<extra></extra>\", \"hovertext\": [\"Giza\", \"Giza\", \"Giza\", \"Giza\"], \"lat\": [29.9870753, 29.9870753, 29.9870753, 29.9870753], \"legendgroup\": \"Giza\", \"lon\": [31.2118063, 31.2118063, 31.2118063, 31.2118063], \"marker\": {\"color\": \"#EF553B\", \"symbol\": \"circle\"}, \"mode\": \"markers\", \"name\": \"Giza\", \"showlegend\": true, \"type\": \"scattergeo\"}, {\"geo\": \"geo\", \"hovertemplate\": \"<b>%{hovertext}</b><br><br>city=Alexandria<br>latitude=%{lat}<br>longitude=%{lon}<extra></extra>\", \"hovertext\": [\"Alexandria\"], \"lat\": [31.199004], \"legendgroup\": \"Alexandria\", \"lon\": [29.894378], \"marker\": {\"color\": \"#00cc96\", \"symbol\": \"circle\"}, \"mode\": \"markers\", \"name\": \"Alexandria\", \"showlegend\": true, \"type\": \"scattergeo\"}],                        {\"geo\": {\"center\": {}, \"domain\": {\"x\": [0.0, 1.0], \"y\": [0.0, 1.0]}}, \"legend\": {\"title\": {\"text\": \"city\"}, \"tracegroupgap\": 0}, \"margin\": {\"t\": 60}, \"template\": {\"data\": {\"bar\": [{\"error_x\": {\"color\": \"#2a3f5f\"}, \"error_y\": {\"color\": \"#2a3f5f\"}, \"marker\": {\"line\": {\"color\": \"#E5ECF6\", \"width\": 0.5}}, \"type\": \"bar\"}], \"barpolar\": [{\"marker\": {\"line\": {\"color\": \"#E5ECF6\", \"width\": 0.5}}, \"type\": \"barpolar\"}], \"carpet\": [{\"aaxis\": {\"endlinecolor\": \"#2a3f5f\", \"gridcolor\": \"white\", \"linecolor\": \"white\", \"minorgridcolor\": \"white\", \"startlinecolor\": \"#2a3f5f\"}, \"baxis\": {\"endlinecolor\": \"#2a3f5f\", \"gridcolor\": \"white\", \"linecolor\": \"white\", \"minorgridcolor\": \"white\", \"startlinecolor\": \"#2a3f5f\"}, \"type\": \"carpet\"}], \"choropleth\": [{\"colorbar\": {\"outlinewidth\": 0, \"ticks\": \"\"}, \"type\": \"choropleth\"}], \"contour\": [{\"colorbar\": {\"outlinewidth\": 0, \"ticks\": \"\"}, \"colorscale\": [[0.0, \"#0d0887\"], [0.1111111111111111, \"#46039f\"], [0.2222222222222222, \"#7201a8\"], [0.3333333333333333, \"#9c179e\"], [0.4444444444444444, \"#bd3786\"], [0.5555555555555556, \"#d8576b\"], [0.6666666666666666, \"#ed7953\"], [0.7777777777777778, \"#fb9f3a\"], [0.8888888888888888, \"#fdca26\"], [1.0, \"#f0f921\"]], \"type\": \"contour\"}], \"contourcarpet\": [{\"colorbar\": {\"outlinewidth\": 0, \"ticks\": \"\"}, \"type\": \"contourcarpet\"}], \"heatmap\": [{\"colorbar\": {\"outlinewidth\": 0, \"ticks\": \"\"}, \"colorscale\": [[0.0, \"#0d0887\"], [0.1111111111111111, \"#46039f\"], [0.2222222222222222, \"#7201a8\"], [0.3333333333333333, \"#9c179e\"], [0.4444444444444444, \"#bd3786\"], [0.5555555555555556, \"#d8576b\"], [0.6666666666666666, \"#ed7953\"], [0.7777777777777778, \"#fb9f3a\"], [0.8888888888888888, \"#fdca26\"], [1.0, \"#f0f921\"]], \"type\": \"heatmap\"}], \"heatmapgl\": [{\"colorbar\": {\"outlinewidth\": 0, \"ticks\": \"\"}, \"colorscale\": [[0.0, \"#0d0887\"], [0.1111111111111111, \"#46039f\"], [0.2222222222222222, \"#7201a8\"], [0.3333333333333333, \"#9c179e\"], [0.4444444444444444, \"#bd3786\"], [0.5555555555555556, \"#d8576b\"], [0.6666666666666666, \"#ed7953\"], [0.7777777777777778, \"#fb9f3a\"], [0.8888888888888888, \"#fdca26\"], [1.0, \"#f0f921\"]], \"type\": \"heatmapgl\"}], \"histogram\": [{\"marker\": {\"colorbar\": {\"outlinewidth\": 0, \"ticks\": \"\"}}, \"type\": \"histogram\"}], \"histogram2d\": [{\"colorbar\": {\"outlinewidth\": 0, \"ticks\": \"\"}, \"colorscale\": [[0.0, \"#0d0887\"], [0.1111111111111111, \"#46039f\"], [0.2222222222222222, \"#7201a8\"], [0.3333333333333333, \"#9c179e\"], [0.4444444444444444, \"#bd3786\"], [0.5555555555555556, \"#d8576b\"], [0.6666666666666666, \"#ed7953\"], [0.7777777777777778, \"#fb9f3a\"], [0.8888888888888888, \"#fdca26\"], [1.0, \"#f0f921\"]], \"type\": \"histogram2d\"}], \"histogram2dcontour\": [{\"colorbar\": {\"outlinewidth\": 0, \"ticks\": \"\"}, \"colorscale\": [[0.0, \"#0d0887\"], [0.1111111111111111, \"#46039f\"], [0.2222222222222222, \"#7201a8\"], [0.3333333333333333, \"#9c179e\"], [0.4444444444444444, \"#bd3786\"], [0.5555555555555556, \"#d8576b\"], [0.6666666666666666, \"#ed7953\"], [0.7777777777777778, \"#fb9f3a\"], [0.8888888888888888, \"#fdca26\"], [1.0, \"#f0f921\"]], \"type\": \"histogram2dcontour\"}], \"mesh3d\": [{\"colorbar\": {\"outlinewidth\": 0, \"ticks\": \"\"}, \"type\": \"mesh3d\"}], \"parcoords\": [{\"line\": {\"colorbar\": {\"outlinewidth\": 0, \"ticks\": \"\"}}, \"type\": \"parcoords\"}], \"pie\": [{\"automargin\": true, \"type\": \"pie\"}], \"scatter\": [{\"marker\": {\"colorbar\": {\"outlinewidth\": 0, \"ticks\": \"\"}}, \"type\": \"scatter\"}], \"scatter3d\": [{\"line\": {\"colorbar\": {\"outlinewidth\": 0, \"ticks\": \"\"}}, \"marker\": {\"colorbar\": {\"outlinewidth\": 0, \"ticks\": \"\"}}, \"type\": \"scatter3d\"}], \"scattercarpet\": [{\"marker\": {\"colorbar\": {\"outlinewidth\": 0, \"ticks\": \"\"}}, \"type\": \"scattercarpet\"}], \"scattergeo\": [{\"marker\": {\"colorbar\": {\"outlinewidth\": 0, \"ticks\": \"\"}}, \"type\": \"scattergeo\"}], \"scattergl\": [{\"marker\": {\"colorbar\": {\"outlinewidth\": 0, \"ticks\": \"\"}}, \"type\": \"scattergl\"}], \"scattermapbox\": [{\"marker\": {\"colorbar\": {\"outlinewidth\": 0, \"ticks\": \"\"}}, \"type\": \"scattermapbox\"}], \"scatterpolar\": [{\"marker\": {\"colorbar\": {\"outlinewidth\": 0, \"ticks\": \"\"}}, \"type\": \"scatterpolar\"}], \"scatterpolargl\": [{\"marker\": {\"colorbar\": {\"outlinewidth\": 0, \"ticks\": \"\"}}, \"type\": \"scatterpolargl\"}], \"scatterternary\": [{\"marker\": {\"colorbar\": {\"outlinewidth\": 0, \"ticks\": \"\"}}, \"type\": \"scatterternary\"}], \"surface\": [{\"colorbar\": {\"outlinewidth\": 0, \"ticks\": \"\"}, \"colorscale\": [[0.0, \"#0d0887\"], [0.1111111111111111, \"#46039f\"], [0.2222222222222222, \"#7201a8\"], [0.3333333333333333, \"#9c179e\"], [0.4444444444444444, \"#bd3786\"], [0.5555555555555556, \"#d8576b\"], [0.6666666666666666, \"#ed7953\"], [0.7777777777777778, \"#fb9f3a\"], [0.8888888888888888, \"#fdca26\"], [1.0, \"#f0f921\"]], \"type\": \"surface\"}], \"table\": [{\"cells\": {\"fill\": {\"color\": \"#EBF0F8\"}, \"line\": {\"color\": \"white\"}}, \"header\": {\"fill\": {\"color\": \"#C8D4E3\"}, \"line\": {\"color\": \"white\"}}, \"type\": \"table\"}]}, \"layout\": {\"annotationdefaults\": {\"arrowcolor\": \"#2a3f5f\", \"arrowhead\": 0, \"arrowwidth\": 1}, \"autotypenumbers\": \"strict\", \"coloraxis\": {\"colorbar\": {\"outlinewidth\": 0, \"ticks\": \"\"}}, \"colorscale\": {\"diverging\": [[0, \"#8e0152\"], [0.1, \"#c51b7d\"], [0.2, \"#de77ae\"], [0.3, \"#f1b6da\"], [0.4, \"#fde0ef\"], [0.5, \"#f7f7f7\"], [0.6, \"#e6f5d0\"], [0.7, \"#b8e186\"], [0.8, \"#7fbc41\"], [0.9, \"#4d9221\"], [1, \"#276419\"]], \"sequential\": [[0.0, \"#0d0887\"], [0.1111111111111111, \"#46039f\"], [0.2222222222222222, \"#7201a8\"], [0.3333333333333333, \"#9c179e\"], [0.4444444444444444, \"#bd3786\"], [0.5555555555555556, \"#d8576b\"], [0.6666666666666666, \"#ed7953\"], [0.7777777777777778, \"#fb9f3a\"], [0.8888888888888888, \"#fdca26\"], [1.0, \"#f0f921\"]], \"sequentialminus\": [[0.0, \"#0d0887\"], [0.1111111111111111, \"#46039f\"], [0.2222222222222222, \"#7201a8\"], [0.3333333333333333, \"#9c179e\"], [0.4444444444444444, \"#bd3786\"], [0.5555555555555556, \"#d8576b\"], [0.6666666666666666, \"#ed7953\"], [0.7777777777777778, \"#fb9f3a\"], [0.8888888888888888, \"#fdca26\"], [1.0, \"#f0f921\"]]}, \"colorway\": [\"#636efa\", \"#EF553B\", \"#00cc96\", \"#ab63fa\", \"#FFA15A\", \"#19d3f3\", \"#FF6692\", \"#B6E880\", \"#FF97FF\", \"#FECB52\"], \"font\": {\"color\": \"#2a3f5f\"}, \"geo\": {\"bgcolor\": \"white\", \"lakecolor\": \"white\", \"landcolor\": \"#E5ECF6\", \"showlakes\": true, \"showland\": true, \"subunitcolor\": \"white\"}, \"hoverlabel\": {\"align\": \"left\"}, \"hovermode\": \"closest\", \"mapbox\": {\"style\": \"light\"}, \"paper_bgcolor\": \"white\", \"plot_bgcolor\": \"#E5ECF6\", \"polar\": {\"angularaxis\": {\"gridcolor\": \"white\", \"linecolor\": \"white\", \"ticks\": \"\"}, \"bgcolor\": \"#E5ECF6\", \"radialaxis\": {\"gridcolor\": \"white\", \"linecolor\": \"white\", \"ticks\": \"\"}}, \"scene\": {\"xaxis\": {\"backgroundcolor\": \"#E5ECF6\", \"gridcolor\": \"white\", \"gridwidth\": 2, \"linecolor\": \"white\", \"showbackground\": true, \"ticks\": \"\", \"zerolinecolor\": \"white\"}, \"yaxis\": {\"backgroundcolor\": \"#E5ECF6\", \"gridcolor\": \"white\", \"gridwidth\": 2, \"linecolor\": \"white\", \"showbackground\": true, \"ticks\": \"\", \"zerolinecolor\": \"white\"}, \"zaxis\": {\"backgroundcolor\": \"#E5ECF6\", \"gridcolor\": \"white\", \"gridwidth\": 2, \"linecolor\": \"white\", \"showbackground\": true, \"ticks\": \"\", \"zerolinecolor\": \"white\"}}, \"shapedefaults\": {\"line\": {\"color\": \"#2a3f5f\"}}, \"ternary\": {\"aaxis\": {\"gridcolor\": \"white\", \"linecolor\": \"white\", \"ticks\": \"\"}, \"baxis\": {\"gridcolor\": \"white\", \"linecolor\": \"white\", \"ticks\": \"\"}, \"bgcolor\": \"#E5ECF6\", \"caxis\": {\"gridcolor\": \"white\", \"linecolor\": \"white\", \"ticks\": \"\"}}, \"title\": {\"x\": 0.05}, \"xaxis\": {\"automargin\": true, \"gridcolor\": \"white\", \"linecolor\": \"white\", \"ticks\": \"\", \"title\": {\"standoff\": 15}, \"zerolinecolor\": \"white\", \"zerolinewidth\": 2}, \"yaxis\": {\"automargin\": true, \"gridcolor\": \"white\", \"linecolor\": \"white\", \"ticks\": \"\", \"title\": {\"standoff\": 15}, \"zerolinecolor\": \"white\", \"zerolinewidth\": 2}}}, \"title\": {\"text\": \"Jobs Location\", \"x\": 0.5}},                        {\"responsive\": true}                    ).then(function(){\n",
       "                            \n",
       "var gd = document.getElementById('452f229f-5959-457d-b6cb-7b5598a3981e');\n",
       "var x = new MutationObserver(function (mutations, observer) {{\n",
       "        var display = window.getComputedStyle(gd).display;\n",
       "        if (!display || display === 'none') {{\n",
       "            console.log([gd, 'removed!']);\n",
       "            Plotly.purge(gd);\n",
       "            observer.disconnect();\n",
       "        }}\n",
       "}});\n",
       "\n",
       "// Listen for the removal of the full notebook cells\n",
       "var notebookContainer = gd.closest('#notebook-container');\n",
       "if (notebookContainer) {{\n",
       "    x.observe(notebookContainer, {childList: true});\n",
       "}}\n",
       "\n",
       "// Listen for the clearing of the current output cell\n",
       "var outputEl = gd.closest('.output');\n",
       "if (outputEl) {{\n",
       "    x.observe(outputEl, {childList: true});\n",
       "}}\n",
       "\n",
       "                        })                };                });            </script>        </div>"
      ]
     },
     "metadata": {},
     "output_type": "display_data"
    }
   ],
   "source": [
    "fig = px.scatter_geo(df, lat='latitude',\n",
    "              lon='longitude', \n",
    "              hover_name='city',\n",
    "              color='city',\n",
    "                    )\n",
    "fig.update_layout(title = 'Jobs Location', title_x=0.5)"
   ]
  },
  {
   "cell_type": "code",
   "execution_count": 308,
   "metadata": {},
   "outputs": [
    {
     "data": {
      "text/plain": [
       "Index(['title', 'company_name', 'job_description', 'job_requirments',\n",
       "       'location', 'location_edited', 'city', 'latitude', 'longitude'],\n",
       "      dtype='object')"
      ]
     },
     "execution_count": 308,
     "metadata": {},
     "output_type": "execute_result"
    }
   ],
   "source": [
    "df.columns"
   ]
  },
  {
   "cell_type": "code",
   "execution_count": 329,
   "metadata": {},
   "outputs": [
    {
     "data": {
      "text/plain": [
       "Text(0.5, 1.0, 'City')"
      ]
     },
     "execution_count": 329,
     "metadata": {},
     "output_type": "execute_result"
    },
    {
     "data": {
      "image/png": "[encoded data removed]",
      "text/plain": [
       "<Figure size 720x432 with 1 Axes>"
      ]
     },
     "metadata": {},
     "output_type": "display_data"
    }
   ],
   "source": [
    "df['city'].value_counts().plot.pie(autopct='%1.1f%%');\n",
    "plt.title('City')"
   ]
  },
  {
   "cell_type": "code",
   "execution_count": 332,
   "metadata": {},
   "outputs": [
    {
     "data": {
      "text/plain": [
       "Text(0.5, 1.0, 'Common Jobs')"
      ]
     },
     "execution_count": 332,
     "metadata": {},
     "output_type": "execute_result"
    },
    {
     "data": {
      "image/png": "[encoded data removed]",
      "text/plain": [
       "<Figure size 720x432 with 1 Axes>"
      ]
     },
     "metadata": {
      "needs_background": "light"
     },
     "output_type": "display_data"
    }
   ],
   "source": [
    "sns.countplot(data=data, y='title', order=data['title'].value_counts().index);\n",
    "plt.title('Common Jobs')"
   ]
  },
  {
   "cell_type": "code",
   "execution_count": null,
   "metadata": {},
   "outputs": [],
   "source": []
  },
  {
   "cell_type": "code",
   "execution_count": null,
   "metadata": {},
   "outputs": [],
   "source": []
  }
 ],
 "metadata": {
  "kernelspec": {
   "display_name": "Python 3",
   "language": "python",
   "name": "python3"
  },
  "language_info": {
   "codemirror_mode": {
    "name": "ipython",
    "version": 3
   },
   "file_extension": ".py",
   "mimetype": "text/x-python",
   "name": "python",
   "nbconvert_exporter": "python",
   "pygments_lexer": "ipython3",
   "version": "3.7.6"
  }
 },
 "nbformat": 4,
 "nbformat_minor": 4
}
