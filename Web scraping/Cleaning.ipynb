{
 "cells": [
  {
   "cell_type": "code",
   "execution_count": 1,
   "metadata": {},
   "outputs": [],
   "source": [
    "import numpy as np\n",
    "import pandas as pd\n",
    "import re"
   ]
  },
  {
   "cell_type": "code",
   "execution_count": 2,
   "metadata": {},
   "outputs": [
    {
     "data": {
      "text/html": [
       "<div>\n",
       "<style scoped>\n",
       "    .dataframe tbody tr th:only-of-type {\n",
       "        vertical-align: middle;\n",
       "    }\n",
       "\n",
       "    .dataframe tbody tr th {\n",
       "        vertical-align: top;\n",
       "    }\n",
       "\n",
       "    .dataframe thead th {\n",
       "        text-align: right;\n",
       "    }\n",
       "</style>\n",
       "<table border=\"1\" class=\"dataframe\">\n",
       "  <thead>\n",
       "    <tr style=\"text-align: right;\">\n",
       "      <th></th>\n",
       "      <th>title</th>\n",
       "      <th>company_name</th>\n",
       "      <th>job_description</th>\n",
       "      <th>job_requirments</th>\n",
       "      <th>location</th>\n",
       "    </tr>\n",
       "  </thead>\n",
       "  <tbody>\n",
       "    <tr>\n",
       "      <th>0</th>\n",
       "      <td>Data &amp; BI Analyst</td>\n",
       "      <td>Klivvr</td>\n",
       "      <td>['We put our visionaries first. ', 'We strive ...</td>\n",
       "      <td>['Identifying data sources', 'Analyzing data, ...</td>\n",
       "      <td>القاهرة قسم الزمالك مصر</td>\n",
       "    </tr>\n",
       "    <tr>\n",
       "      <th>1</th>\n",
       "      <td>Data Analyst</td>\n",
       "      <td>Axis</td>\n",
       "      <td>['Interpreting marketing data, analyzing resul...</td>\n",
       "      <td>['Developing &amp; implementing databases, data co...</td>\n",
       "      <td>القاهرة القاهرة مصر</td>\n",
       "    </tr>\n",
       "    <tr>\n",
       "      <th>2</th>\n",
       "      <td>Data Analyst</td>\n",
       "      <td>Cornerstone Recruitment MENA</td>\n",
       "      <td>['\\n\\n            مستوى الأقدمية\\n          \\n...</td>\n",
       "      <td>['\\nLinkedIn\\n\\n© 2022\\n', '\\n\\n          \\n  ...</td>\n",
       "      <td>القاهرة مصر</td>\n",
       "    </tr>\n",
       "    <tr>\n",
       "      <th>3</th>\n",
       "      <td>Fresh Graduates 2021/2022</td>\n",
       "      <td>Arab Bank</td>\n",
       "      <td>['\\n\\n            مستوى الأقدمية\\n          \\n...</td>\n",
       "      <td>['\\nLinkedIn\\n\\n© 2022\\n', '\\n\\n          \\n  ...</td>\n",
       "      <td>القاهرة مصر</td>\n",
       "    </tr>\n",
       "    <tr>\n",
       "      <th>4</th>\n",
       "      <td>Reporting and Data Analyst</td>\n",
       "      <td>Property Finder</td>\n",
       "      <td>['The ideal candidate will use their passion f...</td>\n",
       "      <td>['Graduated from Computer Science or Engineeri...</td>\n",
       "      <td>مصر</td>\n",
       "    </tr>\n",
       "  </tbody>\n",
       "</table>\n",
       "</div>"
      ],
      "text/plain": [
       "                        title                  company_name  \\\n",
       "0           Data & BI Analyst                        Klivvr   \n",
       "1                Data Analyst                          Axis   \n",
       "2                Data Analyst  Cornerstone Recruitment MENA   \n",
       "3   Fresh Graduates 2021/2022                     Arab Bank   \n",
       "4  Reporting and Data Analyst               Property Finder   \n",
       "\n",
       "                                     job_description  \\\n",
       "0  ['We put our visionaries first. ', 'We strive ...   \n",
       "1  ['Interpreting marketing data, analyzing resul...   \n",
       "2  ['\\n\\n            مستوى الأقدمية\\n          \\n...   \n",
       "3  ['\\n\\n            مستوى الأقدمية\\n          \\n...   \n",
       "4  ['The ideal candidate will use their passion f...   \n",
       "\n",
       "                                     job_requirments                 location  \n",
       "0  ['Identifying data sources', 'Analyzing data, ...  القاهرة قسم الزمالك مصر  \n",
       "1  ['Developing & implementing databases, data co...      القاهرة القاهرة مصر  \n",
       "2  ['\\nLinkedIn\\n\\n© 2022\\n', '\\n\\n          \\n  ...              القاهرة مصر  \n",
       "3  ['\\nLinkedIn\\n\\n© 2022\\n', '\\n\\n          \\n  ...              القاهرة مصر  \n",
       "4  ['Graduated from Computer Science or Engineeri...                      مصر  "
      ]
     },
     "execution_count": 2,
     "metadata": {},
     "output_type": "execute_result"
    }
   ],
   "source": [
    "data = pd.read_csv(r'C:\\Users\\habiba\\Documents\\SIC\\Tasks & Soluation\\23 - Web scraping\\data\\all-data.csv')\n",
    "data.head()"
   ]
  },
  {
   "cell_type": "code",
   "execution_count": 3,
   "metadata": {},
   "outputs": [
    {
     "data": {
      "text/plain": [
       "array(['Data & BI Analyst', 'Data Analyst', 'Fresh Graduates 2021/2022',\n",
       "       'Reporting and Data Analyst', 'Business Analyst',\n",
       "       'Data Analyst-Fintech', 'Senior Data Analyst', 'Data Scientist',\n",
       "       'Head of Data Analytics - Cairo - Egypt',\n",
       "       'corporate strategy business analyst ',\n",
       "       'Discover Graduate Program - Business Intelligence',\n",
       "       'Pricing Analyst',\n",
       "       'Marsh MENA Graduate Development Program - Egypt',\n",
       "       'Senior / Managing Business Consultant', 'AI Engineer',\n",
       "       'Business Research Analyst', 'Product Management Specialist',\n",
       "       'Saudi Arabia Government Affairs Officer ', 'Data Engineer',\n",
       "       'CRM Retail Officer (Digital Banking & Marketing Division)',\n",
       "       'Software Business Analyst', 'Data Science Specialist',\n",
       "       'Python Developer For sports statistics ',\n",
       "       'AI Programming with Python',\n",
       "       'Machine Learning & Data Analysis Graduate Intern',\n",
       "       'Remote Python Developer Jobs',\n",
       "       'Software Engineer Graduate Intern',\n",
       "       'Python Developer with ERPNext and Frappe Experience',\n",
       "       'Machine Learning Engineer',\n",
       "       'Algorithm Development System Engineer',\n",
       "       'AI/ML (Artificial Intelligence/Machine Learning) Lead',\n",
       "       '5G Senior Data Scientist',\n",
       "       'GRADUATE SOFTWARE ENGINEER - Dubai, UAE',\n",
       "       'Remote Backend Python Developer (2) Jobs',\n",
       "       'Software Quality Assurance Tester', 'Software Testing Engineer',\n",
       "       'Software Manual Testing Engineer', 'Software QA Engineer',\n",
       "       'Senior Quality Assurance Engineer',\n",
       "       'Software Test Engineer | API Testing', 'Software Test Engineer',\n",
       "       'QA Software Testing', 'Software QA Engineer - (Remote Job)',\n",
       "       'Software Quality Engineer', 'Senior Software Testing Engineer',\n",
       "       'Software QC Engineer', 'QA Test Engineer',\n",
       "       'Junior Software Tester', 'Software Quality Assurance Engineer',\n",
       "       'Mid Tester', 'Senior Software Tester'], dtype=object)"
      ]
     },
     "execution_count": 3,
     "metadata": {},
     "output_type": "execute_result"
    }
   ],
   "source": [
    "data['title'].unique()"
   ]
  },
  {
   "cell_type": "markdown",
   "metadata": {},
   "source": [
    "> we can observe that the title column has no strange symbols"
   ]
  },
  {
   "cell_type": "code",
   "execution_count": 4,
   "metadata": {},
   "outputs": [
    {
     "data": {
      "text/plain": [
       "array(['Klivvr', 'Axis', 'Cornerstone Recruitment MENA', 'Arab Bank',\n",
       "       'Property Finder', 'OLX Egypt', 'Zoho', 'MoneyFellows', 'MaxAB',\n",
       "       'Floward', 'Vezeeta', 'Telecom Egypt', 'Vodafone', 'AXA', 'Marsh',\n",
       "       'Huawei', 'PaxeraHealth', 'Infomineo', 'Beko Global', 'Proven',\n",
       "       'Tagaddod', 'ALEXBANK', 'Koinz', 'NEXEL PARTNERS',\n",
       "       'Reliance Health', 'Fekra Egypt', 'Udacity', 'Si-Ware Systems',\n",
       "       'Turing.com', 'Dell Technologies', 'Idea ICT', 'Tribal', 'VOYɅNCE',\n",
       "       'Fugro', 'Arrow Electronics', 'Teradata', 'Cobblestone Energy',\n",
       "       'Nrsen Trading', 'Foodics', 'Khazna', 'Avelabs', 'Siemens', 'noon',\n",
       "       'Expleo Group', 'Educatly', 'TIS (Tech for Integrated Services)',\n",
       "       'Thales', 'Majid Al Futtaim', 'Dsquares', 'TechLabs London',\n",
       "       'Curenta', 'geidea', 'MVP Solutions', 'Rawaj-HCM'], dtype=object)"
      ]
     },
     "execution_count": 4,
     "metadata": {},
     "output_type": "execute_result"
    }
   ],
   "source": [
    "data['company_name'].unique()"
   ]
  },
  {
   "cell_type": "markdown",
   "metadata": {},
   "source": [
    "> Also the company name column is clean. (has no strange symbols)"
   ]
  },
  {
   "cell_type": "code",
   "execution_count": 5,
   "metadata": {},
   "outputs": [
    {
     "name": "stdout",
     "output_type": "stream",
     "text": [
      "['\\n\\n            مستوى الأقدمية\\n          \\n\\n            مستوى متوسط الأقدمية\\n          \\n', '\\n\\n          نوع التوظيف\\n        \\n\\n          دوام كامل\\n        \\n', '\\n\\n            المهام الوظيفية\\n          \\n\\n            تكنولوجيا المعلومات\\n          \\n', '\\n\\n            المجالات\\n          \\n\\n          الاستخدام والتوظيف\\n          \\n']\n",
      "-----------------------------------\n",
      "['\\n\\n            مستوى الأقدمية\\n          \\n\\n            مستوى المبتدئين\\n          \\n', '\\n\\n          نوع التوظيف\\n        \\n\\n          دوام كامل\\n        \\n', '\\n\\n            المهام الوظيفية\\n          \\n\\n            الإدارة، مالية، و خدمة العملاء\\n          \\n', '\\n\\n            المجالات\\n          \\n\\n          الأعمال المصرفية\\n          \\n']\n",
      "-----------------------------------\n"
     ]
    }
   ],
   "source": [
    "x = list(data['job_description'].unique())\n",
    "print(x[2], end='\\n-----------------------------------\\n')\n",
    "print(x[3], end='\\n-----------------------------------\\n')"
   ]
  },
  {
   "cell_type": "code",
   "execution_count": 6,
   "metadata": {},
   "outputs": [],
   "source": [
    "def cleaned_or_not(row_value, symbol):\n",
    "    if symbol in row_value:\n",
    "        return 'not_cleaned'\n",
    "    else:\n",
    "        return 'cleaned'"
   ]
  },
  {
   "cell_type": "code",
   "execution_count": 7,
   "metadata": {
    "scrolled": true
   },
   "outputs": [
    {
     "data": {
      "text/html": [
       "<div>\n",
       "<style scoped>\n",
       "    .dataframe tbody tr th:only-of-type {\n",
       "        vertical-align: middle;\n",
       "    }\n",
       "\n",
       "    .dataframe tbody tr th {\n",
       "        vertical-align: top;\n",
       "    }\n",
       "\n",
       "    .dataframe thead th {\n",
       "        text-align: right;\n",
       "    }\n",
       "</style>\n",
       "<table border=\"1\" class=\"dataframe\">\n",
       "  <thead>\n",
       "    <tr style=\"text-align: right;\">\n",
       "      <th></th>\n",
       "      <th>title</th>\n",
       "      <th>company_name</th>\n",
       "      <th>job_description</th>\n",
       "      <th>job_requirments</th>\n",
       "      <th>location</th>\n",
       "    </tr>\n",
       "  </thead>\n",
       "  <tbody>\n",
       "    <tr>\n",
       "      <th>2</th>\n",
       "      <td>Data Analyst</td>\n",
       "      <td>Cornerstone Recruitment MENA</td>\n",
       "      <td>['\\n\\n            مستوى الأقدمية\\n          \\n...</td>\n",
       "      <td>['\\nLinkedIn\\n\\n© 2022\\n', '\\n\\n          \\n  ...</td>\n",
       "      <td>القاهرة مصر</td>\n",
       "    </tr>\n",
       "    <tr>\n",
       "      <th>3</th>\n",
       "      <td>Fresh Graduates 2021/2022</td>\n",
       "      <td>Arab Bank</td>\n",
       "      <td>['\\n\\n            مستوى الأقدمية\\n          \\n...</td>\n",
       "      <td>['\\nLinkedIn\\n\\n© 2022\\n', '\\n\\n          \\n  ...</td>\n",
       "      <td>القاهرة مصر</td>\n",
       "    </tr>\n",
       "    <tr>\n",
       "      <th>14</th>\n",
       "      <td>Pricing Analyst</td>\n",
       "      <td>AXA</td>\n",
       "      <td>['\\n\\n            مستوى الأقدمية\\n          \\n...</td>\n",
       "      <td>['\\nLinkedIn\\n\\n© 2022\\n', '\\n\\n          \\n  ...</td>\n",
       "      <td>القاهرة مصر</td>\n",
       "    </tr>\n",
       "    <tr>\n",
       "      <th>16</th>\n",
       "      <td>Senior / Managing Business Consultant</td>\n",
       "      <td>Huawei</td>\n",
       "      <td>['\\n\\n            مستوى الأقدمية\\n          \\n...</td>\n",
       "      <td>['\\nLinkedIn\\n\\n© 2022\\n', '\\n\\n          \\n  ...</td>\n",
       "      <td>القاهرة مصر</td>\n",
       "    </tr>\n",
       "    <tr>\n",
       "      <th>20</th>\n",
       "      <td>Saudi Arabia Government Affairs Officer</td>\n",
       "      <td>Proven</td>\n",
       "      <td>['\\n\\n            مستوى الأقدمية\\n          \\n...</td>\n",
       "      <td>['\\nLinkedIn\\n\\n© 2022\\n', '\\n\\n          \\n  ...</td>\n",
       "      <td>القاهرة مصر</td>\n",
       "    </tr>\n",
       "    <tr>\n",
       "      <th>25</th>\n",
       "      <td>Data Science Specialist</td>\n",
       "      <td>NEXEL PARTNERS</td>\n",
       "      <td>['\\n\\n          نوع التوظيف\\n        \\n\\n     ...</td>\n",
       "      <td>['\\nLinkedIn\\n\\n© 2022\\n', '\\n\\n          \\n  ...</td>\n",
       "      <td>القاهرة مصر</td>\n",
       "    </tr>\n",
       "    <tr>\n",
       "      <th>38</th>\n",
       "      <td>Data Analyst</td>\n",
       "      <td>Cornerstone Recruitment MENA</td>\n",
       "      <td>['\\n\\n            مستوى الأقدمية\\n          \\n...</td>\n",
       "      <td>['\\nLinkedIn\\n\\n© 2022\\n', '\\n\\n          \\n  ...</td>\n",
       "      <td>القاهرة مصر</td>\n",
       "    </tr>\n",
       "  </tbody>\n",
       "</table>\n",
       "</div>"
      ],
      "text/plain": [
       "                                       title                  company_name  \\\n",
       "2                               Data Analyst  Cornerstone Recruitment MENA   \n",
       "3                  Fresh Graduates 2021/2022                     Arab Bank   \n",
       "14                           Pricing Analyst                           AXA   \n",
       "16     Senior / Managing Business Consultant                        Huawei   \n",
       "20  Saudi Arabia Government Affairs Officer                         Proven   \n",
       "25                   Data Science Specialist                NEXEL PARTNERS   \n",
       "38                              Data Analyst  Cornerstone Recruitment MENA   \n",
       "\n",
       "                                      job_description  \\\n",
       "2   ['\\n\\n            مستوى الأقدمية\\n          \\n...   \n",
       "3   ['\\n\\n            مستوى الأقدمية\\n          \\n...   \n",
       "14  ['\\n\\n            مستوى الأقدمية\\n          \\n...   \n",
       "16  ['\\n\\n            مستوى الأقدمية\\n          \\n...   \n",
       "20  ['\\n\\n            مستوى الأقدمية\\n          \\n...   \n",
       "25  ['\\n\\n          نوع التوظيف\\n        \\n\\n     ...   \n",
       "38  ['\\n\\n            مستوى الأقدمية\\n          \\n...   \n",
       "\n",
       "                                      job_requirments     location  \n",
       "2   ['\\nLinkedIn\\n\\n© 2022\\n', '\\n\\n          \\n  ...  القاهرة مصر  \n",
       "3   ['\\nLinkedIn\\n\\n© 2022\\n', '\\n\\n          \\n  ...  القاهرة مصر  \n",
       "14  ['\\nLinkedIn\\n\\n© 2022\\n', '\\n\\n          \\n  ...  القاهرة مصر  \n",
       "16  ['\\nLinkedIn\\n\\n© 2022\\n', '\\n\\n          \\n  ...  القاهرة مصر  \n",
       "20  ['\\nLinkedIn\\n\\n© 2022\\n', '\\n\\n          \\n  ...  القاهرة مصر  \n",
       "25  ['\\nLinkedIn\\n\\n© 2022\\n', '\\n\\n          \\n  ...  القاهرة مصر  \n",
       "38  ['\\nLinkedIn\\n\\n© 2022\\n', '\\n\\n          \\n  ...  القاهرة مصر  "
      ]
     },
     "execution_count": 7,
     "metadata": {},
     "output_type": "execute_result"
    }
   ],
   "source": [
    "del_rows = data[data['job_description'].apply(lambda i: cleaned_or_not(i, '\\\\n'))=='not_cleaned']\n",
    "del_rows"
   ]
  },
  {
   "cell_type": "markdown",
   "metadata": {},
   "source": [
    "> We can delete these rows because the job description and job_requirments are not clear, so I will delete them."
   ]
  },
  {
   "cell_type": "code",
   "execution_count": 8,
   "metadata": {},
   "outputs": [],
   "source": [
    "data.drop(index=del_rows.index, inplace=True)"
   ]
  },
  {
   "cell_type": "code",
   "execution_count": 9,
   "metadata": {},
   "outputs": [
    {
     "data": {
      "text/html": [
       "<div>\n",
       "<style scoped>\n",
       "    .dataframe tbody tr th:only-of-type {\n",
       "        vertical-align: middle;\n",
       "    }\n",
       "\n",
       "    .dataframe tbody tr th {\n",
       "        vertical-align: top;\n",
       "    }\n",
       "\n",
       "    .dataframe thead th {\n",
       "        text-align: right;\n",
       "    }\n",
       "</style>\n",
       "<table border=\"1\" class=\"dataframe\">\n",
       "  <thead>\n",
       "    <tr style=\"text-align: right;\">\n",
       "      <th></th>\n",
       "      <th>title</th>\n",
       "      <th>company_name</th>\n",
       "      <th>job_description</th>\n",
       "      <th>job_requirments</th>\n",
       "      <th>location</th>\n",
       "    </tr>\n",
       "  </thead>\n",
       "  <tbody>\n",
       "  </tbody>\n",
       "</table>\n",
       "</div>"
      ],
      "text/plain": [
       "Empty DataFrame\n",
       "Columns: [title, company_name, job_description, job_requirments, location]\n",
       "Index: []"
      ]
     },
     "execution_count": 9,
     "metadata": {},
     "output_type": "execute_result"
    }
   ],
   "source": [
    "data[data['job_description'].apply(lambda i: cleaned_or_not(i, '\\\\n'))=='not_cleaned']"
   ]
  },
  {
   "cell_type": "markdown",
   "metadata": {},
   "source": [
    "> Now, we have deleted the rows which have no meaning in job description"
   ]
  },
  {
   "cell_type": "code",
   "execution_count": 10,
   "metadata": {},
   "outputs": [
    {
     "data": {
      "text/html": [
       "<div>\n",
       "<style scoped>\n",
       "    .dataframe tbody tr th:only-of-type {\n",
       "        vertical-align: middle;\n",
       "    }\n",
       "\n",
       "    .dataframe tbody tr th {\n",
       "        vertical-align: top;\n",
       "    }\n",
       "\n",
       "    .dataframe thead th {\n",
       "        text-align: right;\n",
       "    }\n",
       "</style>\n",
       "<table border=\"1\" class=\"dataframe\">\n",
       "  <thead>\n",
       "    <tr style=\"text-align: right;\">\n",
       "      <th></th>\n",
       "      <th>title</th>\n",
       "      <th>company_name</th>\n",
       "      <th>job_description</th>\n",
       "      <th>job_requirments</th>\n",
       "      <th>location</th>\n",
       "    </tr>\n",
       "  </thead>\n",
       "  <tbody>\n",
       "    <tr>\n",
       "      <th>6</th>\n",
       "      <td>Business Analyst</td>\n",
       "      <td>Zoho</td>\n",
       "      <td>['Define and plan project milestones, phases a...</td>\n",
       "      <td>['\\n\\n            مستوى الأقدمية\\n          \\n...</td>\n",
       "      <td>القاهرة مصر</td>\n",
       "    </tr>\n",
       "    <tr>\n",
       "      <th>30</th>\n",
       "      <td>Machine Learning &amp; Data Analysis Graduate Intern</td>\n",
       "      <td>Si-Ware Systems</td>\n",
       "      <td>['Contribute to data analysis of NeoSpectra pr...</td>\n",
       "      <td>['\\n\\n            مستوى الأقدمية\\n          \\n...</td>\n",
       "      <td>القاهرة القاهرة مصر</td>\n",
       "    </tr>\n",
       "    <tr>\n",
       "      <th>40</th>\n",
       "      <td>Data Engineer</td>\n",
       "      <td>Fugro</td>\n",
       "      <td>['Possess a Bachelor’s Degrees Civil Engineeri...</td>\n",
       "      <td>['\\n\\n            مستوى الأقدمية\\n          \\n...</td>\n",
       "      <td>القاهرة القاهرة مصر</td>\n",
       "    </tr>\n",
       "    <tr>\n",
       "      <th>53</th>\n",
       "      <td>Software Testing Engineer</td>\n",
       "      <td>Avelabs</td>\n",
       "      <td>['Understand and analyze requirements includin...</td>\n",
       "      <td>['\\n\\n            مستوى الأقدمية\\n          \\n...</td>\n",
       "      <td>القاهرة قسم المعادي مصر</td>\n",
       "    </tr>\n",
       "  </tbody>\n",
       "</table>\n",
       "</div>"
      ],
      "text/plain": [
       "                                               title     company_name  \\\n",
       "6                                   Business Analyst             Zoho   \n",
       "30  Machine Learning & Data Analysis Graduate Intern  Si-Ware Systems   \n",
       "40                                     Data Engineer            Fugro   \n",
       "53                         Software Testing Engineer          Avelabs   \n",
       "\n",
       "                                      job_description  \\\n",
       "6   ['Define and plan project milestones, phases a...   \n",
       "30  ['Contribute to data analysis of NeoSpectra pr...   \n",
       "40  ['Possess a Bachelor’s Degrees Civil Engineeri...   \n",
       "53  ['Understand and analyze requirements includin...   \n",
       "\n",
       "                                      job_requirments                 location  \n",
       "6   ['\\n\\n            مستوى الأقدمية\\n          \\n...              القاهرة مصر  \n",
       "30  ['\\n\\n            مستوى الأقدمية\\n          \\n...      القاهرة القاهرة مصر  \n",
       "40  ['\\n\\n            مستوى الأقدمية\\n          \\n...      القاهرة القاهرة مصر  \n",
       "53  ['\\n\\n            مستوى الأقدمية\\n          \\n...  القاهرة قسم المعادي مصر  "
      ]
     },
     "execution_count": 10,
     "metadata": {},
     "output_type": "execute_result"
    }
   ],
   "source": [
    "replace_rows = data[data['job_requirments'].apply(lambda i: cleaned_or_not(i, '\\\\n'))=='not_cleaned']\n",
    "replace_rows"
   ]
  },
  {
   "cell_type": "code",
   "execution_count": 11,
   "metadata": {},
   "outputs": [],
   "source": [
    "# I will replace these rows because we have a clear job_description\n",
    "for i in replace_rows.index:\n",
    "    data.loc[i, 'job_requirments'] = 'not_found' "
   ]
  },
  {
   "cell_type": "code",
   "execution_count": 12,
   "metadata": {},
   "outputs": [
    {
     "data": {
      "text/html": [
       "<div>\n",
       "<style scoped>\n",
       "    .dataframe tbody tr th:only-of-type {\n",
       "        vertical-align: middle;\n",
       "    }\n",
       "\n",
       "    .dataframe tbody tr th {\n",
       "        vertical-align: top;\n",
       "    }\n",
       "\n",
       "    .dataframe thead th {\n",
       "        text-align: right;\n",
       "    }\n",
       "</style>\n",
       "<table border=\"1\" class=\"dataframe\">\n",
       "  <thead>\n",
       "    <tr style=\"text-align: right;\">\n",
       "      <th></th>\n",
       "      <th>title</th>\n",
       "      <th>company_name</th>\n",
       "      <th>job_description</th>\n",
       "      <th>job_requirments</th>\n",
       "      <th>location</th>\n",
       "    </tr>\n",
       "  </thead>\n",
       "  <tbody>\n",
       "  </tbody>\n",
       "</table>\n",
       "</div>"
      ],
      "text/plain": [
       "Empty DataFrame\n",
       "Columns: [title, company_name, job_description, job_requirments, location]\n",
       "Index: []"
      ]
     },
     "execution_count": 12,
     "metadata": {},
     "output_type": "execute_result"
    }
   ],
   "source": [
    "data[data['job_requirments'].apply(lambda i: cleaned_or_not(i, '\\\\n'))=='not_cleaned']"
   ]
  },
  {
   "cell_type": "markdown",
   "metadata": {},
   "source": [
    "##           "
   ]
  },
  {
   "cell_type": "code",
   "execution_count": 13,
   "metadata": {},
   "outputs": [],
   "source": [
    "pd.set_option('display.max_colwidth', None)"
   ]
  },
  {
   "cell_type": "code",
   "execution_count": 14,
   "metadata": {},
   "outputs": [],
   "source": [
    "# I want to see if there is a strange symbol to replace it.\n",
    "# i = 15\n",
    "# while i<25:\n",
    "#     print(data['job_description'].iloc[i:i+5].values)\n",
    "#     i+=5\n",
    "#     print('\\n\\n')"
   ]
  },
  {
   "cell_type": "code",
   "execution_count": 15,
   "metadata": {},
   "outputs": [
    {
     "data": {
      "text/plain": [
       "'[\"Analyzing users\\' stories and use cases requirements for validity and feasibility\", \\'Collaborate closely with other team members and departments\\', \\'Execute all levels of testing (System, Integration, and Regression)\\', \\'Design and develop automation scripts when needed\\', \\'Detect and track software defects and inconsistencies\\', \\'Provide timely solutions\\', \\'Apply quality engineering principles throughout the Agile product lifecycle\\', \\'Provide support and documentation\\']'"
      ]
     },
     "execution_count": 15,
     "metadata": {},
     "output_type": "execute_result"
    }
   ],
   "source": [
    "sent = data['job_description'].unique()[-2].replace('/', ' ')\n",
    "sent"
   ]
  },
  {
   "cell_type": "code",
   "execution_count": 16,
   "metadata": {},
   "outputs": [
    {
     "data": {
      "text/plain": [
       "'[\"Analyzing users stories and use cases requirements for validity and feasibility\", Collaborate closely with other team members and departments, Execute all levels of testing (System, Integration, and Regression), Design and develop automation scripts when needed, Detect and track software defects and inconsistencies, Provide timely solutions, Apply quality engineering principles throughout the Agile product lifecycle, Provide support and documentation]'"
      ]
     },
     "execution_count": 16,
     "metadata": {},
     "output_type": "execute_result"
    }
   ],
   "source": [
    "sent.replace(\"\\'\", '')"
   ]
  },
  {
   "cell_type": "code",
   "execution_count": 17,
   "metadata": {},
   "outputs": [],
   "source": [
    "data['job_description'] = data['job_description'].str.replace(\"\\'\", '').str.replace('/', '')"
   ]
  },
  {
   "cell_type": "code",
   "execution_count": 18,
   "metadata": {},
   "outputs": [
    {
     "data": {
      "text/html": [
       "<div>\n",
       "<style scoped>\n",
       "    .dataframe tbody tr th:only-of-type {\n",
       "        vertical-align: middle;\n",
       "    }\n",
       "\n",
       "    .dataframe tbody tr th {\n",
       "        vertical-align: top;\n",
       "    }\n",
       "\n",
       "    .dataframe thead th {\n",
       "        text-align: right;\n",
       "    }\n",
       "</style>\n",
       "<table border=\"1\" class=\"dataframe\">\n",
       "  <thead>\n",
       "    <tr style=\"text-align: right;\">\n",
       "      <th></th>\n",
       "      <th>title</th>\n",
       "      <th>company_name</th>\n",
       "      <th>job_description</th>\n",
       "      <th>job_requirments</th>\n",
       "      <th>location</th>\n",
       "    </tr>\n",
       "  </thead>\n",
       "  <tbody>\n",
       "    <tr>\n",
       "      <th>0</th>\n",
       "      <td>Data &amp; BI Analyst</td>\n",
       "      <td>Klivvr</td>\n",
       "      <td>[We put our visionaries first. , We strive for innovation. , We write in pencil. , We leave our titles at the door. , We don’t follow suit. Or wear one. , We see tomorrow and build today. ]</td>\n",
       "      <td>['Identifying data sources', 'Analyzing data, identifying trends, designing key metrics for communicating actionable insights proactively.', 'Precisely collect data inquires and requirements from stakeholders.', 'Processing confidential data and information according to guidelines.', 'Supporting the data warehouse in identifying and revising reporting requirements.', 'Assessing quality of data, optimizing queries, and removing or cleaning data.', 'Developing dashboards and reports for executive teams along with promoting data literacy across the company. ', 'Sourcing missing data, distinguish areas of inefficiencies, conduct root cause analyses']</td>\n",
       "      <td>القاهرة قسم الزمالك مصر</td>\n",
       "    </tr>\n",
       "    <tr>\n",
       "      <th>1</th>\n",
       "      <td>Data Analyst</td>\n",
       "      <td>Axis</td>\n",
       "      <td>[Interpreting marketing data, analyzing results using statistical techniques and providing]</td>\n",
       "      <td>['Developing &amp; implementing databases, data collection systems, data analytics and other']</td>\n",
       "      <td>القاهرة القاهرة مصر</td>\n",
       "    </tr>\n",
       "    <tr>\n",
       "      <th>4</th>\n",
       "      <td>Reporting and Data Analyst</td>\n",
       "      <td>Property Finder</td>\n",
       "      <td>[The ideal candidate will use their passion for data and analytics to provide insights into the business covering various topics. , The Reporting and Data Analyst will conduct both recurring and ad hoc analyses from multiple data sources in response to Customer Experience teams’ requests. , Also will develop daily, weekly, and monthly reports supporting the functions and needs of the Customer Experience department. ]</td>\n",
       "      <td>['Graduated from Computer Science or Engineering ', 'Entry level with a minimum 1 year of experience', 'Mathematical background - numeracy skills. ', 'Problem-solving mindset. ', 'Hands-on experience with MS Excel &amp; G-Suite. ', 'Good Understanding of reporting &amp; data visualization. ', 'Strong analytical skills with the ability to collect, organize, analyze, and disseminate significant amounts of information with attention to detail and accuracy. ', 'Comfort working in systems and learning new tools such as Zendesk, and SalesForce.']</td>\n",
       "      <td>مصر</td>\n",
       "    </tr>\n",
       "  </tbody>\n",
       "</table>\n",
       "</div>"
      ],
      "text/plain": [
       "                        title     company_name  \\\n",
       "0           Data & BI Analyst           Klivvr   \n",
       "1                Data Analyst             Axis   \n",
       "4  Reporting and Data Analyst  Property Finder   \n",
       "\n",
       "                                                                                                                                                                                                                                                                                                                                                                                                                        job_description  \\\n",
       "0                                                                                                                                                                                                                                         [We put our visionaries first. , We strive for innovation. , We write in pencil. , We leave our titles at the door. , We don’t follow suit. Or wear one. , We see tomorrow and build today. ]   \n",
       "1                                                                                                                                                                                                                                                                                                                                           [Interpreting marketing data, analyzing results using statistical techniques and providing]   \n",
       "4  [The ideal candidate will use their passion for data and analytics to provide insights into the business covering various topics. , The Reporting and Data Analyst will conduct both recurring and ad hoc analyses from multiple data sources in response to Customer Experience teams’ requests. , Also will develop daily, weekly, and monthly reports supporting the functions and needs of the Customer Experience department. ]   \n",
       "\n",
       "                                                                                                                                                                                                                                                                                                                                                                                                                                                                                                                                                                                                                                                                  job_requirments  \\\n",
       "0  ['Identifying data sources', 'Analyzing data, identifying trends, designing key metrics for communicating actionable insights proactively.', 'Precisely collect data inquires and requirements from stakeholders.', 'Processing confidential data and information according to guidelines.', 'Supporting the data warehouse in identifying and revising reporting requirements.', 'Assessing quality of data, optimizing queries, and removing or cleaning data.', 'Developing dashboards and reports for executive teams along with promoting data literacy across the company. ', 'Sourcing missing data, distinguish areas of inefficiencies, conduct root cause analyses']   \n",
       "1                                                                                                                                                                                                                                                                                                                                                                                                                                                                                                                                                                                      ['Developing & implementing databases, data collection systems, data analytics and other']   \n",
       "4                                                                                                                      ['Graduated from Computer Science or Engineering ', 'Entry level with a minimum 1 year of experience', 'Mathematical background - numeracy skills. ', 'Problem-solving mindset. ', 'Hands-on experience with MS Excel & G-Suite. ', 'Good Understanding of reporting & data visualization. ', 'Strong analytical skills with the ability to collect, organize, analyze, and disseminate significant amounts of information with attention to detail and accuracy. ', 'Comfort working in systems and learning new tools such as Zendesk, and SalesForce.']   \n",
       "\n",
       "                  location  \n",
       "0  القاهرة قسم الزمالك مصر  \n",
       "1      القاهرة القاهرة مصر  \n",
       "4                      مصر  "
      ]
     },
     "execution_count": 18,
     "metadata": {},
     "output_type": "execute_result"
    }
   ],
   "source": [
    "data.head(3)"
   ]
  },
  {
   "cell_type": "code",
   "execution_count": 19,
   "metadata": {},
   "outputs": [
    {
     "data": {
      "text/plain": [
       "'[\"Analyzing users stories anduse casesrequirements for validity and feasibility\", Collaborate closely with other team members and departments, Execute all levels of testing (System, Integration, and Regression), Design and develop automation scripts when needed, Detect and track software defects and inconsistencies, Provide timely solutions, Apply quality engineering principles throughout the Agile product lifecycle, Provide support and documentation]'"
      ]
     },
     "execution_count": 19,
     "metadata": {},
     "output_type": "execute_result"
    }
   ],
   "source": [
    "data['job_description'].unique()[-2]"
   ]
  },
  {
   "cell_type": "markdown",
   "metadata": {},
   "source": [
    "> <font color='blue'>**Now, we have a cleaned text with no strange symbols**"
   ]
  },
  {
   "cell_type": "markdown",
   "metadata": {},
   "source": [
    "### Converting Arabic words in location to English"
   ]
  },
  {
   "cell_type": "code",
   "execution_count": 20,
   "metadata": {},
   "outputs": [],
   "source": [
    "from translate import Translator\n",
    "translator= Translator(from_lang=\"arabic\",to_lang=\"english\")"
   ]
  },
  {
   "cell_type": "code",
   "execution_count": 21,
   "metadata": {},
   "outputs": [
    {
     "data": {
      "text/plain": [
       "'Alexandria'"
      ]
     },
     "execution_count": 21,
     "metadata": {},
     "output_type": "execute_result"
    }
   ],
   "source": [
    "translator.translate(\"الاسكندريه\")"
   ]
  },
  {
   "cell_type": "code",
   "execution_count": 22,
   "metadata": {},
   "outputs": [],
   "source": [
    "# to reset the index of the data\n",
    "data = data.reset_index(drop=True)"
   ]
  },
  {
   "cell_type": "code",
   "execution_count": 23,
   "metadata": {},
   "outputs": [
    {
     "data": {
      "text/plain": [
       "0         [القاهرة, قسم, الزمالك, مصر]\n",
       "1              [القاهرة, القاهرة, مصر]\n",
       "2                                [مصر]\n",
       "3              [القاهرة, القاهرة, مصر]\n",
       "4                       [القاهرة, مصر]\n",
       "                    ...               \n",
       "62             [القاهرة, القاهرة, مصر]\n",
       "63    [القاهرة, القاهرة, الجديدة, مصر]\n",
       "64             [القاهرة, القاهرة, مصر]\n",
       "65             [القاهرة, القاهرة, مصر]\n",
       "66        [القاهرة, قسم, المعادي, مصر]\n",
       "Name: location, Length: 67, dtype: object"
      ]
     },
     "execution_count": 23,
     "metadata": {},
     "output_type": "execute_result"
    }
   ],
   "source": [
    "data['location'].str.split()"
   ]
  },
  {
   "cell_type": "code",
   "execution_count": 24,
   "metadata": {},
   "outputs": [
    {
     "name": "stdout",
     "output_type": "stream",
     "text": [
      "Cairo\n",
      "Cairo\n",
      "Egypt\n"
     ]
    }
   ],
   "source": [
    "for i in data['location'].str.split()[5]:\n",
    "    print(translator.translate(i))"
   ]
  },
  {
   "cell_type": "code",
   "execution_count": 25,
   "metadata": {},
   "outputs": [
    {
     "data": {
      "text/plain": [
       "0         [القاهرة, قسم, الزمالك, مصر]\n",
       "1              [القاهرة, القاهرة, مصر]\n",
       "2                                [مصر]\n",
       "3              [القاهرة, القاهرة, مصر]\n",
       "4                       [القاهرة, مصر]\n",
       "                    ...               \n",
       "62             [القاهرة, القاهرة, مصر]\n",
       "63    [القاهرة, القاهرة, الجديدة, مصر]\n",
       "64             [القاهرة, القاهرة, مصر]\n",
       "65             [القاهرة, القاهرة, مصر]\n",
       "66        [القاهرة, قسم, المعادي, مصر]\n",
       "Name: location, Length: 67, dtype: object"
      ]
     },
     "execution_count": 25,
     "metadata": {},
     "output_type": "execute_result"
    }
   ],
   "source": [
    "x = data['location'].str.split()\n",
    "x"
   ]
  },
  {
   "cell_type": "code",
   "execution_count": 38,
   "metadata": {},
   "outputs": [],
   "source": [
    "final = []\n",
    "count = 0\n",
    "for i in x:\n",
    "    new = []\n",
    "    for j in i:\n",
    "        new.append(translator.translate(j))\n",
    "    final.append(new)\n",
    "#     count+=1\n",
    "#     if count == 2:\n",
    "#         break"
   ]
  },
  {
   "cell_type": "code",
   "execution_count": 40,
   "metadata": {},
   "outputs": [
    {
     "data": {
      "text/plain": [
       "(67, 67)"
      ]
     },
     "execution_count": 40,
     "metadata": {},
     "output_type": "execute_result"
    }
   ],
   "source": [
    "len(final), len(data)"
   ]
  },
  {
   "cell_type": "code",
   "execution_count": 42,
   "metadata": {},
   "outputs": [
    {
     "data": {
      "text/plain": [
       "[['Cairo', 'Section', 'Al Zamalek', 'Egypt'],\n",
       " ['Cairo', 'Cairo', 'Egypt'],\n",
       " ['Egypt'],\n",
       " ['Cairo', 'Cairo', 'Egypt'],\n",
       " ['Cairo', 'Egypt'],\n",
       " ['Cairo', 'Cairo', 'Egypt'],\n",
       " ['Cairo', 'Cairo', 'Egypt'],\n",
       " ['Cairo', 'Cairo', 'Egypt'],\n",
       " ['Cairo', 'Cairo', 'Egypt'],\n",
       " ['Cairo', 'Cairo', 'Egypt']]"
      ]
     },
     "execution_count": 42,
     "metadata": {},
     "output_type": "execute_result"
    }
   ],
   "source": [
    "final[:10]"
   ]
  },
  {
   "cell_type": "code",
   "execution_count": 48,
   "metadata": {},
   "outputs": [
    {
     "data": {
      "text/plain": [
       "'Cairo Section Al Zamalek Egypt'"
      ]
     },
     "execution_count": 48,
     "metadata": {},
     "output_type": "execute_result"
    }
   ],
   "source": [
    "' '.join(final[0])"
   ]
  },
  {
   "cell_type": "code",
   "execution_count": 45,
   "metadata": {},
   "outputs": [],
   "source": [
    "data['location_edited'] = final"
   ]
  },
  {
   "cell_type": "code",
   "execution_count": 46,
   "metadata": {},
   "outputs": [
    {
     "data": {
      "text/html": [
       "<div>\n",
       "<style scoped>\n",
       "    .dataframe tbody tr th:only-of-type {\n",
       "        vertical-align: middle;\n",
       "    }\n",
       "\n",
       "    .dataframe tbody tr th {\n",
       "        vertical-align: top;\n",
       "    }\n",
       "\n",
       "    .dataframe thead th {\n",
       "        text-align: right;\n",
       "    }\n",
       "</style>\n",
       "<table border=\"1\" class=\"dataframe\">\n",
       "  <thead>\n",
       "    <tr style=\"text-align: right;\">\n",
       "      <th></th>\n",
       "      <th>title</th>\n",
       "      <th>company_name</th>\n",
       "      <th>job_description</th>\n",
       "      <th>job_requirments</th>\n",
       "      <th>location</th>\n",
       "      <th>location_edited</th>\n",
       "    </tr>\n",
       "  </thead>\n",
       "  <tbody>\n",
       "    <tr>\n",
       "      <th>0</th>\n",
       "      <td>Data &amp; BI Analyst</td>\n",
       "      <td>Klivvr</td>\n",
       "      <td>[We put our visionaries first. , We strive for innovation. , We write in pencil. , We leave our titles at the door. , We don’t follow suit. Or wear one. , We see tomorrow and build today. ]</td>\n",
       "      <td>['Identifying data sources', 'Analyzing data, identifying trends, designing key metrics for communicating actionable insights proactively.', 'Precisely collect data inquires and requirements from stakeholders.', 'Processing confidential data and information according to guidelines.', 'Supporting the data warehouse in identifying and revising reporting requirements.', 'Assessing quality of data, optimizing queries, and removing or cleaning data.', 'Developing dashboards and reports for executive teams along with promoting data literacy across the company. ', 'Sourcing missing data, distinguish areas of inefficiencies, conduct root cause analyses']</td>\n",
       "      <td>القاهرة قسم الزمالك مصر</td>\n",
       "      <td>[Cairo, Section, Al Zamalek, Egypt]</td>\n",
       "    </tr>\n",
       "    <tr>\n",
       "      <th>1</th>\n",
       "      <td>Data Analyst</td>\n",
       "      <td>Axis</td>\n",
       "      <td>[Interpreting marketing data, analyzing results using statistical techniques and providing]</td>\n",
       "      <td>['Developing &amp; implementing databases, data collection systems, data analytics and other']</td>\n",
       "      <td>القاهرة القاهرة مصر</td>\n",
       "      <td>[Cairo, Cairo, Egypt]</td>\n",
       "    </tr>\n",
       "    <tr>\n",
       "      <th>2</th>\n",
       "      <td>Reporting and Data Analyst</td>\n",
       "      <td>Property Finder</td>\n",
       "      <td>[The ideal candidate will use their passion for data and analytics to provide insights into the business covering various topics. , The Reporting and Data Analyst will conduct both recurring and ad hoc analyses from multiple data sources in response to Customer Experience teams’ requests. , Also will develop daily, weekly, and monthly reports supporting the functions and needs of the Customer Experience department. ]</td>\n",
       "      <td>['Graduated from Computer Science or Engineering ', 'Entry level with a minimum 1 year of experience', 'Mathematical background - numeracy skills. ', 'Problem-solving mindset. ', 'Hands-on experience with MS Excel &amp; G-Suite. ', 'Good Understanding of reporting &amp; data visualization. ', 'Strong analytical skills with the ability to collect, organize, analyze, and disseminate significant amounts of information with attention to detail and accuracy. ', 'Comfort working in systems and learning new tools such as Zendesk, and SalesForce.']</td>\n",
       "      <td>مصر</td>\n",
       "      <td>[Egypt]</td>\n",
       "    </tr>\n",
       "    <tr>\n",
       "      <th>3</th>\n",
       "      <td>Data Analyst</td>\n",
       "      <td>OLX Egypt</td>\n",
       "      <td>[Accessing data, constructing and manipulating large datasets to support planned analyses, using SQL, Python and similar tools, Designing and developing BI dashboards using Sisense or similar tools (Tableau, PowerBI, DataStudio) for various organizational metrics and indicators using best practices and industry standards in finance, sales, inventory, and other areas, Help with defining KPIs metrics and drive the data governance through standardization and communication, Create the documentation and presentation for the management under the supervision of more senior staff, Develop analysis and reporting capabilities; monitor performance and quality control plans to identify improvements., Adapt at queries, report writing and presenting findings, Research and validation of entity data using appropriate internal and external data sources, Liaising and analysis across projects within the Reference Data environment, Analysis, specification, testing and implementation of interfaces, workflow solutions, and reference data solutions – An example would be regression testing systems ahead of upgrades, Participate in the design, implementation and interpretation of experimentstrials for continuous refinement of on-going strategies, Responsible for data quality and timely delivery of reports that make common business sense, Participate in Analytics &amp; Reporting trainings to evangelize data across the organization]</td>\n",
       "      <td>['Bachelor’s degree in statistics, mathematics, computer science, or related field. Masters is a plus.', '2+ year work experience in analytics, having closely worked with product and commercials in an internet/e-commerce company', 'Experience in e-commerce, internet and/or digital media', 'Extensive experience with SQL with proficiency in Microsoft Excel', 'Experience working with BI tools (e.g. Looker, Periscope, Tableau, etc.)', 'Skills in Python, R or similar tools are a big plus', 'Knowledge of statistics and experience using statistical packages for analyzing datasets (Excel, SPSS, SAS etc).', 'Good analytical skills with a demonstrated ability to translate data and information into actionable insights and business recommendations', 'Written and verbal proficiency in English', 'Proactive and independent of seeking information, solving conceptual problems and delivering high quality results in challenging situations', 'Passion for data and metrics', 'Hands-on attitude and the ability to thrive in a fast-paced environment', 'Highly motivated, professional, creative, proactive and able to work independently and cooperatively in a diverse group', 'Analytical thinking; Conceptual thinking; Detail-oriented; Business Acumen.', 'Strong curiosity and strive for continuous learning', 'Thrive in a fast-paced, innovative environment with good attention to detail', 'Living the team values: Simpler. Better. Faster.']</td>\n",
       "      <td>القاهرة القاهرة مصر</td>\n",
       "      <td>[Cairo, Cairo, Egypt]</td>\n",
       "    </tr>\n",
       "    <tr>\n",
       "      <th>4</th>\n",
       "      <td>Business Analyst</td>\n",
       "      <td>Zoho</td>\n",
       "      <td>[Define and plan project milestones, phases and different elements involved in the project along with the principal consultant, Drive and challenge the presumptions of delivery teams on how they will successfully execute their plans, Ensure Customer Satisfaction through quality deliverable on time]</td>\n",
       "      <td>not_found</td>\n",
       "      <td>القاهرة مصر</td>\n",
       "      <td>[Cairo, Egypt]</td>\n",
       "    </tr>\n",
       "  </tbody>\n",
       "</table>\n",
       "</div>"
      ],
      "text/plain": [
       "                        title     company_name  \\\n",
       "0           Data & BI Analyst           Klivvr   \n",
       "1                Data Analyst             Axis   \n",
       "2  Reporting and Data Analyst  Property Finder   \n",
       "3                Data Analyst        OLX Egypt   \n",
       "4            Business Analyst             Zoho   \n",
       "\n",
       "                                                                                                                                                                                                                                                                                                                                                                                                                                                                                                                                                                                                                                                                                                                                                                                                                                                                                                                                                                                                                                                                                                                                                                                                                                                                                                                                                                                                                                                                     job_description  \\\n",
       "0                                                                                                                                                                                                                                                                                                                                                                                                                                                                                                                                                                                                                                                                                                                                                                                                                                                                                                                                                                                                                                                                                                                                                                                                                                                                                      [We put our visionaries first. , We strive for innovation. , We write in pencil. , We leave our titles at the door. , We don’t follow suit. Or wear one. , We see tomorrow and build today. ]   \n",
       "1                                                                                                                                                                                                                                                                                                                                                                                                                                                                                                                                                                                                                                                                                                                                                                                                                                                                                                                                                                                                                                                                                                                                                                                                                                                                                                                                                                                        [Interpreting marketing data, analyzing results using statistical techniques and providing]   \n",
       "2                                                                                                                                                                                                                                                                                                                                                                                                                                                                                                                                                                                                                                                                                                                                                                                                                                                                                                                                                                                                                                               [The ideal candidate will use their passion for data and analytics to provide insights into the business covering various topics. , The Reporting and Data Analyst will conduct both recurring and ad hoc analyses from multiple data sources in response to Customer Experience teams’ requests. , Also will develop daily, weekly, and monthly reports supporting the functions and needs of the Customer Experience department. ]   \n",
       "3  [Accessing data, constructing and manipulating large datasets to support planned analyses, using SQL, Python and similar tools, Designing and developing BI dashboards using Sisense or similar tools (Tableau, PowerBI, DataStudio) for various organizational metrics and indicators using best practices and industry standards in finance, sales, inventory, and other areas, Help with defining KPIs metrics and drive the data governance through standardization and communication, Create the documentation and presentation for the management under the supervision of more senior staff, Develop analysis and reporting capabilities; monitor performance and quality control plans to identify improvements., Adapt at queries, report writing and presenting findings, Research and validation of entity data using appropriate internal and external data sources, Liaising and analysis across projects within the Reference Data environment, Analysis, specification, testing and implementation of interfaces, workflow solutions, and reference data solutions – An example would be regression testing systems ahead of upgrades, Participate in the design, implementation and interpretation of experimentstrials for continuous refinement of on-going strategies, Responsible for data quality and timely delivery of reports that make common business sense, Participate in Analytics & Reporting trainings to evangelize data across the organization]   \n",
       "4                                                                                                                                                                                                                                                                                                                                                                                                                                                                                                                                                                                                                                                                                                                                                                                                                                                                                                                                                                                                                                                                                                                                                                        [Define and plan project milestones, phases and different elements involved in the project along with the principal consultant, Drive and challenge the presumptions of delivery teams on how they will successfully execute their plans, Ensure Customer Satisfaction through quality deliverable on time]   \n",
       "\n",
       "                                                                                                                                                                                                                                                                                                                                                                                                                                                                                                                                                                                                                                                                                                                                                                                                                                                                                                                                                                                                                                                                                                                                                                                                                                                                                                                                                                                                                                                                           job_requirments  \\\n",
       "0                                                                                                                                                                                                                                                                                                                                                                                                                                                                                                                                                                                                                                                                                                                                                                                                           ['Identifying data sources', 'Analyzing data, identifying trends, designing key metrics for communicating actionable insights proactively.', 'Precisely collect data inquires and requirements from stakeholders.', 'Processing confidential data and information according to guidelines.', 'Supporting the data warehouse in identifying and revising reporting requirements.', 'Assessing quality of data, optimizing queries, and removing or cleaning data.', 'Developing dashboards and reports for executive teams along with promoting data literacy across the company. ', 'Sourcing missing data, distinguish areas of inefficiencies, conduct root cause analyses']   \n",
       "1                                                                                                                                                                                                                                                                                                                                                                                                                                                                                                                                                                                                                                                                                                                                                                                                                                                                                                                                                                                                                                                                                                                                                                                                                                                                                                                                                                                               ['Developing & implementing databases, data collection systems, data analytics and other']   \n",
       "2                                                                                                                                                                                                                                                                                                                                                                                                                                                                                                                                                                                                                                                                                                                                                                                                                                                                                                                               ['Graduated from Computer Science or Engineering ', 'Entry level with a minimum 1 year of experience', 'Mathematical background - numeracy skills. ', 'Problem-solving mindset. ', 'Hands-on experience with MS Excel & G-Suite. ', 'Good Understanding of reporting & data visualization. ', 'Strong analytical skills with the ability to collect, organize, analyze, and disseminate significant amounts of information with attention to detail and accuracy. ', 'Comfort working in systems and learning new tools such as Zendesk, and SalesForce.']   \n",
       "3  ['Bachelor’s degree in statistics, mathematics, computer science, or related field. Masters is a plus.', '2+ year work experience in analytics, having closely worked with product and commercials in an internet/e-commerce company', 'Experience in e-commerce, internet and/or digital media', 'Extensive experience with SQL with proficiency in Microsoft Excel', 'Experience working with BI tools (e.g. Looker, Periscope, Tableau, etc.)', 'Skills in Python, R or similar tools are a big plus', 'Knowledge of statistics and experience using statistical packages for analyzing datasets (Excel, SPSS, SAS etc).', 'Good analytical skills with a demonstrated ability to translate data and information into actionable insights and business recommendations', 'Written and verbal proficiency in English', 'Proactive and independent of seeking information, solving conceptual problems and delivering high quality results in challenging situations', 'Passion for data and metrics', 'Hands-on attitude and the ability to thrive in a fast-paced environment', 'Highly motivated, professional, creative, proactive and able to work independently and cooperatively in a diverse group', 'Analytical thinking; Conceptual thinking; Detail-oriented; Business Acumen.', 'Strong curiosity and strive for continuous learning', 'Thrive in a fast-paced, innovative environment with good attention to detail', 'Living the team values: Simpler. Better. Faster.']   \n",
       "4                                                                                                                                                                                                                                                                                                                                                                                                                                                                                                                                                                                                                                                                                                                                                                                                                                                                                                                                                                                                                                                                                                                                                                                                                                                                                                                                                                                                                                                                                not_found   \n",
       "\n",
       "                  location                      location_edited  \n",
       "0  القاهرة قسم الزمالك مصر  [Cairo, Section, Al Zamalek, Egypt]  \n",
       "1      القاهرة القاهرة مصر                [Cairo, Cairo, Egypt]  \n",
       "2                      مصر                              [Egypt]  \n",
       "3      القاهرة القاهرة مصر                [Cairo, Cairo, Egypt]  \n",
       "4              القاهرة مصر                       [Cairo, Egypt]  "
      ]
     },
     "execution_count": 46,
     "metadata": {},
     "output_type": "execute_result"
    }
   ],
   "source": [
    "data.head()"
   ]
  },
  {
   "cell_type": "code",
   "execution_count": 49,
   "metadata": {},
   "outputs": [],
   "source": [
    "data.to_csv('cleaned_data.csv')"
   ]
  },
  {
   "cell_type": "code",
   "execution_count": null,
   "metadata": {},
   "outputs": [],
   "source": []
  }
 ],
 "metadata": {
  "kernelspec": {
   "display_name": "Python 3",
   "language": "python",
   "name": "python3"
  },
  "language_info": {
   "codemirror_mode": {
    "name": "ipython",
    "version": 3
   },
   "file_extension": ".py",
   "mimetype": "text/x-python",
   "name": "python",
   "nbconvert_exporter": "python",
   "pygments_lexer": "ipython3",
   "version": "3.7.6"
  }
 },
 "nbformat": 4,
 "nbformat_minor": 4
}
