{
 "cells": [
  {
   "cell_type": "markdown",
   "id": "a48164b0",
   "metadata": {
    "id": "7NjKvOexCW1N",
    "papermill": {
     "duration": 0.02723,
     "end_time": "2022-10-05T05:29:11.876504",
     "exception": false,
     "start_time": "2022-10-05T05:29:11.849274",
     "status": "completed"
    },
    "tags": []
   },
   "source": [
    "<h1 style=\"font-size:6vw\"> <center>Heart Disease Causes Part II</center></h1>\n",
    "<h4 style=\"font-size:3vw\"> <center>Data Cleaning & Modeling</center></h4>\n",
    "\n",
    "---\n",
    "\n"
   ]
  },
  {
   "cell_type": "markdown",
   "id": "cf3a03f9",
   "metadata": {
    "id": "iQSHyF-nM_8E",
    "papermill": {
     "duration": 0.02515,
     "end_time": "2022-10-05T05:29:11.926920",
     "exception": false,
     "start_time": "2022-10-05T05:29:11.901770",
     "status": "completed"
    },
    "tags": []
   },
   "source": [
    "<img src=\"https://grsmedical.ca/wp-content/uploads/2021/07/banner-cardiac.png\" width=\"100%\">"
   ]
  },
  {
   "cell_type": "markdown",
   "id": "054bffdd",
   "metadata": {
    "id": "NuE4mleMip-2",
    "papermill": {
     "duration": 0.024861,
     "end_time": "2022-10-05T05:29:11.976936",
     "exception": false,
     "start_time": "2022-10-05T05:29:11.952075",
     "status": "completed"
    },
    "tags": []
   },
   "source": [
    "This notebook is a continuation of our [previous notebook](https://www.kaggle.com/code/habibashera/heart-disease-causes-part-i-eda), in which we explored the [Personal Key Indicators of Heart Disease](https://www.kaggle.com/datasets/kamilpytlak/personal-key-indicators-of-heart-disease) dataset in order to gain insights about heart disease and its causses. In the this notebook we carry on with building a machine learning model to identify heart dissease patients"
   ]
  },
  {
   "cell_type": "markdown",
   "id": "b1525b17",
   "metadata": {
    "id": "4IWtP34RFunX",
    "papermill": {
     "duration": 0.024497,
     "end_time": "2022-10-05T05:29:12.026163",
     "exception": false,
     "start_time": "2022-10-05T05:29:12.001666",
     "status": "completed"
    },
    "tags": []
   },
   "source": [
    "<h2 style=\"font-size:4vw\"> Table of contents</h2>\n"
   ]
  },
  {
   "cell_type": "markdown",
   "id": "457a3224",
   "metadata": {
    "id": "dvQuAFF4I7jb",
    "papermill": {
     "duration": 0.024534,
     "end_time": "2022-10-05T05:29:12.075539",
     "exception": false,
     "start_time": "2022-10-05T05:29:12.051005",
     "status": "completed"
    },
    "tags": []
   },
   "source": [
    ">[1 Data Reading](#read)\n",
    "\n",
    ">[2 Data Cleaning](#clean)\n",
    "\n",
    ">>[2.1 Missing Data](#missing)\n",
    "\n",
    ">>>[2.1.1 Null Values](#null)\n",
    "\n",
    ">>>[2.1.2 Unusual Values](#unusualvalues)\n",
    "\n",
    ">>[2.2 Outliers](#outliers)\n",
    "\n",
    ">>>[2.2.1 Univariate Outlier Detection](#univariate)\n",
    "\n",
    ">>>[2.2.2 Multivariate Outlier Detection](#multivariate)\n",
    "\n",
    ">>>[2.2.3 Outlier Removal](#removal)\n",
    "\n",
    ">>[2.3 Categorical Encoding & Feature Scaling](#catencoding)\n",
    "\n",
    ">>[2.4 Train-Test Split](#traintestsplit)\n",
    "\n",
    ">[3 Modeling](#modeling)\n",
    "\n",
    ">>[Helpers](#helpers)\n",
    "\n",
    ">>[3.1 Logistic Regression](#logreg)\n",
    "\n",
    ">>>[3.1.1 Model](#Model)\n",
    "\n",
    ">>>[3.1.2 Evaluation](#Eval)\n",
    "\n",
    ">>>>[3.1.2.1 Classification Report](#Classifireport)\n",
    "\n",
    ">>>>[3.1.2.2 Confusion Matrix](#confmatrix)\n",
    "\n",
    ">>[3.2 Decision Tree](#decisiontree)\n",
    "\n",
    ">>>[3.2.1 Model](#22)\n",
    "\n",
    ">>>[3.2.2 Evaluation](#55)\n",
    "\n",
    ">>>>[3.2.2.1 Classification Report](#report36)\n",
    "\n",
    ">>>>[3.2.2.2 Confusion Matrix](#988)\n",
    "\n",
    ">>>[3.2.3 Feature Importances](#featimpo)\n",
    "\n",
    ">>[3.3 Random Forest](#randomforest)\n",
    "\n",
    ">>>[3.3.1 Model](#11)\n",
    "\n",
    ">>>[3.3.2 Evaluation](#101)\n",
    "\n",
    ">>>>[3.3.2.1 Classification Report](#01028)\n",
    "\n",
    ">>>>[3.3.2.2 Confusion Matrix](#2525)\n",
    "\n",
    ">>>[3.3.3 Feature Importances](#1200)\n",
    "\n",
    ">>[3.4 KNN](#1201)\n",
    "\n",
    ">>>[3.4.1 Hyperparameter Tuning](#12002)\n",
    "\n",
    ">>>[3.4.2 Model](#mod)\n",
    "\n",
    ">>>[3.4.3 Evaluation](#val)\n",
    "\n",
    ">>>>[3.4.3.1 Classification Report](#87878)\n",
    "\n",
    ">>>>[3.4.3.2 Confusion Matrix](#5000)\n",
    "\n",
    ">>[3.5 SVM](#svm)\n",
    "\n",
    ">>>[3.5.1 Hyperparameter Tuning](#hyp)\n",
    "\n",
    ">>>[3.5.2 Model](#ooo)\n",
    "\n",
    ">>>[3.5.3 Evaluation](#j252)\n",
    "\n",
    ">>>>[3.5.3.1 Classification Report](#report127)\n",
    "\n",
    ">>>>[3.5.3.2 Confusion Matrix](#yyyy)\n",
    "\n",
    ">>>>[3.5.3.3 ROC Curve](#roccur)\n",
    "\n",
    ">>[3.6 AdaBoost](#adaboosting)\n",
    "\n",
    ">>>[3.6.1 Model](#adaboostingmodel)\n",
    "\n",
    ">>>[3.6.2 Evaluation](#adaboostingeval)\n",
    "\n",
    ">>>>[3.6.2.1 Classification Report](#adaboostingreport)\n",
    "\n",
    ">>>>[3.6.2.2 Confusion Matrix](#adaboostingmatrix)\n",
    "\n",
    ">>[3.7 XGBoost](#xgboost)\n",
    "\n",
    ">>>[3.7.1 Model](#xgboostmodel)\n",
    "\n",
    ">>>[3.7.2 Evaluation](#xgboosteval)\n",
    "\n",
    ">>>>[3.7.2.1 Classification Report](#xgboostreport)\n",
    "\n",
    ">>>>[3.7.2.2 Confusion Matrix](#xgboostmatix)\n",
    "\n",
    ">>[3.8 CatBoost](#catboosting)\n",
    "\n",
    ">>>[3.8.1 Model](#catboostingmodel)\n",
    "\n",
    ">>>[3.8.2 Evaluation](#qHNjJwob06Cv)\n",
    "\n",
    ">>>>[3.8.2.1 Classification Report](#BvOiJUm_06Cv)\n",
    "\n",
    ">>>>[3.8.2.2 Confusion Matrix](#niOK)\n",
    "\n",
    ">>[3.9 Voting](#k5WVhRul1dC1)\n",
    "\n",
    ">>>[3.5.1 Model](#2dmEXxQ51dC1)\n",
    "\n",
    ">>>[3.5.2 Evaluation](#4NXU81v51dC2)\n",
    "\n",
    ">>>>[3.5.2.1 Classification Report](#qTlxt7Uz1dC2)\n",
    "\n",
    ">>>>[3.5.2.2 Confusion Matrix](#2weVgEsi1dC2)\n",
    "\n",
    ">>[3.10 Model Comparison](#qGQuNGG9kvmP)\n",
    "\n",
    ">>>[3.10.1 Highlights](#scrollTo=KnQH1sb2Uxf4)\n",
    "\n",
    ">[4 Conclusion](#9H0rK)\n",
    "\n"
   ]
  },
  {
   "cell_type": "code",
   "execution_count": 1,
   "id": "5e1bac51",
   "metadata": {
    "_kg_hide-output": true,
    "execution": {
     "iopub.execute_input": "2022-10-05T05:29:12.128939Z",
     "iopub.status.busy": "2022-10-05T05:29:12.127688Z",
     "iopub.status.idle": "2022-10-05T05:29:40.875357Z",
     "shell.execute_reply": "2022-10-05T05:29:40.873972Z"
    },
    "id": "ype6Fg4S4IWL",
    "outputId": "a2d2de26-a6dc-4f03-ccc9-878882570fc0",
    "papermill": {
     "duration": 28.777211,
     "end_time": "2022-10-05T05:29:40.878222",
     "exception": false,
     "start_time": "2022-10-05T05:29:12.101011",
     "status": "completed"
    },
    "tags": []
   },
   "outputs": [
    {
     "name": "stdout",
     "output_type": "stream",
     "text": [
      "Collecting pywaffle\r\n",
      "  Downloading pywaffle-1.1.0-py2.py3-none-any.whl (30 kB)\r\n",
      "Requirement already satisfied: matplotlib in /opt/conda/lib/python3.7/site-packages (from pywaffle) (3.5.3)\r\n",
      "Collecting fontawesomefree\r\n",
      "  Downloading fontawesomefree-6.2.0-py3-none-any.whl (25.1 MB)\r\n",
      "\u001b[2K     \u001b[90m━━━━━━━━━━━━━━━━━━━━━━━━━━━━━━━━━━━━━━━━\u001b[0m \u001b[32m25.1/25.1 MB\u001b[0m \u001b[31m23.5 MB/s\u001b[0m eta \u001b[36m0:00:00\u001b[0m\r\n",
      "\u001b[?25hRequirement already satisfied: pyparsing>=2.2.1 in /opt/conda/lib/python3.7/site-packages (from matplotlib->pywaffle) (3.0.9)\r\n",
      "Requirement already satisfied: kiwisolver>=1.0.1 in /opt/conda/lib/python3.7/site-packages (from matplotlib->pywaffle) (1.4.3)\r\n",
      "Requirement already satisfied: packaging>=20.0 in /opt/conda/lib/python3.7/site-packages (from matplotlib->pywaffle) (21.3)\r\n",
      "Requirement already satisfied: pillow>=6.2.0 in /opt/conda/lib/python3.7/site-packages (from matplotlib->pywaffle) (9.1.1)\r\n",
      "Requirement already satisfied: fonttools>=4.22.0 in /opt/conda/lib/python3.7/site-packages (from matplotlib->pywaffle) (4.33.3)\r\n",
      "Requirement already satisfied: python-dateutil>=2.7 in /opt/conda/lib/python3.7/site-packages (from matplotlib->pywaffle) (2.8.2)\r\n",
      "Requirement already satisfied: cycler>=0.10 in /opt/conda/lib/python3.7/site-packages (from matplotlib->pywaffle) (0.11.0)\r\n",
      "Requirement already satisfied: numpy>=1.17 in /opt/conda/lib/python3.7/site-packages (from matplotlib->pywaffle) (1.21.6)\r\n",
      "Requirement already satisfied: typing-extensions in /opt/conda/lib/python3.7/site-packages (from kiwisolver>=1.0.1->matplotlib->pywaffle) (4.3.0)\r\n",
      "Requirement already satisfied: six>=1.5 in /opt/conda/lib/python3.7/site-packages (from python-dateutil>=2.7->matplotlib->pywaffle) (1.15.0)\r\n",
      "Installing collected packages: fontawesomefree, pywaffle\r\n",
      "Successfully installed fontawesomefree-6.2.0 pywaffle-1.1.0\r\n",
      "\u001b[33mWARNING: Running pip as the 'root' user can result in broken permissions and conflicting behaviour with the system package manager. It is recommended to use a virtual environment instead: https://pip.pypa.io/warnings/venv\u001b[0m\u001b[33m\r\n",
      "\u001b[0mRequirement already satisfied: catboost in /opt/conda/lib/python3.7/site-packages (1.0.6)\r\n",
      "Requirement already satisfied: pandas>=0.24.0 in /opt/conda/lib/python3.7/site-packages (from catboost) (1.3.5)\r\n",
      "Requirement already satisfied: numpy>=1.16.0 in /opt/conda/lib/python3.7/site-packages (from catboost) (1.21.6)\r\n",
      "Requirement already satisfied: scipy in /opt/conda/lib/python3.7/site-packages (from catboost) (1.7.3)\r\n",
      "Requirement already satisfied: plotly in /opt/conda/lib/python3.7/site-packages (from catboost) (5.10.0)\r\n",
      "Requirement already satisfied: matplotlib in /opt/conda/lib/python3.7/site-packages (from catboost) (3.5.3)\r\n",
      "Requirement already satisfied: graphviz in /opt/conda/lib/python3.7/site-packages (from catboost) (0.8.4)\r\n",
      "Requirement already satisfied: six in /opt/conda/lib/python3.7/site-packages (from catboost) (1.15.0)\r\n",
      "Requirement already satisfied: python-dateutil>=2.7.3 in /opt/conda/lib/python3.7/site-packages (from pandas>=0.24.0->catboost) (2.8.2)\r\n",
      "Requirement already satisfied: pytz>=2017.3 in /opt/conda/lib/python3.7/site-packages (from pandas>=0.24.0->catboost) (2022.1)\r\n",
      "Requirement already satisfied: packaging>=20.0 in /opt/conda/lib/python3.7/site-packages (from matplotlib->catboost) (21.3)\r\n",
      "Requirement already satisfied: pillow>=6.2.0 in /opt/conda/lib/python3.7/site-packages (from matplotlib->catboost) (9.1.1)\r\n",
      "Requirement already satisfied: fonttools>=4.22.0 in /opt/conda/lib/python3.7/site-packages (from matplotlib->catboost) (4.33.3)\r\n",
      "Requirement already satisfied: kiwisolver>=1.0.1 in /opt/conda/lib/python3.7/site-packages (from matplotlib->catboost) (1.4.3)\r\n",
      "Requirement already satisfied: pyparsing>=2.2.1 in /opt/conda/lib/python3.7/site-packages (from matplotlib->catboost) (3.0.9)\r\n",
      "Requirement already satisfied: cycler>=0.10 in /opt/conda/lib/python3.7/site-packages (from matplotlib->catboost) (0.11.0)\r\n",
      "Requirement already satisfied: tenacity>=6.2.0 in /opt/conda/lib/python3.7/site-packages (from plotly->catboost) (8.0.1)\r\n",
      "Requirement already satisfied: typing-extensions in /opt/conda/lib/python3.7/site-packages (from kiwisolver>=1.0.1->matplotlib->catboost) (4.3.0)\r\n",
      "\u001b[33mWARNING: Running pip as the 'root' user can result in broken permissions and conflicting behaviour with the system package manager. It is recommended to use a virtual environment instead: https://pip.pypa.io/warnings/venv\u001b[0m\u001b[33m\r\n",
      "\u001b[0m"
     ]
    }
   ],
   "source": [
    "!pip install pywaffle\n",
    "!pip install catboost"
   ]
  },
  {
   "cell_type": "code",
   "execution_count": 2,
   "id": "c5917515",
   "metadata": {
    "execution": {
     "iopub.execute_input": "2022-10-05T05:29:40.936515Z",
     "iopub.status.busy": "2022-10-05T05:29:40.935405Z",
     "iopub.status.idle": "2022-10-05T05:29:43.772762Z",
     "shell.execute_reply": "2022-10-05T05:29:43.771623Z"
    },
    "id": "8eb6Zrnj07En",
    "papermill": {
     "duration": 2.869023,
     "end_time": "2022-10-05T05:29:43.775327",
     "exception": false,
     "start_time": "2022-10-05T05:29:40.906304",
     "status": "completed"
    },
    "tags": []
   },
   "outputs": [],
   "source": [
    "import shutil\n",
    "from os import path\n",
    "\n",
    "import pandas as pd\n",
    "import numpy as np\n",
    "import matplotlib.pyplot as plt\n",
    "import seaborn as sns\n",
    "import plotly.express as px\n",
    "from pywaffle.waffle import Waffle\n",
    "\n",
    "import scipy\n",
    "from scipy.stats import zscore\n",
    "from imblearn.pipeline import Pipeline, make_pipeline\n",
    "from sklearn.compose import make_column_transformer\n",
    "from sklearn.preprocessing import OrdinalEncoder, LabelEncoder, StandardScaler\n",
    "from sklearn.feature_selection import f_classif, chi2\n",
    "from sklearn.model_selection import train_test_split\n",
    "from imblearn.over_sampling import SMOTE\n",
    "from imblearn.under_sampling import RandomUnderSampler, TomekLinks\n",
    "from sklearn.model_selection import GridSearchCV, RandomizedSearchCV\n",
    "from sklearn.model_selection import cross_val_score\n",
    "\n",
    "from sklearn.linear_model import LogisticRegression\n",
    "from sklearn.ensemble import RandomForestClassifier, AdaBoostClassifier, VotingClassifier\n",
    "from catboost import CatBoostClassifier\n",
    "from sklearn.neighbors import KNeighborsClassifier\n",
    "from sklearn.svm import SVC, LinearSVC\n",
    "from xgboost import XGBClassifier\n",
    "from sklearn.tree  import DecisionTreeClassifier\n",
    "\n",
    "from sklearn.metrics import confusion_matrix, classification_report, roc_curve, auc\n",
    "\n",
    "\n",
    "%matplotlib inline\n",
    "sns.set_style(\"darkgrid\")\n",
    "\n",
    "colors6 = sns.color_palette(['#1337f5', '#E80000', '#0f1e41', '#fd523e', '#404e5c', '#c9bbaa'], 6)\n",
    "colors2 = sns.color_palette(['#1337f5', '#E80000'], 2)\n",
    "colors1 = sns.color_palette(['#1337f5'], 1)"
   ]
  },
  {
   "cell_type": "markdown",
   "id": "99556324",
   "metadata": {
    "id": "YHqDw4MHE1O_",
    "papermill": {
     "duration": 0.027548,
     "end_time": "2022-10-05T05:29:43.831606",
     "exception": false,
     "start_time": "2022-10-05T05:29:43.804058",
     "status": "completed"
    },
    "tags": []
   },
   "source": [
    "# <a id=read> 1 Data Reading"
   ]
  },
  {
   "cell_type": "code",
   "execution_count": 3,
   "id": "0424c975",
   "metadata": {
    "execution": {
     "iopub.execute_input": "2022-10-05T05:29:43.889488Z",
     "iopub.status.busy": "2022-10-05T05:29:43.888676Z",
     "iopub.status.idle": "2022-10-05T05:29:44.873447Z",
     "shell.execute_reply": "2022-10-05T05:29:44.872229Z"
    },
    "id": "-QCTuhz4Bizy",
    "outputId": "8f1929cb-adca-4d53-80a7-c63103d1cf91",
    "papermill": {
     "duration": 1.016456,
     "end_time": "2022-10-05T05:29:44.876018",
     "exception": false,
     "start_time": "2022-10-05T05:29:43.859562",
     "status": "completed"
    },
    "tags": []
   },
   "outputs": [
    {
     "data": {
      "text/html": [
       "<div>\n",
       "<style scoped>\n",
       "    .dataframe tbody tr th:only-of-type {\n",
       "        vertical-align: middle;\n",
       "    }\n",
       "\n",
       "    .dataframe tbody tr th {\n",
       "        vertical-align: top;\n",
       "    }\n",
       "\n",
       "    .dataframe thead th {\n",
       "        text-align: right;\n",
       "    }\n",
       "</style>\n",
       "<table border=\"1\" class=\"dataframe\">\n",
       "  <thead>\n",
       "    <tr style=\"text-align: right;\">\n",
       "      <th></th>\n",
       "      <th>HeartDisease</th>\n",
       "      <th>BMI</th>\n",
       "      <th>Smoking</th>\n",
       "      <th>AlcoholDrinking</th>\n",
       "      <th>Stroke</th>\n",
       "      <th>PhysicalHealth</th>\n",
       "      <th>MentalHealth</th>\n",
       "      <th>DiffWalking</th>\n",
       "      <th>Sex</th>\n",
       "      <th>AgeCategory</th>\n",
       "      <th>Race</th>\n",
       "      <th>Diabetic</th>\n",
       "      <th>PhysicalActivity</th>\n",
       "      <th>GenHealth</th>\n",
       "      <th>SleepTime</th>\n",
       "      <th>Asthma</th>\n",
       "      <th>KidneyDisease</th>\n",
       "      <th>SkinCancer</th>\n",
       "    </tr>\n",
       "  </thead>\n",
       "  <tbody>\n",
       "    <tr>\n",
       "      <th>0</th>\n",
       "      <td>No</td>\n",
       "      <td>16.60</td>\n",
       "      <td>Yes</td>\n",
       "      <td>No</td>\n",
       "      <td>No</td>\n",
       "      <td>3.0</td>\n",
       "      <td>30.0</td>\n",
       "      <td>No</td>\n",
       "      <td>Female</td>\n",
       "      <td>55-59</td>\n",
       "      <td>White</td>\n",
       "      <td>Yes</td>\n",
       "      <td>Yes</td>\n",
       "      <td>Very good</td>\n",
       "      <td>5.0</td>\n",
       "      <td>Yes</td>\n",
       "      <td>No</td>\n",
       "      <td>Yes</td>\n",
       "    </tr>\n",
       "    <tr>\n",
       "      <th>1</th>\n",
       "      <td>No</td>\n",
       "      <td>20.34</td>\n",
       "      <td>No</td>\n",
       "      <td>No</td>\n",
       "      <td>Yes</td>\n",
       "      <td>0.0</td>\n",
       "      <td>0.0</td>\n",
       "      <td>No</td>\n",
       "      <td>Female</td>\n",
       "      <td>80 or older</td>\n",
       "      <td>White</td>\n",
       "      <td>No</td>\n",
       "      <td>Yes</td>\n",
       "      <td>Very good</td>\n",
       "      <td>7.0</td>\n",
       "      <td>No</td>\n",
       "      <td>No</td>\n",
       "      <td>No</td>\n",
       "    </tr>\n",
       "    <tr>\n",
       "      <th>2</th>\n",
       "      <td>No</td>\n",
       "      <td>26.58</td>\n",
       "      <td>Yes</td>\n",
       "      <td>No</td>\n",
       "      <td>No</td>\n",
       "      <td>20.0</td>\n",
       "      <td>30.0</td>\n",
       "      <td>No</td>\n",
       "      <td>Male</td>\n",
       "      <td>65-69</td>\n",
       "      <td>White</td>\n",
       "      <td>Yes</td>\n",
       "      <td>Yes</td>\n",
       "      <td>Fair</td>\n",
       "      <td>8.0</td>\n",
       "      <td>Yes</td>\n",
       "      <td>No</td>\n",
       "      <td>No</td>\n",
       "    </tr>\n",
       "    <tr>\n",
       "      <th>3</th>\n",
       "      <td>No</td>\n",
       "      <td>24.21</td>\n",
       "      <td>No</td>\n",
       "      <td>No</td>\n",
       "      <td>No</td>\n",
       "      <td>0.0</td>\n",
       "      <td>0.0</td>\n",
       "      <td>No</td>\n",
       "      <td>Female</td>\n",
       "      <td>75-79</td>\n",
       "      <td>White</td>\n",
       "      <td>No</td>\n",
       "      <td>No</td>\n",
       "      <td>Good</td>\n",
       "      <td>6.0</td>\n",
       "      <td>No</td>\n",
       "      <td>No</td>\n",
       "      <td>Yes</td>\n",
       "    </tr>\n",
       "    <tr>\n",
       "      <th>4</th>\n",
       "      <td>No</td>\n",
       "      <td>23.71</td>\n",
       "      <td>No</td>\n",
       "      <td>No</td>\n",
       "      <td>No</td>\n",
       "      <td>28.0</td>\n",
       "      <td>0.0</td>\n",
       "      <td>Yes</td>\n",
       "      <td>Female</td>\n",
       "      <td>40-44</td>\n",
       "      <td>White</td>\n",
       "      <td>No</td>\n",
       "      <td>Yes</td>\n",
       "      <td>Very good</td>\n",
       "      <td>8.0</td>\n",
       "      <td>No</td>\n",
       "      <td>No</td>\n",
       "      <td>No</td>\n",
       "    </tr>\n",
       "  </tbody>\n",
       "</table>\n",
       "</div>"
      ],
      "text/plain": [
       "  HeartDisease    BMI Smoking AlcoholDrinking Stroke  PhysicalHealth  \\\n",
       "0           No  16.60     Yes              No     No             3.0   \n",
       "1           No  20.34      No              No    Yes             0.0   \n",
       "2           No  26.58     Yes              No     No            20.0   \n",
       "3           No  24.21      No              No     No             0.0   \n",
       "4           No  23.71      No              No     No            28.0   \n",
       "\n",
       "   MentalHealth DiffWalking     Sex  AgeCategory   Race Diabetic  \\\n",
       "0          30.0          No  Female        55-59  White      Yes   \n",
       "1           0.0          No  Female  80 or older  White       No   \n",
       "2          30.0          No    Male        65-69  White      Yes   \n",
       "3           0.0          No  Female        75-79  White       No   \n",
       "4           0.0         Yes  Female        40-44  White       No   \n",
       "\n",
       "  PhysicalActivity  GenHealth  SleepTime Asthma KidneyDisease SkinCancer  \n",
       "0              Yes  Very good        5.0    Yes            No        Yes  \n",
       "1              Yes  Very good        7.0     No            No         No  \n",
       "2              Yes       Fair        8.0    Yes            No         No  \n",
       "3               No       Good        6.0     No            No        Yes  \n",
       "4              Yes  Very good        8.0     No            No         No  "
      ]
     },
     "execution_count": 3,
     "metadata": {},
     "output_type": "execute_result"
    }
   ],
   "source": [
    "df = pd.read_csv(\"../input/personal-key-indicators-of-heart-disease/heart_2020_cleaned.csv\")\n",
    "df.head()"
   ]
  },
  {
   "cell_type": "markdown",
   "id": "acced55e",
   "metadata": {
    "id": "0hp4oy75D0-_",
    "papermill": {
     "duration": 0.027694,
     "end_time": "2022-10-05T05:29:44.931823",
     "exception": false,
     "start_time": "2022-10-05T05:29:44.904129",
     "status": "completed"
    },
    "tags": []
   },
   "source": [
    "# <a id=clean> 2 Data Cleaning"
   ]
  },
  {
   "cell_type": "code",
   "execution_count": 4,
   "id": "3d3e856c",
   "metadata": {
    "execution": {
     "iopub.execute_input": "2022-10-05T05:29:44.989260Z",
     "iopub.status.busy": "2022-10-05T05:29:44.988876Z",
     "iopub.status.idle": "2022-10-05T05:29:45.054376Z",
     "shell.execute_reply": "2022-10-05T05:29:45.053270Z"
    },
    "id": "qgS6x7io886L",
    "papermill": {
     "duration": 0.097285,
     "end_time": "2022-10-05T05:29:45.057050",
     "exception": false,
     "start_time": "2022-10-05T05:29:44.959765",
     "status": "completed"
    },
    "tags": []
   },
   "outputs": [],
   "source": [
    "num_cols = df.select_dtypes(exclude='object').columns\n",
    "obj_cols = df.select_dtypes(include='object').columns[1:]"
   ]
  },
  {
   "cell_type": "markdown",
   "id": "b59edbdc",
   "metadata": {
    "id": "HrMNI7qAEp2I",
    "papermill": {
     "duration": 0.027747,
     "end_time": "2022-10-05T05:29:45.113389",
     "exception": false,
     "start_time": "2022-10-05T05:29:45.085642",
     "status": "completed"
    },
    "tags": []
   },
   "source": [
    "## <a id=missing> 2.1 Missing Data"
   ]
  },
  {
   "cell_type": "markdown",
   "id": "cc674580",
   "metadata": {
    "id": "tDEItRKVGcbL",
    "papermill": {
     "duration": 0.027455,
     "end_time": "2022-10-05T05:29:45.169105",
     "exception": false,
     "start_time": "2022-10-05T05:29:45.141650",
     "status": "completed"
    },
    "tags": []
   },
   "source": [
    "For missing data we should first check if any values are null/NaN. Then we should check the unique values of every column (especially categorical) in search of any abnormal values such as \"???\"."
   ]
  },
  {
   "cell_type": "markdown",
   "id": "21e6138f",
   "metadata": {
    "id": "_Mxxpm3FG3hn",
    "papermill": {
     "duration": 0.02762,
     "end_time": "2022-10-05T05:29:45.225165",
     "exception": false,
     "start_time": "2022-10-05T05:29:45.197545",
     "status": "completed"
    },
    "tags": []
   },
   "source": [
    "### <a id=null> 2.1.1 Null Values"
   ]
  },
  {
   "cell_type": "code",
   "execution_count": 5,
   "id": "cdeae363",
   "metadata": {
    "execution": {
     "iopub.execute_input": "2022-10-05T05:29:45.283055Z",
     "iopub.status.busy": "2022-10-05T05:29:45.282667Z",
     "iopub.status.idle": "2022-10-05T05:29:45.477736Z",
     "shell.execute_reply": "2022-10-05T05:29:45.476762Z"
    },
    "id": "0s5jDR9xEpPN",
    "outputId": "fed4560d-3031-4614-965f-54889a29685c",
    "papermill": {
     "duration": 0.226931,
     "end_time": "2022-10-05T05:29:45.480490",
     "exception": false,
     "start_time": "2022-10-05T05:29:45.253559",
     "status": "completed"
    },
    "tags": []
   },
   "outputs": [
    {
     "data": {
      "text/plain": [
       "HeartDisease        0\n",
       "BMI                 0\n",
       "Smoking             0\n",
       "AlcoholDrinking     0\n",
       "Stroke              0\n",
       "PhysicalHealth      0\n",
       "MentalHealth        0\n",
       "DiffWalking         0\n",
       "Sex                 0\n",
       "AgeCategory         0\n",
       "Race                0\n",
       "Diabetic            0\n",
       "PhysicalActivity    0\n",
       "GenHealth           0\n",
       "SleepTime           0\n",
       "Asthma              0\n",
       "KidneyDisease       0\n",
       "SkinCancer          0\n",
       "dtype: int64"
      ]
     },
     "execution_count": 5,
     "metadata": {},
     "output_type": "execute_result"
    }
   ],
   "source": [
    "df.isna().sum()"
   ]
  },
  {
   "cell_type": "markdown",
   "id": "50e0effe",
   "metadata": {
    "id": "_IUoL4iDHl7Y",
    "papermill": {
     "duration": 0.027904,
     "end_time": "2022-10-05T05:29:45.537087",
     "exception": false,
     "start_time": "2022-10-05T05:29:45.509183",
     "status": "completed"
    },
    "tags": []
   },
   "source": [
    "We Have no null values in the dataset."
   ]
  },
  {
   "cell_type": "markdown",
   "id": "fcf0560a",
   "metadata": {
    "id": "GvZZxDp1Hsz5",
    "papermill": {
     "duration": 0.02768,
     "end_time": "2022-10-05T05:29:45.593002",
     "exception": false,
     "start_time": "2022-10-05T05:29:45.565322",
     "status": "completed"
    },
    "tags": []
   },
   "source": [
    "### <a id=unusualvalues> 2.1.2 Unusual Values"
   ]
  },
  {
   "cell_type": "code",
   "execution_count": 6,
   "id": "6141e5eb",
   "metadata": {
    "execution": {
     "iopub.execute_input": "2022-10-05T05:29:45.652004Z",
     "iopub.status.busy": "2022-10-05T05:29:45.651068Z",
     "iopub.status.idle": "2022-10-05T05:29:46.005484Z",
     "shell.execute_reply": "2022-10-05T05:29:46.004137Z"
    },
    "id": "q8DMCNgaHw0m",
    "outputId": "72163f22-898b-4cce-9bb2-c0abf82c10dd",
    "papermill": {
     "duration": 0.386418,
     "end_time": "2022-10-05T05:29:46.007912",
     "exception": false,
     "start_time": "2022-10-05T05:29:45.621494",
     "status": "completed"
    },
    "tags": []
   },
   "outputs": [
    {
     "name": "stdout",
     "output_type": "stream",
     "text": [
      "Unique Values for categorical columns:\n",
      "  - HeartDisease: ['No' 'Yes']\n",
      "\n",
      "  - Smoking: ['Yes' 'No']\n",
      "\n",
      "  - AlcoholDrinking: ['No' 'Yes']\n",
      "\n",
      "  - Stroke: ['No' 'Yes']\n",
      "\n",
      "  - DiffWalking: ['No' 'Yes']\n",
      "\n",
      "  - Sex: ['Female' 'Male']\n",
      "\n",
      "  - AgeCategory: ['55-59' '80 or older' '65-69' '75-79' '40-44' '70-74' '60-64' '50-54'\n",
      " '45-49' '18-24' '35-39' '30-34' '25-29']\n",
      "\n",
      "  - Race: ['White' 'Black' 'Asian' 'American Indian/Alaskan Native' 'Other'\n",
      " 'Hispanic']\n",
      "\n",
      "  - Diabetic: ['Yes' 'No' 'No, borderline diabetes' 'Yes (during pregnancy)']\n",
      "\n",
      "  - PhysicalActivity: ['Yes' 'No']\n",
      "\n",
      "  - GenHealth: ['Very good' 'Fair' 'Good' 'Poor' 'Excellent']\n",
      "\n",
      "  - Asthma: ['Yes' 'No']\n",
      "\n",
      "  - KidneyDisease: ['No' 'Yes']\n",
      "\n",
      "  - SkinCancer: ['Yes' 'No']\n",
      "\n"
     ]
    }
   ],
   "source": [
    "print(f\"Unique Values for categorical columns:\")\n",
    "for col in df.select_dtypes(include='object'):\n",
    "  print(f\"  - {col}: {df[col].unique()}\\n\")"
   ]
  },
  {
   "cell_type": "markdown",
   "id": "ad1e9cea",
   "metadata": {
    "id": "o4AGxhbWQjXc",
    "papermill": {
     "duration": 0.028005,
     "end_time": "2022-10-05T05:29:46.065516",
     "exception": false,
     "start_time": "2022-10-05T05:29:46.037511",
     "status": "completed"
    },
    "tags": []
   },
   "source": [
    "We can see for each column that all the values are valid and there are no missing values."
   ]
  },
  {
   "cell_type": "markdown",
   "id": "4ca13329",
   "metadata": {
    "id": "MirTteWmRSkB",
    "papermill": {
     "duration": 0.027975,
     "end_time": "2022-10-05T05:29:46.122065",
     "exception": false,
     "start_time": "2022-10-05T05:29:46.094090",
     "status": "completed"
    },
    "tags": []
   },
   "source": [
    "## <a id=outliers> 2.2 Outliers"
   ]
  },
  {
   "cell_type": "markdown",
   "id": "1bd4e673",
   "metadata": {
    "id": "5HLSgD_X1jMz",
    "papermill": {
     "duration": 0.027999,
     "end_time": "2022-10-05T05:29:46.178541",
     "exception": false,
     "start_time": "2022-10-05T05:29:46.150542",
     "status": "completed"
    },
    "tags": []
   },
   "source": [
    "### <a id=univariate> 2.2.1 Univariate Outlier Detection"
   ]
  },
  {
   "cell_type": "markdown",
   "id": "79af48c7",
   "metadata": {
    "id": "VvteqkcBL2CK",
    "papermill": {
     "duration": 0.028236,
     "end_time": "2022-10-05T05:29:46.234946",
     "exception": false,
     "start_time": "2022-10-05T05:29:46.206710",
     "status": "completed"
    },
    "tags": []
   },
   "source": [
    "We should explore outliers only in the numerical variables as there is no notion of uniariate outliers in categorical variables."
   ]
  },
  {
   "cell_type": "code",
   "execution_count": 7,
   "id": "94d62bd8",
   "metadata": {
    "execution": {
     "iopub.execute_input": "2022-10-05T05:29:46.294030Z",
     "iopub.status.busy": "2022-10-05T05:29:46.293004Z",
     "iopub.status.idle": "2022-10-05T05:29:50.831666Z",
     "shell.execute_reply": "2022-10-05T05:29:50.830481Z"
    },
    "id": "MrEJI0uq2ihv",
    "outputId": "4351003d-2f22-4d6a-c71f-f824aab4c0c6",
    "papermill": {
     "duration": 4.570526,
     "end_time": "2022-10-05T05:29:50.833978",
     "exception": false,
     "start_time": "2022-10-05T05:29:46.263452",
     "status": "completed"
    },
    "tags": []
   },
   "outputs": [
    {
     "name": "stdout",
     "output_type": "stream",
     "text": [
      "\n",
      "\n"
     ]
    },
    {
     "data": {
      "image/png": "[encoded data removed]",
      "text/plain": [
       "<Figure size 1152x288 with 2 Axes>"
      ]
     },
     "metadata": {},
     "output_type": "display_data"
    },
    {
     "name": "stdout",
     "output_type": "stream",
     "text": [
      "\n",
      "\n"
     ]
    },
    {
     "data": {
      "image/png": "[encoded data removed]",
      "text/plain": [
       "<Figure size 1152x288 with 2 Axes>"
      ]
     },
     "metadata": {},
     "output_type": "display_data"
    },
    {
     "name": "stdout",
     "output_type": "stream",
     "text": [
      "\n",
      "\n"
     ]
    },
    {
     "data": {
      "image/png": "[encoded data removed]",
      "text/plain": [
       "<Figure size 1152x288 with 2 Axes>"
      ]
     },
     "metadata": {},
     "output_type": "display_data"
    },
    {
     "name": "stdout",
     "output_type": "stream",
     "text": [
      "\n",
      "\n"
     ]
    },
    {
     "data": {
      "image/png": "[encoded data removed]",
      "text/plain": [
       "<Figure size 1152x288 with 2 Axes>"
      ]
     },
     "metadata": {},
     "output_type": "display_data"
    }
   ],
   "source": [
    "numerical = df.select_dtypes(exclude='object')\n",
    "n = len(numerical)\n",
    "\n",
    "for col in numerical:\n",
    "  fig, (ax1, ax2) = plt.subplots(nrows=2, figsize=(16, 4))\n",
    "  plt.suptitle(f\"Distribution of {col}\")\n",
    "  sns.boxplot(data=df, x=col, ax=ax1, palette=colors1)\n",
    "  ax1.set_xlabel(None)\n",
    "  ax1.get_xaxis().set_ticks([])\n",
    "  sns.histplot(data=df, x=col, ax=ax2, palette=colors1)\n",
    "  plt.subplots_adjust(hspace=0)\n",
    "  print(\"\\n\")\n",
    "  plt.show()\n",
    "\n"
   ]
  },
  {
   "cell_type": "markdown",
   "id": "53d7cfdd",
   "metadata": {
    "id": "mtlQggrU9SC_",
    "papermill": {
     "duration": 0.029313,
     "end_time": "2022-10-05T05:29:50.893422",
     "exception": false,
     "start_time": "2022-10-05T05:29:50.864109",
     "status": "completed"
    },
    "tags": []
   },
   "source": [
    "We can see that all numerical variables are skewed and contain outliers. Let's examine the IQR outliers more closely."
   ]
  },
  {
   "cell_type": "code",
   "execution_count": 8,
   "id": "ec832606",
   "metadata": {
    "execution": {
     "iopub.execute_input": "2022-10-05T05:29:50.955082Z",
     "iopub.status.busy": "2022-10-05T05:29:50.954697Z",
     "iopub.status.idle": "2022-10-05T05:29:51.044749Z",
     "shell.execute_reply": "2022-10-05T05:29:51.043097Z"
    },
    "id": "TftAbAKl_0Gq",
    "outputId": "f9de4e19-f98a-4af3-e215-0eaaca58b434",
    "papermill": {
     "duration": 0.123923,
     "end_time": "2022-10-05T05:29:51.047321",
     "exception": false,
     "start_time": "2022-10-05T05:29:50.923398",
     "status": "completed"
    },
    "tags": []
   },
   "outputs": [
    {
     "name": "stdout",
     "output_type": "stream",
     "text": [
      "BMI:\n",
      "\tOutlier Num = 10396\n",
      "\tOutlier Percentage = 3.25%\n",
      "\n",
      "PhysicalHealth:\n",
      "\tOutlier Num = 47146\n",
      "\tOutlier Percentage = 14.74%\n",
      "\n",
      "MentalHealth:\n",
      "\tOutlier Num = 51576\n",
      "\tOutlier Percentage = 16.13%\n",
      "\n",
      "SleepTime:\n",
      "\tOutlier Num = 4543\n",
      "\tOutlier Percentage = 1.42%\n",
      "\n"
     ]
    }
   ],
   "source": [
    "for col in numerical:\n",
    "  Q1, Q3 = df[col].quantile([0.25,0.75])\n",
    "  IQR = Q3 - Q1\n",
    "  right = Q3 + 1.5 * IQR\n",
    "  left = Q1 - 1.5 * IQR\n",
    "  n = len(df.loc[(df[col] < left) | (df[col] > right)])\n",
    "  print(f\"{col}:\\n\\tOutlier Num = {n}\\n\\tOutlier Percentage = {n*100/len(df):.2f}%\\n\")"
   ]
  },
  {
   "cell_type": "markdown",
   "id": "5ea9ae3c",
   "metadata": {
    "id": "RGrOlcXC5MbX",
    "papermill": {
     "duration": 0.03032,
     "end_time": "2022-10-05T05:29:51.108325",
     "exception": false,
     "start_time": "2022-10-05T05:29:51.078005",
     "status": "completed"
    },
    "tags": []
   },
   "source": [
    "### <a id=multivariate> 2.2.2 Multivariate Outlier Detection"
   ]
  },
  {
   "cell_type": "code",
   "execution_count": 9,
   "id": "9db6d333",
   "metadata": {
    "execution": {
     "iopub.execute_input": "2022-10-05T05:29:51.169868Z",
     "iopub.status.busy": "2022-10-05T05:29:51.169451Z",
     "iopub.status.idle": "2022-10-05T05:29:56.897863Z",
     "shell.execute_reply": "2022-10-05T05:29:56.896673Z"
    },
    "id": "PCqQLAFV5v0w",
    "outputId": "6b577929-8041-44ce-a81f-7a69e815d823",
    "papermill": {
     "duration": 5.76193,
     "end_time": "2022-10-05T05:29:56.900225",
     "exception": false,
     "start_time": "2022-10-05T05:29:51.138295",
     "status": "completed"
    },
    "tags": []
   },
   "outputs": [
    {
     "data": {
      "image/png": "[encoded data removed]",
      "text/plain": [
       "<Figure size 864x576 with 2 Axes>"
      ]
     },
     "metadata": {},
     "output_type": "display_data"
    },
    {
     "data": {
      "image/png": "[encoded data removed]",
      "text/plain": [
       "<Figure size 864x576 with 2 Axes>"
      ]
     },
     "metadata": {},
     "output_type": "display_data"
    },
    {
     "data": {
      "image/png": "[encoded data removed]",
      "text/plain": [
       "<Figure size 864x576 with 2 Axes>"
      ]
     },
     "metadata": {},
     "output_type": "display_data"
    },
    {
     "data": {
      "image/png": "[encoded data removed]",
      "text/plain": [
       "<Figure size 864x576 with 2 Axes>"
      ]
     },
     "metadata": {},
     "output_type": "display_data"
    }
   ],
   "source": [
    "num_cols = df.select_dtypes(exclude='object').columns\n",
    "for col in num_cols:\n",
    "    fig, ax =plt.subplots(1,2, figsize=(12,8))\n",
    "    sns.boxplot(data=df, y=col, ax=ax[0], palette=colors1)\n",
    "    sns.scatterplot(data=df,x = 'HeartDisease', s = 100, y=col, ax=ax[1], palette=colors1)\n",
    "    plt.show()"
   ]
  },
  {
   "cell_type": "markdown",
   "id": "4560a7f6",
   "metadata": {
    "id": "myTNpGYZNNNS",
    "papermill": {
     "duration": 0.032023,
     "end_time": "2022-10-05T05:29:56.964864",
     "exception": false,
     "start_time": "2022-10-05T05:29:56.932841",
     "status": "completed"
    },
    "tags": []
   },
   "source": [
    "### <a id=removal> 2.2.3 Outlier Removal"
   ]
  },
  {
   "cell_type": "code",
   "execution_count": 10,
   "id": "3cdf1ee6",
   "metadata": {
    "execution": {
     "iopub.execute_input": "2022-10-05T05:29:57.031426Z",
     "iopub.status.busy": "2022-10-05T05:29:57.030631Z",
     "iopub.status.idle": "2022-10-05T05:29:57.208569Z",
     "shell.execute_reply": "2022-10-05T05:29:57.207677Z"
    },
    "id": "nuVWhMsb53_B",
    "papermill": {
     "duration": 0.214108,
     "end_time": "2022-10-05T05:29:57.211128",
     "exception": false,
     "start_time": "2022-10-05T05:29:56.997020",
     "status": "completed"
    },
    "tags": []
   },
   "outputs": [],
   "source": [
    "zs = df.copy()\n",
    "for col in num_cols:\n",
    "  zs[col] = zscore(zs[col])\n",
    "outscores = np.abs(zs[num_cols])\n",
    "no_outliers = (outscores<=3.3).all(axis=1)\n",
    "df2 = df[no_outliers]"
   ]
  },
  {
   "cell_type": "markdown",
   "id": "8bd1ac9d",
   "metadata": {
    "id": "nC9bWu3yTdjG",
    "papermill": {
     "duration": 0.031695,
     "end_time": "2022-10-05T05:29:57.274977",
     "exception": false,
     "start_time": "2022-10-05T05:29:57.243282",
     "status": "completed"
    },
    "tags": []
   },
   "source": [
    "## <a id=catencoding> 2.3 Categorical Encoding & Feature Scaling"
   ]
  },
  {
   "cell_type": "code",
   "execution_count": 11,
   "id": "b79d6430",
   "metadata": {
    "execution": {
     "iopub.execute_input": "2022-10-05T05:29:57.341424Z",
     "iopub.status.busy": "2022-10-05T05:29:57.340610Z",
     "iopub.status.idle": "2022-10-05T05:29:57.354382Z",
     "shell.execute_reply": "2022-10-05T05:29:57.353163Z"
    },
    "id": "6i9IrSGm8iED",
    "outputId": "80283a27-eb11-4795-e909-20e40e62c08b",
    "papermill": {
     "duration": 0.049776,
     "end_time": "2022-10-05T05:29:57.356702",
     "exception": false,
     "start_time": "2022-10-05T05:29:57.306926",
     "status": "completed"
    },
    "tags": []
   },
   "outputs": [
    {
     "data": {
      "text/plain": [
       "ColumnTransformer(remainder='passthrough',\n",
       "                  transformers=[('ordinalencoder', OrdinalEncoder(),\n",
       "                                 Index(['Smoking', 'AlcoholDrinking', 'Stroke', 'DiffWalking', 'Sex',\n",
       "       'AgeCategory', 'Race', 'Diabetic', 'PhysicalActivity', 'GenHealth',\n",
       "       'Asthma', 'KidneyDisease', 'SkinCancer'],\n",
       "      dtype='object')),\n",
       "                                ('standardscaler', StandardScaler(),\n",
       "                                 Index(['BMI', 'PhysicalHealth', 'MentalHealth', 'SleepTime'], dtype='object'))])"
      ]
     },
     "execution_count": 11,
     "metadata": {},
     "output_type": "execute_result"
    }
   ],
   "source": [
    "trans = make_column_transformer(\n",
    "    (OrdinalEncoder(), obj_cols),\n",
    "    (StandardScaler(), num_cols),\n",
    "    remainder='passthrough'\n",
    ")\n",
    "\n",
    "trans"
   ]
  },
  {
   "cell_type": "markdown",
   "id": "f1b78e2d",
   "metadata": {
    "id": "W7UG7RjtaCiv",
    "papermill": {
     "duration": 0.031787,
     "end_time": "2022-10-05T05:29:57.420978",
     "exception": false,
     "start_time": "2022-10-05T05:29:57.389191",
     "status": "completed"
    },
    "tags": []
   },
   "source": [
    "## <a id=traintestsplit> 2.4 Train-Test Split"
   ]
  },
  {
   "cell_type": "code",
   "execution_count": 12,
   "id": "55fb8590",
   "metadata": {
    "execution": {
     "iopub.execute_input": "2022-10-05T05:29:57.487286Z",
     "iopub.status.busy": "2022-10-05T05:29:57.486523Z",
     "iopub.status.idle": "2022-10-05T05:29:57.806101Z",
     "shell.execute_reply": "2022-10-05T05:29:57.804862Z"
    },
    "id": "9VTlgQrBZ_D9",
    "papermill": {
     "duration": 0.355701,
     "end_time": "2022-10-05T05:29:57.808731",
     "exception": false,
     "start_time": "2022-10-05T05:29:57.453030",
     "status": "completed"
    },
    "tags": []
   },
   "outputs": [],
   "source": [
    "X = df2.drop(columns=['HeartDisease'])\n",
    "y =  df2['HeartDisease']\n",
    "\n",
    "X_train, X_test, y_train, y_test = train_test_split(X, y, test_size=0.25, random_state=42)"
   ]
  },
  {
   "cell_type": "markdown",
   "id": "4fcc239a",
   "metadata": {
    "id": "nwFH8lTYNyiz",
    "papermill": {
     "duration": 0.031805,
     "end_time": "2022-10-05T05:29:57.873441",
     "exception": false,
     "start_time": "2022-10-05T05:29:57.841636",
     "status": "completed"
    },
    "tags": []
   },
   "source": [
    "The test set contains 73,600 observations."
   ]
  },
  {
   "cell_type": "markdown",
   "id": "41c2e184",
   "metadata": {
    "id": "N6EWiDSS_YPp",
    "papermill": {
     "duration": 0.034506,
     "end_time": "2022-10-05T05:29:57.940224",
     "exception": false,
     "start_time": "2022-10-05T05:29:57.905718",
     "status": "completed"
    },
    "tags": []
   },
   "source": [
    "# <a id=modeling> 3 Modeling"
   ]
  },
  {
   "cell_type": "markdown",
   "id": "380f175c",
   "metadata": {
    "id": "hQX4za92E8XV",
    "papermill": {
     "duration": 0.031592,
     "end_time": "2022-10-05T05:29:58.004633",
     "exception": false,
     "start_time": "2022-10-05T05:29:57.973041",
     "status": "completed"
    },
    "tags": []
   },
   "source": [
    "## <a id=helpers> Helpers"
   ]
  },
  {
   "cell_type": "code",
   "execution_count": 13,
   "id": "9990101b",
   "metadata": {
    "cellView": "form",
    "execution": {
     "iopub.execute_input": "2022-10-05T05:29:58.071267Z",
     "iopub.status.busy": "2022-10-05T05:29:58.070871Z",
     "iopub.status.idle": "2022-10-05T05:29:58.088367Z",
     "shell.execute_reply": "2022-10-05T05:29:58.087414Z"
    },
    "id": "dzv6qubCEuIs",
    "papermill": {
     "duration": 0.053958,
     "end_time": "2022-10-05T05:29:58.090656",
     "exception": false,
     "start_time": "2022-10-05T05:29:58.036698",
     "status": "completed"
    },
    "tags": []
   },
   "outputs": [],
   "source": [
    "#@title\n",
    "def make_confusion_matrix(cf,\n",
    "                          group_names=None,\n",
    "                          categories='auto',\n",
    "                          count=True,\n",
    "                          percent=True,\n",
    "                          cbar=True,\n",
    "                          xyticks=True,\n",
    "                          xyplotlabels=True,\n",
    "                          sum_stats=True,\n",
    "                          figsize=None,\n",
    "                          cmap='Blues',\n",
    "                          title=None):\n",
    "    '''\n",
    "    This function will make a pretty plot of an sklearn Confusion Matrix cm using a Seaborn heatmap visualization.\n",
    "\n",
    "    Arguments\n",
    "    ---------\n",
    "    cf:            confusion matrix to be passed in\n",
    "\n",
    "    group_names:   List of strings that represent the labels row by row to be shown in each square.\n",
    "\n",
    "    categories:    List of strings containing the categories to be displayed on the x,y axis. Default is 'auto'\n",
    "\n",
    "    count:         If True, show the raw number in the confusion matrix. Default is True.\n",
    "\n",
    "    normalize:     If True, show the proportions for each category. Default is True.\n",
    "\n",
    "    cbar:          If True, show the color bar. The cbar values are based off the values in the confusion matrix.\n",
    "                   Default is True.\n",
    "\n",
    "    xyticks:       If True, show x and y ticks. Default is True.\n",
    "\n",
    "    xyplotlabels:  If True, show 'True Label' and 'Predicted Label' on the figure. Default is True.\n",
    "\n",
    "    sum_stats:     If True, display summary statistics below the figure. Default is True.\n",
    "\n",
    "    figsize:       Tuple representing the figure size. Default will be the matplotlib rcParams value.\n",
    "\n",
    "    cmap:          Colormap of the values displayed from matplotlib.pyplot.cm. Default is 'Blues'\n",
    "                   See http://matplotlib.org/examples/color/colormaps_reference.html\n",
    "                   \n",
    "    title:         Title for the heatmap. Default is None.\n",
    "\n",
    "    '''\n",
    "\n",
    "\n",
    "    # CODE TO GENERATE TEXT INSIDE EACH SQUARE\n",
    "    blanks = ['' for i in range(cf.size)]\n",
    "\n",
    "    if group_names and len(group_names)==cf.size:\n",
    "        group_labels = [\"{}\\n\".format(value) for value in group_names]\n",
    "    else:\n",
    "        group_labels = blanks\n",
    "\n",
    "    if count:\n",
    "        group_counts = [\"{0:0.0f}\\n\".format(value) for value in cf.flatten()]\n",
    "    else:\n",
    "        group_counts = blanks\n",
    "\n",
    "    if percent:\n",
    "        group_percentages = [\"{0:.2%}\".format(value) for value in cf.flatten()/np.sum(cf)]\n",
    "    else:\n",
    "        group_percentages = blanks\n",
    "\n",
    "    box_labels = [f\"{v1}{v2}{v3}\".strip() for v1, v2, v3 in zip(group_labels,group_counts,group_percentages)]\n",
    "    box_labels = np.asarray(box_labels).reshape(cf.shape[0],cf.shape[1])\n",
    "\n",
    "\n",
    "    # CODE TO GENERATE SUMMARY STATISTICS & TEXT FOR SUMMARY STATS\n",
    "    if sum_stats:\n",
    "        #Accuracy is sum of diagonal divided by total observations\n",
    "        accuracy  = np.trace(cf) / float(np.sum(cf))\n",
    "\n",
    "        #if it is a binary confusion matrix, show some more stats\n",
    "        if len(cf)==2:\n",
    "            #Metrics for Binary Confusion Matrices\n",
    "            precision = cf[1,1] / sum(cf[:,1])\n",
    "            recall    = cf[1,1] / sum(cf[1,:])\n",
    "            f1_score  = 2*precision*recall / (precision + recall)\n",
    "            stats_text = \"\\n\\nAccuracy={:0.3f}\\nPrecision={:0.3f}\\nRecall={:0.3f}\\nF1 Score={:0.3f}\".format(\n",
    "                accuracy,precision,recall,f1_score)\n",
    "        else:\n",
    "            stats_text = \"\\n\\nAccuracy={:0.3f}\".format(accuracy)\n",
    "    else:\n",
    "        stats_text = \"\"\n",
    "\n",
    "\n",
    "    # SET FIGURE PARAMETERS ACCORDING TO OTHER ARGUMENTS\n",
    "    if figsize==None:\n",
    "        #Get default figure size if not set\n",
    "        figsize = plt.rcParams.get('figure.figsize')\n",
    "\n",
    "    if xyticks==False:\n",
    "        #Do not show categories if xyticks is False\n",
    "        categories=False\n",
    "\n",
    "\n",
    "    # MAKE THE HEATMAP VISUALIZATION\n",
    "    plt.figure(figsize=figsize)\n",
    "    sns.heatmap(cf,annot=box_labels,fmt=\"\",cmap=cmap,cbar=cbar,xticklabels=categories,yticklabels=categories)\n",
    "\n",
    "    if xyplotlabels:\n",
    "        plt.ylabel('True label')\n",
    "        plt.xlabel('Predicted label' + stats_text)\n",
    "    else:\n",
    "        plt.xlabel(stats_text)\n",
    "    \n",
    "    if title:\n",
    "        plt.title(title)"
   ]
  },
  {
   "cell_type": "code",
   "execution_count": 14,
   "id": "c49fb99c",
   "metadata": {
    "execution": {
     "iopub.execute_input": "2022-10-05T05:29:58.156907Z",
     "iopub.status.busy": "2022-10-05T05:29:58.156516Z",
     "iopub.status.idle": "2022-10-05T05:29:58.163298Z",
     "shell.execute_reply": "2022-10-05T05:29:58.162164Z"
    },
    "id": "Y4dIvPiqG_jW",
    "papermill": {
     "duration": 0.042919,
     "end_time": "2022-10-05T05:29:58.165652",
     "exception": false,
     "start_time": "2022-10-05T05:29:58.122733",
     "status": "completed"
    },
    "tags": []
   },
   "outputs": [],
   "source": [
    "# Let's make function to make using different algorithms easy.\n",
    "def try_model(transformation, sampler, model, X_train, y_train, X_test, y_test):\n",
    "    model_pipeline = Pipeline(steps=[('transform', transformation),\n",
    "                                     ('sample', sampler),\n",
    "                                     ('model', model)])\n",
    "\n",
    "    model_pipeline.fit(X_train, y_train)\n",
    "    y_pred = model_pipeline.predict(X_test)\n",
    "\n",
    "    print(f'Training Accuracy : {model_pipeline.score(X_train, y_train)}')\n",
    "    print(f'Test Accuracy : {model_pipeline.score(X_test, y_test)}')\n",
    "\n",
    "    return y_pred, classification_report(y_test, y_pred)"
   ]
  },
  {
   "cell_type": "code",
   "execution_count": 15,
   "id": "01e44466",
   "metadata": {
    "execution": {
     "iopub.execute_input": "2022-10-05T05:29:58.231638Z",
     "iopub.status.busy": "2022-10-05T05:29:58.231225Z",
     "iopub.status.idle": "2022-10-05T05:29:58.238910Z",
     "shell.execute_reply": "2022-10-05T05:29:58.237775Z"
    },
    "id": "Q7_bUP2fJ026",
    "papermill": {
     "duration": 0.043264,
     "end_time": "2022-10-05T05:29:58.241107",
     "exception": false,
     "start_time": "2022-10-05T05:29:58.197843",
     "status": "completed"
    },
    "tags": []
   },
   "outputs": [],
   "source": [
    "def f_importances(coef, names, top=-1):\n",
    "    imp = coef\n",
    "    imp, names = zip(*sorted(list(zip(imp, names))))\n",
    "\n",
    "    # Show all features\n",
    "    if top == -1:\n",
    "        top = len(names)\n",
    "\n",
    "    plt.figure(figsize=(16, 8), dpi=80)\n",
    "    sns.barplot(x=list(imp[::-1][0:top]), y=list(names[::-1][0:top]), palette='RdYlGn')\n",
    "    plt.yticks(range(top), names[::-1][0:top])\n",
    "    plt.title(\"Feature Importance\");\n",
    "    plt.show()"
   ]
  },
  {
   "cell_type": "code",
   "execution_count": 16,
   "id": "48335bf9",
   "metadata": {
    "execution": {
     "iopub.execute_input": "2022-10-05T05:29:58.307407Z",
     "iopub.status.busy": "2022-10-05T05:29:58.306253Z",
     "iopub.status.idle": "2022-10-05T05:29:58.314697Z",
     "shell.execute_reply": "2022-10-05T05:29:58.313643Z"
    },
    "id": "1XMeSDR_wRCg",
    "papermill": {
     "duration": 0.043993,
     "end_time": "2022-10-05T05:29:58.317017",
     "exception": false,
     "start_time": "2022-10-05T05:29:58.273024",
     "status": "completed"
    },
    "tags": []
   },
   "outputs": [],
   "source": [
    "def plot_roc_auc(model, X_test, y_test, y_pred=None):\n",
    "  if(y_pred is None):\n",
    "    y_pred =  model.decision_function(X_test)\n",
    "\n",
    "  fpr, tpr, thresholds = roc_curve(y_test, y_pred)\n",
    "\n",
    "  roc_auc = auc(fpr, tpr)\n",
    "\n",
    "  plt.title('Receiver Operating Characteristic')\n",
    "  plt.plot(fpr, tpr, 'b', label = 'AUC = %0.2f' % roc_auc)\n",
    "  plt.legend(loc = 'lower right')\n",
    "  plt.plot([0, 1], [0, 1],'r--')\n",
    "  plt.axis('tight')\n",
    "  plt.ylabel('True Positive Rate')\n",
    "  plt.xlabel('False Positive Rate')\n",
    "  return fpr, tpr, thresholds"
   ]
  },
  {
   "cell_type": "code",
   "execution_count": 17,
   "id": "b060325c",
   "metadata": {
    "execution": {
     "iopub.execute_input": "2022-10-05T05:29:58.384958Z",
     "iopub.status.busy": "2022-10-05T05:29:58.383704Z",
     "iopub.status.idle": "2022-10-05T05:29:58.389983Z",
     "shell.execute_reply": "2022-10-05T05:29:58.389151Z"
    },
    "id": "2w3vCzR2k-iz",
    "papermill": {
     "duration": 0.042672,
     "end_time": "2022-10-05T05:29:58.392201",
     "exception": false,
     "start_time": "2022-10-05T05:29:58.349529",
     "status": "completed"
    },
    "tags": []
   },
   "outputs": [],
   "source": [
    "model_metrics = {\n",
    "           'Model':[],\n",
    "           'Sampling Method':[],\n",
    "           'Heart Disease Precision':[], \n",
    "           'No Heart Disease Precision':[],\n",
    "           'Heart Disease Recall':[],\n",
    "           'No Heart Disease Recall':[],\n",
    "           'Heart Disease F1':[],\n",
    "           'No Heart Disease F1':[],\n",
    "           'Accuracy':[]}"
   ]
  },
  {
   "cell_type": "markdown",
   "id": "608ace03",
   "metadata": {
    "id": "E9YzxzLJ_q4V",
    "papermill": {
     "duration": 0.031482,
     "end_time": "2022-10-05T05:29:58.456432",
     "exception": false,
     "start_time": "2022-10-05T05:29:58.424950",
     "status": "completed"
    },
    "tags": []
   },
   "source": [
    "## <a id=logreg> 3.1 Logistic Regression"
   ]
  },
  {
   "cell_type": "markdown",
   "id": "09d3c638",
   "metadata": {
    "id": "B1k-6nT2FZhi",
    "papermill": {
     "duration": 0.031814,
     "end_time": "2022-10-05T05:29:58.519999",
     "exception": false,
     "start_time": "2022-10-05T05:29:58.488185",
     "status": "completed"
    },
    "tags": []
   },
   "source": [
    "### <a id=Model> 3.1.1 Model"
   ]
  },
  {
   "cell_type": "code",
   "execution_count": 18,
   "id": "ebd30694",
   "metadata": {
    "execution": {
     "iopub.execute_input": "2022-10-05T05:29:58.586438Z",
     "iopub.status.busy": "2022-10-05T05:29:58.585772Z",
     "iopub.status.idle": "2022-10-05T05:30:14.849267Z",
     "shell.execute_reply": "2022-10-05T05:30:14.848137Z"
    },
    "id": "KE0J_n0DAExl",
    "outputId": "a9ead669-7e0e-41de-f79c-a2638ab1291b",
    "papermill": {
     "duration": 16.300109,
     "end_time": "2022-10-05T05:30:14.852258",
     "exception": false,
     "start_time": "2022-10-05T05:29:58.552149",
     "status": "completed"
    },
    "tags": []
   },
   "outputs": [
    {
     "name": "stdout",
     "output_type": "stream",
     "text": [
      "Training Accuracy : 0.7240954524662478\n",
      "Test Accuracy : 0.7260906781157864\n"
     ]
    }
   ],
   "source": [
    "y_pred, report = try_model(trans,\n",
    "                           SMOTE(random_state = 42),\n",
    "                           LogisticRegression(C = 1000),\n",
    "                           X_train,\n",
    "                           y_train,\n",
    "                           X_test,\n",
    "                           y_test)"
   ]
  },
  {
   "cell_type": "markdown",
   "id": "be0c4b30",
   "metadata": {
    "id": "BIJ8ePgcEmyT",
    "papermill": {
     "duration": 0.031552,
     "end_time": "2022-10-05T05:30:14.916379",
     "exception": false,
     "start_time": "2022-10-05T05:30:14.884827",
     "status": "completed"
    },
    "tags": []
   },
   "source": [
    "### <a id=Eval> 3.1.2 Evaluation"
   ]
  },
  {
   "cell_type": "markdown",
   "id": "f8920063",
   "metadata": {
    "id": "Ytx4bHtqFSBR",
    "papermill": {
     "duration": 0.031782,
     "end_time": "2022-10-05T05:30:14.980142",
     "exception": false,
     "start_time": "2022-10-05T05:30:14.948360",
     "status": "completed"
    },
    "tags": []
   },
   "source": [
    "#### <a id=Classifireport> 3.1.2.1 Classification Report"
   ]
  },
  {
   "cell_type": "code",
   "execution_count": 19,
   "id": "d03de264",
   "metadata": {
    "execution": {
     "iopub.execute_input": "2022-10-05T05:30:15.045897Z",
     "iopub.status.busy": "2022-10-05T05:30:15.045230Z",
     "iopub.status.idle": "2022-10-05T05:30:15.050496Z",
     "shell.execute_reply": "2022-10-05T05:30:15.049286Z"
    },
    "id": "-QzcC3A-A_3v",
    "outputId": "f2813067-413e-4892-de8d-c1632025ace6",
    "papermill": {
     "duration": 0.040914,
     "end_time": "2022-10-05T05:30:15.052941",
     "exception": false,
     "start_time": "2022-10-05T05:30:15.012027",
     "status": "completed"
    },
    "tags": []
   },
   "outputs": [
    {
     "name": "stdout",
     "output_type": "stream",
     "text": [
      "              precision    recall  f1-score   support\n",
      "\n",
      "          No       0.98      0.72      0.83     68052\n",
      "         Yes       0.19      0.78      0.30      5549\n",
      "\n",
      "    accuracy                           0.73     73601\n",
      "   macro avg       0.58      0.75      0.56     73601\n",
      "weighted avg       0.92      0.73      0.79     73601\n",
      "\n"
     ]
    }
   ],
   "source": [
    "print(report)"
   ]
  },
  {
   "cell_type": "code",
   "execution_count": 20,
   "id": "33d419b3",
   "metadata": {
    "execution": {
     "iopub.execute_input": "2022-10-05T05:30:15.119312Z",
     "iopub.status.busy": "2022-10-05T05:30:15.118931Z",
     "iopub.status.idle": "2022-10-05T05:30:15.125504Z",
     "shell.execute_reply": "2022-10-05T05:30:15.124420Z"
    },
    "id": "ox4GUBLemK-9",
    "papermill": {
     "duration": 0.042103,
     "end_time": "2022-10-05T05:30:15.127706",
     "exception": false,
     "start_time": "2022-10-05T05:30:15.085603",
     "status": "completed"
    },
    "tags": []
   },
   "outputs": [],
   "source": [
    "model_metrics['Model'].append(\"Logistic Regression\")\n",
    "model_metrics['Sampling Method'].append(\"SMOTE\")\n",
    "model_metrics['Heart Disease Precision'].append(0.19)\n",
    "model_metrics['No Heart Disease Precision'].append(0.98)\n",
    "model_metrics['Heart Disease Recall'].append(0.78)\n",
    "model_metrics['No Heart Disease Recall'].append(0.72)\n",
    "model_metrics['Heart Disease F1'].append(0.30)\n",
    "model_metrics['No Heart Disease F1'].append(0.83)\n",
    "model_metrics['Accuracy'].append(0.73)"
   ]
  },
  {
   "cell_type": "markdown",
   "id": "20a5830c",
   "metadata": {
    "id": "bSSkKZpVFgZi",
    "papermill": {
     "duration": 0.031718,
     "end_time": "2022-10-05T05:30:15.191666",
     "exception": false,
     "start_time": "2022-10-05T05:30:15.159948",
     "status": "completed"
    },
    "tags": []
   },
   "source": [
    "#### <a id=confmatrix> 3.1.2.2 Confusion Matrix"
   ]
  },
  {
   "cell_type": "code",
   "execution_count": 21,
   "id": "f584280e",
   "metadata": {
    "execution": {
     "iopub.execute_input": "2022-10-05T05:30:15.257741Z",
     "iopub.status.busy": "2022-10-05T05:30:15.257348Z",
     "iopub.status.idle": "2022-10-05T05:30:15.904207Z",
     "shell.execute_reply": "2022-10-05T05:30:15.903342Z"
    },
    "id": "hE6n347fFkiy",
    "outputId": "80cf6ec4-0561-433a-9d02-6118149e3cfc",
    "papermill": {
     "duration": 0.682608,
     "end_time": "2022-10-05T05:30:15.906690",
     "exception": false,
     "start_time": "2022-10-05T05:30:15.224082",
     "status": "completed"
    },
    "tags": []
   },
   "outputs": [
    {
     "data": {
      "image/png": "[encoded data removed]",
      "text/plain": [
       "<Figure size 432x288 with 2 Axes>"
      ]
     },
     "metadata": {},
     "output_type": "display_data"
    }
   ],
   "source": [
    "cm = confusion_matrix(y_test, y_pred)\n",
    "make_confusion_matrix(cm)"
   ]
  },
  {
   "cell_type": "markdown",
   "id": "4ff91401",
   "metadata": {
    "id": "0y8o_3VvIKLG",
    "papermill": {
     "duration": 0.031902,
     "end_time": "2022-10-05T05:30:15.971032",
     "exception": false,
     "start_time": "2022-10-05T05:30:15.939130",
     "status": "completed"
    },
    "tags": []
   },
   "source": [
    "## <a id=decisiontree> 3.2 Decision Tree"
   ]
  },
  {
   "cell_type": "markdown",
   "id": "f94ea7b3",
   "metadata": {
    "id": "vrP2Hv8gI4T7",
    "papermill": {
     "duration": 0.031772,
     "end_time": "2022-10-05T05:30:16.035076",
     "exception": false,
     "start_time": "2022-10-05T05:30:16.003304",
     "status": "completed"
    },
    "tags": []
   },
   "source": [
    "### <a id=22> 3.2.1 Model"
   ]
  },
  {
   "cell_type": "code",
   "execution_count": 22,
   "id": "a3639e36",
   "metadata": {
    "execution": {
     "iopub.execute_input": "2022-10-05T05:30:16.101906Z",
     "iopub.status.busy": "2022-10-05T05:30:16.100982Z",
     "iopub.status.idle": "2022-10-05T05:30:32.259931Z",
     "shell.execute_reply": "2022-10-05T05:30:32.258893Z"
    },
    "id": "dSdojit7INbA",
    "outputId": "ff47efdc-37d4-4a42-9c20-e45bfaf8eb7b",
    "papermill": {
     "duration": 16.194941,
     "end_time": "2022-10-05T05:30:32.262380",
     "exception": false,
     "start_time": "2022-10-05T05:30:16.067439",
     "status": "completed"
    },
    "tags": []
   },
   "outputs": [
    {
     "name": "stdout",
     "output_type": "stream",
     "text": [
      "Training Accuracy : 0.8049329486732397\n",
      "Test Accuracy : 0.8016467167565658\n"
     ]
    }
   ],
   "source": [
    "dt = DecisionTreeClassifier(max_features=17, max_depth=10)\n",
    "\n",
    "y_pred, report = try_model(trans,\n",
    "                           SMOTE(random_state = 42),\n",
    "                           dt,\n",
    "                           X_train,\n",
    "                           y_train,\n",
    "                           X_test,\n",
    "                           y_test)"
   ]
  },
  {
   "cell_type": "markdown",
   "id": "648cef06",
   "metadata": {
    "id": "-VEeeeWOI_jS",
    "papermill": {
     "duration": 0.032437,
     "end_time": "2022-10-05T05:30:32.327504",
     "exception": false,
     "start_time": "2022-10-05T05:30:32.295067",
     "status": "completed"
    },
    "tags": []
   },
   "source": [
    "### <a id=55> 3.2.2 Evaluation"
   ]
  },
  {
   "cell_type": "markdown",
   "id": "9a5eede4",
   "metadata": {
    "id": "KesA7S2dI_jS",
    "papermill": {
     "duration": 0.032209,
     "end_time": "2022-10-05T05:30:32.392360",
     "exception": false,
     "start_time": "2022-10-05T05:30:32.360151",
     "status": "completed"
    },
    "tags": []
   },
   "source": [
    "#### <a id=report36> 3.2.2.1 Classification Report"
   ]
  },
  {
   "cell_type": "code",
   "execution_count": 23,
   "id": "331619a9",
   "metadata": {
    "execution": {
     "iopub.execute_input": "2022-10-05T05:30:32.460599Z",
     "iopub.status.busy": "2022-10-05T05:30:32.459850Z",
     "iopub.status.idle": "2022-10-05T05:30:32.464734Z",
     "shell.execute_reply": "2022-10-05T05:30:32.463917Z"
    },
    "id": "Hj6DUbCSI_jS",
    "outputId": "3cc0759f-2de1-4518-f680-2f9a92102393",
    "papermill": {
     "duration": 0.041303,
     "end_time": "2022-10-05T05:30:32.466919",
     "exception": false,
     "start_time": "2022-10-05T05:30:32.425616",
     "status": "completed"
    },
    "tags": []
   },
   "outputs": [
    {
     "name": "stdout",
     "output_type": "stream",
     "text": [
      "              precision    recall  f1-score   support\n",
      "\n",
      "          No       0.96      0.82      0.88     68052\n",
      "         Yes       0.22      0.63      0.32      5549\n",
      "\n",
      "    accuracy                           0.80     73601\n",
      "   macro avg       0.59      0.72      0.60     73601\n",
      "weighted avg       0.91      0.80      0.84     73601\n",
      "\n"
     ]
    }
   ],
   "source": [
    "print(report)"
   ]
  },
  {
   "cell_type": "code",
   "execution_count": 24,
   "id": "57bd3db9",
   "metadata": {
    "execution": {
     "iopub.execute_input": "2022-10-05T05:30:32.533935Z",
     "iopub.status.busy": "2022-10-05T05:30:32.533181Z",
     "iopub.status.idle": "2022-10-05T05:30:32.539174Z",
     "shell.execute_reply": "2022-10-05T05:30:32.538367Z"
    },
    "id": "impuISV3m9wg",
    "papermill": {
     "duration": 0.042409,
     "end_time": "2022-10-05T05:30:32.541493",
     "exception": false,
     "start_time": "2022-10-05T05:30:32.499084",
     "status": "completed"
    },
    "tags": []
   },
   "outputs": [],
   "source": [
    "model_metrics['Model'].append(\"Decision Tree\")\n",
    "model_metrics['Sampling Method'].append(\"SMOTE\")\n",
    "model_metrics['Heart Disease Precision'].append(0.22)\n",
    "model_metrics['No Heart Disease Precision'].append(0.96)\n",
    "model_metrics['Heart Disease Recall'].append(0.63)\n",
    "model_metrics['No Heart Disease Recall'].append(0.82)\n",
    "model_metrics['Heart Disease F1'].append(0.32)\n",
    "model_metrics['No Heart Disease F1'].append(0.88)\n",
    "model_metrics['Accuracy'].append(0.80)"
   ]
  },
  {
   "cell_type": "markdown",
   "id": "b9133805",
   "metadata": {
    "id": "rgyBOHadI_jT",
    "papermill": {
     "duration": 0.032086,
     "end_time": "2022-10-05T05:30:32.606576",
     "exception": false,
     "start_time": "2022-10-05T05:30:32.574490",
     "status": "completed"
    },
    "tags": []
   },
   "source": [
    "#### <a id=988> 3.2.2.2 Confusion Matrix"
   ]
  },
  {
   "cell_type": "code",
   "execution_count": 25,
   "id": "77c0c3ef",
   "metadata": {
    "execution": {
     "iopub.execute_input": "2022-10-05T05:30:32.674064Z",
     "iopub.status.busy": "2022-10-05T05:30:32.673328Z",
     "iopub.status.idle": "2022-10-05T05:30:33.316871Z",
     "shell.execute_reply": "2022-10-05T05:30:33.315683Z"
    },
    "id": "Op9XifkgI_jT",
    "outputId": "da159bb6-1043-405a-ae4a-26c3ccd24b7c",
    "papermill": {
     "duration": 0.679718,
     "end_time": "2022-10-05T05:30:33.319131",
     "exception": false,
     "start_time": "2022-10-05T05:30:32.639413",
     "status": "completed"
    },
    "tags": []
   },
   "outputs": [
    {
     "data": {
      "image/png": "[encoded data removed]",
      "text/plain": [
       "<Figure size 432x288 with 2 Axes>"
      ]
     },
     "metadata": {},
     "output_type": "display_data"
    }
   ],
   "source": [
    "cm = confusion_matrix(y_test, y_pred)\n",
    "make_confusion_matrix(cm)"
   ]
  },
  {
   "cell_type": "markdown",
   "id": "211334df",
   "metadata": {
    "id": "GYcVhUT7PdWi",
    "papermill": {
     "duration": 0.033168,
     "end_time": "2022-10-05T05:30:33.386114",
     "exception": false,
     "start_time": "2022-10-05T05:30:33.352946",
     "status": "completed"
    },
    "tags": []
   },
   "source": [
    "### <a id=featimpo> 3.2.3 Feature Importances"
   ]
  },
  {
   "cell_type": "code",
   "execution_count": 26,
   "id": "c51d25ce",
   "metadata": {
    "execution": {
     "iopub.execute_input": "2022-10-05T05:30:33.455498Z",
     "iopub.status.busy": "2022-10-05T05:30:33.455045Z",
     "iopub.status.idle": "2022-10-05T05:30:33.793562Z",
     "shell.execute_reply": "2022-10-05T05:30:33.792526Z"
    },
    "id": "Va5v18lUJfNU",
    "outputId": "0b44f2d2-d985-45b1-f19b-5469c6595c1f",
    "papermill": {
     "duration": 0.376036,
     "end_time": "2022-10-05T05:30:33.795888",
     "exception": false,
     "start_time": "2022-10-05T05:30:33.419852",
     "status": "completed"
    },
    "tags": []
   },
   "outputs": [
    {
     "data": {
      "image/png": "[encoded data removed]",
      "text/plain": [
       "<Figure size 1280x640 with 1 Axes>"
      ]
     },
     "metadata": {},
     "output_type": "display_data"
    }
   ],
   "source": [
    "features_names = df2.columns.drop('HeartDisease').to_list()\n",
    "f_importances(abs(dt.feature_importances_), features_names, top=16)"
   ]
  },
  {
   "cell_type": "markdown",
   "id": "94c02630",
   "metadata": {
    "id": "S5yEdz9LPpHS",
    "papermill": {
     "duration": 0.034131,
     "end_time": "2022-10-05T05:30:33.864447",
     "exception": false,
     "start_time": "2022-10-05T05:30:33.830316",
     "status": "completed"
    },
    "tags": []
   },
   "source": [
    "## <a id=randomforest> 3.3 Random Forest"
   ]
  },
  {
   "cell_type": "markdown",
   "id": "c07e7ef1",
   "metadata": {
    "id": "FuqXk9BEQOTW",
    "papermill": {
     "duration": 0.033838,
     "end_time": "2022-10-05T05:30:33.932186",
     "exception": false,
     "start_time": "2022-10-05T05:30:33.898348",
     "status": "completed"
    },
    "tags": []
   },
   "source": [
    "### <a id=11> 3.3.1 Model"
   ]
  },
  {
   "cell_type": "code",
   "execution_count": 27,
   "id": "e4982db6",
   "metadata": {
    "execution": {
     "iopub.execute_input": "2022-10-05T05:30:34.005208Z",
     "iopub.status.busy": "2022-10-05T05:30:34.004794Z",
     "iopub.status.idle": "2022-10-05T05:33:54.158032Z",
     "shell.execute_reply": "2022-10-05T05:33:54.156825Z"
    },
    "id": "vQNoi1ibQgH1",
    "outputId": "c8a42bc9-90d9-4ea5-a89d-5574253565ea",
    "papermill": {
     "duration": 200.195042,
     "end_time": "2022-10-05T05:33:54.160956",
     "exception": false,
     "start_time": "2022-10-05T05:30:33.965914",
     "status": "completed"
    },
    "tags": []
   },
   "outputs": [
    {
     "name": "stdout",
     "output_type": "stream",
     "text": [
      "Training Accuracy : 0.8107436107626325\n",
      "Test Accuracy : 0.8079238053830791\n"
     ]
    }
   ],
   "source": [
    "rf = RandomForestClassifier(max_features=17, max_depth=10)\n",
    "\n",
    "y_pred, report = try_model(trans,\n",
    "                           SMOTE(random_state = 42),\n",
    "                           rf,\n",
    "                           X_train,\n",
    "                           y_train,\n",
    "                           X_test,\n",
    "                           y_test)"
   ]
  },
  {
   "cell_type": "markdown",
   "id": "65affadb",
   "metadata": {
    "id": "3F5jXZk1QOTf",
    "papermill": {
     "duration": 0.034032,
     "end_time": "2022-10-05T05:33:54.229406",
     "exception": false,
     "start_time": "2022-10-05T05:33:54.195374",
     "status": "completed"
    },
    "tags": []
   },
   "source": [
    "### <a id=101> 3.3.2 Evaluation"
   ]
  },
  {
   "cell_type": "markdown",
   "id": "729197c4",
   "metadata": {
    "id": "kD2dp7H3QOTf",
    "papermill": {
     "duration": 0.033583,
     "end_time": "2022-10-05T05:33:54.297215",
     "exception": false,
     "start_time": "2022-10-05T05:33:54.263632",
     "status": "completed"
    },
    "tags": []
   },
   "source": [
    "#### <a id=01028> 3.3.2.1 Classification Report"
   ]
  },
  {
   "cell_type": "code",
   "execution_count": 28,
   "id": "f5365ae1",
   "metadata": {
    "execution": {
     "iopub.execute_input": "2022-10-05T05:33:54.366605Z",
     "iopub.status.busy": "2022-10-05T05:33:54.366184Z",
     "iopub.status.idle": "2022-10-05T05:33:54.371682Z",
     "shell.execute_reply": "2022-10-05T05:33:54.370755Z"
    },
    "id": "vSNJFjZcQhB8",
    "outputId": "5f9d883a-e8cf-4b4d-d744-5bc871de285b",
    "papermill": {
     "duration": 0.042681,
     "end_time": "2022-10-05T05:33:54.373740",
     "exception": false,
     "start_time": "2022-10-05T05:33:54.331059",
     "status": "completed"
    },
    "tags": []
   },
   "outputs": [
    {
     "name": "stdout",
     "output_type": "stream",
     "text": [
      "              precision    recall  f1-score   support\n",
      "\n",
      "          No       0.96      0.82      0.89     68052\n",
      "         Yes       0.22      0.63      0.33      5549\n",
      "\n",
      "    accuracy                           0.81     73601\n",
      "   macro avg       0.59      0.72      0.61     73601\n",
      "weighted avg       0.91      0.81      0.85     73601\n",
      "\n"
     ]
    }
   ],
   "source": [
    "print(report)"
   ]
  },
  {
   "cell_type": "code",
   "execution_count": 29,
   "id": "506f82f7",
   "metadata": {
    "execution": {
     "iopub.execute_input": "2022-10-05T05:33:54.445077Z",
     "iopub.status.busy": "2022-10-05T05:33:54.443898Z",
     "iopub.status.idle": "2022-10-05T05:33:54.451013Z",
     "shell.execute_reply": "2022-10-05T05:33:54.449894Z"
    },
    "id": "YNDxGv_8npoV",
    "papermill": {
     "duration": 0.045368,
     "end_time": "2022-10-05T05:33:54.453490",
     "exception": false,
     "start_time": "2022-10-05T05:33:54.408122",
     "status": "completed"
    },
    "tags": []
   },
   "outputs": [],
   "source": [
    "model_metrics['Model'].append(\"Random Forest\")\n",
    "model_metrics['Sampling Method'].append(\"SMOTE\")\n",
    "model_metrics['Heart Disease Precision'].append(0.22)\n",
    "model_metrics['No Heart Disease Precision'].append(0.96)\n",
    "model_metrics['Heart Disease Recall'].append(0.63)\n",
    "model_metrics['No Heart Disease Recall'].append(0.82)\n",
    "model_metrics['Heart Disease F1'].append(0.33)\n",
    "model_metrics['No Heart Disease F1'].append(0.89)\n",
    "model_metrics['Accuracy'].append(0.81)"
   ]
  },
  {
   "cell_type": "markdown",
   "id": "9b67eeac",
   "metadata": {
    "id": "i3SxrrwyQOTf",
    "papermill": {
     "duration": 0.034306,
     "end_time": "2022-10-05T05:33:54.522255",
     "exception": false,
     "start_time": "2022-10-05T05:33:54.487949",
     "status": "completed"
    },
    "tags": []
   },
   "source": [
    "#### <a id=2525> 3.3.2.2 Confusion Matrix"
   ]
  },
  {
   "cell_type": "code",
   "execution_count": 30,
   "id": "d71069f9",
   "metadata": {
    "execution": {
     "iopub.execute_input": "2022-10-05T05:33:54.592796Z",
     "iopub.status.busy": "2022-10-05T05:33:54.592409Z",
     "iopub.status.idle": "2022-10-05T05:33:55.237037Z",
     "shell.execute_reply": "2022-10-05T05:33:55.235884Z"
    },
    "id": "YpGIAkQnQhiH",
    "outputId": "18125b80-d828-499f-c72e-7a0095c36f14",
    "papermill": {
     "duration": 0.682485,
     "end_time": "2022-10-05T05:33:55.239664",
     "exception": false,
     "start_time": "2022-10-05T05:33:54.557179",
     "status": "completed"
    },
    "tags": []
   },
   "outputs": [
    {
     "data": {
      "image/png": "[encoded data removed]",
      "text/plain": [
       "<Figure size 432x288 with 2 Axes>"
      ]
     },
     "metadata": {},
     "output_type": "display_data"
    }
   ],
   "source": [
    "cm = confusion_matrix(y_test, y_pred)\n",
    "make_confusion_matrix(cm)"
   ]
  },
  {
   "cell_type": "markdown",
   "id": "b8d3b35f",
   "metadata": {
    "id": "nqsJ77noQQAO",
    "papermill": {
     "duration": 0.035036,
     "end_time": "2022-10-05T05:33:55.309974",
     "exception": false,
     "start_time": "2022-10-05T05:33:55.274938",
     "status": "completed"
    },
    "tags": []
   },
   "source": [
    "### <a id=1200> 3.3.3 Feature Importances"
   ]
  },
  {
   "cell_type": "code",
   "execution_count": 31,
   "id": "8f231bda",
   "metadata": {
    "execution": {
     "iopub.execute_input": "2022-10-05T05:33:55.381250Z",
     "iopub.status.busy": "2022-10-05T05:33:55.380865Z",
     "iopub.status.idle": "2022-10-05T05:33:55.724041Z",
     "shell.execute_reply": "2022-10-05T05:33:55.722869Z"
    },
    "id": "Q-kvYyNqQiBe",
    "outputId": "4633ab7f-c52a-45e9-f918-0e0653fbb1f5",
    "papermill": {
     "duration": 0.382307,
     "end_time": "2022-10-05T05:33:55.726852",
     "exception": false,
     "start_time": "2022-10-05T05:33:55.344545",
     "status": "completed"
    },
    "tags": []
   },
   "outputs": [
    {
     "data": {
      "image/png": "[encoded data removed]",
      "text/plain": [
       "<Figure size 1280x640 with 1 Axes>"
      ]
     },
     "metadata": {},
     "output_type": "display_data"
    }
   ],
   "source": [
    "f_importances(abs(rf.feature_importances_), features_names, top=16)"
   ]
  },
  {
   "cell_type": "markdown",
   "id": "47cdf32f",
   "metadata": {
    "id": "h6zgbnOMCHPF",
    "papermill": {
     "duration": 0.035529,
     "end_time": "2022-10-05T05:33:55.798424",
     "exception": false,
     "start_time": "2022-10-05T05:33:55.762895",
     "status": "completed"
    },
    "tags": []
   },
   "source": [
    "## <a id=1201> 3.4 KNN"
   ]
  },
  {
   "cell_type": "markdown",
   "id": "520f64b6",
   "metadata": {
    "id": "Z-6y7FBDZ4RG",
    "papermill": {
     "duration": 0.035875,
     "end_time": "2022-10-05T05:33:55.870200",
     "exception": false,
     "start_time": "2022-10-05T05:33:55.834325",
     "status": "completed"
    },
    "tags": []
   },
   "source": [
    "### <a id=12002> 3.4.1 Hyperparameter Tuning"
   ]
  },
  {
   "cell_type": "code",
   "execution_count": 32,
   "id": "f9ee0136",
   "metadata": {
    "execution": {
     "iopub.execute_input": "2022-10-05T05:33:55.944944Z",
     "iopub.status.busy": "2022-10-05T05:33:55.944537Z",
     "iopub.status.idle": "2022-10-05T05:34:47.298404Z",
     "shell.execute_reply": "2022-10-05T05:34:47.297243Z"
    },
    "id": "OvfgBgJ0tvW2",
    "papermill": {
     "duration": 51.394346,
     "end_time": "2022-10-05T05:34:47.301352",
     "exception": false,
     "start_time": "2022-10-05T05:33:55.907006",
     "status": "completed"
    },
    "tags": []
   },
   "outputs": [],
   "source": [
    "err = []\n",
    "k = list(range(1, 21))\n",
    "\n",
    "for i in k:\n",
    "\n",
    "  neigh_undersample = Pipeline(steps=[('transform', trans),\n",
    "                                      ('sample', RandomUnderSampler(random_state = 42)),\n",
    "                                      ('KNN', KNeighborsClassifier(n_neighbors=i))])\n",
    "\n",
    "  res = cross_val_score(neigh_undersample, X_train.iloc[:20000], y_train.iloc[:20000], scoring='f1_micro', cv=5)\n",
    "\n",
    "  err.append(1 - res.mean())"
   ]
  },
  {
   "cell_type": "code",
   "execution_count": 33,
   "id": "e53f3cf1",
   "metadata": {
    "execution": {
     "iopub.execute_input": "2022-10-05T05:34:47.375436Z",
     "iopub.status.busy": "2022-10-05T05:34:47.374718Z",
     "iopub.status.idle": "2022-10-05T05:34:47.768073Z",
     "shell.execute_reply": "2022-10-05T05:34:47.767224Z"
    },
    "id": "1lxIbM-oyFbC",
    "outputId": "e758b3e8-2699-4123-a207-6489a1547629",
    "papermill": {
     "duration": 0.432452,
     "end_time": "2022-10-05T05:34:47.770121",
     "exception": false,
     "start_time": "2022-10-05T05:34:47.337669",
     "status": "completed"
    },
    "tags": []
   },
   "outputs": [
    {
     "data": {
      "image/png": "[encoded data removed]",
      "text/plain": [
       "<Figure size 1280x480 with 1 Axes>"
      ]
     },
     "metadata": {},
     "output_type": "display_data"
    }
   ],
   "source": [
    "plt.figure(figsize=(16, 6), dpi=80)\n",
    "fig = sns.lineplot(x=k, y=err, palette=colors1);\n",
    "fig.set_title(\"KNN Validation F1 Error as K Increases\")\n",
    "fig.set_xlabel(\"Number of Neighbors\")\n",
    "fig.set_ylabel(\"Validation Error\")\n",
    "fig.set_xticks(k);"
   ]
  },
  {
   "cell_type": "markdown",
   "id": "a587d336",
   "metadata": {
    "id": "Q7ZZe8OiaBwL",
    "papermill": {
     "duration": 0.036743,
     "end_time": "2022-10-05T05:34:47.843545",
     "exception": false,
     "start_time": "2022-10-05T05:34:47.806802",
     "status": "completed"
    },
    "tags": []
   },
   "source": [
    "The error fluctuates and it does look like it is less with even K. However to avoid ties we will set the number of neighbors to 19.  "
   ]
  },
  {
   "cell_type": "markdown",
   "id": "05f72958",
   "metadata": {
    "id": "g1cl9wpnGJB-",
    "papermill": {
     "duration": 0.036109,
     "end_time": "2022-10-05T05:34:47.916426",
     "exception": false,
     "start_time": "2022-10-05T05:34:47.880317",
     "status": "completed"
    },
    "tags": []
   },
   "source": [
    "### <a id=mod> 3.4.2 Model"
   ]
  },
  {
   "cell_type": "code",
   "execution_count": 34,
   "id": "ec5809cd",
   "metadata": {
    "execution": {
     "iopub.execute_input": "2022-10-05T05:34:47.991230Z",
     "iopub.status.busy": "2022-10-05T05:34:47.990492Z",
     "iopub.status.idle": "2022-10-05T05:38:47.358572Z",
     "shell.execute_reply": "2022-10-05T05:38:47.356878Z"
    },
    "id": "8_h0kWXSt1on",
    "outputId": "53bf9fc0-8a4e-4da1-b3fe-d19ebd646757",
    "papermill": {
     "duration": 239.408859,
     "end_time": "2022-10-05T05:38:47.361647",
     "exception": false,
     "start_time": "2022-10-05T05:34:47.952788",
     "status": "completed"
    },
    "tags": []
   },
   "outputs": [
    {
     "name": "stdout",
     "output_type": "stream",
     "text": [
      "Training Accuracy : 0.734339971286362\n",
      "Test Accuracy : 0.7326123286368392\n"
     ]
    }
   ],
   "source": [
    "y_pred, report = try_model(trans,\n",
    "                           RandomUnderSampler(random_state = 42),\n",
    "                           KNeighborsClassifier(n_neighbors=19),\n",
    "                           X_train,\n",
    "                           y_train,\n",
    "                           X_test,\n",
    "                           y_test)"
   ]
  },
  {
   "cell_type": "markdown",
   "id": "b5adbffb",
   "metadata": {
    "id": "n8-X7--qcPoe",
    "papermill": {
     "duration": 0.037434,
     "end_time": "2022-10-05T05:38:47.436063",
     "exception": false,
     "start_time": "2022-10-05T05:38:47.398629",
     "status": "completed"
    },
    "tags": []
   },
   "source": [
    "### <a id=val> 3.4.3 Evaluation"
   ]
  },
  {
   "cell_type": "markdown",
   "id": "5f6e66dd",
   "metadata": {
    "id": "JiomRWqkcduV",
    "papermill": {
     "duration": 0.03653,
     "end_time": "2022-10-05T05:38:47.509718",
     "exception": false,
     "start_time": "2022-10-05T05:38:47.473188",
     "status": "completed"
    },
    "tags": []
   },
   "source": [
    "#### <a id=87878> 3.4.3.1 Classification Report"
   ]
  },
  {
   "cell_type": "code",
   "execution_count": 35,
   "id": "39e4952b",
   "metadata": {
    "execution": {
     "iopub.execute_input": "2022-10-05T05:38:47.587282Z",
     "iopub.status.busy": "2022-10-05T05:38:47.586517Z",
     "iopub.status.idle": "2022-10-05T05:38:47.593822Z",
     "shell.execute_reply": "2022-10-05T05:38:47.592310Z"
    },
    "id": "lfLhHNq3car1",
    "outputId": "de988c1c-70d9-456a-f8fa-c5cca6b94f99",
    "papermill": {
     "duration": 0.049534,
     "end_time": "2022-10-05T05:38:47.596209",
     "exception": false,
     "start_time": "2022-10-05T05:38:47.546675",
     "status": "completed"
    },
    "tags": []
   },
   "outputs": [
    {
     "name": "stdout",
     "output_type": "stream",
     "text": [
      "              precision    recall  f1-score   support\n",
      "\n",
      "          No       0.97      0.73      0.83     68052\n",
      "         Yes       0.19      0.76      0.30      5549\n",
      "\n",
      "    accuracy                           0.73     73601\n",
      "   macro avg       0.58      0.74      0.57     73601\n",
      "weighted avg       0.91      0.73      0.79     73601\n",
      "\n"
     ]
    }
   ],
   "source": [
    "print(report)"
   ]
  },
  {
   "cell_type": "code",
   "execution_count": 36,
   "id": "f63d6a8b",
   "metadata": {
    "execution": {
     "iopub.execute_input": "2022-10-05T05:38:47.672870Z",
     "iopub.status.busy": "2022-10-05T05:38:47.672220Z",
     "iopub.status.idle": "2022-10-05T05:38:47.679203Z",
     "shell.execute_reply": "2022-10-05T05:38:47.678267Z"
    },
    "id": "QKxjc8cgn4gE",
    "papermill": {
     "duration": 0.048159,
     "end_time": "2022-10-05T05:38:47.681671",
     "exception": false,
     "start_time": "2022-10-05T05:38:47.633512",
     "status": "completed"
    },
    "tags": []
   },
   "outputs": [],
   "source": [
    "model_metrics['Model'].append(\"KNN\")\n",
    "model_metrics['Sampling Method'].append(\"Random Undersampling\")\n",
    "model_metrics['Heart Disease Precision'].append(0.19)\n",
    "model_metrics['No Heart Disease Precision'].append(0.97)\n",
    "model_metrics['Heart Disease Recall'].append(0.76)\n",
    "model_metrics['No Heart Disease Recall'].append(0.73)\n",
    "model_metrics['Heart Disease F1'].append(0.30)\n",
    "model_metrics['No Heart Disease F1'].append(0.83)\n",
    "model_metrics['Accuracy'].append(0.73)"
   ]
  },
  {
   "cell_type": "markdown",
   "id": "836a6944",
   "metadata": {
    "id": "tDG5YVf1cwGa",
    "papermill": {
     "duration": 0.037571,
     "end_time": "2022-10-05T05:38:47.756495",
     "exception": false,
     "start_time": "2022-10-05T05:38:47.718924",
     "status": "completed"
    },
    "tags": []
   },
   "source": [
    "#### <a id=5000> 3.4.3.2 Confusion Matrix"
   ]
  },
  {
   "cell_type": "code",
   "execution_count": 37,
   "id": "e578c4a0",
   "metadata": {
    "execution": {
     "iopub.execute_input": "2022-10-05T05:38:47.833717Z",
     "iopub.status.busy": "2022-10-05T05:38:47.832875Z",
     "iopub.status.idle": "2022-10-05T05:38:48.489391Z",
     "shell.execute_reply": "2022-10-05T05:38:48.488195Z"
    },
    "id": "PdNVx9zxcut4",
    "outputId": "af7b59b7-228f-482c-941b-efb544881c6f",
    "papermill": {
     "duration": 0.698137,
     "end_time": "2022-10-05T05:38:48.491715",
     "exception": false,
     "start_time": "2022-10-05T05:38:47.793578",
     "status": "completed"
    },
    "tags": []
   },
   "outputs": [
    {
     "data": {
      "image/png": "[encoded data removed]",
      "text/plain": [
       "<Figure size 432x288 with 2 Axes>"
      ]
     },
     "metadata": {},
     "output_type": "display_data"
    }
   ],
   "source": [
    "cm = confusion_matrix(y_test, y_pred)\n",
    "make_confusion_matrix(cm)"
   ]
  },
  {
   "cell_type": "markdown",
   "id": "00ab7d51",
   "metadata": {
    "id": "2GQsTM-4c-Er",
    "papermill": {
     "duration": 0.037013,
     "end_time": "2022-10-05T05:38:48.566228",
     "exception": false,
     "start_time": "2022-10-05T05:38:48.529215",
     "status": "completed"
    },
    "tags": []
   },
   "source": [
    "The false positive rate is really high. However in our application (Heart disease prediction), it is much more desirable than false negatives."
   ]
  },
  {
   "cell_type": "markdown",
   "id": "08f2b877",
   "metadata": {
    "id": "iglzj4tdKNam",
    "papermill": {
     "duration": 0.037146,
     "end_time": "2022-10-05T05:38:48.640769",
     "exception": false,
     "start_time": "2022-10-05T05:38:48.603623",
     "status": "completed"
    },
    "tags": []
   },
   "source": [
    "## <a id=svm> 3.5 SVM"
   ]
  },
  {
   "cell_type": "markdown",
   "id": "a8e825f2",
   "metadata": {
    "id": "IlpbTWzgkzhV",
    "papermill": {
     "duration": 0.037092,
     "end_time": "2022-10-05T05:38:48.715325",
     "exception": false,
     "start_time": "2022-10-05T05:38:48.678233",
     "status": "completed"
    },
    "tags": []
   },
   "source": [
    "### <a id=hyp> 3.5.1 Hyperparameter Tuning"
   ]
  },
  {
   "cell_type": "code",
   "execution_count": 38,
   "id": "a7010d88",
   "metadata": {
    "execution": {
     "iopub.execute_input": "2022-10-05T05:38:48.792438Z",
     "iopub.status.busy": "2022-10-05T05:38:48.791735Z",
     "iopub.status.idle": "2022-10-05T05:39:07.843660Z",
     "shell.execute_reply": "2022-10-05T05:39:07.842412Z"
    },
    "id": "7zhTCkPvvU5W",
    "outputId": "692a0cd2-9cdb-4939-e2f8-52b72686f2f5",
    "papermill": {
     "duration": 19.093391,
     "end_time": "2022-10-05T05:39:07.846080",
     "exception": false,
     "start_time": "2022-10-05T05:38:48.752689",
     "status": "completed"
    },
    "tags": []
   },
   "outputs": [
    {
     "data": {
      "text/plain": [
       "RandomizedSearchCV(cv=5,\n",
       "                   estimator=Pipeline(steps=[('transform',\n",
       "                                              ColumnTransformer(remainder='passthrough',\n",
       "                                                                transformers=[('ordinalencoder',\n",
       "                                                                               OrdinalEncoder(),\n",
       "                                                                               Index(['Smoking', 'AlcoholDrinking', 'Stroke', 'DiffWalking', 'Sex',\n",
       "       'AgeCategory', 'Race', 'Diabetic', 'PhysicalActivity', 'GenHealth',\n",
       "       'Asthma', 'KidneyDisease', 'SkinCancer'],\n",
       "      dtype='object')),\n",
       "                                                                              ('standardsca...\n",
       "                                        {'SVM__C': <scipy.stats._distn_infrastructure.rv_frozen object at 0x7f74e522b950>,\n",
       "                                         'SVM__gamma': <scipy.stats._distn_infrastructure.rv_frozen object at 0x7f74e534a8d0>,\n",
       "                                         'SVM__kernel': ['rbf']},\n",
       "                                        {'SVM__C': <scipy.stats._distn_infrastructure.rv_frozen object at 0x7f74e522bc90>,\n",
       "                                         'SVM__degree': [1, 2, 3, 4, 5, 6, 7, 8,\n",
       "                                                         9, 10],\n",
       "                                         'SVM__kernel': ['poly']}],\n",
       "                   random_state=42, scoring='f1_micro')"
      ]
     },
     "execution_count": 38,
     "metadata": {},
     "output_type": "execute_result"
    }
   ],
   "source": [
    "svm_undersample = Pipeline(steps=[('transform', trans),\n",
    "                                     ('sample', RandomUnderSampler(random_state = 42)),\n",
    "                                     ('SVM', SVC())])\n",
    "\n",
    "svm_dist1 = {\n",
    "    \"SVM__C\": scipy.stats.expon(scale=.1),\n",
    "    \"SVM__gamma\": scipy.stats.expon(scale=.01),\n",
    "    \"SVM__kernel\": [\"rbf\"],\n",
    "}\n",
    "\n",
    "svm_dist2 = {\n",
    "    \"SVM__C\": scipy.stats.expon(scale=1),\n",
    "    \"SVM__gamma\": scipy.stats.expon(scale=.01),\n",
    "    \"SVM__kernel\": [\"rbf\"],\n",
    "}\n",
    "\n",
    "svm_dist3 = {\n",
    "    \"SVM__C\": scipy.stats.expon(scale=10),\n",
    "    \"SVM__gamma\": scipy.stats.expon(scale=.01),\n",
    "    \"SVM__kernel\": [\"rbf\"],\n",
    "}\n",
    "\n",
    "svm_dist4 = {\n",
    "    \"SVM__C\": scipy.stats.expon(scale=100),\n",
    "    \"SVM__gamma\": scipy.stats.expon(scale=.01),\n",
    "    \"SVM__kernel\": [\"rbf\"],\n",
    "}\n",
    "\n",
    "svm_dist5 = {\n",
    "    \"SVM__C\": scipy.stats.expon(scale=1000),\n",
    "    \"SVM__gamma\": scipy.stats.expon(scale=.01),\n",
    "    \"SVM__kernel\": [\"rbf\"],\n",
    "}\n",
    "\n",
    "svm_dist6 = {\n",
    "    \"SVM__C\": scipy.stats.expon(scale=.1),\n",
    "    \"SVM__gamma\": scipy.stats.expon(scale=1),\n",
    "    \"SVM__kernel\": [\"rbf\"],\n",
    "}\n",
    "\n",
    "svm_dist7 = {\n",
    "    \"SVM__C\": scipy.stats.expon(scale=1),\n",
    "    \"SVM__gamma\": scipy.stats.expon(scale=1),\n",
    "    \"SVM__kernel\": [\"rbf\"],\n",
    "}\n",
    "\n",
    "svm_dist8 = {\n",
    "    \"SVM__C\": scipy.stats.expon(scale=10),\n",
    "    \"SVM__gamma\": scipy.stats.expon(scale=1),\n",
    "    \"SVM__kernel\": [\"rbf\"],\n",
    "}\n",
    "\n",
    "svm_dist9 = {\n",
    "    \"SVM__C\": scipy.stats.expon(scale=100),\n",
    "    \"SVM__gamma\": scipy.stats.expon(scale=1),\n",
    "    \"SVM__kernel\": [\"rbf\"],\n",
    "}\n",
    "\n",
    "svm_dist10 = {\n",
    "    \"SVM__C\": scipy.stats.expon(scale=1000),\n",
    "    \"SVM__gamma\": scipy.stats.expon(scale=1),\n",
    "    \"SVM__kernel\": [\"rbf\"],\n",
    "}\n",
    "\n",
    "svm_dist11 = {\n",
    "    \"SVM__C\": scipy.stats.expon(scale=.1),\n",
    "    \"SVM__gamma\": scipy.stats.expon(scale=10),\n",
    "    \"SVM__kernel\": [\"rbf\"],\n",
    "}\n",
    "\n",
    "svm_dist12 = {\n",
    "    \"SVM__C\": scipy.stats.expon(scale=1),\n",
    "    \"SVM__gamma\": scipy.stats.expon(scale=10),\n",
    "    \"SVM__kernel\": [\"rbf\"],\n",
    "}\n",
    "\n",
    "svm_dist13 = {\n",
    "    \"SVM__C\": scipy.stats.expon(scale=10),\n",
    "    \"SVM__gamma\": scipy.stats.expon(scale=10),\n",
    "    \"SVM__kernel\": [\"rbf\"],\n",
    "}\n",
    "\n",
    "svm_dist14 = {\n",
    "    \"SVM__C\": scipy.stats.expon(scale=100),\n",
    "    \"SVM__gamma\": scipy.stats.expon(scale=10),\n",
    "    \"SVM__kernel\": [\"rbf\"],\n",
    "}\n",
    "\n",
    "svm_dist15 = {\n",
    "    \"SVM__C\": scipy.stats.expon(scale=1000),\n",
    "    \"SVM__gamma\": scipy.stats.expon(scale=10),\n",
    "    \"SVM__kernel\": [\"rbf\"],\n",
    "}\n",
    "\n",
    "svm_dist16 = {\n",
    "    \"SVM__C\": scipy.stats.expon(scale=10),\n",
    "    \"SVM__degree\": [1, 2, 3, 4, 5, 6, 7, 8, 9, 10],\n",
    "    \"SVM__kernel\": [\"poly\"],\n",
    "}\n",
    "\n",
    "distributions = [svm_dist1, svm_dist2, svm_dist3, svm_dist4, svm_dist5,\n",
    "                svm_dist6, svm_dist7, svm_dist8, svm_dist9, svm_dist10,\n",
    "                svm_dist11, svm_dist12, svm_dist13, svm_dist14, svm_dist15,\n",
    "                svm_dist16]\n",
    "\n",
    "clf = RandomizedSearchCV(svm_undersample, distributions, random_state=42, scoring='f1_micro', cv=5)\n",
    "\n",
    "clf.fit(X_train[:10000], y_train[:10000])"
   ]
  },
  {
   "cell_type": "code",
   "execution_count": 39,
   "id": "9434db7c",
   "metadata": {
    "execution": {
     "iopub.execute_input": "2022-10-05T05:39:07.924243Z",
     "iopub.status.busy": "2022-10-05T05:39:07.923105Z",
     "iopub.status.idle": "2022-10-05T05:39:07.930516Z",
     "shell.execute_reply": "2022-10-05T05:39:07.929656Z"
    },
    "id": "vjMeLJi9vsI9",
    "outputId": "d069108c-4bfd-4cb9-9711-4f80e2961e0b",
    "papermill": {
     "duration": 0.048742,
     "end_time": "2022-10-05T05:39:07.932450",
     "exception": false,
     "start_time": "2022-10-05T05:39:07.883708",
     "status": "completed"
    },
    "tags": []
   },
   "outputs": [
    {
     "data": {
      "text/plain": [
       "{'SVM__C': 0.051059393679958126,\n",
       " 'SVM__gamma': 0.4778961126377176,\n",
       " 'SVM__kernel': 'rbf'}"
      ]
     },
     "execution_count": 39,
     "metadata": {},
     "output_type": "execute_result"
    }
   ],
   "source": [
    "clf.best_params_"
   ]
  },
  {
   "cell_type": "markdown",
   "id": "757ee53d",
   "metadata": {
    "id": "LIP-6ZBskzhd",
    "papermill": {
     "duration": 0.037412,
     "end_time": "2022-10-05T05:39:08.007383",
     "exception": false,
     "start_time": "2022-10-05T05:39:07.969971",
     "status": "completed"
    },
    "tags": []
   },
   "source": [
    "### <a id=ooo> 3.5.2 Model"
   ]
  },
  {
   "cell_type": "code",
   "execution_count": 40,
   "id": "c407feb4",
   "metadata": {
    "execution": {
     "iopub.execute_input": "2022-10-05T05:39:08.084271Z",
     "iopub.status.busy": "2022-10-05T05:39:08.083849Z",
     "iopub.status.idle": "2022-10-05T05:50:11.610700Z",
     "shell.execute_reply": "2022-10-05T05:50:11.609403Z"
    },
    "id": "Ge7WqwX1v1jl",
    "outputId": "fa291c91-42f3-4db8-e718-4ad8d5bf5e58",
    "papermill": {
     "duration": 663.568503,
     "end_time": "2022-10-05T05:50:11.613552",
     "exception": false,
     "start_time": "2022-10-05T05:39:08.045049",
     "status": "completed"
    },
    "tags": []
   },
   "outputs": [
    {
     "name": "stdout",
     "output_type": "stream",
     "text": [
      "Training Accuracy : 0.586971979293572\n",
      "Test Accuracy : 0.5874512574557411\n"
     ]
    }
   ],
   "source": [
    "svm = SVC(C=0.05, gamma=0.477)\n",
    "\n",
    "y_pred, report = try_model(trans,\n",
    "                           RandomUnderSampler(random_state = 42),\n",
    "                           svm,\n",
    "                           X_train,\n",
    "                           y_train,\n",
    "                           X_test,\n",
    "                           y_test)"
   ]
  },
  {
   "cell_type": "markdown",
   "id": "d51e1c8d",
   "metadata": {
    "id": "_LGhgI25kzhe",
    "papermill": {
     "duration": 0.038218,
     "end_time": "2022-10-05T05:50:11.690723",
     "exception": false,
     "start_time": "2022-10-05T05:50:11.652505",
     "status": "completed"
    },
    "tags": []
   },
   "source": [
    "### <a id=j252> 3.5.3 Evaluation"
   ]
  },
  {
   "cell_type": "markdown",
   "id": "76d31920",
   "metadata": {
    "id": "aALP7FN8kzhe",
    "papermill": {
     "duration": 0.037872,
     "end_time": "2022-10-05T05:50:11.767257",
     "exception": false,
     "start_time": "2022-10-05T05:50:11.729385",
     "status": "completed"
    },
    "tags": []
   },
   "source": [
    "#### <a id=report127> 3.5.3.1 Classification Report"
   ]
  },
  {
   "cell_type": "code",
   "execution_count": 41,
   "id": "351de756",
   "metadata": {
    "execution": {
     "iopub.execute_input": "2022-10-05T05:50:11.846215Z",
     "iopub.status.busy": "2022-10-05T05:50:11.845764Z",
     "iopub.status.idle": "2022-10-05T05:50:11.850946Z",
     "shell.execute_reply": "2022-10-05T05:50:11.850151Z"
    },
    "id": "AOpyTDztv_6a",
    "outputId": "c55759c3-6d4e-4958-d717-3d58ca6ecaf7",
    "papermill": {
     "duration": 0.04766,
     "end_time": "2022-10-05T05:50:11.853222",
     "exception": false,
     "start_time": "2022-10-05T05:50:11.805562",
     "status": "completed"
    },
    "tags": []
   },
   "outputs": [
    {
     "name": "stdout",
     "output_type": "stream",
     "text": [
      "              precision    recall  f1-score   support\n",
      "\n",
      "          No       0.98      0.56      0.72     68052\n",
      "         Yes       0.14      0.87      0.24      5549\n",
      "\n",
      "    accuracy                           0.59     73601\n",
      "   macro avg       0.56      0.72      0.48     73601\n",
      "weighted avg       0.92      0.59      0.68     73601\n",
      "\n"
     ]
    }
   ],
   "source": [
    "print(report)"
   ]
  },
  {
   "cell_type": "code",
   "execution_count": 42,
   "id": "83ed5cd3",
   "metadata": {
    "execution": {
     "iopub.execute_input": "2022-10-05T05:50:11.931275Z",
     "iopub.status.busy": "2022-10-05T05:50:11.930605Z",
     "iopub.status.idle": "2022-10-05T05:50:11.936537Z",
     "shell.execute_reply": "2022-10-05T05:50:11.935757Z"
    },
    "id": "ELqdjrhZRLEI",
    "papermill": {
     "duration": 0.047216,
     "end_time": "2022-10-05T05:50:11.938546",
     "exception": false,
     "start_time": "2022-10-05T05:50:11.891330",
     "status": "completed"
    },
    "tags": []
   },
   "outputs": [],
   "source": [
    "model_metrics['Model'].append(\"SVM\")\n",
    "model_metrics['Sampling Method'].append(\"Random Undersampling\")\n",
    "model_metrics['Heart Disease Precision'].append(0.14)\n",
    "model_metrics['No Heart Disease Precision'].append(0.98)\n",
    "model_metrics['Heart Disease Recall'].append(0.87)\n",
    "model_metrics['No Heart Disease Recall'].append(0.56)\n",
    "model_metrics['Heart Disease F1'].append(0.24)\n",
    "model_metrics['No Heart Disease F1'].append(0.72)\n",
    "model_metrics['Accuracy'].append(0.59)"
   ]
  },
  {
   "cell_type": "markdown",
   "id": "9f93cd18",
   "metadata": {
    "id": "Hr5aU7pskzhe",
    "papermill": {
     "duration": 0.037274,
     "end_time": "2022-10-05T05:50:12.013865",
     "exception": false,
     "start_time": "2022-10-05T05:50:11.976591",
     "status": "completed"
    },
    "tags": []
   },
   "source": [
    "#### <a id=yyyy> 3.5.3.2 Confusion Matrix"
   ]
  },
  {
   "cell_type": "code",
   "execution_count": 43,
   "id": "73993a9e",
   "metadata": {
    "execution": {
     "iopub.execute_input": "2022-10-05T05:50:12.091533Z",
     "iopub.status.busy": "2022-10-05T05:50:12.090808Z",
     "iopub.status.idle": "2022-10-05T05:50:12.756112Z",
     "shell.execute_reply": "2022-10-05T05:50:12.755243Z"
    },
    "id": "y5NaZEdywDSg",
    "outputId": "495b9e58-e7c3-49fc-9686-a24cfb0f06ef",
    "papermill": {
     "duration": 0.7067,
     "end_time": "2022-10-05T05:50:12.758266",
     "exception": false,
     "start_time": "2022-10-05T05:50:12.051566",
     "status": "completed"
    },
    "tags": []
   },
   "outputs": [
    {
     "data": {
      "image/png": "[encoded data removed]",
      "text/plain": [
       "<Figure size 432x288 with 2 Axes>"
      ]
     },
     "metadata": {},
     "output_type": "display_data"
    }
   ],
   "source": [
    "cm = confusion_matrix(y_test, y_pred)\n",
    "make_confusion_matrix(cm)"
   ]
  },
  {
   "cell_type": "markdown",
   "id": "4b98ae58",
   "metadata": {
    "id": "df3_RtiQwJCU",
    "papermill": {
     "duration": 0.039245,
     "end_time": "2022-10-05T05:50:12.836706",
     "exception": false,
     "start_time": "2022-10-05T05:50:12.797461",
     "status": "completed"
    },
    "tags": []
   },
   "source": [
    "#### <a id=roccur> 3.5.3.3 ROC Curve"
   ]
  },
  {
   "cell_type": "code",
   "execution_count": 44,
   "id": "cd9697a6",
   "metadata": {
    "execution": {
     "iopub.execute_input": "2022-10-05T05:50:12.918558Z",
     "iopub.status.busy": "2022-10-05T05:50:12.917419Z",
     "iopub.status.idle": "2022-10-05T05:52:14.146429Z",
     "shell.execute_reply": "2022-10-05T05:52:14.145209Z"
    },
    "id": "wWud3qD5wNMj",
    "outputId": "8bfe183e-f792-4034-b122-18892685930d",
    "papermill": {
     "duration": 121.310893,
     "end_time": "2022-10-05T05:52:14.188113",
     "exception": false,
     "start_time": "2022-10-05T05:50:12.877220",
     "status": "completed"
    },
    "tags": []
   },
   "outputs": [
    {
     "data": {
      "image/png": "[encoded data removed]",
      "text/plain": [
       "<Figure size 432x288 with 1 Axes>"
      ]
     },
     "metadata": {},
     "output_type": "display_data"
    }
   ],
   "source": [
    "svm_pipeline = Pipeline(steps=[('transform', trans),\n",
    "                               ('sample', RandomUnderSampler(random_state = 42)),\n",
    "                               ('model', svm)])\n",
    "\n",
    "fpr, tpr, thresholds = plot_roc_auc(svm_pipeline, X_test, y_test.map({'No':0, \n",
    "                                                                      'Yes':1}))"
   ]
  },
  {
   "cell_type": "code",
   "execution_count": 45,
   "id": "9ef1522e",
   "metadata": {
    "execution": {
     "iopub.execute_input": "2022-10-05T05:52:14.269495Z",
     "iopub.status.busy": "2022-10-05T05:52:14.269010Z",
     "iopub.status.idle": "2022-10-05T05:52:14.289532Z",
     "shell.execute_reply": "2022-10-05T05:52:14.288386Z"
    },
    "id": "FaDqGltiXzQT",
    "outputId": "cc21295d-5720-4537-d48d-77bc058b4448",
    "papermill": {
     "duration": 0.064307,
     "end_time": "2022-10-05T05:52:14.291825",
     "exception": false,
     "start_time": "2022-10-05T05:52:14.227518",
     "status": "completed"
    },
    "tags": []
   },
   "outputs": [
    {
     "data": {
      "text/html": [
       "<div>\n",
       "<style scoped>\n",
       "    .dataframe tbody tr th:only-of-type {\n",
       "        vertical-align: middle;\n",
       "    }\n",
       "\n",
       "    .dataframe tbody tr th {\n",
       "        vertical-align: top;\n",
       "    }\n",
       "\n",
       "    .dataframe thead th {\n",
       "        text-align: right;\n",
       "    }\n",
       "</style>\n",
       "<table border=\"1\" class=\"dataframe\">\n",
       "  <thead>\n",
       "    <tr style=\"text-align: right;\">\n",
       "      <th></th>\n",
       "      <th>Threshold</th>\n",
       "      <th>TPR</th>\n",
       "      <th>FPR</th>\n",
       "      <th>Distance</th>\n",
       "    </tr>\n",
       "  </thead>\n",
       "  <tbody>\n",
       "    <tr>\n",
       "      <th>4559</th>\n",
       "      <td>0.666470</td>\n",
       "      <td>0.49991</td>\n",
       "      <td>0.154308</td>\n",
       "      <td>0.707107</td>\n",
       "    </tr>\n",
       "    <tr>\n",
       "      <th>4558</th>\n",
       "      <td>0.667108</td>\n",
       "      <td>0.49991</td>\n",
       "      <td>0.154073</td>\n",
       "      <td>0.707107</td>\n",
       "    </tr>\n",
       "    <tr>\n",
       "      <th>4560</th>\n",
       "      <td>0.666463</td>\n",
       "      <td>0.50009</td>\n",
       "      <td>0.154308</td>\n",
       "      <td>0.707107</td>\n",
       "    </tr>\n",
       "    <tr>\n",
       "      <th>4561</th>\n",
       "      <td>0.666432</td>\n",
       "      <td>0.50009</td>\n",
       "      <td>0.154338</td>\n",
       "      <td>0.707107</td>\n",
       "    </tr>\n",
       "    <tr>\n",
       "      <th>4562</th>\n",
       "      <td>0.666372</td>\n",
       "      <td>0.50027</td>\n",
       "      <td>0.154338</td>\n",
       "      <td>0.707107</td>\n",
       "    </tr>\n",
       "    <tr>\n",
       "      <th>...</th>\n",
       "      <td>...</td>\n",
       "      <td>...</td>\n",
       "      <td>...</td>\n",
       "      <td>...</td>\n",
       "    </tr>\n",
       "    <tr>\n",
       "      <th>0</th>\n",
       "      <td>2.245288</td>\n",
       "      <td>0.00000</td>\n",
       "      <td>0.000000</td>\n",
       "      <td>1.000000</td>\n",
       "    </tr>\n",
       "    <tr>\n",
       "      <th>2</th>\n",
       "      <td>1.203195</td>\n",
       "      <td>0.00000</td>\n",
       "      <td>0.000103</td>\n",
       "      <td>1.000000</td>\n",
       "    </tr>\n",
       "    <tr>\n",
       "      <th>1</th>\n",
       "      <td>1.245288</td>\n",
       "      <td>0.00000</td>\n",
       "      <td>0.000015</td>\n",
       "      <td>1.000000</td>\n",
       "    </tr>\n",
       "    <tr>\n",
       "      <th>11740</th>\n",
       "      <td>-1.578765</td>\n",
       "      <td>1.00000</td>\n",
       "      <td>0.999897</td>\n",
       "      <td>1.000000</td>\n",
       "    </tr>\n",
       "    <tr>\n",
       "      <th>11741</th>\n",
       "      <td>-1.642730</td>\n",
       "      <td>1.00000</td>\n",
       "      <td>1.000000</td>\n",
       "      <td>1.000000</td>\n",
       "    </tr>\n",
       "  </tbody>\n",
       "</table>\n",
       "<p>11742 rows × 4 columns</p>\n",
       "</div>"
      ],
      "text/plain": [
       "       Threshold      TPR       FPR  Distance\n",
       "4559    0.666470  0.49991  0.154308  0.707107\n",
       "4558    0.667108  0.49991  0.154073  0.707107\n",
       "4560    0.666463  0.50009  0.154308  0.707107\n",
       "4561    0.666432  0.50009  0.154338  0.707107\n",
       "4562    0.666372  0.50027  0.154338  0.707107\n",
       "...          ...      ...       ...       ...\n",
       "0       2.245288  0.00000  0.000000  1.000000\n",
       "2       1.203195  0.00000  0.000103  1.000000\n",
       "1       1.245288  0.00000  0.000015  1.000000\n",
       "11740  -1.578765  1.00000  0.999897  1.000000\n",
       "11741  -1.642730  1.00000  1.000000  1.000000\n",
       "\n",
       "[11742 rows x 4 columns]"
      ]
     },
     "execution_count": 45,
     "metadata": {},
     "output_type": "execute_result"
    }
   ],
   "source": [
    "top_left = np.sqrt((1 - tpr)**2 + tpr**2)\n",
    "threshold_df = pd.DataFrame({\"Threshold\":thresholds, \"TPR\":tpr, \"FPR\":fpr, \"Distance\":top_left})\n",
    "threshold_df = threshold_df.sort_values(\"Distance\")\n",
    "threshold_df"
   ]
  },
  {
   "cell_type": "markdown",
   "id": "11174ab4",
   "metadata": {
    "id": "hC4E3Dvs6gfY",
    "papermill": {
     "duration": 0.041099,
     "end_time": "2022-10-05T05:52:14.372153",
     "exception": false,
     "start_time": "2022-10-05T05:52:14.331054",
     "status": "completed"
    },
    "tags": []
   },
   "source": [
    "The optimal threshold for classification seems to be around 0.66. Meaning, any sample decision function that is greater than or equal 0.66 is classified as 1 (heart disease), and otherwise 0 (normal)."
   ]
  },
  {
   "cell_type": "markdown",
   "id": "8b0a0a5f",
   "metadata": {
    "id": "4CX63cd2wrBJ",
    "papermill": {
     "duration": 0.040259,
     "end_time": "2022-10-05T05:52:14.452759",
     "exception": false,
     "start_time": "2022-10-05T05:52:14.412500",
     "status": "completed"
    },
    "tags": []
   },
   "source": [
    "## <a id=adaboosting> 3.6 AdaBoost"
   ]
  },
  {
   "cell_type": "markdown",
   "id": "1059d6d4",
   "metadata": {
    "id": "d4M-7xK40dm8",
    "papermill": {
     "duration": 0.040698,
     "end_time": "2022-10-05T05:52:14.534259",
     "exception": false,
     "start_time": "2022-10-05T05:52:14.493561",
     "status": "completed"
    },
    "tags": []
   },
   "source": [
    "### <a id=adaboostingmodel> 3.6.1 Model"
   ]
  },
  {
   "cell_type": "code",
   "execution_count": 46,
   "id": "e6f80219",
   "metadata": {
    "execution": {
     "iopub.execute_input": "2022-10-05T05:52:14.617798Z",
     "iopub.status.busy": "2022-10-05T05:52:14.616853Z",
     "iopub.status.idle": "2022-10-05T05:52:29.679599Z",
     "shell.execute_reply": "2022-10-05T05:52:29.678598Z"
    },
    "id": "yVPn4CmfxQH6",
    "outputId": "690301f7-8525-41af-931f-525cd27770bd",
    "papermill": {
     "duration": 15.107419,
     "end_time": "2022-10-05T05:52:29.682414",
     "exception": false,
     "start_time": "2022-10-05T05:52:14.574995",
     "status": "completed"
    },
    "tags": []
   },
   "outputs": [
    {
     "name": "stdout",
     "output_type": "stream",
     "text": [
      "Training Accuracy : 0.714068323965924\n",
      "Test Accuracy : 0.6708604502656214\n"
     ]
    }
   ],
   "source": [
    "y_pred, report = try_model(trans,\n",
    "                           RandomUnderSampler(random_state = 42),\n",
    "                           AdaBoostClassifier(base_estimator=DecisionTreeClassifier()),\n",
    "                           X_train,\n",
    "                           y_train,\n",
    "                           X_test,\n",
    "                           y_test)"
   ]
  },
  {
   "cell_type": "markdown",
   "id": "2ea22fc2",
   "metadata": {
    "id": "euGNQoeB0ZkF",
    "papermill": {
     "duration": 0.039463,
     "end_time": "2022-10-05T05:52:29.762041",
     "exception": false,
     "start_time": "2022-10-05T05:52:29.722578",
     "status": "completed"
    },
    "tags": []
   },
   "source": [
    "### <a id=adaboostingeval> 3.6.2 Evaluation"
   ]
  },
  {
   "cell_type": "markdown",
   "id": "05c81909",
   "metadata": {
    "id": "8lHaga540j-M",
    "papermill": {
     "duration": 0.039581,
     "end_time": "2022-10-05T05:52:29.841142",
     "exception": false,
     "start_time": "2022-10-05T05:52:29.801561",
     "status": "completed"
    },
    "tags": []
   },
   "source": [
    "#### <a id=adaboostingreport> 3.6.2.1 Classification Report"
   ]
  },
  {
   "cell_type": "code",
   "execution_count": 47,
   "id": "5107ec2d",
   "metadata": {
    "execution": {
     "iopub.execute_input": "2022-10-05T05:52:29.922094Z",
     "iopub.status.busy": "2022-10-05T05:52:29.921679Z",
     "iopub.status.idle": "2022-10-05T05:52:29.926368Z",
     "shell.execute_reply": "2022-10-05T05:52:29.925528Z"
    },
    "id": "SS1_t0Qs0DBY",
    "outputId": "3ed54e82-a058-49ac-8f7a-2f4aafd72303",
    "papermill": {
     "duration": 0.048638,
     "end_time": "2022-10-05T05:52:29.929267",
     "exception": false,
     "start_time": "2022-10-05T05:52:29.880629",
     "status": "completed"
    },
    "tags": []
   },
   "outputs": [
    {
     "name": "stdout",
     "output_type": "stream",
     "text": [
      "              precision    recall  f1-score   support\n",
      "\n",
      "          No       0.97      0.67      0.79     68052\n",
      "         Yes       0.15      0.73      0.25      5549\n",
      "\n",
      "    accuracy                           0.67     73601\n",
      "   macro avg       0.56      0.70      0.52     73601\n",
      "weighted avg       0.91      0.67      0.75     73601\n",
      "\n"
     ]
    }
   ],
   "source": [
    "print(report)"
   ]
  },
  {
   "cell_type": "code",
   "execution_count": 48,
   "id": "3dddaf9f",
   "metadata": {
    "execution": {
     "iopub.execute_input": "2022-10-05T05:52:30.010768Z",
     "iopub.status.busy": "2022-10-05T05:52:30.009779Z",
     "iopub.status.idle": "2022-10-05T05:52:30.016434Z",
     "shell.execute_reply": "2022-10-05T05:52:30.015524Z"
    },
    "id": "K8XKUOx7RcML",
    "papermill": {
     "duration": 0.049974,
     "end_time": "2022-10-05T05:52:30.018775",
     "exception": false,
     "start_time": "2022-10-05T05:52:29.968801",
     "status": "completed"
    },
    "tags": []
   },
   "outputs": [],
   "source": [
    "model_metrics['Model'].append(\"AdaBoost\")\n",
    "model_metrics['Sampling Method'].append(\"Random Undersampling\")\n",
    "model_metrics['Heart Disease Precision'].append(0.17)\n",
    "model_metrics['No Heart Disease Precision'].append(0.97)\n",
    "model_metrics['Heart Disease Recall'].append(0.73)\n",
    "model_metrics['No Heart Disease Recall'].append(0.70)\n",
    "model_metrics['Heart Disease F1'].append(0.81)\n",
    "model_metrics['No Heart Disease F1'].append(0.27)\n",
    "model_metrics['Accuracy'].append(0.70)"
   ]
  },
  {
   "cell_type": "markdown",
   "id": "cd7030d2",
   "metadata": {
    "id": "2tR4N3MH0OMf",
    "papermill": {
     "duration": 0.039149,
     "end_time": "2022-10-05T05:52:30.097933",
     "exception": false,
     "start_time": "2022-10-05T05:52:30.058784",
     "status": "completed"
    },
    "tags": []
   },
   "source": [
    "#### <a id=adaboostingmatrix> 3.6.2.2 Confusion Matrix"
   ]
  },
  {
   "cell_type": "code",
   "execution_count": 49,
   "id": "cfa8c3b7",
   "metadata": {
    "execution": {
     "iopub.execute_input": "2022-10-05T05:52:30.178926Z",
     "iopub.status.busy": "2022-10-05T05:52:30.177992Z",
     "iopub.status.idle": "2022-10-05T05:52:30.845906Z",
     "shell.execute_reply": "2022-10-05T05:52:30.845093Z"
    },
    "id": "zPSsF6XU0I2U",
    "outputId": "f5335e57-8ec5-4f79-80b6-774a919122c2",
    "papermill": {
     "duration": 0.710638,
     "end_time": "2022-10-05T05:52:30.848092",
     "exception": false,
     "start_time": "2022-10-05T05:52:30.137454",
     "status": "completed"
    },
    "tags": []
   },
   "outputs": [
    {
     "data": {
      "image/png": "[encoded data removed]",
      "text/plain": [
       "<Figure size 432x288 with 2 Axes>"
      ]
     },
     "metadata": {},
     "output_type": "display_data"
    }
   ],
   "source": [
    "cm = confusion_matrix(y_test, y_pred)\n",
    "make_confusion_matrix(cm)"
   ]
  },
  {
   "cell_type": "markdown",
   "id": "c361616d",
   "metadata": {
    "id": "TV914rH21NOs",
    "papermill": {
     "duration": 0.041411,
     "end_time": "2022-10-05T05:52:30.930410",
     "exception": false,
     "start_time": "2022-10-05T05:52:30.888999",
     "status": "completed"
    },
    "tags": []
   },
   "source": [
    "## <a id=catboosting> 3.8 CatBoost"
   ]
  },
  {
   "cell_type": "markdown",
   "id": "380d6b5a",
   "metadata": {
    "id": "Kg0XspZz06Cn",
    "papermill": {
     "duration": 0.040379,
     "end_time": "2022-10-05T05:52:31.011144",
     "exception": false,
     "start_time": "2022-10-05T05:52:30.970765",
     "status": "completed"
    },
    "tags": []
   },
   "source": [
    "### <a id=catboostingmodel> 3.8.1 Model"
   ]
  },
  {
   "cell_type": "code",
   "execution_count": 50,
   "id": "385299c1",
   "metadata": {
    "_kg_hide-output": true,
    "execution": {
     "iopub.execute_input": "2022-10-05T05:52:31.093385Z",
     "iopub.status.busy": "2022-10-05T05:52:31.092927Z",
     "iopub.status.idle": "2022-10-05T05:53:51.958545Z",
     "shell.execute_reply": "2022-10-05T05:53:51.957397Z"
    },
    "id": "nMhLTH2Sz8Qw",
    "outputId": "b0ae7af6-70f6-4311-81ad-efff734fc919",
    "papermill": {
     "duration": 80.909939,
     "end_time": "2022-10-05T05:53:51.961380",
     "exception": false,
     "start_time": "2022-10-05T05:52:31.051441",
     "status": "completed"
    },
    "tags": []
   },
   "outputs": [
    {
     "name": "stdout",
     "output_type": "stream",
     "text": [
      "Learning rate set to 0.134264\n",
      "0:\tlearn: 0.6212276\ttotal: 149ms\tremaining: 2m 28s\n",
      "1:\tlearn: 0.5815598\ttotal: 217ms\tremaining: 1m 48s\n",
      "2:\tlearn: 0.5378076\ttotal: 283ms\tremaining: 1m 34s\n",
      "3:\tlearn: 0.5099584\ttotal: 351ms\tremaining: 1m 27s\n",
      "4:\tlearn: 0.4860821\ttotal: 421ms\tremaining: 1m 23s\n",
      "5:\tlearn: 0.4717341\ttotal: 485ms\tremaining: 1m 20s\n",
      "6:\tlearn: 0.4492325\ttotal: 549ms\tremaining: 1m 17s\n",
      "7:\tlearn: 0.4404554\ttotal: 612ms\tremaining: 1m 15s\n",
      "8:\tlearn: 0.4296104\ttotal: 676ms\tremaining: 1m 14s\n",
      "9:\tlearn: 0.4220029\ttotal: 741ms\tremaining: 1m 13s\n",
      "10:\tlearn: 0.4064556\ttotal: 810ms\tremaining: 1m 12s\n",
      "11:\tlearn: 0.3998448\ttotal: 875ms\tremaining: 1m 12s\n",
      "12:\tlearn: 0.3796858\ttotal: 938ms\tremaining: 1m 11s\n",
      "13:\tlearn: 0.3649211\ttotal: 1s\tremaining: 1m 10s\n",
      "14:\tlearn: 0.3605144\ttotal: 1.07s\tremaining: 1m 10s\n",
      "15:\tlearn: 0.3531279\ttotal: 1.13s\tremaining: 1m 9s\n",
      "16:\tlearn: 0.3494943\ttotal: 1.2s\tremaining: 1m 9s\n",
      "17:\tlearn: 0.3436558\ttotal: 1.26s\tremaining: 1m 8s\n",
      "18:\tlearn: 0.3276588\ttotal: 1.32s\tremaining: 1m 8s\n",
      "19:\tlearn: 0.3191560\ttotal: 1.39s\tremaining: 1m 7s\n",
      "20:\tlearn: 0.3130136\ttotal: 1.46s\tremaining: 1m 7s\n",
      "21:\tlearn: 0.3051436\ttotal: 1.52s\tremaining: 1m 7s\n",
      "22:\tlearn: 0.3011440\ttotal: 1.58s\tremaining: 1m 7s\n",
      "23:\tlearn: 0.2850791\ttotal: 1.65s\tremaining: 1m 7s\n",
      "24:\tlearn: 0.2816190\ttotal: 1.71s\tremaining: 1m 6s\n",
      "25:\tlearn: 0.2793559\ttotal: 1.78s\tremaining: 1m 6s\n",
      "26:\tlearn: 0.2769712\ttotal: 1.83s\tremaining: 1m 6s\n",
      "27:\tlearn: 0.2738226\ttotal: 1.89s\tremaining: 1m 5s\n",
      "28:\tlearn: 0.2710443\ttotal: 1.96s\tremaining: 1m 5s\n",
      "29:\tlearn: 0.2667354\ttotal: 2.02s\tremaining: 1m 5s\n",
      "30:\tlearn: 0.2633341\ttotal: 2.08s\tremaining: 1m 5s\n",
      "31:\tlearn: 0.2625420\ttotal: 2.19s\tremaining: 1m 6s\n",
      "32:\tlearn: 0.2609988\ttotal: 2.26s\tremaining: 1m 6s\n",
      "33:\tlearn: 0.2603210\ttotal: 2.31s\tremaining: 1m 5s\n",
      "34:\tlearn: 0.2566713\ttotal: 2.38s\tremaining: 1m 5s\n",
      "35:\tlearn: 0.2559309\ttotal: 2.44s\tremaining: 1m 5s\n",
      "36:\tlearn: 0.2548610\ttotal: 2.5s\tremaining: 1m 5s\n",
      "37:\tlearn: 0.2515372\ttotal: 2.56s\tremaining: 1m 4s\n",
      "38:\tlearn: 0.2510400\ttotal: 2.63s\tremaining: 1m 4s\n",
      "39:\tlearn: 0.2496135\ttotal: 2.68s\tremaining: 1m 4s\n",
      "40:\tlearn: 0.2481564\ttotal: 2.74s\tremaining: 1m 4s\n",
      "41:\tlearn: 0.2414768\ttotal: 2.81s\tremaining: 1m 4s\n",
      "42:\tlearn: 0.2401281\ttotal: 2.88s\tremaining: 1m 4s\n",
      "43:\tlearn: 0.2396462\ttotal: 2.94s\tremaining: 1m 3s\n",
      "44:\tlearn: 0.2390467\ttotal: 3s\tremaining: 1m 3s\n",
      "45:\tlearn: 0.2386618\ttotal: 3.06s\tremaining: 1m 3s\n",
      "46:\tlearn: 0.2380611\ttotal: 3.13s\tremaining: 1m 3s\n",
      "47:\tlearn: 0.2370648\ttotal: 3.19s\tremaining: 1m 3s\n",
      "48:\tlearn: 0.2366601\ttotal: 3.26s\tremaining: 1m 3s\n",
      "49:\tlearn: 0.2354277\ttotal: 3.36s\tremaining: 1m 3s\n",
      "50:\tlearn: 0.2351700\ttotal: 3.45s\tremaining: 1m 4s\n",
      "51:\tlearn: 0.2348047\ttotal: 3.54s\tremaining: 1m 4s\n",
      "52:\tlearn: 0.2344954\ttotal: 3.64s\tremaining: 1m 5s\n",
      "53:\tlearn: 0.2342102\ttotal: 3.73s\tremaining: 1m 5s\n",
      "54:\tlearn: 0.2336924\ttotal: 3.82s\tremaining: 1m 5s\n",
      "55:\tlearn: 0.2331580\ttotal: 3.92s\tremaining: 1m 6s\n",
      "56:\tlearn: 0.2328474\ttotal: 4.01s\tremaining: 1m 6s\n",
      "57:\tlearn: 0.2324663\ttotal: 4.1s\tremaining: 1m 6s\n",
      "58:\tlearn: 0.2313609\ttotal: 4.18s\tremaining: 1m 6s\n",
      "59:\tlearn: 0.2306804\ttotal: 4.28s\tremaining: 1m 7s\n",
      "60:\tlearn: 0.2298790\ttotal: 4.37s\tremaining: 1m 7s\n",
      "61:\tlearn: 0.2284783\ttotal: 4.46s\tremaining: 1m 7s\n",
      "62:\tlearn: 0.2273809\ttotal: 4.56s\tremaining: 1m 7s\n",
      "63:\tlearn: 0.2262899\ttotal: 4.63s\tremaining: 1m 7s\n",
      "64:\tlearn: 0.2260853\ttotal: 4.69s\tremaining: 1m 7s\n",
      "65:\tlearn: 0.2256788\ttotal: 4.75s\tremaining: 1m 7s\n",
      "66:\tlearn: 0.2247226\ttotal: 4.82s\tremaining: 1m 7s\n",
      "67:\tlearn: 0.2244033\ttotal: 4.88s\tremaining: 1m 6s\n",
      "68:\tlearn: 0.2233927\ttotal: 4.94s\tremaining: 1m 6s\n",
      "69:\tlearn: 0.2230719\ttotal: 4.99s\tremaining: 1m 6s\n",
      "70:\tlearn: 0.2228962\ttotal: 5.05s\tremaining: 1m 6s\n",
      "71:\tlearn: 0.2221321\ttotal: 5.12s\tremaining: 1m 6s\n",
      "72:\tlearn: 0.2218337\ttotal: 5.19s\tremaining: 1m 5s\n",
      "73:\tlearn: 0.2215874\ttotal: 5.26s\tremaining: 1m 5s\n",
      "74:\tlearn: 0.2209927\ttotal: 5.33s\tremaining: 1m 5s\n",
      "75:\tlearn: 0.2204440\ttotal: 5.39s\tremaining: 1m 5s\n",
      "76:\tlearn: 0.2198332\ttotal: 5.45s\tremaining: 1m 5s\n",
      "77:\tlearn: 0.2196248\ttotal: 5.51s\tremaining: 1m 5s\n",
      "78:\tlearn: 0.2191081\ttotal: 5.57s\tremaining: 1m 4s\n",
      "79:\tlearn: 0.2184086\ttotal: 5.63s\tremaining: 1m 4s\n",
      "80:\tlearn: 0.2182499\ttotal: 5.69s\tremaining: 1m 4s\n",
      "81:\tlearn: 0.2174371\ttotal: 5.76s\tremaining: 1m 4s\n",
      "82:\tlearn: 0.2167522\ttotal: 5.82s\tremaining: 1m 4s\n",
      "83:\tlearn: 0.2152336\ttotal: 5.88s\tremaining: 1m 4s\n",
      "84:\tlearn: 0.2145939\ttotal: 5.95s\tremaining: 1m 4s\n",
      "85:\tlearn: 0.2143340\ttotal: 6.01s\tremaining: 1m 3s\n",
      "86:\tlearn: 0.2141486\ttotal: 6.08s\tremaining: 1m 3s\n",
      "87:\tlearn: 0.2140128\ttotal: 6.15s\tremaining: 1m 3s\n",
      "88:\tlearn: 0.2130276\ttotal: 6.21s\tremaining: 1m 3s\n",
      "89:\tlearn: 0.2126643\ttotal: 6.27s\tremaining: 1m 3s\n",
      "90:\tlearn: 0.2122706\ttotal: 6.33s\tremaining: 1m 3s\n",
      "91:\tlearn: 0.2120153\ttotal: 6.4s\tremaining: 1m 3s\n",
      "92:\tlearn: 0.2110670\ttotal: 6.46s\tremaining: 1m 3s\n",
      "93:\tlearn: 0.2101493\ttotal: 6.53s\tremaining: 1m 2s\n",
      "94:\tlearn: 0.2097085\ttotal: 6.59s\tremaining: 1m 2s\n",
      "95:\tlearn: 0.2091294\ttotal: 6.66s\tremaining: 1m 2s\n",
      "96:\tlearn: 0.2090058\ttotal: 6.71s\tremaining: 1m 2s\n",
      "97:\tlearn: 0.2078347\ttotal: 6.78s\tremaining: 1m 2s\n",
      "98:\tlearn: 0.2064997\ttotal: 6.84s\tremaining: 1m 2s\n",
      "99:\tlearn: 0.2063591\ttotal: 6.9s\tremaining: 1m 2s\n",
      "100:\tlearn: 0.2060965\ttotal: 6.96s\tremaining: 1m 1s\n",
      "101:\tlearn: 0.2059552\ttotal: 7.03s\tremaining: 1m 1s\n",
      "102:\tlearn: 0.2057768\ttotal: 7.09s\tremaining: 1m 1s\n",
      "103:\tlearn: 0.2056196\ttotal: 7.16s\tremaining: 1m 1s\n",
      "104:\tlearn: 0.2054598\ttotal: 7.23s\tremaining: 1m 1s\n",
      "105:\tlearn: 0.2051210\ttotal: 7.29s\tremaining: 1m 1s\n",
      "106:\tlearn: 0.2049665\ttotal: 7.34s\tremaining: 1m 1s\n",
      "107:\tlearn: 0.2047573\ttotal: 7.42s\tremaining: 1m 1s\n",
      "108:\tlearn: 0.2042337\ttotal: 7.47s\tremaining: 1m 1s\n",
      "109:\tlearn: 0.2040136\ttotal: 7.54s\tremaining: 1m 1s\n",
      "110:\tlearn: 0.2037370\ttotal: 7.6s\tremaining: 1m\n",
      "111:\tlearn: 0.2035726\ttotal: 7.66s\tremaining: 1m\n",
      "112:\tlearn: 0.2033773\ttotal: 7.72s\tremaining: 1m\n",
      "113:\tlearn: 0.2031128\ttotal: 7.79s\tremaining: 1m\n",
      "114:\tlearn: 0.2030363\ttotal: 7.85s\tremaining: 1m\n",
      "115:\tlearn: 0.2029237\ttotal: 7.91s\tremaining: 1m\n",
      "116:\tlearn: 0.2028275\ttotal: 7.97s\tremaining: 1m\n",
      "117:\tlearn: 0.2027504\ttotal: 8.04s\tremaining: 1m\n",
      "118:\tlearn: 0.2023469\ttotal: 8.11s\tremaining: 1m\n",
      "119:\tlearn: 0.2022210\ttotal: 8.17s\tremaining: 59.9s\n",
      "120:\tlearn: 0.2020748\ttotal: 8.22s\tremaining: 59.8s\n",
      "121:\tlearn: 0.2017063\ttotal: 8.29s\tremaining: 59.6s\n",
      "122:\tlearn: 0.2014843\ttotal: 8.35s\tremaining: 59.5s\n",
      "123:\tlearn: 0.2011615\ttotal: 8.4s\tremaining: 59.4s\n",
      "124:\tlearn: 0.2006796\ttotal: 8.47s\tremaining: 59.3s\n",
      "125:\tlearn: 0.2005885\ttotal: 8.54s\tremaining: 59.2s\n",
      "126:\tlearn: 0.2000980\ttotal: 8.6s\tremaining: 59.1s\n",
      "127:\tlearn: 0.1999865\ttotal: 8.66s\tremaining: 59s\n",
      "128:\tlearn: 0.1995790\ttotal: 8.72s\tremaining: 58.9s\n",
      "129:\tlearn: 0.1993287\ttotal: 8.78s\tremaining: 58.8s\n",
      "130:\tlearn: 0.1989244\ttotal: 8.84s\tremaining: 58.6s\n",
      "131:\tlearn: 0.1986456\ttotal: 8.9s\tremaining: 58.5s\n",
      "132:\tlearn: 0.1983220\ttotal: 8.97s\tremaining: 58.5s\n",
      "133:\tlearn: 0.1979417\ttotal: 9.03s\tremaining: 58.3s\n",
      "134:\tlearn: 0.1976854\ttotal: 9.09s\tremaining: 58.2s\n",
      "135:\tlearn: 0.1973121\ttotal: 9.15s\tremaining: 58.1s\n",
      "136:\tlearn: 0.1972284\ttotal: 9.21s\tremaining: 58s\n",
      "137:\tlearn: 0.1970907\ttotal: 9.28s\tremaining: 57.9s\n",
      "138:\tlearn: 0.1969092\ttotal: 9.33s\tremaining: 57.8s\n",
      "139:\tlearn: 0.1967612\ttotal: 9.4s\tremaining: 57.8s\n",
      "140:\tlearn: 0.1965990\ttotal: 9.47s\tremaining: 57.7s\n",
      "141:\tlearn: 0.1965005\ttotal: 9.53s\tremaining: 57.6s\n",
      "142:\tlearn: 0.1963926\ttotal: 9.6s\tremaining: 57.5s\n",
      "143:\tlearn: 0.1960719\ttotal: 9.66s\tremaining: 57.5s\n",
      "144:\tlearn: 0.1956091\ttotal: 9.73s\tremaining: 57.4s\n",
      "145:\tlearn: 0.1955233\ttotal: 9.79s\tremaining: 57.3s\n",
      "146:\tlearn: 0.1954381\ttotal: 9.86s\tremaining: 57.2s\n",
      "147:\tlearn: 0.1953654\ttotal: 9.93s\tremaining: 57.1s\n",
      "148:\tlearn: 0.1951991\ttotal: 9.99s\tremaining: 57s\n",
      "149:\tlearn: 0.1951468\ttotal: 10.1s\tremaining: 57s\n",
      "150:\tlearn: 0.1949003\ttotal: 10.1s\tremaining: 56.9s\n",
      "151:\tlearn: 0.1947976\ttotal: 10.2s\tremaining: 56.8s\n",
      "152:\tlearn: 0.1946676\ttotal: 10.2s\tremaining: 56.6s\n",
      "153:\tlearn: 0.1943016\ttotal: 10.3s\tremaining: 56.6s\n",
      "154:\tlearn: 0.1942278\ttotal: 10.4s\tremaining: 56.5s\n",
      "155:\tlearn: 0.1941135\ttotal: 10.4s\tremaining: 56.4s\n",
      "156:\tlearn: 0.1936666\ttotal: 10.5s\tremaining: 56.3s\n",
      "157:\tlearn: 0.1932875\ttotal: 10.5s\tremaining: 56.2s\n",
      "158:\tlearn: 0.1932081\ttotal: 10.6s\tremaining: 56.1s\n",
      "159:\tlearn: 0.1931539\ttotal: 10.7s\tremaining: 56s\n",
      "160:\tlearn: 0.1928850\ttotal: 10.7s\tremaining: 55.9s\n",
      "161:\tlearn: 0.1928267\ttotal: 10.8s\tremaining: 55.9s\n",
      "162:\tlearn: 0.1926789\ttotal: 10.9s\tremaining: 55.8s\n",
      "163:\tlearn: 0.1925574\ttotal: 10.9s\tremaining: 55.8s\n",
      "164:\tlearn: 0.1924231\ttotal: 11s\tremaining: 55.7s\n",
      "165:\tlearn: 0.1923025\ttotal: 11.1s\tremaining: 55.7s\n",
      "166:\tlearn: 0.1922356\ttotal: 11.1s\tremaining: 55.6s\n",
      "167:\tlearn: 0.1921105\ttotal: 11.2s\tremaining: 55.5s\n",
      "168:\tlearn: 0.1920293\ttotal: 11.3s\tremaining: 55.5s\n",
      "169:\tlearn: 0.1919688\ttotal: 11.3s\tremaining: 55.4s\n",
      "170:\tlearn: 0.1918980\ttotal: 11.4s\tremaining: 55.3s\n",
      "171:\tlearn: 0.1916568\ttotal: 11.5s\tremaining: 55.2s\n",
      "172:\tlearn: 0.1916092\ttotal: 11.5s\tremaining: 55.1s\n",
      "173:\tlearn: 0.1915600\ttotal: 11.6s\tremaining: 55s\n",
      "174:\tlearn: 0.1914395\ttotal: 11.6s\tremaining: 54.9s\n",
      "175:\tlearn: 0.1910940\ttotal: 11.7s\tremaining: 54.8s\n",
      "176:\tlearn: 0.1906957\ttotal: 11.8s\tremaining: 54.7s\n",
      "177:\tlearn: 0.1904256\ttotal: 11.8s\tremaining: 54.6s\n",
      "178:\tlearn: 0.1903387\ttotal: 11.9s\tremaining: 54.5s\n",
      "179:\tlearn: 0.1902479\ttotal: 11.9s\tremaining: 54.4s\n",
      "180:\tlearn: 0.1901768\ttotal: 12s\tremaining: 54.3s\n",
      "181:\tlearn: 0.1900546\ttotal: 12.1s\tremaining: 54.3s\n",
      "182:\tlearn: 0.1899027\ttotal: 12.1s\tremaining: 54.2s\n",
      "183:\tlearn: 0.1897368\ttotal: 12.2s\tremaining: 54.1s\n",
      "184:\tlearn: 0.1896995\ttotal: 12.3s\tremaining: 54s\n",
      "185:\tlearn: 0.1894539\ttotal: 12.3s\tremaining: 53.9s\n",
      "186:\tlearn: 0.1892737\ttotal: 12.4s\tremaining: 53.8s\n",
      "187:\tlearn: 0.1891605\ttotal: 12.4s\tremaining: 53.7s\n",
      "188:\tlearn: 0.1890641\ttotal: 12.5s\tremaining: 53.7s\n",
      "189:\tlearn: 0.1890312\ttotal: 12.6s\tremaining: 53.5s\n",
      "190:\tlearn: 0.1889749\ttotal: 12.6s\tremaining: 53.5s\n",
      "191:\tlearn: 0.1888859\ttotal: 12.7s\tremaining: 53.4s\n",
      "192:\tlearn: 0.1888229\ttotal: 12.8s\tremaining: 53.3s\n",
      "193:\tlearn: 0.1887723\ttotal: 12.8s\tremaining: 53.2s\n",
      "194:\tlearn: 0.1886716\ttotal: 12.9s\tremaining: 53.2s\n",
      "195:\tlearn: 0.1885903\ttotal: 12.9s\tremaining: 53.1s\n",
      "196:\tlearn: 0.1882651\ttotal: 13s\tremaining: 53s\n",
      "197:\tlearn: 0.1882024\ttotal: 13.1s\tremaining: 53s\n",
      "198:\tlearn: 0.1879650\ttotal: 13.2s\tremaining: 53.1s\n",
      "199:\tlearn: 0.1878973\ttotal: 13.3s\tremaining: 53s\n",
      "200:\tlearn: 0.1878336\ttotal: 13.3s\tremaining: 52.9s\n",
      "201:\tlearn: 0.1877820\ttotal: 13.4s\tremaining: 52.8s\n",
      "202:\tlearn: 0.1877469\ttotal: 13.4s\tremaining: 52.7s\n",
      "203:\tlearn: 0.1876873\ttotal: 13.5s\tremaining: 52.6s\n",
      "204:\tlearn: 0.1876353\ttotal: 13.6s\tremaining: 52.6s\n",
      "205:\tlearn: 0.1875598\ttotal: 13.6s\tremaining: 52.5s\n",
      "206:\tlearn: 0.1875051\ttotal: 13.7s\tremaining: 52.4s\n",
      "207:\tlearn: 0.1874696\ttotal: 13.7s\tremaining: 52.3s\n",
      "208:\tlearn: 0.1872228\ttotal: 13.8s\tremaining: 52.3s\n",
      "209:\tlearn: 0.1871399\ttotal: 13.9s\tremaining: 52.2s\n",
      "210:\tlearn: 0.1871043\ttotal: 13.9s\tremaining: 52.2s\n",
      "211:\tlearn: 0.1869604\ttotal: 14s\tremaining: 52.1s\n",
      "212:\tlearn: 0.1868910\ttotal: 14.1s\tremaining: 52.1s\n",
      "213:\tlearn: 0.1868158\ttotal: 14.2s\tremaining: 52s\n",
      "214:\tlearn: 0.1866899\ttotal: 14.2s\tremaining: 52s\n",
      "215:\tlearn: 0.1866363\ttotal: 14.3s\tremaining: 51.9s\n",
      "216:\tlearn: 0.1865951\ttotal: 14.4s\tremaining: 51.8s\n",
      "217:\tlearn: 0.1865491\ttotal: 14.4s\tremaining: 51.8s\n",
      "218:\tlearn: 0.1864945\ttotal: 14.5s\tremaining: 51.7s\n",
      "219:\tlearn: 0.1862894\ttotal: 14.6s\tremaining: 51.7s\n",
      "220:\tlearn: 0.1862315\ttotal: 14.6s\tremaining: 51.6s\n",
      "221:\tlearn: 0.1861656\ttotal: 14.7s\tremaining: 51.6s\n",
      "222:\tlearn: 0.1859434\ttotal: 14.8s\tremaining: 51.5s\n",
      "223:\tlearn: 0.1858924\ttotal: 14.8s\tremaining: 51.4s\n",
      "224:\tlearn: 0.1857668\ttotal: 14.9s\tremaining: 51.3s\n",
      "225:\tlearn: 0.1857205\ttotal: 15s\tremaining: 51.2s\n",
      "226:\tlearn: 0.1855703\ttotal: 15s\tremaining: 51.1s\n",
      "227:\tlearn: 0.1854286\ttotal: 15.1s\tremaining: 51.1s\n",
      "228:\tlearn: 0.1853760\ttotal: 15.2s\tremaining: 51s\n",
      "229:\tlearn: 0.1853245\ttotal: 15.2s\tremaining: 50.9s\n",
      "230:\tlearn: 0.1852375\ttotal: 15.3s\tremaining: 50.9s\n",
      "231:\tlearn: 0.1850806\ttotal: 15.3s\tremaining: 50.8s\n",
      "232:\tlearn: 0.1850390\ttotal: 15.4s\tremaining: 50.7s\n",
      "233:\tlearn: 0.1850014\ttotal: 15.5s\tremaining: 50.6s\n",
      "234:\tlearn: 0.1848466\ttotal: 15.5s\tremaining: 50.5s\n",
      "235:\tlearn: 0.1847736\ttotal: 15.6s\tremaining: 50.5s\n",
      "236:\tlearn: 0.1846842\ttotal: 15.7s\tremaining: 50.4s\n",
      "237:\tlearn: 0.1846339\ttotal: 15.7s\tremaining: 50.3s\n",
      "238:\tlearn: 0.1845991\ttotal: 15.8s\tremaining: 50.3s\n",
      "239:\tlearn: 0.1844734\ttotal: 15.8s\tremaining: 50.2s\n",
      "240:\tlearn: 0.1844319\ttotal: 15.9s\tremaining: 50.1s\n",
      "241:\tlearn: 0.1843587\ttotal: 16s\tremaining: 50s\n",
      "242:\tlearn: 0.1842943\ttotal: 16s\tremaining: 50s\n",
      "243:\tlearn: 0.1842081\ttotal: 16.1s\tremaining: 49.9s\n",
      "244:\tlearn: 0.1841350\ttotal: 16.2s\tremaining: 49.8s\n",
      "245:\tlearn: 0.1841050\ttotal: 16.2s\tremaining: 49.8s\n",
      "246:\tlearn: 0.1840658\ttotal: 16.3s\tremaining: 49.7s\n",
      "247:\tlearn: 0.1840194\ttotal: 16.4s\tremaining: 49.6s\n",
      "248:\tlearn: 0.1839774\ttotal: 16.4s\tremaining: 49.5s\n",
      "249:\tlearn: 0.1839226\ttotal: 16.5s\tremaining: 49.4s\n",
      "250:\tlearn: 0.1838967\ttotal: 16.5s\tremaining: 49.4s\n",
      "251:\tlearn: 0.1838332\ttotal: 16.6s\tremaining: 49.3s\n",
      "252:\tlearn: 0.1837768\ttotal: 16.7s\tremaining: 49.2s\n",
      "253:\tlearn: 0.1837399\ttotal: 16.7s\tremaining: 49.1s\n",
      "254:\tlearn: 0.1836764\ttotal: 16.8s\tremaining: 49.1s\n",
      "255:\tlearn: 0.1834610\ttotal: 16.9s\tremaining: 49s\n",
      "256:\tlearn: 0.1833312\ttotal: 16.9s\tremaining: 48.9s\n",
      "257:\tlearn: 0.1832885\ttotal: 17s\tremaining: 48.9s\n",
      "258:\tlearn: 0.1831849\ttotal: 17s\tremaining: 48.8s\n",
      "259:\tlearn: 0.1829980\ttotal: 17.1s\tremaining: 48.7s\n",
      "260:\tlearn: 0.1829540\ttotal: 17.2s\tremaining: 48.6s\n",
      "261:\tlearn: 0.1829136\ttotal: 17.2s\tremaining: 48.5s\n",
      "262:\tlearn: 0.1828726\ttotal: 17.3s\tremaining: 48.5s\n",
      "263:\tlearn: 0.1828287\ttotal: 17.4s\tremaining: 48.4s\n",
      "264:\tlearn: 0.1827800\ttotal: 17.4s\tremaining: 48.3s\n",
      "265:\tlearn: 0.1827220\ttotal: 17.5s\tremaining: 48.3s\n",
      "266:\tlearn: 0.1826824\ttotal: 17.6s\tremaining: 48.2s\n",
      "267:\tlearn: 0.1826645\ttotal: 17.6s\tremaining: 48.1s\n",
      "268:\tlearn: 0.1824862\ttotal: 17.7s\tremaining: 48s\n",
      "269:\tlearn: 0.1823648\ttotal: 17.7s\tremaining: 48s\n",
      "270:\tlearn: 0.1822451\ttotal: 17.8s\tremaining: 47.9s\n",
      "271:\tlearn: 0.1820829\ttotal: 17.9s\tremaining: 47.8s\n",
      "272:\tlearn: 0.1820324\ttotal: 17.9s\tremaining: 47.8s\n",
      "273:\tlearn: 0.1819958\ttotal: 18s\tremaining: 47.7s\n",
      "274:\tlearn: 0.1819092\ttotal: 18s\tremaining: 47.6s\n",
      "275:\tlearn: 0.1818742\ttotal: 18.1s\tremaining: 47.5s\n",
      "276:\tlearn: 0.1818402\ttotal: 18.2s\tremaining: 47.4s\n",
      "277:\tlearn: 0.1818094\ttotal: 18.2s\tremaining: 47.4s\n",
      "278:\tlearn: 0.1817228\ttotal: 18.3s\tremaining: 47.3s\n",
      "279:\tlearn: 0.1816722\ttotal: 18.4s\tremaining: 47.2s\n",
      "280:\tlearn: 0.1816342\ttotal: 18.4s\tremaining: 47.2s\n",
      "281:\tlearn: 0.1815900\ttotal: 18.5s\tremaining: 47.1s\n",
      "282:\tlearn: 0.1815406\ttotal: 18.6s\tremaining: 47s\n",
      "283:\tlearn: 0.1814921\ttotal: 18.6s\tremaining: 47s\n",
      "284:\tlearn: 0.1814023\ttotal: 18.7s\tremaining: 46.9s\n",
      "285:\tlearn: 0.1813682\ttotal: 18.8s\tremaining: 46.8s\n",
      "286:\tlearn: 0.1813244\ttotal: 18.8s\tremaining: 46.7s\n",
      "287:\tlearn: 0.1812806\ttotal: 18.9s\tremaining: 46.7s\n",
      "288:\tlearn: 0.1812353\ttotal: 18.9s\tremaining: 46.6s\n",
      "289:\tlearn: 0.1810705\ttotal: 19s\tremaining: 46.5s\n",
      "290:\tlearn: 0.1809746\ttotal: 19.1s\tremaining: 46.5s\n",
      "291:\tlearn: 0.1808466\ttotal: 19.1s\tremaining: 46.4s\n",
      "292:\tlearn: 0.1808055\ttotal: 19.2s\tremaining: 46.3s\n",
      "293:\tlearn: 0.1807697\ttotal: 19.3s\tremaining: 46.3s\n",
      "294:\tlearn: 0.1806725\ttotal: 19.3s\tremaining: 46.2s\n",
      "295:\tlearn: 0.1806361\ttotal: 19.4s\tremaining: 46.1s\n",
      "296:\tlearn: 0.1806195\ttotal: 19.5s\tremaining: 46s\n",
      "297:\tlearn: 0.1805850\ttotal: 19.5s\tremaining: 46s\n",
      "298:\tlearn: 0.1805460\ttotal: 19.6s\tremaining: 45.9s\n",
      "299:\tlearn: 0.1804892\ttotal: 19.7s\tremaining: 45.9s\n",
      "300:\tlearn: 0.1804341\ttotal: 19.7s\tremaining: 45.8s\n",
      "301:\tlearn: 0.1803921\ttotal: 19.8s\tremaining: 45.7s\n",
      "302:\tlearn: 0.1803514\ttotal: 19.9s\tremaining: 45.7s\n",
      "303:\tlearn: 0.1802611\ttotal: 19.9s\tremaining: 45.6s\n",
      "304:\tlearn: 0.1801907\ttotal: 20s\tremaining: 45.5s\n",
      "305:\tlearn: 0.1801689\ttotal: 20.1s\tremaining: 45.5s\n",
      "306:\tlearn: 0.1800617\ttotal: 20.1s\tremaining: 45.4s\n",
      "307:\tlearn: 0.1800297\ttotal: 20.2s\tremaining: 45.3s\n",
      "308:\tlearn: 0.1799087\ttotal: 20.3s\tremaining: 45.3s\n",
      "309:\tlearn: 0.1798816\ttotal: 20.3s\tremaining: 45.3s\n",
      "310:\tlearn: 0.1798318\ttotal: 20.4s\tremaining: 45.2s\n",
      "311:\tlearn: 0.1797527\ttotal: 20.5s\tremaining: 45.1s\n",
      "312:\tlearn: 0.1797296\ttotal: 20.5s\tremaining: 45s\n",
      "313:\tlearn: 0.1796919\ttotal: 20.6s\tremaining: 45s\n",
      "314:\tlearn: 0.1796229\ttotal: 20.6s\tremaining: 44.9s\n",
      "315:\tlearn: 0.1795836\ttotal: 20.7s\tremaining: 44.8s\n",
      "316:\tlearn: 0.1795451\ttotal: 20.8s\tremaining: 44.7s\n",
      "317:\tlearn: 0.1795234\ttotal: 20.8s\tremaining: 44.7s\n",
      "318:\tlearn: 0.1795083\ttotal: 20.9s\tremaining: 44.6s\n",
      "319:\tlearn: 0.1794326\ttotal: 20.9s\tremaining: 44.5s\n",
      "320:\tlearn: 0.1793955\ttotal: 21s\tremaining: 44.4s\n",
      "321:\tlearn: 0.1793680\ttotal: 21.1s\tremaining: 44.4s\n",
      "322:\tlearn: 0.1793384\ttotal: 21.1s\tremaining: 44.3s\n",
      "323:\tlearn: 0.1793146\ttotal: 21.2s\tremaining: 44.2s\n",
      "324:\tlearn: 0.1792855\ttotal: 21.2s\tremaining: 44.1s\n",
      "325:\tlearn: 0.1792503\ttotal: 21.3s\tremaining: 44.1s\n",
      "326:\tlearn: 0.1792236\ttotal: 21.4s\tremaining: 44s\n",
      "327:\tlearn: 0.1791939\ttotal: 21.4s\tremaining: 43.9s\n",
      "328:\tlearn: 0.1790922\ttotal: 21.5s\tremaining: 43.9s\n",
      "329:\tlearn: 0.1790131\ttotal: 21.6s\tremaining: 43.8s\n",
      "330:\tlearn: 0.1789795\ttotal: 21.6s\tremaining: 43.7s\n",
      "331:\tlearn: 0.1788716\ttotal: 21.7s\tremaining: 43.7s\n",
      "332:\tlearn: 0.1788550\ttotal: 21.8s\tremaining: 43.6s\n",
      "333:\tlearn: 0.1788006\ttotal: 21.8s\tremaining: 43.5s\n",
      "334:\tlearn: 0.1787586\ttotal: 21.9s\tremaining: 43.4s\n",
      "335:\tlearn: 0.1787368\ttotal: 21.9s\tremaining: 43.3s\n",
      "336:\tlearn: 0.1787229\ttotal: 22s\tremaining: 43.3s\n",
      "337:\tlearn: 0.1786921\ttotal: 22.1s\tremaining: 43.2s\n",
      "338:\tlearn: 0.1786605\ttotal: 22.1s\tremaining: 43.1s\n",
      "339:\tlearn: 0.1786304\ttotal: 22.2s\tremaining: 43.1s\n",
      "340:\tlearn: 0.1786014\ttotal: 22.3s\tremaining: 43s\n",
      "341:\tlearn: 0.1785586\ttotal: 22.3s\tremaining: 43s\n",
      "342:\tlearn: 0.1785464\ttotal: 22.4s\tremaining: 42.9s\n",
      "343:\tlearn: 0.1785136\ttotal: 22.4s\tremaining: 42.8s\n",
      "344:\tlearn: 0.1784897\ttotal: 22.5s\tremaining: 42.7s\n",
      "345:\tlearn: 0.1784603\ttotal: 22.6s\tremaining: 42.6s\n",
      "346:\tlearn: 0.1784056\ttotal: 22.6s\tremaining: 42.6s\n",
      "347:\tlearn: 0.1783760\ttotal: 22.7s\tremaining: 42.5s\n",
      "348:\tlearn: 0.1783503\ttotal: 22.8s\tremaining: 42.4s\n",
      "349:\tlearn: 0.1783347\ttotal: 22.8s\tremaining: 42.4s\n",
      "350:\tlearn: 0.1783159\ttotal: 22.9s\tremaining: 42.3s\n",
      "351:\tlearn: 0.1782776\ttotal: 22.9s\tremaining: 42.2s\n",
      "352:\tlearn: 0.1781566\ttotal: 23s\tremaining: 42.1s\n",
      "353:\tlearn: 0.1780946\ttotal: 23s\tremaining: 42s\n",
      "354:\tlearn: 0.1780735\ttotal: 23.1s\tremaining: 42s\n",
      "355:\tlearn: 0.1780471\ttotal: 23.2s\tremaining: 41.9s\n",
      "356:\tlearn: 0.1780182\ttotal: 23.2s\tremaining: 41.8s\n",
      "357:\tlearn: 0.1779829\ttotal: 23.3s\tremaining: 41.8s\n",
      "358:\tlearn: 0.1779599\ttotal: 23.3s\tremaining: 41.7s\n",
      "359:\tlearn: 0.1779408\ttotal: 23.4s\tremaining: 41.6s\n",
      "360:\tlearn: 0.1779154\ttotal: 23.5s\tremaining: 41.5s\n",
      "361:\tlearn: 0.1778833\ttotal: 23.5s\tremaining: 41.5s\n",
      "362:\tlearn: 0.1778715\ttotal: 23.6s\tremaining: 41.4s\n",
      "363:\tlearn: 0.1778462\ttotal: 23.6s\tremaining: 41.3s\n",
      "364:\tlearn: 0.1778093\ttotal: 23.7s\tremaining: 41.2s\n",
      "365:\tlearn: 0.1777732\ttotal: 23.8s\tremaining: 41.2s\n",
      "366:\tlearn: 0.1776963\ttotal: 23.8s\tremaining: 41.1s\n",
      "367:\tlearn: 0.1776743\ttotal: 23.9s\tremaining: 41s\n",
      "368:\tlearn: 0.1776269\ttotal: 24s\tremaining: 41s\n",
      "369:\tlearn: 0.1775939\ttotal: 24s\tremaining: 40.9s\n",
      "370:\tlearn: 0.1775796\ttotal: 24.1s\tremaining: 40.9s\n",
      "371:\tlearn: 0.1775432\ttotal: 24.2s\tremaining: 40.8s\n",
      "372:\tlearn: 0.1775094\ttotal: 24.3s\tremaining: 40.8s\n",
      "373:\tlearn: 0.1774893\ttotal: 24.3s\tremaining: 40.7s\n",
      "374:\tlearn: 0.1774573\ttotal: 24.4s\tremaining: 40.6s\n",
      "375:\tlearn: 0.1774347\ttotal: 24.4s\tremaining: 40.5s\n",
      "376:\tlearn: 0.1773369\ttotal: 24.5s\tremaining: 40.5s\n",
      "377:\tlearn: 0.1773008\ttotal: 24.6s\tremaining: 40.4s\n",
      "378:\tlearn: 0.1772745\ttotal: 24.6s\tremaining: 40.3s\n",
      "379:\tlearn: 0.1772470\ttotal: 24.7s\tremaining: 40.3s\n",
      "380:\tlearn: 0.1772146\ttotal: 24.8s\tremaining: 40.2s\n",
      "381:\tlearn: 0.1771916\ttotal: 24.8s\tremaining: 40.1s\n",
      "382:\tlearn: 0.1771596\ttotal: 24.9s\tremaining: 40.1s\n",
      "383:\tlearn: 0.1771260\ttotal: 24.9s\tremaining: 40s\n",
      "384:\tlearn: 0.1770967\ttotal: 25s\tremaining: 39.9s\n",
      "385:\tlearn: 0.1770720\ttotal: 25.1s\tremaining: 39.9s\n",
      "386:\tlearn: 0.1769619\ttotal: 25.1s\tremaining: 39.8s\n",
      "387:\tlearn: 0.1769447\ttotal: 25.2s\tremaining: 39.7s\n",
      "388:\tlearn: 0.1769037\ttotal: 25.2s\tremaining: 39.6s\n",
      "389:\tlearn: 0.1768169\ttotal: 25.3s\tremaining: 39.6s\n",
      "390:\tlearn: 0.1767886\ttotal: 25.4s\tremaining: 39.5s\n",
      "391:\tlearn: 0.1767643\ttotal: 25.4s\tremaining: 39.4s\n",
      "392:\tlearn: 0.1766935\ttotal: 25.5s\tremaining: 39.4s\n",
      "393:\tlearn: 0.1766705\ttotal: 25.6s\tremaining: 39.3s\n",
      "394:\tlearn: 0.1766050\ttotal: 25.6s\tremaining: 39.2s\n",
      "395:\tlearn: 0.1765462\ttotal: 25.7s\tremaining: 39.2s\n",
      "396:\tlearn: 0.1765288\ttotal: 25.7s\tremaining: 39.1s\n",
      "397:\tlearn: 0.1764712\ttotal: 25.8s\tremaining: 39s\n",
      "398:\tlearn: 0.1764593\ttotal: 25.8s\tremaining: 38.9s\n",
      "399:\tlearn: 0.1764332\ttotal: 25.9s\tremaining: 38.9s\n",
      "400:\tlearn: 0.1763762\ttotal: 26s\tremaining: 38.8s\n",
      "401:\tlearn: 0.1763559\ttotal: 26s\tremaining: 38.7s\n",
      "402:\tlearn: 0.1763416\ttotal: 26.1s\tremaining: 38.6s\n",
      "403:\tlearn: 0.1763085\ttotal: 26.1s\tremaining: 38.6s\n",
      "404:\tlearn: 0.1762300\ttotal: 26.2s\tremaining: 38.5s\n",
      "405:\tlearn: 0.1761954\ttotal: 26.3s\tremaining: 38.4s\n",
      "406:\tlearn: 0.1761577\ttotal: 26.3s\tremaining: 38.4s\n",
      "407:\tlearn: 0.1761247\ttotal: 26.4s\tremaining: 38.3s\n",
      "408:\tlearn: 0.1760661\ttotal: 26.5s\tremaining: 38.3s\n",
      "409:\tlearn: 0.1760428\ttotal: 26.5s\tremaining: 38.2s\n",
      "410:\tlearn: 0.1760124\ttotal: 26.6s\tremaining: 38.1s\n",
      "411:\tlearn: 0.1759929\ttotal: 26.7s\tremaining: 38s\n",
      "412:\tlearn: 0.1759835\ttotal: 26.7s\tremaining: 38s\n",
      "413:\tlearn: 0.1759159\ttotal: 26.8s\tremaining: 37.9s\n",
      "414:\tlearn: 0.1758826\ttotal: 26.8s\tremaining: 37.8s\n",
      "415:\tlearn: 0.1758550\ttotal: 26.9s\tremaining: 37.8s\n",
      "416:\tlearn: 0.1758221\ttotal: 27s\tremaining: 37.7s\n",
      "417:\tlearn: 0.1757882\ttotal: 27s\tremaining: 37.7s\n",
      "418:\tlearn: 0.1757622\ttotal: 27.1s\tremaining: 37.6s\n",
      "419:\tlearn: 0.1757375\ttotal: 27.2s\tremaining: 37.5s\n",
      "420:\tlearn: 0.1757232\ttotal: 27.2s\tremaining: 37.5s\n",
      "421:\tlearn: 0.1756868\ttotal: 27.3s\tremaining: 37.4s\n",
      "422:\tlearn: 0.1756584\ttotal: 27.4s\tremaining: 37.3s\n",
      "423:\tlearn: 0.1756239\ttotal: 27.4s\tremaining: 37.3s\n",
      "424:\tlearn: 0.1756125\ttotal: 27.5s\tremaining: 37.2s\n",
      "425:\tlearn: 0.1755669\ttotal: 27.5s\tremaining: 37.1s\n",
      "426:\tlearn: 0.1755321\ttotal: 27.6s\tremaining: 37s\n",
      "427:\tlearn: 0.1755018\ttotal: 27.7s\tremaining: 37s\n",
      "428:\tlearn: 0.1754909\ttotal: 27.7s\tremaining: 36.9s\n",
      "429:\tlearn: 0.1754688\ttotal: 27.8s\tremaining: 36.8s\n",
      "430:\tlearn: 0.1754435\ttotal: 27.9s\tremaining: 36.8s\n",
      "431:\tlearn: 0.1754067\ttotal: 27.9s\tremaining: 36.7s\n",
      "432:\tlearn: 0.1752943\ttotal: 28s\tremaining: 36.6s\n",
      "433:\tlearn: 0.1752763\ttotal: 28s\tremaining: 36.6s\n",
      "434:\tlearn: 0.1752491\ttotal: 28.1s\tremaining: 36.5s\n",
      "435:\tlearn: 0.1752320\ttotal: 28.2s\tremaining: 36.4s\n",
      "436:\tlearn: 0.1751830\ttotal: 28.2s\tremaining: 36.4s\n",
      "437:\tlearn: 0.1751467\ttotal: 28.3s\tremaining: 36.3s\n",
      "438:\tlearn: 0.1750953\ttotal: 28.4s\tremaining: 36.2s\n",
      "439:\tlearn: 0.1750683\ttotal: 28.4s\tremaining: 36.2s\n",
      "440:\tlearn: 0.1750502\ttotal: 28.5s\tremaining: 36.1s\n",
      "441:\tlearn: 0.1750099\ttotal: 28.6s\tremaining: 36s\n",
      "442:\tlearn: 0.1749532\ttotal: 28.6s\tremaining: 36s\n",
      "443:\tlearn: 0.1749363\ttotal: 28.7s\tremaining: 35.9s\n",
      "444:\tlearn: 0.1749073\ttotal: 28.7s\tremaining: 35.8s\n",
      "445:\tlearn: 0.1748893\ttotal: 28.8s\tremaining: 35.8s\n",
      "446:\tlearn: 0.1748527\ttotal: 28.9s\tremaining: 35.7s\n",
      "447:\tlearn: 0.1748305\ttotal: 28.9s\tremaining: 35.6s\n",
      "448:\tlearn: 0.1748007\ttotal: 29s\tremaining: 35.6s\n",
      "449:\tlearn: 0.1747750\ttotal: 29.1s\tremaining: 35.5s\n",
      "450:\tlearn: 0.1747302\ttotal: 29.1s\tremaining: 35.5s\n",
      "451:\tlearn: 0.1747210\ttotal: 29.2s\tremaining: 35.4s\n",
      "452:\tlearn: 0.1746815\ttotal: 29.2s\tremaining: 35.3s\n",
      "453:\tlearn: 0.1746660\ttotal: 29.3s\tremaining: 35.2s\n",
      "454:\tlearn: 0.1746391\ttotal: 29.4s\tremaining: 35.2s\n",
      "455:\tlearn: 0.1746031\ttotal: 29.4s\tremaining: 35.1s\n",
      "456:\tlearn: 0.1745838\ttotal: 29.5s\tremaining: 35s\n",
      "457:\tlearn: 0.1745597\ttotal: 29.5s\tremaining: 35s\n",
      "458:\tlearn: 0.1745379\ttotal: 29.6s\tremaining: 34.9s\n",
      "459:\tlearn: 0.1744964\ttotal: 29.7s\tremaining: 34.8s\n",
      "460:\tlearn: 0.1744634\ttotal: 29.7s\tremaining: 34.8s\n",
      "461:\tlearn: 0.1744408\ttotal: 29.8s\tremaining: 34.7s\n",
      "462:\tlearn: 0.1744173\ttotal: 29.9s\tremaining: 34.6s\n",
      "463:\tlearn: 0.1743582\ttotal: 29.9s\tremaining: 34.6s\n",
      "464:\tlearn: 0.1743385\ttotal: 30s\tremaining: 34.5s\n",
      "465:\tlearn: 0.1742436\ttotal: 30.1s\tremaining: 34.5s\n",
      "466:\tlearn: 0.1742310\ttotal: 30.1s\tremaining: 34.4s\n",
      "467:\tlearn: 0.1741918\ttotal: 30.2s\tremaining: 34.3s\n",
      "468:\tlearn: 0.1741620\ttotal: 30.3s\tremaining: 34.2s\n",
      "469:\tlearn: 0.1741072\ttotal: 30.3s\tremaining: 34.2s\n",
      "470:\tlearn: 0.1740762\ttotal: 30.4s\tremaining: 34.1s\n",
      "471:\tlearn: 0.1740478\ttotal: 30.4s\tremaining: 34s\n",
      "472:\tlearn: 0.1739833\ttotal: 30.5s\tremaining: 34s\n",
      "473:\tlearn: 0.1739626\ttotal: 30.6s\tremaining: 33.9s\n",
      "474:\tlearn: 0.1739394\ttotal: 30.6s\tremaining: 33.9s\n",
      "475:\tlearn: 0.1739095\ttotal: 30.7s\tremaining: 33.8s\n",
      "476:\tlearn: 0.1738873\ttotal: 30.8s\tremaining: 33.7s\n",
      "477:\tlearn: 0.1738554\ttotal: 30.8s\tremaining: 33.7s\n",
      "478:\tlearn: 0.1738458\ttotal: 30.9s\tremaining: 33.6s\n",
      "479:\tlearn: 0.1738279\ttotal: 30.9s\tremaining: 33.5s\n",
      "480:\tlearn: 0.1737798\ttotal: 31s\tremaining: 33.5s\n",
      "481:\tlearn: 0.1737445\ttotal: 31.1s\tremaining: 33.4s\n",
      "482:\tlearn: 0.1737207\ttotal: 31.1s\tremaining: 33.3s\n",
      "483:\tlearn: 0.1736959\ttotal: 31.2s\tremaining: 33.3s\n",
      "484:\tlearn: 0.1736710\ttotal: 31.3s\tremaining: 33.2s\n",
      "485:\tlearn: 0.1736341\ttotal: 31.3s\tremaining: 33.1s\n",
      "486:\tlearn: 0.1736062\ttotal: 31.4s\tremaining: 33s\n",
      "487:\tlearn: 0.1735856\ttotal: 31.4s\tremaining: 33s\n",
      "488:\tlearn: 0.1735448\ttotal: 31.5s\tremaining: 32.9s\n",
      "489:\tlearn: 0.1735291\ttotal: 31.6s\tremaining: 32.9s\n",
      "490:\tlearn: 0.1735090\ttotal: 31.6s\tremaining: 32.8s\n",
      "491:\tlearn: 0.1734802\ttotal: 31.7s\tremaining: 32.7s\n",
      "492:\tlearn: 0.1734529\ttotal: 31.8s\tremaining: 32.7s\n",
      "493:\tlearn: 0.1734132\ttotal: 31.8s\tremaining: 32.6s\n",
      "494:\tlearn: 0.1733896\ttotal: 31.9s\tremaining: 32.5s\n",
      "495:\tlearn: 0.1733156\ttotal: 31.9s\tremaining: 32.4s\n",
      "496:\tlearn: 0.1732883\ttotal: 32s\tremaining: 32.4s\n",
      "497:\tlearn: 0.1732693\ttotal: 32.1s\tremaining: 32.3s\n",
      "498:\tlearn: 0.1731527\ttotal: 32.1s\tremaining: 32.3s\n",
      "499:\tlearn: 0.1730920\ttotal: 32.2s\tremaining: 32.2s\n",
      "500:\tlearn: 0.1730753\ttotal: 32.3s\tremaining: 32.1s\n",
      "501:\tlearn: 0.1730545\ttotal: 32.3s\tremaining: 32.1s\n",
      "502:\tlearn: 0.1730040\ttotal: 32.4s\tremaining: 32s\n",
      "503:\tlearn: 0.1729857\ttotal: 32.4s\tremaining: 31.9s\n",
      "504:\tlearn: 0.1729736\ttotal: 32.5s\tremaining: 31.9s\n",
      "505:\tlearn: 0.1729126\ttotal: 32.6s\tremaining: 31.8s\n",
      "506:\tlearn: 0.1728878\ttotal: 32.6s\tremaining: 31.7s\n",
      "507:\tlearn: 0.1728732\ttotal: 32.7s\tremaining: 31.7s\n",
      "508:\tlearn: 0.1728459\ttotal: 32.7s\tremaining: 31.6s\n",
      "509:\tlearn: 0.1728287\ttotal: 32.8s\tremaining: 31.5s\n",
      "510:\tlearn: 0.1728061\ttotal: 32.9s\tremaining: 31.5s\n",
      "511:\tlearn: 0.1727806\ttotal: 32.9s\tremaining: 31.4s\n",
      "512:\tlearn: 0.1727620\ttotal: 33s\tremaining: 31.3s\n",
      "513:\tlearn: 0.1727148\ttotal: 33.1s\tremaining: 31.3s\n",
      "514:\tlearn: 0.1726832\ttotal: 33.1s\tremaining: 31.2s\n",
      "515:\tlearn: 0.1726587\ttotal: 33.2s\tremaining: 31.1s\n",
      "516:\tlearn: 0.1726437\ttotal: 33.2s\tremaining: 31s\n",
      "517:\tlearn: 0.1726207\ttotal: 33.3s\tremaining: 31s\n",
      "518:\tlearn: 0.1725377\ttotal: 33.4s\tremaining: 30.9s\n",
      "519:\tlearn: 0.1725108\ttotal: 33.4s\tremaining: 30.9s\n",
      "520:\tlearn: 0.1724947\ttotal: 33.5s\tremaining: 30.8s\n",
      "521:\tlearn: 0.1724529\ttotal: 33.5s\tremaining: 30.7s\n",
      "522:\tlearn: 0.1724291\ttotal: 33.6s\tremaining: 30.7s\n",
      "523:\tlearn: 0.1723984\ttotal: 33.7s\tremaining: 30.6s\n",
      "524:\tlearn: 0.1723795\ttotal: 33.7s\tremaining: 30.5s\n",
      "525:\tlearn: 0.1723697\ttotal: 33.8s\tremaining: 30.5s\n",
      "526:\tlearn: 0.1723364\ttotal: 33.9s\tremaining: 30.4s\n",
      "527:\tlearn: 0.1722846\ttotal: 33.9s\tremaining: 30.3s\n",
      "528:\tlearn: 0.1722701\ttotal: 34s\tremaining: 30.3s\n",
      "529:\tlearn: 0.1722021\ttotal: 34.1s\tremaining: 30.2s\n",
      "530:\tlearn: 0.1721627\ttotal: 34.1s\tremaining: 30.1s\n",
      "531:\tlearn: 0.1721494\ttotal: 34.2s\tremaining: 30.1s\n",
      "532:\tlearn: 0.1721326\ttotal: 34.3s\tremaining: 30s\n",
      "533:\tlearn: 0.1721136\ttotal: 34.3s\tremaining: 29.9s\n",
      "534:\tlearn: 0.1720910\ttotal: 34.4s\tremaining: 29.9s\n",
      "535:\tlearn: 0.1720727\ttotal: 34.4s\tremaining: 29.8s\n",
      "536:\tlearn: 0.1720474\ttotal: 34.5s\tremaining: 29.8s\n",
      "537:\tlearn: 0.1720259\ttotal: 34.6s\tremaining: 29.7s\n",
      "538:\tlearn: 0.1720080\ttotal: 34.6s\tremaining: 29.6s\n",
      "539:\tlearn: 0.1719833\ttotal: 34.7s\tremaining: 29.6s\n",
      "540:\tlearn: 0.1719473\ttotal: 34.8s\tremaining: 29.5s\n",
      "541:\tlearn: 0.1719264\ttotal: 34.8s\tremaining: 29.4s\n",
      "542:\tlearn: 0.1718896\ttotal: 34.9s\tremaining: 29.4s\n",
      "543:\tlearn: 0.1718721\ttotal: 35s\tremaining: 29.3s\n",
      "544:\tlearn: 0.1718471\ttotal: 35.1s\tremaining: 29.3s\n",
      "545:\tlearn: 0.1717954\ttotal: 35.2s\tremaining: 29.3s\n",
      "546:\tlearn: 0.1717734\ttotal: 35.3s\tremaining: 29.2s\n",
      "547:\tlearn: 0.1717505\ttotal: 35.4s\tremaining: 29.2s\n",
      "548:\tlearn: 0.1717340\ttotal: 35.5s\tremaining: 29.2s\n",
      "549:\tlearn: 0.1717076\ttotal: 35.6s\tremaining: 29.1s\n",
      "550:\tlearn: 0.1716888\ttotal: 35.7s\tremaining: 29.1s\n",
      "551:\tlearn: 0.1716550\ttotal: 35.8s\tremaining: 29s\n",
      "552:\tlearn: 0.1716100\ttotal: 35.9s\tremaining: 29s\n",
      "553:\tlearn: 0.1715909\ttotal: 35.9s\tremaining: 28.9s\n",
      "554:\tlearn: 0.1715590\ttotal: 36s\tremaining: 28.9s\n",
      "555:\tlearn: 0.1715322\ttotal: 36.1s\tremaining: 28.8s\n",
      "556:\tlearn: 0.1715175\ttotal: 36.2s\tremaining: 28.8s\n",
      "557:\tlearn: 0.1715042\ttotal: 36.2s\tremaining: 28.7s\n",
      "558:\tlearn: 0.1714876\ttotal: 36.3s\tremaining: 28.6s\n",
      "559:\tlearn: 0.1714574\ttotal: 36.4s\tremaining: 28.6s\n",
      "560:\tlearn: 0.1714120\ttotal: 36.4s\tremaining: 28.5s\n",
      "561:\tlearn: 0.1713932\ttotal: 36.5s\tremaining: 28.4s\n",
      "562:\tlearn: 0.1713740\ttotal: 36.6s\tremaining: 28.4s\n",
      "563:\tlearn: 0.1713203\ttotal: 36.6s\tremaining: 28.3s\n",
      "564:\tlearn: 0.1712525\ttotal: 36.7s\tremaining: 28.2s\n",
      "565:\tlearn: 0.1712303\ttotal: 36.8s\tremaining: 28.2s\n",
      "566:\tlearn: 0.1712070\ttotal: 36.8s\tremaining: 28.1s\n",
      "567:\tlearn: 0.1711827\ttotal: 36.9s\tremaining: 28s\n",
      "568:\tlearn: 0.1711708\ttotal: 36.9s\tremaining: 28s\n",
      "569:\tlearn: 0.1711557\ttotal: 37s\tremaining: 27.9s\n",
      "570:\tlearn: 0.1711451\ttotal: 37s\tremaining: 27.8s\n",
      "571:\tlearn: 0.1711279\ttotal: 37.1s\tremaining: 27.8s\n",
      "572:\tlearn: 0.1711102\ttotal: 37.2s\tremaining: 27.7s\n",
      "573:\tlearn: 0.1710920\ttotal: 37.2s\tremaining: 27.6s\n",
      "574:\tlearn: 0.1710768\ttotal: 37.3s\tremaining: 27.6s\n",
      "575:\tlearn: 0.1710518\ttotal: 37.4s\tremaining: 27.5s\n",
      "576:\tlearn: 0.1710156\ttotal: 37.4s\tremaining: 27.4s\n",
      "577:\tlearn: 0.1710020\ttotal: 37.5s\tremaining: 27.4s\n",
      "578:\tlearn: 0.1709862\ttotal: 37.5s\tremaining: 27.3s\n",
      "579:\tlearn: 0.1709655\ttotal: 37.6s\tremaining: 27.2s\n",
      "580:\tlearn: 0.1709437\ttotal: 37.7s\tremaining: 27.2s\n",
      "581:\tlearn: 0.1709073\ttotal: 37.7s\tremaining: 27.1s\n",
      "582:\tlearn: 0.1708815\ttotal: 37.8s\tremaining: 27s\n",
      "583:\tlearn: 0.1708705\ttotal: 37.9s\tremaining: 27s\n",
      "584:\tlearn: 0.1708538\ttotal: 37.9s\tremaining: 26.9s\n",
      "585:\tlearn: 0.1708280\ttotal: 38s\tremaining: 26.8s\n",
      "586:\tlearn: 0.1707677\ttotal: 38.1s\tremaining: 26.8s\n",
      "587:\tlearn: 0.1707573\ttotal: 38.1s\tremaining: 26.7s\n",
      "588:\tlearn: 0.1707405\ttotal: 38.2s\tremaining: 26.6s\n",
      "589:\tlearn: 0.1707079\ttotal: 38.2s\tremaining: 26.6s\n",
      "590:\tlearn: 0.1706940\ttotal: 38.3s\tremaining: 26.5s\n",
      "591:\tlearn: 0.1706693\ttotal: 38.4s\tremaining: 26.4s\n",
      "592:\tlearn: 0.1706483\ttotal: 38.4s\tremaining: 26.4s\n",
      "593:\tlearn: 0.1706309\ttotal: 38.5s\tremaining: 26.3s\n",
      "594:\tlearn: 0.1705971\ttotal: 38.5s\tremaining: 26.2s\n",
      "595:\tlearn: 0.1705790\ttotal: 38.6s\tremaining: 26.2s\n",
      "596:\tlearn: 0.1705641\ttotal: 38.7s\tremaining: 26.1s\n",
      "597:\tlearn: 0.1705513\ttotal: 38.7s\tremaining: 26s\n",
      "598:\tlearn: 0.1705318\ttotal: 38.8s\tremaining: 26s\n",
      "599:\tlearn: 0.1705127\ttotal: 38.9s\tremaining: 25.9s\n",
      "600:\tlearn: 0.1704945\ttotal: 38.9s\tremaining: 25.8s\n",
      "601:\tlearn: 0.1704780\ttotal: 39s\tremaining: 25.8s\n",
      "602:\tlearn: 0.1704624\ttotal: 39.1s\tremaining: 25.7s\n",
      "603:\tlearn: 0.1704461\ttotal: 39.1s\tremaining: 25.6s\n",
      "604:\tlearn: 0.1704328\ttotal: 39.2s\tremaining: 25.6s\n",
      "605:\tlearn: 0.1704091\ttotal: 39.2s\tremaining: 25.5s\n",
      "606:\tlearn: 0.1703844\ttotal: 39.3s\tremaining: 25.4s\n",
      "607:\tlearn: 0.1703521\ttotal: 39.4s\tremaining: 25.4s\n",
      "608:\tlearn: 0.1703357\ttotal: 39.4s\tremaining: 25.3s\n",
      "609:\tlearn: 0.1703150\ttotal: 39.5s\tremaining: 25.2s\n",
      "610:\tlearn: 0.1702975\ttotal: 39.5s\tremaining: 25.2s\n",
      "611:\tlearn: 0.1702718\ttotal: 39.6s\tremaining: 25.1s\n",
      "612:\tlearn: 0.1702452\ttotal: 39.7s\tremaining: 25s\n",
      "613:\tlearn: 0.1702209\ttotal: 39.7s\tremaining: 25s\n",
      "614:\tlearn: 0.1701943\ttotal: 39.8s\tremaining: 24.9s\n",
      "615:\tlearn: 0.1701627\ttotal: 39.9s\tremaining: 24.8s\n",
      "616:\tlearn: 0.1701155\ttotal: 39.9s\tremaining: 24.8s\n",
      "617:\tlearn: 0.1700952\ttotal: 40s\tremaining: 24.7s\n",
      "618:\tlearn: 0.1700753\ttotal: 40.1s\tremaining: 24.7s\n",
      "619:\tlearn: 0.1700591\ttotal: 40.1s\tremaining: 24.6s\n",
      "620:\tlearn: 0.1700383\ttotal: 40.2s\tremaining: 24.5s\n",
      "621:\tlearn: 0.1700115\ttotal: 40.2s\tremaining: 24.5s\n",
      "622:\tlearn: 0.1699917\ttotal: 40.3s\tremaining: 24.4s\n",
      "623:\tlearn: 0.1699808\ttotal: 40.4s\tremaining: 24.3s\n",
      "624:\tlearn: 0.1699668\ttotal: 40.4s\tremaining: 24.3s\n",
      "625:\tlearn: 0.1699525\ttotal: 40.5s\tremaining: 24.2s\n",
      "626:\tlearn: 0.1699319\ttotal: 40.5s\tremaining: 24.1s\n",
      "627:\tlearn: 0.1699115\ttotal: 40.6s\tremaining: 24s\n",
      "628:\tlearn: 0.1698973\ttotal: 40.7s\tremaining: 24s\n",
      "629:\tlearn: 0.1698801\ttotal: 40.7s\tremaining: 23.9s\n",
      "630:\tlearn: 0.1698636\ttotal: 40.8s\tremaining: 23.9s\n",
      "631:\tlearn: 0.1698334\ttotal: 40.9s\tremaining: 23.8s\n",
      "632:\tlearn: 0.1698201\ttotal: 40.9s\tremaining: 23.7s\n",
      "633:\tlearn: 0.1697949\ttotal: 41s\tremaining: 23.7s\n",
      "634:\tlearn: 0.1697884\ttotal: 41s\tremaining: 23.6s\n",
      "635:\tlearn: 0.1697648\ttotal: 41.1s\tremaining: 23.5s\n",
      "636:\tlearn: 0.1697471\ttotal: 41.1s\tremaining: 23.4s\n",
      "637:\tlearn: 0.1696901\ttotal: 41.2s\tremaining: 23.4s\n",
      "638:\tlearn: 0.1696791\ttotal: 41.3s\tremaining: 23.3s\n",
      "639:\tlearn: 0.1696497\ttotal: 41.3s\tremaining: 23.3s\n",
      "640:\tlearn: 0.1696119\ttotal: 41.4s\tremaining: 23.2s\n",
      "641:\tlearn: 0.1695983\ttotal: 41.5s\tremaining: 23.1s\n",
      "642:\tlearn: 0.1695801\ttotal: 41.5s\tremaining: 23s\n",
      "643:\tlearn: 0.1695604\ttotal: 41.6s\tremaining: 23s\n",
      "644:\tlearn: 0.1695368\ttotal: 41.6s\tremaining: 22.9s\n",
      "645:\tlearn: 0.1695235\ttotal: 41.7s\tremaining: 22.8s\n",
      "646:\tlearn: 0.1695007\ttotal: 41.8s\tremaining: 22.8s\n",
      "647:\tlearn: 0.1694797\ttotal: 41.8s\tremaining: 22.7s\n",
      "648:\tlearn: 0.1694607\ttotal: 41.9s\tremaining: 22.7s\n",
      "649:\tlearn: 0.1694276\ttotal: 42s\tremaining: 22.6s\n",
      "650:\tlearn: 0.1693857\ttotal: 42s\tremaining: 22.5s\n",
      "651:\tlearn: 0.1693529\ttotal: 42.1s\tremaining: 22.5s\n",
      "652:\tlearn: 0.1693213\ttotal: 42.2s\tremaining: 22.4s\n",
      "653:\tlearn: 0.1692894\ttotal: 42.2s\tremaining: 22.3s\n",
      "654:\tlearn: 0.1692721\ttotal: 42.3s\tremaining: 22.3s\n",
      "655:\tlearn: 0.1692548\ttotal: 42.3s\tremaining: 22.2s\n",
      "656:\tlearn: 0.1692251\ttotal: 42.4s\tremaining: 22.1s\n",
      "657:\tlearn: 0.1692026\ttotal: 42.5s\tremaining: 22.1s\n",
      "658:\tlearn: 0.1691524\ttotal: 42.5s\tremaining: 22s\n",
      "659:\tlearn: 0.1690951\ttotal: 42.6s\tremaining: 21.9s\n",
      "660:\tlearn: 0.1690774\ttotal: 42.6s\tremaining: 21.9s\n",
      "661:\tlearn: 0.1690470\ttotal: 42.7s\tremaining: 21.8s\n",
      "662:\tlearn: 0.1690222\ttotal: 42.8s\tremaining: 21.8s\n",
      "663:\tlearn: 0.1690077\ttotal: 42.8s\tremaining: 21.7s\n",
      "664:\tlearn: 0.1689930\ttotal: 42.9s\tremaining: 21.6s\n",
      "665:\tlearn: 0.1689794\ttotal: 43s\tremaining: 21.6s\n",
      "666:\tlearn: 0.1689650\ttotal: 43s\tremaining: 21.5s\n",
      "667:\tlearn: 0.1689558\ttotal: 43.1s\tremaining: 21.4s\n",
      "668:\tlearn: 0.1689353\ttotal: 43.2s\tremaining: 21.4s\n",
      "669:\tlearn: 0.1689113\ttotal: 43.2s\tremaining: 21.3s\n",
      "670:\tlearn: 0.1688933\ttotal: 43.3s\tremaining: 21.2s\n",
      "671:\tlearn: 0.1688719\ttotal: 43.3s\tremaining: 21.2s\n",
      "672:\tlearn: 0.1688339\ttotal: 43.4s\tremaining: 21.1s\n",
      "673:\tlearn: 0.1688146\ttotal: 43.5s\tremaining: 21s\n",
      "674:\tlearn: 0.1688027\ttotal: 43.5s\tremaining: 21s\n",
      "675:\tlearn: 0.1687889\ttotal: 43.6s\tremaining: 20.9s\n",
      "676:\tlearn: 0.1687604\ttotal: 43.6s\tremaining: 20.8s\n",
      "677:\tlearn: 0.1687407\ttotal: 43.7s\tremaining: 20.8s\n",
      "678:\tlearn: 0.1687188\ttotal: 43.8s\tremaining: 20.7s\n",
      "679:\tlearn: 0.1687020\ttotal: 43.8s\tremaining: 20.6s\n",
      "680:\tlearn: 0.1686708\ttotal: 43.9s\tremaining: 20.6s\n",
      "681:\tlearn: 0.1686499\ttotal: 44s\tremaining: 20.5s\n",
      "682:\tlearn: 0.1685927\ttotal: 44.1s\tremaining: 20.4s\n",
      "683:\tlearn: 0.1685735\ttotal: 44.1s\tremaining: 20.4s\n",
      "684:\tlearn: 0.1685314\ttotal: 44.2s\tremaining: 20.3s\n",
      "685:\tlearn: 0.1685171\ttotal: 44.2s\tremaining: 20.2s\n",
      "686:\tlearn: 0.1684907\ttotal: 44.3s\tremaining: 20.2s\n",
      "687:\tlearn: 0.1684800\ttotal: 44.4s\tremaining: 20.1s\n",
      "688:\tlearn: 0.1684325\ttotal: 44.4s\tremaining: 20s\n",
      "689:\tlearn: 0.1684218\ttotal: 44.5s\tremaining: 20s\n",
      "690:\tlearn: 0.1683966\ttotal: 44.5s\tremaining: 19.9s\n",
      "691:\tlearn: 0.1683770\ttotal: 44.6s\tremaining: 19.9s\n",
      "692:\tlearn: 0.1683597\ttotal: 44.7s\tremaining: 19.8s\n",
      "693:\tlearn: 0.1683346\ttotal: 44.7s\tremaining: 19.7s\n",
      "694:\tlearn: 0.1682949\ttotal: 44.8s\tremaining: 19.7s\n",
      "695:\tlearn: 0.1682772\ttotal: 44.9s\tremaining: 19.6s\n",
      "696:\tlearn: 0.1682629\ttotal: 44.9s\tremaining: 19.5s\n",
      "697:\tlearn: 0.1682384\ttotal: 45s\tremaining: 19.5s\n",
      "698:\tlearn: 0.1682202\ttotal: 45.1s\tremaining: 19.4s\n",
      "699:\tlearn: 0.1681900\ttotal: 45.1s\tremaining: 19.3s\n",
      "700:\tlearn: 0.1681733\ttotal: 45.2s\tremaining: 19.3s\n",
      "701:\tlearn: 0.1681607\ttotal: 45.3s\tremaining: 19.2s\n",
      "702:\tlearn: 0.1681469\ttotal: 45.3s\tremaining: 19.1s\n",
      "703:\tlearn: 0.1681304\ttotal: 45.4s\tremaining: 19.1s\n",
      "704:\tlearn: 0.1681212\ttotal: 45.4s\tremaining: 19s\n",
      "705:\tlearn: 0.1681073\ttotal: 45.5s\tremaining: 18.9s\n",
      "706:\tlearn: 0.1680909\ttotal: 45.5s\tremaining: 18.9s\n",
      "707:\tlearn: 0.1680783\ttotal: 45.6s\tremaining: 18.8s\n",
      "708:\tlearn: 0.1680484\ttotal: 45.7s\tremaining: 18.7s\n",
      "709:\tlearn: 0.1680370\ttotal: 45.7s\tremaining: 18.7s\n",
      "710:\tlearn: 0.1680215\ttotal: 45.8s\tremaining: 18.6s\n",
      "711:\tlearn: 0.1680043\ttotal: 45.8s\tremaining: 18.5s\n",
      "712:\tlearn: 0.1679688\ttotal: 45.9s\tremaining: 18.5s\n",
      "713:\tlearn: 0.1679607\ttotal: 46s\tremaining: 18.4s\n",
      "714:\tlearn: 0.1679445\ttotal: 46.1s\tremaining: 18.4s\n",
      "715:\tlearn: 0.1679245\ttotal: 46.1s\tremaining: 18.3s\n",
      "716:\tlearn: 0.1678965\ttotal: 46.2s\tremaining: 18.2s\n",
      "717:\tlearn: 0.1678731\ttotal: 46.3s\tremaining: 18.2s\n",
      "718:\tlearn: 0.1678546\ttotal: 46.3s\tremaining: 18.1s\n",
      "719:\tlearn: 0.1678380\ttotal: 46.4s\tremaining: 18s\n",
      "720:\tlearn: 0.1678164\ttotal: 46.5s\tremaining: 18s\n",
      "721:\tlearn: 0.1678023\ttotal: 46.5s\tremaining: 17.9s\n",
      "722:\tlearn: 0.1677824\ttotal: 46.6s\tremaining: 17.8s\n",
      "723:\tlearn: 0.1677637\ttotal: 46.6s\tremaining: 17.8s\n",
      "724:\tlearn: 0.1677433\ttotal: 46.7s\tremaining: 17.7s\n",
      "725:\tlearn: 0.1677300\ttotal: 46.8s\tremaining: 17.7s\n",
      "726:\tlearn: 0.1677142\ttotal: 46.8s\tremaining: 17.6s\n",
      "727:\tlearn: 0.1676961\ttotal: 46.9s\tremaining: 17.5s\n",
      "728:\tlearn: 0.1676667\ttotal: 47s\tremaining: 17.5s\n",
      "729:\tlearn: 0.1676335\ttotal: 47s\tremaining: 17.4s\n",
      "730:\tlearn: 0.1676177\ttotal: 47.1s\tremaining: 17.3s\n",
      "731:\tlearn: 0.1676051\ttotal: 47.2s\tremaining: 17.3s\n",
      "732:\tlearn: 0.1675925\ttotal: 47.2s\tremaining: 17.2s\n",
      "733:\tlearn: 0.1675757\ttotal: 47.3s\tremaining: 17.1s\n",
      "734:\tlearn: 0.1675544\ttotal: 47.3s\tremaining: 17.1s\n",
      "735:\tlearn: 0.1675398\ttotal: 47.4s\tremaining: 17s\n",
      "736:\tlearn: 0.1675210\ttotal: 47.5s\tremaining: 16.9s\n",
      "737:\tlearn: 0.1674998\ttotal: 47.5s\tremaining: 16.9s\n",
      "738:\tlearn: 0.1674880\ttotal: 47.6s\tremaining: 16.8s\n",
      "739:\tlearn: 0.1674736\ttotal: 47.6s\tremaining: 16.7s\n",
      "740:\tlearn: 0.1674596\ttotal: 47.7s\tremaining: 16.7s\n",
      "741:\tlearn: 0.1674457\ttotal: 47.8s\tremaining: 16.6s\n",
      "742:\tlearn: 0.1674306\ttotal: 47.8s\tremaining: 16.5s\n",
      "743:\tlearn: 0.1674019\ttotal: 47.9s\tremaining: 16.5s\n",
      "744:\tlearn: 0.1673870\ttotal: 48s\tremaining: 16.4s\n",
      "745:\tlearn: 0.1673709\ttotal: 48s\tremaining: 16.4s\n",
      "746:\tlearn: 0.1673527\ttotal: 48.1s\tremaining: 16.3s\n",
      "747:\tlearn: 0.1673378\ttotal: 48.1s\tremaining: 16.2s\n",
      "748:\tlearn: 0.1673117\ttotal: 48.2s\tremaining: 16.2s\n",
      "749:\tlearn: 0.1672987\ttotal: 48.3s\tremaining: 16.1s\n",
      "750:\tlearn: 0.1672805\ttotal: 48.3s\tremaining: 16s\n",
      "751:\tlearn: 0.1672653\ttotal: 48.4s\tremaining: 16s\n",
      "752:\tlearn: 0.1672391\ttotal: 48.4s\tremaining: 15.9s\n",
      "753:\tlearn: 0.1672266\ttotal: 48.5s\tremaining: 15.8s\n",
      "754:\tlearn: 0.1672116\ttotal: 48.6s\tremaining: 15.8s\n",
      "755:\tlearn: 0.1671735\ttotal: 48.6s\tremaining: 15.7s\n",
      "756:\tlearn: 0.1671441\ttotal: 48.7s\tremaining: 15.6s\n",
      "757:\tlearn: 0.1671277\ttotal: 48.7s\tremaining: 15.6s\n",
      "758:\tlearn: 0.1671127\ttotal: 48.8s\tremaining: 15.5s\n",
      "759:\tlearn: 0.1670909\ttotal: 48.9s\tremaining: 15.4s\n",
      "760:\tlearn: 0.1670758\ttotal: 48.9s\tremaining: 15.4s\n",
      "761:\tlearn: 0.1670517\ttotal: 49s\tremaining: 15.3s\n",
      "762:\tlearn: 0.1670297\ttotal: 49s\tremaining: 15.2s\n",
      "763:\tlearn: 0.1670145\ttotal: 49.1s\tremaining: 15.2s\n",
      "764:\tlearn: 0.1670007\ttotal: 49.2s\tremaining: 15.1s\n",
      "765:\tlearn: 0.1669897\ttotal: 49.2s\tremaining: 15s\n",
      "766:\tlearn: 0.1669758\ttotal: 49.3s\tremaining: 15s\n",
      "767:\tlearn: 0.1669610\ttotal: 49.3s\tremaining: 14.9s\n",
      "768:\tlearn: 0.1669398\ttotal: 49.4s\tremaining: 14.8s\n",
      "769:\tlearn: 0.1669234\ttotal: 49.5s\tremaining: 14.8s\n",
      "770:\tlearn: 0.1669089\ttotal: 49.5s\tremaining: 14.7s\n",
      "771:\tlearn: 0.1668908\ttotal: 49.6s\tremaining: 14.6s\n",
      "772:\tlearn: 0.1668760\ttotal: 49.7s\tremaining: 14.6s\n",
      "773:\tlearn: 0.1668536\ttotal: 49.7s\tremaining: 14.5s\n",
      "774:\tlearn: 0.1668380\ttotal: 49.8s\tremaining: 14.5s\n",
      "775:\tlearn: 0.1668222\ttotal: 49.9s\tremaining: 14.4s\n",
      "776:\tlearn: 0.1668138\ttotal: 49.9s\tremaining: 14.3s\n",
      "777:\tlearn: 0.1668020\ttotal: 50s\tremaining: 14.3s\n",
      "778:\tlearn: 0.1667864\ttotal: 50s\tremaining: 14.2s\n",
      "779:\tlearn: 0.1667691\ttotal: 50.1s\tremaining: 14.1s\n",
      "780:\tlearn: 0.1667510\ttotal: 50.2s\tremaining: 14.1s\n",
      "781:\tlearn: 0.1667140\ttotal: 50.2s\tremaining: 14s\n",
      "782:\tlearn: 0.1666983\ttotal: 50.3s\tremaining: 13.9s\n",
      "783:\tlearn: 0.1666784\ttotal: 50.3s\tremaining: 13.9s\n",
      "784:\tlearn: 0.1666566\ttotal: 50.4s\tremaining: 13.8s\n",
      "785:\tlearn: 0.1666360\ttotal: 50.5s\tremaining: 13.7s\n",
      "786:\tlearn: 0.1666162\ttotal: 50.6s\tremaining: 13.7s\n",
      "787:\tlearn: 0.1665913\ttotal: 50.6s\tremaining: 13.6s\n",
      "788:\tlearn: 0.1665791\ttotal: 50.7s\tremaining: 13.6s\n",
      "789:\tlearn: 0.1665573\ttotal: 50.7s\tremaining: 13.5s\n",
      "790:\tlearn: 0.1665445\ttotal: 50.8s\tremaining: 13.4s\n",
      "791:\tlearn: 0.1665255\ttotal: 50.9s\tremaining: 13.4s\n",
      "792:\tlearn: 0.1664724\ttotal: 50.9s\tremaining: 13.3s\n",
      "793:\tlearn: 0.1664562\ttotal: 51s\tremaining: 13.2s\n",
      "794:\tlearn: 0.1664386\ttotal: 51.1s\tremaining: 13.2s\n",
      "795:\tlearn: 0.1664250\ttotal: 51.1s\tremaining: 13.1s\n",
      "796:\tlearn: 0.1664106\ttotal: 51.2s\tremaining: 13s\n",
      "797:\tlearn: 0.1663832\ttotal: 51.3s\tremaining: 13s\n",
      "798:\tlearn: 0.1663657\ttotal: 51.3s\tremaining: 12.9s\n",
      "799:\tlearn: 0.1663539\ttotal: 51.4s\tremaining: 12.8s\n",
      "800:\tlearn: 0.1663427\ttotal: 51.5s\tremaining: 12.8s\n",
      "801:\tlearn: 0.1663282\ttotal: 51.5s\tremaining: 12.7s\n",
      "802:\tlearn: 0.1663032\ttotal: 51.6s\tremaining: 12.7s\n",
      "803:\tlearn: 0.1662838\ttotal: 51.6s\tremaining: 12.6s\n",
      "804:\tlearn: 0.1662290\ttotal: 51.7s\tremaining: 12.5s\n",
      "805:\tlearn: 0.1662120\ttotal: 51.8s\tremaining: 12.5s\n",
      "806:\tlearn: 0.1661947\ttotal: 51.8s\tremaining: 12.4s\n",
      "807:\tlearn: 0.1661838\ttotal: 51.9s\tremaining: 12.3s\n",
      "808:\tlearn: 0.1661528\ttotal: 51.9s\tremaining: 12.3s\n",
      "809:\tlearn: 0.1661416\ttotal: 52s\tremaining: 12.2s\n",
      "810:\tlearn: 0.1661238\ttotal: 52.1s\tremaining: 12.1s\n",
      "811:\tlearn: 0.1661129\ttotal: 52.1s\tremaining: 12.1s\n",
      "812:\tlearn: 0.1660978\ttotal: 52.2s\tremaining: 12s\n",
      "813:\tlearn: 0.1660888\ttotal: 52.2s\tremaining: 11.9s\n",
      "814:\tlearn: 0.1660783\ttotal: 52.3s\tremaining: 11.9s\n",
      "815:\tlearn: 0.1660614\ttotal: 52.4s\tremaining: 11.8s\n",
      "816:\tlearn: 0.1660377\ttotal: 52.4s\tremaining: 11.7s\n",
      "817:\tlearn: 0.1660210\ttotal: 52.5s\tremaining: 11.7s\n",
      "818:\tlearn: 0.1659958\ttotal: 52.6s\tremaining: 11.6s\n",
      "819:\tlearn: 0.1659777\ttotal: 52.6s\tremaining: 11.6s\n",
      "820:\tlearn: 0.1659528\ttotal: 52.7s\tremaining: 11.5s\n",
      "821:\tlearn: 0.1659437\ttotal: 52.7s\tremaining: 11.4s\n",
      "822:\tlearn: 0.1659253\ttotal: 52.8s\tremaining: 11.4s\n",
      "823:\tlearn: 0.1659159\ttotal: 52.9s\tremaining: 11.3s\n",
      "824:\tlearn: 0.1658980\ttotal: 52.9s\tremaining: 11.2s\n",
      "825:\tlearn: 0.1658677\ttotal: 53s\tremaining: 11.2s\n",
      "826:\tlearn: 0.1658479\ttotal: 53s\tremaining: 11.1s\n",
      "827:\tlearn: 0.1658275\ttotal: 53.1s\tremaining: 11s\n",
      "828:\tlearn: 0.1658149\ttotal: 53.2s\tremaining: 11s\n",
      "829:\tlearn: 0.1658038\ttotal: 53.2s\tremaining: 10.9s\n",
      "830:\tlearn: 0.1657870\ttotal: 53.3s\tremaining: 10.8s\n",
      "831:\tlearn: 0.1657675\ttotal: 53.3s\tremaining: 10.8s\n",
      "832:\tlearn: 0.1657533\ttotal: 53.4s\tremaining: 10.7s\n",
      "833:\tlearn: 0.1657376\ttotal: 53.5s\tremaining: 10.6s\n",
      "834:\tlearn: 0.1657236\ttotal: 53.5s\tremaining: 10.6s\n",
      "835:\tlearn: 0.1657075\ttotal: 53.6s\tremaining: 10.5s\n",
      "836:\tlearn: 0.1656919\ttotal: 53.7s\tremaining: 10.4s\n",
      "837:\tlearn: 0.1656818\ttotal: 53.7s\tremaining: 10.4s\n",
      "838:\tlearn: 0.1656565\ttotal: 53.8s\tremaining: 10.3s\n",
      "839:\tlearn: 0.1656402\ttotal: 53.8s\tremaining: 10.3s\n",
      "840:\tlearn: 0.1655800\ttotal: 53.9s\tremaining: 10.2s\n",
      "841:\tlearn: 0.1655685\ttotal: 54s\tremaining: 10.1s\n",
      "842:\tlearn: 0.1655542\ttotal: 54s\tremaining: 10.1s\n",
      "843:\tlearn: 0.1655329\ttotal: 54.1s\tremaining: 10s\n",
      "844:\tlearn: 0.1655173\ttotal: 54.2s\tremaining: 9.94s\n",
      "845:\tlearn: 0.1654967\ttotal: 54.2s\tremaining: 9.87s\n",
      "846:\tlearn: 0.1654748\ttotal: 54.3s\tremaining: 9.81s\n",
      "847:\tlearn: 0.1654596\ttotal: 54.4s\tremaining: 9.74s\n",
      "848:\tlearn: 0.1654152\ttotal: 54.4s\tremaining: 9.68s\n",
      "849:\tlearn: 0.1654034\ttotal: 54.5s\tremaining: 9.62s\n",
      "850:\tlearn: 0.1653790\ttotal: 54.6s\tremaining: 9.55s\n",
      "851:\tlearn: 0.1653648\ttotal: 54.6s\tremaining: 9.49s\n",
      "852:\tlearn: 0.1653461\ttotal: 54.7s\tremaining: 9.42s\n",
      "853:\tlearn: 0.1653260\ttotal: 54.8s\tremaining: 9.36s\n",
      "854:\tlearn: 0.1653088\ttotal: 54.8s\tremaining: 9.3s\n",
      "855:\tlearn: 0.1652874\ttotal: 54.9s\tremaining: 9.23s\n",
      "856:\tlearn: 0.1652672\ttotal: 55s\tremaining: 9.17s\n",
      "857:\tlearn: 0.1652540\ttotal: 55s\tremaining: 9.11s\n",
      "858:\tlearn: 0.1652310\ttotal: 55.1s\tremaining: 9.04s\n",
      "859:\tlearn: 0.1652159\ttotal: 55.2s\tremaining: 8.98s\n",
      "860:\tlearn: 0.1652041\ttotal: 55.2s\tremaining: 8.91s\n",
      "861:\tlearn: 0.1651948\ttotal: 55.3s\tremaining: 8.85s\n",
      "862:\tlearn: 0.1651811\ttotal: 55.4s\tremaining: 8.79s\n",
      "863:\tlearn: 0.1651636\ttotal: 55.4s\tremaining: 8.72s\n",
      "864:\tlearn: 0.1651469\ttotal: 55.5s\tremaining: 8.66s\n",
      "865:\tlearn: 0.1651336\ttotal: 55.6s\tremaining: 8.6s\n",
      "866:\tlearn: 0.1651137\ttotal: 55.6s\tremaining: 8.53s\n",
      "867:\tlearn: 0.1651010\ttotal: 55.7s\tremaining: 8.47s\n",
      "868:\tlearn: 0.1650865\ttotal: 55.7s\tremaining: 8.4s\n",
      "869:\tlearn: 0.1650674\ttotal: 55.8s\tremaining: 8.34s\n",
      "870:\tlearn: 0.1650558\ttotal: 55.9s\tremaining: 8.27s\n",
      "871:\tlearn: 0.1650408\ttotal: 55.9s\tremaining: 8.21s\n",
      "872:\tlearn: 0.1650293\ttotal: 56s\tremaining: 8.14s\n",
      "873:\tlearn: 0.1649865\ttotal: 56s\tremaining: 8.08s\n",
      "874:\tlearn: 0.1649701\ttotal: 56.1s\tremaining: 8.02s\n",
      "875:\tlearn: 0.1649582\ttotal: 56.2s\tremaining: 7.95s\n",
      "876:\tlearn: 0.1649426\ttotal: 56.2s\tremaining: 7.89s\n",
      "877:\tlearn: 0.1649345\ttotal: 56.3s\tremaining: 7.82s\n",
      "878:\tlearn: 0.1649194\ttotal: 56.4s\tremaining: 7.76s\n",
      "879:\tlearn: 0.1648959\ttotal: 56.4s\tremaining: 7.69s\n",
      "880:\tlearn: 0.1648821\ttotal: 56.5s\tremaining: 7.63s\n",
      "881:\tlearn: 0.1648695\ttotal: 56.5s\tremaining: 7.57s\n",
      "882:\tlearn: 0.1648544\ttotal: 56.6s\tremaining: 7.5s\n",
      "883:\tlearn: 0.1648415\ttotal: 56.7s\tremaining: 7.44s\n",
      "884:\tlearn: 0.1648277\ttotal: 56.7s\tremaining: 7.37s\n",
      "885:\tlearn: 0.1648132\ttotal: 56.8s\tremaining: 7.31s\n",
      "886:\tlearn: 0.1647967\ttotal: 56.9s\tremaining: 7.24s\n",
      "887:\tlearn: 0.1647796\ttotal: 56.9s\tremaining: 7.18s\n",
      "888:\tlearn: 0.1647685\ttotal: 57s\tremaining: 7.12s\n",
      "889:\tlearn: 0.1647476\ttotal: 57.1s\tremaining: 7.05s\n",
      "890:\tlearn: 0.1647389\ttotal: 57.1s\tremaining: 6.99s\n",
      "891:\tlearn: 0.1647182\ttotal: 57.2s\tremaining: 6.92s\n",
      "892:\tlearn: 0.1646879\ttotal: 57.3s\tremaining: 6.86s\n",
      "893:\tlearn: 0.1646711\ttotal: 57.3s\tremaining: 6.8s\n",
      "894:\tlearn: 0.1646585\ttotal: 57.4s\tremaining: 6.73s\n",
      "895:\tlearn: 0.1646447\ttotal: 57.4s\tremaining: 6.67s\n",
      "896:\tlearn: 0.1646290\ttotal: 57.5s\tremaining: 6.6s\n",
      "897:\tlearn: 0.1646161\ttotal: 57.6s\tremaining: 6.54s\n",
      "898:\tlearn: 0.1646028\ttotal: 57.6s\tremaining: 6.47s\n",
      "899:\tlearn: 0.1645918\ttotal: 57.7s\tremaining: 6.41s\n",
      "900:\tlearn: 0.1645758\ttotal: 57.7s\tremaining: 6.34s\n",
      "901:\tlearn: 0.1645625\ttotal: 57.8s\tremaining: 6.28s\n",
      "902:\tlearn: 0.1645474\ttotal: 57.9s\tremaining: 6.22s\n",
      "903:\tlearn: 0.1645330\ttotal: 57.9s\tremaining: 6.15s\n",
      "904:\tlearn: 0.1645189\ttotal: 58s\tremaining: 6.09s\n",
      "905:\tlearn: 0.1645042\ttotal: 58.1s\tremaining: 6.02s\n",
      "906:\tlearn: 0.1644904\ttotal: 58.1s\tremaining: 5.96s\n",
      "907:\tlearn: 0.1644662\ttotal: 58.2s\tremaining: 5.89s\n",
      "908:\tlearn: 0.1644552\ttotal: 58.2s\tremaining: 5.83s\n",
      "909:\tlearn: 0.1644385\ttotal: 58.3s\tremaining: 5.77s\n",
      "910:\tlearn: 0.1644194\ttotal: 58.4s\tremaining: 5.7s\n",
      "911:\tlearn: 0.1644072\ttotal: 58.4s\tremaining: 5.64s\n",
      "912:\tlearn: 0.1643765\ttotal: 58.5s\tremaining: 5.57s\n",
      "913:\tlearn: 0.1643638\ttotal: 58.5s\tremaining: 5.51s\n",
      "914:\tlearn: 0.1643450\ttotal: 58.6s\tremaining: 5.44s\n",
      "915:\tlearn: 0.1643359\ttotal: 58.7s\tremaining: 5.38s\n",
      "916:\tlearn: 0.1643170\ttotal: 58.7s\tremaining: 5.32s\n",
      "917:\tlearn: 0.1642867\ttotal: 58.8s\tremaining: 5.25s\n",
      "918:\tlearn: 0.1642710\ttotal: 58.8s\tremaining: 5.19s\n",
      "919:\tlearn: 0.1642473\ttotal: 58.9s\tremaining: 5.12s\n",
      "920:\tlearn: 0.1642335\ttotal: 59s\tremaining: 5.06s\n",
      "921:\tlearn: 0.1642198\ttotal: 59s\tremaining: 4.99s\n",
      "922:\tlearn: 0.1641955\ttotal: 59.1s\tremaining: 4.93s\n",
      "923:\tlearn: 0.1641862\ttotal: 59.1s\tremaining: 4.86s\n",
      "924:\tlearn: 0.1641613\ttotal: 59.2s\tremaining: 4.8s\n",
      "925:\tlearn: 0.1641459\ttotal: 59.3s\tremaining: 4.74s\n",
      "926:\tlearn: 0.1641242\ttotal: 59.3s\tremaining: 4.67s\n",
      "927:\tlearn: 0.1641114\ttotal: 59.4s\tremaining: 4.61s\n",
      "928:\tlearn: 0.1640948\ttotal: 59.5s\tremaining: 4.54s\n",
      "929:\tlearn: 0.1640804\ttotal: 59.5s\tremaining: 4.48s\n",
      "930:\tlearn: 0.1640604\ttotal: 59.6s\tremaining: 4.42s\n",
      "931:\tlearn: 0.1640453\ttotal: 59.6s\tremaining: 4.35s\n",
      "932:\tlearn: 0.1640091\ttotal: 59.7s\tremaining: 4.29s\n",
      "933:\tlearn: 0.1639766\ttotal: 59.8s\tremaining: 4.22s\n",
      "934:\tlearn: 0.1639610\ttotal: 59.8s\tremaining: 4.16s\n",
      "935:\tlearn: 0.1639455\ttotal: 59.9s\tremaining: 4.09s\n",
      "936:\tlearn: 0.1639252\ttotal: 60s\tremaining: 4.03s\n",
      "937:\tlearn: 0.1639139\ttotal: 1m\tremaining: 3.97s\n",
      "938:\tlearn: 0.1638977\ttotal: 1m\tremaining: 3.9s\n",
      "939:\tlearn: 0.1638825\ttotal: 1m\tremaining: 3.84s\n",
      "940:\tlearn: 0.1638677\ttotal: 1m\tremaining: 3.77s\n",
      "941:\tlearn: 0.1638489\ttotal: 1m\tremaining: 3.71s\n",
      "942:\tlearn: 0.1638368\ttotal: 1m\tremaining: 3.65s\n",
      "943:\tlearn: 0.1638265\ttotal: 1m\tremaining: 3.58s\n",
      "944:\tlearn: 0.1638168\ttotal: 1m\tremaining: 3.52s\n",
      "945:\tlearn: 0.1638034\ttotal: 1m\tremaining: 3.45s\n",
      "946:\tlearn: 0.1637894\ttotal: 1m\tremaining: 3.39s\n",
      "947:\tlearn: 0.1637714\ttotal: 1m\tremaining: 3.33s\n",
      "948:\tlearn: 0.1637642\ttotal: 1m\tremaining: 3.26s\n",
      "949:\tlearn: 0.1637553\ttotal: 1m\tremaining: 3.2s\n",
      "950:\tlearn: 0.1637463\ttotal: 1m\tremaining: 3.13s\n",
      "951:\tlearn: 0.1637327\ttotal: 1m\tremaining: 3.07s\n",
      "952:\tlearn: 0.1637190\ttotal: 1m\tremaining: 3s\n",
      "953:\tlearn: 0.1636923\ttotal: 1m\tremaining: 2.94s\n",
      "954:\tlearn: 0.1636805\ttotal: 1m 1s\tremaining: 2.88s\n",
      "955:\tlearn: 0.1636646\ttotal: 1m 1s\tremaining: 2.81s\n",
      "956:\tlearn: 0.1636285\ttotal: 1m 1s\tremaining: 2.75s\n",
      "957:\tlearn: 0.1636119\ttotal: 1m 1s\tremaining: 2.68s\n",
      "958:\tlearn: 0.1636012\ttotal: 1m 1s\tremaining: 2.62s\n",
      "959:\tlearn: 0.1635873\ttotal: 1m 1s\tremaining: 2.56s\n",
      "960:\tlearn: 0.1635704\ttotal: 1m 1s\tremaining: 2.49s\n",
      "961:\tlearn: 0.1635580\ttotal: 1m 1s\tremaining: 2.43s\n",
      "962:\tlearn: 0.1635423\ttotal: 1m 1s\tremaining: 2.36s\n",
      "963:\tlearn: 0.1635233\ttotal: 1m 1s\tremaining: 2.3s\n",
      "964:\tlearn: 0.1635128\ttotal: 1m 1s\tremaining: 2.23s\n",
      "965:\tlearn: 0.1635025\ttotal: 1m 1s\tremaining: 2.17s\n",
      "966:\tlearn: 0.1634847\ttotal: 1m 1s\tremaining: 2.11s\n",
      "967:\tlearn: 0.1634717\ttotal: 1m 1s\tremaining: 2.04s\n",
      "968:\tlearn: 0.1634566\ttotal: 1m 1s\tremaining: 1.98s\n",
      "969:\tlearn: 0.1634514\ttotal: 1m 1s\tremaining: 1.92s\n",
      "970:\tlearn: 0.1634212\ttotal: 1m 2s\tremaining: 1.85s\n",
      "971:\tlearn: 0.1634040\ttotal: 1m 2s\tremaining: 1.79s\n",
      "972:\tlearn: 0.1633947\ttotal: 1m 2s\tremaining: 1.72s\n",
      "973:\tlearn: 0.1633783\ttotal: 1m 2s\tremaining: 1.66s\n",
      "974:\tlearn: 0.1633603\ttotal: 1m 2s\tremaining: 1.6s\n",
      "975:\tlearn: 0.1633474\ttotal: 1m 2s\tremaining: 1.53s\n",
      "976:\tlearn: 0.1633367\ttotal: 1m 2s\tremaining: 1.47s\n",
      "977:\tlearn: 0.1633202\ttotal: 1m 2s\tremaining: 1.4s\n",
      "978:\tlearn: 0.1633078\ttotal: 1m 2s\tremaining: 1.34s\n",
      "979:\tlearn: 0.1632901\ttotal: 1m 2s\tremaining: 1.28s\n",
      "980:\tlearn: 0.1632716\ttotal: 1m 2s\tremaining: 1.21s\n",
      "981:\tlearn: 0.1632532\ttotal: 1m 2s\tremaining: 1.15s\n",
      "982:\tlearn: 0.1632397\ttotal: 1m 2s\tremaining: 1.08s\n",
      "983:\tlearn: 0.1632269\ttotal: 1m 2s\tremaining: 1.02s\n",
      "984:\tlearn: 0.1632120\ttotal: 1m 2s\tremaining: 957ms\n",
      "985:\tlearn: 0.1631921\ttotal: 1m 2s\tremaining: 894ms\n",
      "986:\tlearn: 0.1631662\ttotal: 1m 3s\tremaining: 830ms\n",
      "987:\tlearn: 0.1631426\ttotal: 1m 3s\tremaining: 766ms\n",
      "988:\tlearn: 0.1631315\ttotal: 1m 3s\tremaining: 702ms\n",
      "989:\tlearn: 0.1631156\ttotal: 1m 3s\tremaining: 638ms\n",
      "990:\tlearn: 0.1630935\ttotal: 1m 3s\tremaining: 574ms\n",
      "991:\tlearn: 0.1630763\ttotal: 1m 3s\tremaining: 511ms\n",
      "992:\tlearn: 0.1630524\ttotal: 1m 3s\tremaining: 447ms\n",
      "993:\tlearn: 0.1630249\ttotal: 1m 3s\tremaining: 383ms\n",
      "994:\tlearn: 0.1630091\ttotal: 1m 3s\tremaining: 319ms\n",
      "995:\tlearn: 0.1630037\ttotal: 1m 3s\tremaining: 255ms\n",
      "996:\tlearn: 0.1629805\ttotal: 1m 3s\tremaining: 191ms\n",
      "997:\tlearn: 0.1629693\ttotal: 1m 3s\tremaining: 128ms\n",
      "998:\tlearn: 0.1629533\ttotal: 1m 3s\tremaining: 63.8ms\n",
      "999:\tlearn: 0.1629433\ttotal: 1m 3s\tremaining: 0us\n",
      "Training Accuracy : 0.9084786753683181\n",
      "Test Accuracy : 0.8988600698360076\n"
     ]
    }
   ],
   "source": [
    "y_pred, report = try_model(trans,\n",
    "                           SMOTE(random_state = 42),\n",
    "                           CatBoostClassifier(),\n",
    "                           X_train,\n",
    "                           y_train,\n",
    "                           X_test,\n",
    "                           y_test)"
   ]
  },
  {
   "cell_type": "markdown",
   "id": "b9765446",
   "metadata": {
    "id": "qHNjJwob06Cv",
    "papermill": {
     "duration": 0.056806,
     "end_time": "2022-10-05T05:53:52.075524",
     "exception": false,
     "start_time": "2022-10-05T05:53:52.018718",
     "status": "completed"
    },
    "tags": []
   },
   "source": [
    "### <a id=qHNjJwob06Cv> 3.8.2 Evaluation"
   ]
  },
  {
   "cell_type": "markdown",
   "id": "4925ffbb",
   "metadata": {
    "id": "BvOiJUm_06Cv",
    "papermill": {
     "duration": 0.05653,
     "end_time": "2022-10-05T05:53:52.189215",
     "exception": false,
     "start_time": "2022-10-05T05:53:52.132685",
     "status": "completed"
    },
    "tags": []
   },
   "source": [
    "#### <a id=BvOiJUm_06Cv> 3.8.2.1 Classification Report"
   ]
  },
  {
   "cell_type": "code",
   "execution_count": 51,
   "id": "55ed711b",
   "metadata": {
    "execution": {
     "iopub.execute_input": "2022-10-05T05:53:52.304684Z",
     "iopub.status.busy": "2022-10-05T05:53:52.304257Z",
     "iopub.status.idle": "2022-10-05T05:53:52.309564Z",
     "shell.execute_reply": "2022-10-05T05:53:52.308408Z"
    },
    "id": "wWGQmb0t0Gdo",
    "outputId": "dbd8dbee-51f1-4270-f32e-2b0e326807f4",
    "papermill": {
     "duration": 0.066166,
     "end_time": "2022-10-05T05:53:52.312078",
     "exception": false,
     "start_time": "2022-10-05T05:53:52.245912",
     "status": "completed"
    },
    "tags": []
   },
   "outputs": [
    {
     "name": "stdout",
     "output_type": "stream",
     "text": [
      "              precision    recall  f1-score   support\n",
      "\n",
      "          No       0.94      0.96      0.95     68052\n",
      "         Yes       0.27      0.20      0.23      5549\n",
      "\n",
      "    accuracy                           0.90     73601\n",
      "   macro avg       0.60      0.58      0.59     73601\n",
      "weighted avg       0.89      0.90      0.89     73601\n",
      "\n"
     ]
    }
   ],
   "source": [
    "print(report)"
   ]
  },
  {
   "cell_type": "code",
   "execution_count": 52,
   "id": "2cd1e404",
   "metadata": {
    "execution": {
     "iopub.execute_input": "2022-10-05T05:53:52.427529Z",
     "iopub.status.busy": "2022-10-05T05:53:52.427076Z",
     "iopub.status.idle": "2022-10-05T05:53:52.433442Z",
     "shell.execute_reply": "2022-10-05T05:53:52.432569Z"
    },
    "id": "CmzdP4KsR24-",
    "papermill": {
     "duration": 0.066666,
     "end_time": "2022-10-05T05:53:52.435472",
     "exception": false,
     "start_time": "2022-10-05T05:53:52.368806",
     "status": "completed"
    },
    "tags": []
   },
   "outputs": [],
   "source": [
    "model_metrics['Model'].append(\"CatBoost\")\n",
    "model_metrics['Sampling Method'].append(\"SMOTE\")\n",
    "model_metrics['Heart Disease Precision'].append(0.28)\n",
    "model_metrics['No Heart Disease Precision'].append(0.94)\n",
    "model_metrics['Heart Disease Recall'].append(0.21)\n",
    "model_metrics['No Heart Disease Recall'].append(0.96)\n",
    "model_metrics['Heart Disease F1'].append(0.24)\n",
    "model_metrics['No Heart Disease F1'].append(0.95)\n",
    "model_metrics['Accuracy'].append(0.90)"
   ]
  },
  {
   "cell_type": "markdown",
   "id": "c3777b2c",
   "metadata": {
    "id": "niOK_Ha-06Cv",
    "papermill": {
     "duration": 0.056615,
     "end_time": "2022-10-05T05:53:52.549248",
     "exception": false,
     "start_time": "2022-10-05T05:53:52.492633",
     "status": "completed"
    },
    "tags": []
   },
   "source": [
    "#### <a id=niOK> 3.8.2.2 Confusion Matrix"
   ]
  },
  {
   "cell_type": "code",
   "execution_count": 53,
   "id": "aab35ac8",
   "metadata": {
    "execution": {
     "iopub.execute_input": "2022-10-05T05:53:52.665703Z",
     "iopub.status.busy": "2022-10-05T05:53:52.665079Z",
     "iopub.status.idle": "2022-10-05T05:53:53.317622Z",
     "shell.execute_reply": "2022-10-05T05:53:53.316505Z"
    },
    "id": "MZ-e8SmP0J5N",
    "outputId": "3e61645d-66bd-4028-ad97-ce2ab0329bfc",
    "papermill": {
     "duration": 0.713503,
     "end_time": "2022-10-05T05:53:53.319951",
     "exception": false,
     "start_time": "2022-10-05T05:53:52.606448",
     "status": "completed"
    },
    "tags": []
   },
   "outputs": [
    {
     "data": {
      "image/png": "[encoded data removed]",
      "text/plain": [
       "<Figure size 432x288 with 2 Axes>"
      ]
     },
     "metadata": {},
     "output_type": "display_data"
    }
   ],
   "source": [
    "cm = confusion_matrix(y_test, y_pred)\n",
    "make_confusion_matrix(cm)"
   ]
  },
  {
   "cell_type": "markdown",
   "id": "7938fc23",
   "metadata": {
    "id": "k5WVhRul1dC1",
    "papermill": {
     "duration": 0.058463,
     "end_time": "2022-10-05T05:53:53.435989",
     "exception": false,
     "start_time": "2022-10-05T05:53:53.377526",
     "status": "completed"
    },
    "tags": []
   },
   "source": [
    "## <a id=k5WVhRul1dC1> 3.9 Voting"
   ]
  },
  {
   "cell_type": "markdown",
   "id": "4e8f20a1",
   "metadata": {
    "id": "2dmEXxQ51dC1",
    "papermill": {
     "duration": 0.058081,
     "end_time": "2022-10-05T05:53:53.552119",
     "exception": false,
     "start_time": "2022-10-05T05:53:53.494038",
     "status": "completed"
    },
    "tags": []
   },
   "source": [
    "### <a id=2dmEXxQ51dC1> 3.5.1 Model"
   ]
  },
  {
   "cell_type": "code",
   "execution_count": 54,
   "id": "6e40b52e",
   "metadata": {
    "execution": {
     "iopub.execute_input": "2022-10-05T05:53:53.671094Z",
     "iopub.status.busy": "2022-10-05T05:53:53.670008Z",
     "iopub.status.idle": "2022-10-05T06:09:00.798446Z",
     "shell.execute_reply": "2022-10-05T06:09:00.797175Z"
    },
    "id": "k_ZyM-Xo1tx3",
    "outputId": "af053f25-79e1-4185-d2ea-1353b5805c6e",
    "papermill": {
     "duration": 907.191204,
     "end_time": "2022-10-05T06:09:00.801239",
     "exception": false,
     "start_time": "2022-10-05T05:53:53.610035",
     "status": "completed"
    },
    "tags": []
   },
   "outputs": [
    {
     "name": "stdout",
     "output_type": "stream",
     "text": [
      "Training Accuracy : 0.7210293431642066\n",
      "Test Accuracy : 0.7200038042961373\n"
     ]
    }
   ],
   "source": [
    "voting = VotingClassifier(estimators=[('lr', LogisticRegression(C=1000)),\n",
    "                                      ('dt', DecisionTreeClassifier(max_features=17,max_depth=10)),\n",
    "                                      ('knn', KNeighborsClassifier(n_neighbors=19)),\n",
    "                                      ('svm', SVC(C=0.05, gamma=0.477)), \n",
    "                                      ('xgb', XGBClassifier(learning_rate= 0.5, max_depth=1, random_state=42))],\n",
    "                                      voting='hard')\n",
    "\n",
    "y_pred, report = try_model(trans,\n",
    "                           RandomUnderSampler(random_state = 42),\n",
    "                           voting,\n",
    "                           X_train,\n",
    "                           y_train,\n",
    "                           X_test,\n",
    "                           y_test)"
   ]
  },
  {
   "cell_type": "markdown",
   "id": "73b67d33",
   "metadata": {
    "id": "4NXU81v51dC2",
    "papermill": {
     "duration": 0.058882,
     "end_time": "2022-10-05T06:09:00.921077",
     "exception": false,
     "start_time": "2022-10-05T06:09:00.862195",
     "status": "completed"
    },
    "tags": []
   },
   "source": [
    "### <a id=4NXU81v51dC2> 3.5.2 Evaluation"
   ]
  },
  {
   "cell_type": "markdown",
   "id": "029c7b53",
   "metadata": {
    "id": "qTlxt7Uz1dC2",
    "papermill": {
     "duration": 0.057534,
     "end_time": "2022-10-05T06:09:01.035986",
     "exception": false,
     "start_time": "2022-10-05T06:09:00.978452",
     "status": "completed"
    },
    "tags": []
   },
   "source": [
    "#### <a id=qTlxt7Uz1dC2> 3.5.2.1 Classification Report"
   ]
  },
  {
   "cell_type": "code",
   "execution_count": 55,
   "id": "f548a5b3",
   "metadata": {
    "execution": {
     "iopub.execute_input": "2022-10-05T06:09:01.155987Z",
     "iopub.status.busy": "2022-10-05T06:09:01.154597Z",
     "iopub.status.idle": "2022-10-05T06:09:01.161356Z",
     "shell.execute_reply": "2022-10-05T06:09:01.159834Z"
    },
    "id": "frVF7XV12Pca",
    "outputId": "43a6e05a-88ee-4983-e190-90ae706dc80a",
    "papermill": {
     "duration": 0.06815,
     "end_time": "2022-10-05T06:09:01.163738",
     "exception": false,
     "start_time": "2022-10-05T06:09:01.095588",
     "status": "completed"
    },
    "tags": []
   },
   "outputs": [
    {
     "name": "stdout",
     "output_type": "stream",
     "text": [
      "              precision    recall  f1-score   support\n",
      "\n",
      "          No       0.98      0.71      0.82     68052\n",
      "         Yes       0.19      0.81      0.30      5549\n",
      "\n",
      "    accuracy                           0.72     73601\n",
      "   macro avg       0.58      0.76      0.56     73601\n",
      "weighted avg       0.92      0.72      0.79     73601\n",
      "\n"
     ]
    }
   ],
   "source": [
    "print(report)"
   ]
  },
  {
   "cell_type": "code",
   "execution_count": 56,
   "id": "3d79e2cc",
   "metadata": {
    "execution": {
     "iopub.execute_input": "2022-10-05T06:09:01.280990Z",
     "iopub.status.busy": "2022-10-05T06:09:01.280562Z",
     "iopub.status.idle": "2022-10-05T06:09:01.288115Z",
     "shell.execute_reply": "2022-10-05T06:09:01.286965Z"
    },
    "id": "ppGlTBKDSCE3",
    "papermill": {
     "duration": 0.068992,
     "end_time": "2022-10-05T06:09:01.290582",
     "exception": false,
     "start_time": "2022-10-05T06:09:01.221590",
     "status": "completed"
    },
    "tags": []
   },
   "outputs": [],
   "source": [
    "model_metrics['Model'].append(\"Voting Classifier\")\n",
    "model_metrics['Sampling Method'].append(\"Random Undersampling\")\n",
    "model_metrics['Heart Disease Precision'].append(0.19)\n",
    "model_metrics['No Heart Disease Precision'].append(0.98)\n",
    "model_metrics['Heart Disease Recall'].append(0.81)\n",
    "model_metrics['No Heart Disease Recall'].append(0.71)\n",
    "model_metrics['Heart Disease F1'].append(0.30)\n",
    "model_metrics['No Heart Disease F1'].append(0.82)\n",
    "model_metrics['Accuracy'].append(0.72)"
   ]
  },
  {
   "cell_type": "markdown",
   "id": "7905b4bd",
   "metadata": {
    "id": "2weVgEsi1dC2",
    "papermill": {
     "duration": 0.057708,
     "end_time": "2022-10-05T06:09:01.406603",
     "exception": false,
     "start_time": "2022-10-05T06:09:01.348895",
     "status": "completed"
    },
    "tags": []
   },
   "source": [
    "#### <a id=2weVgEsi1dC2> 3.5.2.2 Confusion Matrix"
   ]
  },
  {
   "cell_type": "code",
   "execution_count": 57,
   "id": "6c017865",
   "metadata": {
    "execution": {
     "iopub.execute_input": "2022-10-05T06:09:01.528798Z",
     "iopub.status.busy": "2022-10-05T06:09:01.527712Z",
     "iopub.status.idle": "2022-10-05T06:09:02.193945Z",
     "shell.execute_reply": "2022-10-05T06:09:02.192641Z"
    },
    "id": "z_AzUih-2Sef",
    "outputId": "0cd08f5d-8b1a-49f5-8265-a213acf9693b",
    "papermill": {
     "duration": 0.732324,
     "end_time": "2022-10-05T06:09:02.196702",
     "exception": false,
     "start_time": "2022-10-05T06:09:01.464378",
     "status": "completed"
    },
    "tags": []
   },
   "outputs": [
    {
     "data": {
      "image/png": "[encoded data removed]",
      "text/plain": [
       "<Figure size 432x288 with 2 Axes>"
      ]
     },
     "metadata": {},
     "output_type": "display_data"
    }
   ],
   "source": [
    "cm = confusion_matrix(y_test, y_pred)\n",
    "make_confusion_matrix(cm)"
   ]
  },
  {
   "cell_type": "markdown",
   "id": "bfd0b441",
   "metadata": {
    "id": "qGQuNGG9kvmP",
    "papermill": {
     "duration": 0.057519,
     "end_time": "2022-10-05T06:09:02.312537",
     "exception": false,
     "start_time": "2022-10-05T06:09:02.255018",
     "status": "completed"
    },
    "tags": []
   },
   "source": [
    "## <a id=qGQuNGG9kvmP> 3.10 Model Comparison"
   ]
  },
  {
   "cell_type": "markdown",
   "id": "20ce1194",
   "metadata": {
    "id": "GKjkTHaITYES",
    "papermill": {
     "duration": 0.0581,
     "end_time": "2022-10-05T06:09:02.428710",
     "exception": false,
     "start_time": "2022-10-05T06:09:02.370610",
     "status": "completed"
    },
    "tags": []
   },
   "source": [
    "In our application, reducing false negatives is paramount. It could be the difference between life and death. On the other hand, false positives are not as important, as further tests to the patient would reveal the misdiagnosis. Therefore, we are looking for high recall for the heart diesease class. Below is a comparison of the models side by side using varoius metrics. "
   ]
  },
  {
   "cell_type": "code",
   "execution_count": 58,
   "id": "2078cf56",
   "metadata": {
    "execution": {
     "iopub.execute_input": "2022-10-05T06:09:02.549510Z",
     "iopub.status.busy": "2022-10-05T06:09:02.549066Z",
     "iopub.status.idle": "2022-10-05T06:09:02.572029Z",
     "shell.execute_reply": "2022-10-05T06:09:02.570870Z"
    },
    "id": "Z-K9EVI3SXWv",
    "outputId": "3794bb9d-1618-48fd-ac00-5652d6a61263",
    "papermill": {
     "duration": 0.08595,
     "end_time": "2022-10-05T06:09:02.574555",
     "exception": false,
     "start_time": "2022-10-05T06:09:02.488605",
     "status": "completed"
    },
    "tags": []
   },
   "outputs": [
    {
     "data": {
      "text/html": [
       "<div>\n",
       "<style scoped>\n",
       "    .dataframe tbody tr th:only-of-type {\n",
       "        vertical-align: middle;\n",
       "    }\n",
       "\n",
       "    .dataframe tbody tr th {\n",
       "        vertical-align: top;\n",
       "    }\n",
       "\n",
       "    .dataframe thead th {\n",
       "        text-align: right;\n",
       "    }\n",
       "</style>\n",
       "<table border=\"1\" class=\"dataframe\">\n",
       "  <thead>\n",
       "    <tr style=\"text-align: right;\">\n",
       "      <th></th>\n",
       "      <th>Sampling Method</th>\n",
       "      <th>Heart Disease Precision</th>\n",
       "      <th>No Heart Disease Precision</th>\n",
       "      <th>Heart Disease Recall</th>\n",
       "      <th>No Heart Disease Recall</th>\n",
       "      <th>Heart Disease F1</th>\n",
       "      <th>No Heart Disease F1</th>\n",
       "      <th>Accuracy</th>\n",
       "    </tr>\n",
       "    <tr>\n",
       "      <th>Model</th>\n",
       "      <th></th>\n",
       "      <th></th>\n",
       "      <th></th>\n",
       "      <th></th>\n",
       "      <th></th>\n",
       "      <th></th>\n",
       "      <th></th>\n",
       "      <th></th>\n",
       "    </tr>\n",
       "  </thead>\n",
       "  <tbody>\n",
       "    <tr>\n",
       "      <th>Logistic Regression</th>\n",
       "      <td>SMOTE</td>\n",
       "      <td>0.19</td>\n",
       "      <td>0.98</td>\n",
       "      <td>0.78</td>\n",
       "      <td>0.72</td>\n",
       "      <td>0.30</td>\n",
       "      <td>0.83</td>\n",
       "      <td>0.73</td>\n",
       "    </tr>\n",
       "    <tr>\n",
       "      <th>Decision Tree</th>\n",
       "      <td>SMOTE</td>\n",
       "      <td>0.22</td>\n",
       "      <td>0.96</td>\n",
       "      <td>0.63</td>\n",
       "      <td>0.82</td>\n",
       "      <td>0.32</td>\n",
       "      <td>0.88</td>\n",
       "      <td>0.80</td>\n",
       "    </tr>\n",
       "    <tr>\n",
       "      <th>Random Forest</th>\n",
       "      <td>SMOTE</td>\n",
       "      <td>0.22</td>\n",
       "      <td>0.96</td>\n",
       "      <td>0.63</td>\n",
       "      <td>0.82</td>\n",
       "      <td>0.33</td>\n",
       "      <td>0.89</td>\n",
       "      <td>0.81</td>\n",
       "    </tr>\n",
       "    <tr>\n",
       "      <th>KNN</th>\n",
       "      <td>Random Undersampling</td>\n",
       "      <td>0.19</td>\n",
       "      <td>0.97</td>\n",
       "      <td>0.76</td>\n",
       "      <td>0.73</td>\n",
       "      <td>0.30</td>\n",
       "      <td>0.83</td>\n",
       "      <td>0.73</td>\n",
       "    </tr>\n",
       "    <tr>\n",
       "      <th>SVM</th>\n",
       "      <td>Random Undersampling</td>\n",
       "      <td>0.14</td>\n",
       "      <td>0.98</td>\n",
       "      <td>0.87</td>\n",
       "      <td>0.56</td>\n",
       "      <td>0.24</td>\n",
       "      <td>0.72</td>\n",
       "      <td>0.59</td>\n",
       "    </tr>\n",
       "    <tr>\n",
       "      <th>AdaBoost</th>\n",
       "      <td>Random Undersampling</td>\n",
       "      <td>0.17</td>\n",
       "      <td>0.97</td>\n",
       "      <td>0.73</td>\n",
       "      <td>0.70</td>\n",
       "      <td>0.81</td>\n",
       "      <td>0.27</td>\n",
       "      <td>0.70</td>\n",
       "    </tr>\n",
       "    <tr>\n",
       "      <th>CatBoost</th>\n",
       "      <td>SMOTE</td>\n",
       "      <td>0.28</td>\n",
       "      <td>0.94</td>\n",
       "      <td>0.21</td>\n",
       "      <td>0.96</td>\n",
       "      <td>0.24</td>\n",
       "      <td>0.95</td>\n",
       "      <td>0.90</td>\n",
       "    </tr>\n",
       "    <tr>\n",
       "      <th>Voting Classifier</th>\n",
       "      <td>Random Undersampling</td>\n",
       "      <td>0.19</td>\n",
       "      <td>0.98</td>\n",
       "      <td>0.81</td>\n",
       "      <td>0.71</td>\n",
       "      <td>0.30</td>\n",
       "      <td>0.82</td>\n",
       "      <td>0.72</td>\n",
       "    </tr>\n",
       "  </tbody>\n",
       "</table>\n",
       "</div>"
      ],
      "text/plain": [
       "                          Sampling Method  Heart Disease Precision  \\\n",
       "Model                                                                \n",
       "Logistic Regression                 SMOTE                     0.19   \n",
       "Decision Tree                       SMOTE                     0.22   \n",
       "Random Forest                       SMOTE                     0.22   \n",
       "KNN                  Random Undersampling                     0.19   \n",
       "SVM                  Random Undersampling                     0.14   \n",
       "AdaBoost             Random Undersampling                     0.17   \n",
       "CatBoost                            SMOTE                     0.28   \n",
       "Voting Classifier    Random Undersampling                     0.19   \n",
       "\n",
       "                     No Heart Disease Precision  Heart Disease Recall  \\\n",
       "Model                                                                   \n",
       "Logistic Regression                        0.98                  0.78   \n",
       "Decision Tree                              0.96                  0.63   \n",
       "Random Forest                              0.96                  0.63   \n",
       "KNN                                        0.97                  0.76   \n",
       "SVM                                        0.98                  0.87   \n",
       "AdaBoost                                   0.97                  0.73   \n",
       "CatBoost                                   0.94                  0.21   \n",
       "Voting Classifier                          0.98                  0.81   \n",
       "\n",
       "                     No Heart Disease Recall  Heart Disease F1  \\\n",
       "Model                                                            \n",
       "Logistic Regression                     0.72              0.30   \n",
       "Decision Tree                           0.82              0.32   \n",
       "Random Forest                           0.82              0.33   \n",
       "KNN                                     0.73              0.30   \n",
       "SVM                                     0.56              0.24   \n",
       "AdaBoost                                0.70              0.81   \n",
       "CatBoost                                0.96              0.24   \n",
       "Voting Classifier                       0.71              0.30   \n",
       "\n",
       "                     No Heart Disease F1  Accuracy  \n",
       "Model                                               \n",
       "Logistic Regression                 0.83      0.73  \n",
       "Decision Tree                       0.88      0.80  \n",
       "Random Forest                       0.89      0.81  \n",
       "KNN                                 0.83      0.73  \n",
       "SVM                                 0.72      0.59  \n",
       "AdaBoost                            0.27      0.70  \n",
       "CatBoost                            0.95      0.90  \n",
       "Voting Classifier                   0.82      0.72  "
      ]
     },
     "execution_count": 58,
     "metadata": {},
     "output_type": "execute_result"
    }
   ],
   "source": [
    "comparison = pd.DataFrame(model_metrics)\n",
    "comparison = comparison.set_index('Model')\n",
    "comparison"
   ]
  },
  {
   "cell_type": "markdown",
   "id": "b3deaffb",
   "metadata": {
    "id": "KnQH1sb2Uxf4",
    "papermill": {
     "duration": 0.061942,
     "end_time": "2022-10-05T06:09:02.696538",
     "exception": false,
     "start_time": "2022-10-05T06:09:02.634596",
     "status": "completed"
    },
    "tags": []
   },
   "source": [
    "### <a id=KnQH1sb2Uxf4> 3.10.1 Highlights"
   ]
  },
  {
   "cell_type": "markdown",
   "id": "d8512233",
   "metadata": {
    "id": "fTLV1FBqcipB",
    "papermill": {
     "duration": 0.059671,
     "end_time": "2022-10-05T06:09:02.815891",
     "exception": false,
     "start_time": "2022-10-05T06:09:02.756220",
     "status": "completed"
    },
    "tags": []
   },
   "source": [
    "*   The CatBoost model with SMOTE yielded the highest percision (28%) for the heart disease class (i.e. percentage of heart disease classifications that were actually correct). They also yielded the best over all accuracy. However, this is at the expense of heart disease recall being the lowest (21%) (i.e. only 21% of heart disease patients correctly identified).\n",
    "\n",
    "*   The SVM model with random undersampling returned the highest recall (87%) for the heart diease class, however it has the lowest precision for heart diease (14%) (i.e. out of all heart disease classifications 14% were correct).\n",
    "\n",
    "*   Random forest and decision tree models with SMOTE had a moderate recall for the heart disease class (63%) and a good recall for the no heart disease class (82%). However it still suffers from low precision in the heart disease class.\n",
    "\n",
    "\n",
    "In our application we care the most about identifying heart diease in order to take proactive action in saving the patient. Therefore, using the SVM model to select patients for further tests would be the best course of action for medical experts."
   ]
  },
  {
   "cell_type": "markdown",
   "id": "8ca40cda",
   "metadata": {
    "id": "9H0rKZ_52Usj",
    "papermill": {
     "duration": 0.059282,
     "end_time": "2022-10-05T06:09:02.938369",
     "exception": false,
     "start_time": "2022-10-05T06:09:02.879087",
     "status": "completed"
    },
    "tags": []
   },
   "source": [
    "# <a id=9H0rK> 4 Conclusion"
   ]
  },
  {
   "cell_type": "markdown",
   "id": "d26cd65a",
   "metadata": {
    "id": "Bs5DjzSs2aw9",
    "papermill": {
     "duration": 0.058002,
     "end_time": "2022-10-05T06:09:03.055947",
     "exception": false,
     "start_time": "2022-10-05T06:09:02.997945",
     "status": "completed"
    },
    "tags": []
   },
   "source": [
    "In 2019, around 17.9 million people died from Cardiovascular diseases. **85%** of them were caused by heart diseases. In order to identify the causes of heart disease, we investigated the [Personal Key Indicators of Heart Disease](https://www.kaggle.com/datasets/kamilpytlak/personal-key-indicators-of-heart-disease) which had 17 indicators of heart disease of 319,795 surveyed individuals in the U.S. During our investigation we identified that age is a major factor in heart disease. Furhtermore, heart diesease is more prominent in smokers (\\~12%), kidney disease (\\~30%), strole victims (\\~48%), skin cancer patients (\\~18%),people who have difficulty walking (\\~18%), and diabetics (\\~25%). Finally, after experimenting with different models we concluded that SVMs with random undersampling yield the best recall for the heart diseas class (87%), CatBoost with SMOTE yields the best recall for the no heart disease class (96%), and Decision tree/Random Forest had a compromise. An application of our model is to be used by medical experts in selecting the patients suspected of heart disease in order to conduct further testing on them.  "
   ]
  }
 ],
 "metadata": {
  "kernelspec": {
   "display_name": "Python 3",
   "language": "python",
   "name": "python3"
  },
  "language_info": {
   "codemirror_mode": {
    "name": "ipython",
    "version": 3
   },
   "file_extension": ".py",
   "mimetype": "text/x-python",
   "name": "python",
   "nbconvert_exporter": "python",
   "pygments_lexer": "ipython3",
   "version": "3.7.12"
  },
  "papermill": {
   "default_parameters": {},
   "duration": 2401.026733,
   "end_time": "2022-10-05T06:09:04.245254",
   "environment_variables": {},
   "exception": null,
   "input_path": "__notebook__.ipynb",
   "output_path": "__notebook__.ipynb",
   "parameters": {},
   "start_time": "2022-10-05T05:29:03.218521",
   "version": "2.3.4"
  }
 },
 "nbformat": 4,
 "nbformat_minor": 5
}
